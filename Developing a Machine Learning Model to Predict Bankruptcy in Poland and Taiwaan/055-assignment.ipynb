{
 "cells": [
  {
   "cell_type": "markdown",
   "id": "361b7c4f-1fd2-4e6f-9e60-1d97f3e05afb",
   "metadata": {},
   "source": [
    "<font size=\"+3\"><strong>5.5. Bankruptcy in Taiwan 🇹🇼</strong></font>"
   ]
  },
  {
   "cell_type": "code",
   "execution_count": 69,
   "id": "bfb5048c-b025-4997-b391-16b806b43f8f",
   "metadata": {
    "tags": []
   },
   "outputs": [],
   "source": [
    "# Import libraries here\n",
    "import gzip\n",
    "import json\n",
    "import pickle\n",
    "import matplotlib.pyplot as plt\n",
    "import ipywidgets as widgets\n",
    "import pandas as pd\n",
    "from imblearn.over_sampling import RandomOverSampler\n",
    "from IPython.display import VimeoVideo\n",
    "from ipywidgets import interact\n",
    "from sklearn.ensemble import GradientBoostingClassifier\n",
    "from sklearn.impute import SimpleImputer\n",
    "from sklearn.metrics import (\n",
    "    ConfusionMatrixDisplay,\n",
    "    classification_report,\n",
    "    confusion_matrix,\n",
    ")\n",
    "from sklearn.model_selection import GridSearchCV,cross_val_score, train_test_split\n",
    "from sklearn.pipeline import make_pipeline\n",
    "from teaching_tools.widgets import ConfusionMatrixWidget"
   ]
  },
  {
   "cell_type": "markdown",
   "id": "341db403-0701-4165-b646-8d01cb154f8c",
   "metadata": {},
   "source": [
    "# Prepare Data"
   ]
  },
  {
   "cell_type": "markdown",
   "id": "74522f26-cf58-47a8-9f3e-20bb9d0b4324",
   "metadata": {},
   "source": [
    "## Import"
   ]
  },
  {
   "cell_type": "markdown",
   "id": "ad2b932d-e036-4918-9eeb-2d6b2530a3a5",
   "metadata": {},
   "source": [
    "**Task 5.5.1**"
   ]
  },
  {
   "cell_type": "code",
   "execution_count": 2,
   "id": "b692714a-3837-449c-a617-3173951341e8",
   "metadata": {},
   "outputs": [
    {
     "name": "stdout",
     "output_type": "stream",
     "text": [
      "<class 'dict'>\n"
     ]
    }
   ],
   "source": [
    "# Load data file\n",
    "with gzip.open(\"data/taiwan-bankruptcy-data.json.gz\",\"r\")as f:\n",
    "    taiwan_data=json.load(f)\n",
    "print(type(taiwan_data))"
   ]
  },
  {
   "cell_type": "markdown",
   "id": "233a292e-d47c-42e4-b5d9-7262d707b58b",
   "metadata": {},
   "source": [
    "**Task 5.5.2**\n",
    "\n",
    "<div class=\"alert alert-info\" role=\"alert\">\n",
    "    <b>Tip:</b> The data in this assignment might be organized differently than the data from the project, so be sure to inspect it first. \n",
    "</div>"
   ]
  },
  {
   "cell_type": "code",
   "execution_count": 4,
   "id": "3b5e0062-1286-40c3-8c04-8b89ecf3e2d1",
   "metadata": {},
   "outputs": [
    {
     "name": "stdout",
     "output_type": "stream",
     "text": [
      "dict_keys(['schema', 'metadata', 'observations'])\n"
     ]
    }
   ],
   "source": [
    "taiwan_data_keys =taiwan_data.keys()\n",
    "print(taiwan_data_keys)"
   ]
  },
  {
   "cell_type": "markdown",
   "id": "51e4cebc-dc66-4946-ad06-8e1b2e5b8e8a",
   "metadata": {},
   "source": [
    "**Task 5.5.3**"
   ]
  },
  {
   "cell_type": "code",
   "execution_count": 13,
   "id": "0ef61745-634f-490b-bdbd-261336c4c7d9",
   "metadata": {},
   "outputs": [
    {
     "name": "stdout",
     "output_type": "stream",
     "text": [
      "6137\n"
     ]
    }
   ],
   "source": [
    "n_companies = len(taiwan_data[\"observations\"])\n",
    "print(n_companies)"
   ]
  },
  {
   "cell_type": "markdown",
   "id": "9ba47fc4-6b37-475d-9463-a7eb805ff8d6",
   "metadata": {},
   "source": [
    "**Task 5.5.4**"
   ]
  },
  {
   "cell_type": "code",
   "execution_count": 15,
   "id": "8b6d6d0e-1d03-41e4-852e-d3802317f345",
   "metadata": {},
   "outputs": [
    {
     "name": "stdout",
     "output_type": "stream",
     "text": [
      "97\n"
     ]
    }
   ],
   "source": [
    "n_features = len(taiwan_data[\"observations\"][0])  \n",
    "print(n_features)"
   ]
  },
  {
   "cell_type": "markdown",
   "id": "6df07bb9-5816-4532-a640-840e16023478",
   "metadata": {},
   "source": [
    "**Task 5.5.5**"
   ]
  },
  {
   "cell_type": "code",
   "execution_count": 26,
   "id": "bec08e49-fa77-4b55-8c58-5c1dd090c07c",
   "metadata": {},
   "outputs": [],
   "source": [
    "# Create wrangle function\n",
    "def wrangle(filepath):\n",
    "    with gzip.open(filepath,\"r\")as f:\n",
    "        taiwan_data=json.load(f)\n",
    "    df=pd.DataFrame().from_dict(taiwan_data[\"observations\"]).set_index(\"id\")\n",
    "    \n",
    "    return df"
   ]
  },
  {
   "cell_type": "code",
   "execution_count": 27,
   "id": "dd06e4fb-25a2-4582-8051-99bc6f13e57e",
   "metadata": {},
   "outputs": [
    {
     "name": "stdout",
     "output_type": "stream",
     "text": [
      "df shape: (6137, 96)\n"
     ]
    },
    {
     "data": {
      "text/html": [
       "<div>\n",
       "<style scoped>\n",
       "    .dataframe tbody tr th:only-of-type {\n",
       "        vertical-align: middle;\n",
       "    }\n",
       "\n",
       "    .dataframe tbody tr th {\n",
       "        vertical-align: top;\n",
       "    }\n",
       "\n",
       "    .dataframe thead th {\n",
       "        text-align: right;\n",
       "    }\n",
       "</style>\n",
       "<table border=\"1\" class=\"dataframe\">\n",
       "  <thead>\n",
       "    <tr style=\"text-align: right;\">\n",
       "      <th></th>\n",
       "      <th>bankrupt</th>\n",
       "      <th>feat_1</th>\n",
       "      <th>feat_2</th>\n",
       "      <th>feat_3</th>\n",
       "      <th>feat_4</th>\n",
       "      <th>feat_5</th>\n",
       "      <th>feat_6</th>\n",
       "      <th>feat_7</th>\n",
       "      <th>feat_8</th>\n",
       "      <th>feat_9</th>\n",
       "      <th>...</th>\n",
       "      <th>feat_86</th>\n",
       "      <th>feat_87</th>\n",
       "      <th>feat_88</th>\n",
       "      <th>feat_89</th>\n",
       "      <th>feat_90</th>\n",
       "      <th>feat_91</th>\n",
       "      <th>feat_92</th>\n",
       "      <th>feat_93</th>\n",
       "      <th>feat_94</th>\n",
       "      <th>feat_95</th>\n",
       "    </tr>\n",
       "    <tr>\n",
       "      <th>id</th>\n",
       "      <th></th>\n",
       "      <th></th>\n",
       "      <th></th>\n",
       "      <th></th>\n",
       "      <th></th>\n",
       "      <th></th>\n",
       "      <th></th>\n",
       "      <th></th>\n",
       "      <th></th>\n",
       "      <th></th>\n",
       "      <th></th>\n",
       "      <th></th>\n",
       "      <th></th>\n",
       "      <th></th>\n",
       "      <th></th>\n",
       "      <th></th>\n",
       "      <th></th>\n",
       "      <th></th>\n",
       "      <th></th>\n",
       "      <th></th>\n",
       "      <th></th>\n",
       "    </tr>\n",
       "  </thead>\n",
       "  <tbody>\n",
       "    <tr>\n",
       "      <th>1</th>\n",
       "      <td>True</td>\n",
       "      <td>0.370594</td>\n",
       "      <td>0.424389</td>\n",
       "      <td>0.405750</td>\n",
       "      <td>0.601457</td>\n",
       "      <td>0.601457</td>\n",
       "      <td>0.998969</td>\n",
       "      <td>0.796887</td>\n",
       "      <td>0.808809</td>\n",
       "      <td>0.302646</td>\n",
       "      <td>...</td>\n",
       "      <td>0.716845</td>\n",
       "      <td>0.009219</td>\n",
       "      <td>0.622879</td>\n",
       "      <td>0.601453</td>\n",
       "      <td>0.827890</td>\n",
       "      <td>0.290202</td>\n",
       "      <td>0.026601</td>\n",
       "      <td>0.564050</td>\n",
       "      <td>1</td>\n",
       "      <td>0.016469</td>\n",
       "    </tr>\n",
       "    <tr>\n",
       "      <th>2</th>\n",
       "      <td>True</td>\n",
       "      <td>0.464291</td>\n",
       "      <td>0.538214</td>\n",
       "      <td>0.516730</td>\n",
       "      <td>0.610235</td>\n",
       "      <td>0.610235</td>\n",
       "      <td>0.998946</td>\n",
       "      <td>0.797380</td>\n",
       "      <td>0.809301</td>\n",
       "      <td>0.303556</td>\n",
       "      <td>...</td>\n",
       "      <td>0.795297</td>\n",
       "      <td>0.008323</td>\n",
       "      <td>0.623652</td>\n",
       "      <td>0.610237</td>\n",
       "      <td>0.839969</td>\n",
       "      <td>0.283846</td>\n",
       "      <td>0.264577</td>\n",
       "      <td>0.570175</td>\n",
       "      <td>1</td>\n",
       "      <td>0.020794</td>\n",
       "    </tr>\n",
       "    <tr>\n",
       "      <th>3</th>\n",
       "      <td>True</td>\n",
       "      <td>0.426071</td>\n",
       "      <td>0.499019</td>\n",
       "      <td>0.472295</td>\n",
       "      <td>0.601450</td>\n",
       "      <td>0.601364</td>\n",
       "      <td>0.998857</td>\n",
       "      <td>0.796403</td>\n",
       "      <td>0.808388</td>\n",
       "      <td>0.302035</td>\n",
       "      <td>...</td>\n",
       "      <td>0.774670</td>\n",
       "      <td>0.040003</td>\n",
       "      <td>0.623841</td>\n",
       "      <td>0.601449</td>\n",
       "      <td>0.836774</td>\n",
       "      <td>0.290189</td>\n",
       "      <td>0.026555</td>\n",
       "      <td>0.563706</td>\n",
       "      <td>1</td>\n",
       "      <td>0.016474</td>\n",
       "    </tr>\n",
       "    <tr>\n",
       "      <th>4</th>\n",
       "      <td>True</td>\n",
       "      <td>0.399844</td>\n",
       "      <td>0.451265</td>\n",
       "      <td>0.457733</td>\n",
       "      <td>0.583541</td>\n",
       "      <td>0.583541</td>\n",
       "      <td>0.998700</td>\n",
       "      <td>0.796967</td>\n",
       "      <td>0.808966</td>\n",
       "      <td>0.303350</td>\n",
       "      <td>...</td>\n",
       "      <td>0.739555</td>\n",
       "      <td>0.003252</td>\n",
       "      <td>0.622929</td>\n",
       "      <td>0.583538</td>\n",
       "      <td>0.834697</td>\n",
       "      <td>0.281721</td>\n",
       "      <td>0.026697</td>\n",
       "      <td>0.564663</td>\n",
       "      <td>1</td>\n",
       "      <td>0.023982</td>\n",
       "    </tr>\n",
       "    <tr>\n",
       "      <th>5</th>\n",
       "      <td>True</td>\n",
       "      <td>0.465022</td>\n",
       "      <td>0.538432</td>\n",
       "      <td>0.522298</td>\n",
       "      <td>0.598783</td>\n",
       "      <td>0.598783</td>\n",
       "      <td>0.998973</td>\n",
       "      <td>0.797366</td>\n",
       "      <td>0.809304</td>\n",
       "      <td>0.303475</td>\n",
       "      <td>...</td>\n",
       "      <td>0.795016</td>\n",
       "      <td>0.003878</td>\n",
       "      <td>0.623521</td>\n",
       "      <td>0.598782</td>\n",
       "      <td>0.839973</td>\n",
       "      <td>0.278514</td>\n",
       "      <td>0.024752</td>\n",
       "      <td>0.575617</td>\n",
       "      <td>1</td>\n",
       "      <td>0.035490</td>\n",
       "    </tr>\n",
       "  </tbody>\n",
       "</table>\n",
       "<p>5 rows × 96 columns</p>\n",
       "</div>"
      ],
      "text/plain": [
       "    bankrupt    feat_1    feat_2    feat_3    feat_4    feat_5    feat_6  \\\n",
       "id                                                                         \n",
       "1       True  0.370594  0.424389  0.405750  0.601457  0.601457  0.998969   \n",
       "2       True  0.464291  0.538214  0.516730  0.610235  0.610235  0.998946   \n",
       "3       True  0.426071  0.499019  0.472295  0.601450  0.601364  0.998857   \n",
       "4       True  0.399844  0.451265  0.457733  0.583541  0.583541  0.998700   \n",
       "5       True  0.465022  0.538432  0.522298  0.598783  0.598783  0.998973   \n",
       "\n",
       "      feat_7    feat_8    feat_9  ...   feat_86   feat_87   feat_88   feat_89  \\\n",
       "id                                ...                                           \n",
       "1   0.796887  0.808809  0.302646  ...  0.716845  0.009219  0.622879  0.601453   \n",
       "2   0.797380  0.809301  0.303556  ...  0.795297  0.008323  0.623652  0.610237   \n",
       "3   0.796403  0.808388  0.302035  ...  0.774670  0.040003  0.623841  0.601449   \n",
       "4   0.796967  0.808966  0.303350  ...  0.739555  0.003252  0.622929  0.583538   \n",
       "5   0.797366  0.809304  0.303475  ...  0.795016  0.003878  0.623521  0.598782   \n",
       "\n",
       "     feat_90   feat_91   feat_92   feat_93  feat_94   feat_95  \n",
       "id                                                             \n",
       "1   0.827890  0.290202  0.026601  0.564050        1  0.016469  \n",
       "2   0.839969  0.283846  0.264577  0.570175        1  0.020794  \n",
       "3   0.836774  0.290189  0.026555  0.563706        1  0.016474  \n",
       "4   0.834697  0.281721  0.026697  0.564663        1  0.023982  \n",
       "5   0.839973  0.278514  0.024752  0.575617        1  0.035490  \n",
       "\n",
       "[5 rows x 96 columns]"
      ]
     },
     "execution_count": 27,
     "metadata": {},
     "output_type": "execute_result"
    }
   ],
   "source": [
    "df = wrangle(\"data/taiwan-bankruptcy-data.json.gz\")\n",
    "print(\"df shape:\", df.shape)\n",
    "df.head()"
   ]
  },
  {
   "cell_type": "markdown",
   "id": "21dff117-59fd-4b60-958e-4f9e91d5db6e",
   "metadata": {},
   "source": [
    "## Explore"
   ]
  },
  {
   "cell_type": "markdown",
   "id": "02d5c558-b7d7-43ff-b646-f4e14db22a06",
   "metadata": {},
   "source": [
    "**Task 5.5.6**"
   ]
  },
  {
   "cell_type": "code",
   "execution_count": 29,
   "id": "3177f6b9-80ca-4837-b236-0c9d6d1cf589",
   "metadata": {
    "tags": []
   },
   "outputs": [
    {
     "name": "stdout",
     "output_type": "stream",
     "text": [
      "nans_by_col shape: (96,)\n"
     ]
    },
    {
     "data": {
      "text/plain": [
       "bankrupt    0\n",
       "feat_1      0\n",
       "feat_2      0\n",
       "feat_3      0\n",
       "feat_4      0\n",
       "dtype: int64"
      ]
     },
     "execution_count": 29,
     "metadata": {},
     "output_type": "execute_result"
    }
   ],
   "source": [
    "nans_by_col = df.isnull().sum() \n",
    "print(\"nans_by_col shape:\", nans_by_col.shape)\n",
    "nans_by_col.head()"
   ]
  },
  {
   "cell_type": "markdown",
   "id": "a808642d-d1e9-485c-b93f-933b37a21783",
   "metadata": {},
   "source": [
    "<div class=\"alert alert-info\" role=\"alert\">\n",
    "  <strong>Slight Code Change</strong>\n",
    "\n",
    "In the following task, you'll notice a small change in how plots are created compared to what you saw in the lessons.\n",
    "While the lessons use the global matplotlib method like <code>plt.plot(...)</code>, in this task, you are expected to use the object-oriented (OOP) API instead.\n",
    "This means creating your plots using <code>fig, ax = plt.subplots()</code> and then calling plotting methods on the <code>ax</code> object, such as <code>ax.plot(...)</code>, <code>ax.hist(...)</code>, or <code>ax.scatter(...)</code>.\n",
    "\n",
    "If you're using pandas’ or seaborn’s built-in plotting methods (like <code>df.plot()</code> or <code>sns.lineplot()</code>), make sure to pass the <code>ax=ax</code> argument so that the plot is rendered on the correct axes.\n",
    "\n",
    "This approach is considered best practice and will be used consistently across all graded tasks that involve matplotlib.\n",
    "</div>\n"
   ]
  },
  {
   "cell_type": "markdown",
   "id": "9cb1aa5a-9ea0-4e99-8bba-ba843ca987f5",
   "metadata": {},
   "source": [
    "**Task 5.5.7**"
   ]
  },
  {
   "cell_type": "code",
   "execution_count": 47,
   "id": "6a2a5fe0-a1cd-48a5-84ee-525e7fc4cc44",
   "metadata": {},
   "outputs": [
    {
     "data": {
      "image/png": "[encoded data removed]",
      "text/plain": [
       "<Figure size 640x480 with 1 Axes>"
      ]
     },
     "metadata": {},
     "output_type": "display_data"
    }
   ],
   "source": [
    "# Plot class balance\n",
    "fig, ax = plt.subplots()\n",
    "ax=df[\"bankrupt\"].value_counts(normalize=True).plot(kind=\"bar\")\n",
    "ax.set_xlabel(\"Bankrupt\")\n",
    "ax.set_ylabel(\"Frequency\")\n",
    "ax.set_title(\"Class Balance\");"
   ]
  },
  {
   "cell_type": "markdown",
   "id": "47242176-15c2-4e50-981a-4a2791e6ea5f",
   "metadata": {},
   "source": [
    "## Split"
   ]
  },
  {
   "cell_type": "markdown",
   "id": "e941ed58-7723-4def-8b0d-24b8b3447c9b",
   "metadata": {},
   "source": [
    "**Task 5.5.8**"
   ]
  },
  {
   "cell_type": "code",
   "execution_count": 52,
   "id": "feeb0205-bdd2-493a-aaa9-a5fe4fa030a7",
   "metadata": {},
   "outputs": [
    {
     "name": "stdout",
     "output_type": "stream",
     "text": [
      "X shape: (6137, 95)\n",
      "y shape: (6137,)\n"
     ]
    }
   ],
   "source": [
    "target = \"bankrupt\"\n",
    "X = df.drop(columns=\"bankrupt\")\n",
    "y = df[target]\n",
    "print(\"X shape:\", X.shape)\n",
    "print(\"y shape:\", y.shape)"
   ]
  },
  {
   "cell_type": "markdown",
   "id": "b0e5791a-ed64-485e-85cc-998340b3c162",
   "metadata": {},
   "source": [
    "**Task 5.5.9**"
   ]
  },
  {
   "cell_type": "code",
   "execution_count": 54,
   "id": "31d44df7-8211-4066-a399-6c31c1b0864c",
   "metadata": {},
   "outputs": [
    {
     "name": "stdout",
     "output_type": "stream",
     "text": [
      "X_train shape: (4909, 95)\n",
      "y_train shape: (4909,)\n",
      "X_test shape: (1228, 95)\n",
      "y_test shape: (1228,)\n"
     ]
    }
   ],
   "source": [
    "X_train, X_test, y_train, y_test = train_test_split(\n",
    "    X,y,test_size=0.2,random_state=42\n",
    ")\n",
    "print(\"X_train shape:\", X_train.shape)\n",
    "print(\"y_train shape:\", y_train.shape)\n",
    "print(\"X_test shape:\", X_test.shape)\n",
    "print(\"y_test shape:\", y_test.shape)"
   ]
  },
  {
   "cell_type": "markdown",
   "id": "3b51378d-7f0a-4109-861c-1cbbbcbff707",
   "metadata": {},
   "source": [
    "## Resample"
   ]
  },
  {
   "cell_type": "markdown",
   "id": "b4ba1574-15ea-49e8-abe0-13adde0d1513",
   "metadata": {},
   "source": [
    "**Task 5.5.10**"
   ]
  },
  {
   "cell_type": "code",
   "execution_count": 57,
   "id": "40d10781-032f-4b17-9f3b-e4919dbb3af5",
   "metadata": {},
   "outputs": [
    {
     "name": "stdout",
     "output_type": "stream",
     "text": [
      "X_train_over shape: (9512, 95)\n"
     ]
    },
    {
     "data": {
      "text/html": [
       "<div>\n",
       "<style scoped>\n",
       "    .dataframe tbody tr th:only-of-type {\n",
       "        vertical-align: middle;\n",
       "    }\n",
       "\n",
       "    .dataframe tbody tr th {\n",
       "        vertical-align: top;\n",
       "    }\n",
       "\n",
       "    .dataframe thead th {\n",
       "        text-align: right;\n",
       "    }\n",
       "</style>\n",
       "<table border=\"1\" class=\"dataframe\">\n",
       "  <thead>\n",
       "    <tr style=\"text-align: right;\">\n",
       "      <th></th>\n",
       "      <th>feat_1</th>\n",
       "      <th>feat_2</th>\n",
       "      <th>feat_3</th>\n",
       "      <th>feat_4</th>\n",
       "      <th>feat_5</th>\n",
       "      <th>feat_6</th>\n",
       "      <th>feat_7</th>\n",
       "      <th>feat_8</th>\n",
       "      <th>feat_9</th>\n",
       "      <th>feat_10</th>\n",
       "      <th>...</th>\n",
       "      <th>feat_86</th>\n",
       "      <th>feat_87</th>\n",
       "      <th>feat_88</th>\n",
       "      <th>feat_89</th>\n",
       "      <th>feat_90</th>\n",
       "      <th>feat_91</th>\n",
       "      <th>feat_92</th>\n",
       "      <th>feat_93</th>\n",
       "      <th>feat_94</th>\n",
       "      <th>feat_95</th>\n",
       "    </tr>\n",
       "  </thead>\n",
       "  <tbody>\n",
       "    <tr>\n",
       "      <th>0</th>\n",
       "      <td>0.535855</td>\n",
       "      <td>0.599160</td>\n",
       "      <td>0.594411</td>\n",
       "      <td>0.627099</td>\n",
       "      <td>0.627099</td>\n",
       "      <td>0.999220</td>\n",
       "      <td>0.797686</td>\n",
       "      <td>0.809591</td>\n",
       "      <td>0.303518</td>\n",
       "      <td>0.781865</td>\n",
       "      <td>...</td>\n",
       "      <td>0.834091</td>\n",
       "      <td>0.022025</td>\n",
       "      <td>0.624364</td>\n",
       "      <td>0.627101</td>\n",
       "      <td>0.841977</td>\n",
       "      <td>0.275384</td>\n",
       "      <td>0.026791</td>\n",
       "      <td>0.565158</td>\n",
       "      <td>1</td>\n",
       "      <td>0.147943</td>\n",
       "    </tr>\n",
       "    <tr>\n",
       "      <th>1</th>\n",
       "      <td>0.554136</td>\n",
       "      <td>0.612734</td>\n",
       "      <td>0.595000</td>\n",
       "      <td>0.607388</td>\n",
       "      <td>0.607388</td>\n",
       "      <td>0.999120</td>\n",
       "      <td>0.797614</td>\n",
       "      <td>0.809483</td>\n",
       "      <td>0.303600</td>\n",
       "      <td>0.781754</td>\n",
       "      <td>...</td>\n",
       "      <td>0.840293</td>\n",
       "      <td>0.002407</td>\n",
       "      <td>0.624548</td>\n",
       "      <td>0.607385</td>\n",
       "      <td>0.842645</td>\n",
       "      <td>0.276532</td>\n",
       "      <td>0.026791</td>\n",
       "      <td>0.565158</td>\n",
       "      <td>1</td>\n",
       "      <td>0.062544</td>\n",
       "    </tr>\n",
       "    <tr>\n",
       "      <th>2</th>\n",
       "      <td>0.549554</td>\n",
       "      <td>0.603467</td>\n",
       "      <td>0.599122</td>\n",
       "      <td>0.620166</td>\n",
       "      <td>0.620166</td>\n",
       "      <td>0.999119</td>\n",
       "      <td>0.797569</td>\n",
       "      <td>0.809470</td>\n",
       "      <td>0.303524</td>\n",
       "      <td>0.781740</td>\n",
       "      <td>...</td>\n",
       "      <td>0.840403</td>\n",
       "      <td>0.000840</td>\n",
       "      <td>0.624010</td>\n",
       "      <td>0.620163</td>\n",
       "      <td>0.842873</td>\n",
       "      <td>0.277249</td>\n",
       "      <td>0.026800</td>\n",
       "      <td>0.565200</td>\n",
       "      <td>1</td>\n",
       "      <td>0.047929</td>\n",
       "    </tr>\n",
       "    <tr>\n",
       "      <th>3</th>\n",
       "      <td>0.543801</td>\n",
       "      <td>0.603249</td>\n",
       "      <td>0.606992</td>\n",
       "      <td>0.622515</td>\n",
       "      <td>0.622515</td>\n",
       "      <td>0.999259</td>\n",
       "      <td>0.797728</td>\n",
       "      <td>0.809649</td>\n",
       "      <td>0.303510</td>\n",
       "      <td>0.781930</td>\n",
       "      <td>...</td>\n",
       "      <td>0.831514</td>\n",
       "      <td>0.006176</td>\n",
       "      <td>0.626775</td>\n",
       "      <td>0.622513</td>\n",
       "      <td>0.842989</td>\n",
       "      <td>0.280013</td>\n",
       "      <td>0.026839</td>\n",
       "      <td>0.565375</td>\n",
       "      <td>1</td>\n",
       "      <td>0.028386</td>\n",
       "    </tr>\n",
       "    <tr>\n",
       "      <th>4</th>\n",
       "      <td>0.498659</td>\n",
       "      <td>0.562364</td>\n",
       "      <td>0.546978</td>\n",
       "      <td>0.603670</td>\n",
       "      <td>0.603670</td>\n",
       "      <td>0.998904</td>\n",
       "      <td>0.797584</td>\n",
       "      <td>0.809459</td>\n",
       "      <td>0.304000</td>\n",
       "      <td>0.781713</td>\n",
       "      <td>...</td>\n",
       "      <td>0.811988</td>\n",
       "      <td>0.004256</td>\n",
       "      <td>0.623674</td>\n",
       "      <td>0.603669</td>\n",
       "      <td>0.841105</td>\n",
       "      <td>0.277628</td>\n",
       "      <td>0.026897</td>\n",
       "      <td>0.565618</td>\n",
       "      <td>1</td>\n",
       "      <td>0.043080</td>\n",
       "    </tr>\n",
       "  </tbody>\n",
       "</table>\n",
       "<p>5 rows × 95 columns</p>\n",
       "</div>"
      ],
      "text/plain": [
       "     feat_1    feat_2    feat_3    feat_4    feat_5    feat_6    feat_7  \\\n",
       "0  0.535855  0.599160  0.594411  0.627099  0.627099  0.999220  0.797686   \n",
       "1  0.554136  0.612734  0.595000  0.607388  0.607388  0.999120  0.797614   \n",
       "2  0.549554  0.603467  0.599122  0.620166  0.620166  0.999119  0.797569   \n",
       "3  0.543801  0.603249  0.606992  0.622515  0.622515  0.999259  0.797728   \n",
       "4  0.498659  0.562364  0.546978  0.603670  0.603670  0.998904  0.797584   \n",
       "\n",
       "     feat_8    feat_9   feat_10  ...   feat_86   feat_87   feat_88   feat_89  \\\n",
       "0  0.809591  0.303518  0.781865  ...  0.834091  0.022025  0.624364  0.627101   \n",
       "1  0.809483  0.303600  0.781754  ...  0.840293  0.002407  0.624548  0.607385   \n",
       "2  0.809470  0.303524  0.781740  ...  0.840403  0.000840  0.624010  0.620163   \n",
       "3  0.809649  0.303510  0.781930  ...  0.831514  0.006176  0.626775  0.622513   \n",
       "4  0.809459  0.304000  0.781713  ...  0.811988  0.004256  0.623674  0.603669   \n",
       "\n",
       "    feat_90   feat_91   feat_92   feat_93  feat_94   feat_95  \n",
       "0  0.841977  0.275384  0.026791  0.565158        1  0.147943  \n",
       "1  0.842645  0.276532  0.026791  0.565158        1  0.062544  \n",
       "2  0.842873  0.277249  0.026800  0.565200        1  0.047929  \n",
       "3  0.842989  0.280013  0.026839  0.565375        1  0.028386  \n",
       "4  0.841105  0.277628  0.026897  0.565618        1  0.043080  \n",
       "\n",
       "[5 rows x 95 columns]"
      ]
     },
     "execution_count": 57,
     "metadata": {},
     "output_type": "execute_result"
    }
   ],
   "source": [
    "over_sampler = RandomOverSampler(random_state=42)\n",
    "X_train_over, y_train_over = over_sampler.fit_resample(X_train,y_train)\n",
    "print(\"X_train_over shape:\", X_train_over.shape)\n",
    "X_train_over.head()"
   ]
  },
  {
   "cell_type": "markdown",
   "id": "56432e44-2454-4811-828b-61887df09346",
   "metadata": {},
   "source": [
    "# Build Model"
   ]
  },
  {
   "cell_type": "markdown",
   "id": "3783e564-560e-432f-b49e-f2e585a865f8",
   "metadata": {},
   "source": [
    "## Iterate"
   ]
  },
  {
   "cell_type": "markdown",
   "id": "ef7c2d9d-08b1-4668-bf2e-e4910293dbe0",
   "metadata": {},
   "source": [
    "**Task 5.5.11**"
   ]
  },
  {
   "cell_type": "code",
   "execution_count": 66,
   "id": "b37aca3d-8a72-440e-a99c-e069f9850bd2",
   "metadata": {},
   "outputs": [],
   "source": [
    "from sklearn.ensemble import RandomForestClassifier\n",
    "clf = RandomForestClassifier(random_state=42)\n",
    "    \n",
    "    \n",
    "\n",
    "\n"
   ]
  },
  {
   "cell_type": "markdown",
   "id": "ff7a967c-756f-4c2d-998e-90b67e9918ac",
   "metadata": {},
   "source": [
    "**Task 5.5.12**"
   ]
  },
  {
   "cell_type": "markdown",
   "id": "e5ee8f58-aac7-40d8-a2e2-20f3db4898bd",
   "metadata": {},
   "source": [
    "<div class=\"alert alert-info\" role=\"alert\">\n",
    "    <p><b>Tip:</b> Use your CV scores to evaluate different classifiers. Choose the one that gives you the best scores.</p>\n",
    "</div>"
   ]
  },
  {
   "cell_type": "code",
   "execution_count": 71,
   "id": "b4e861a8-c2ea-49b2-b789-0b3dbe586384",
   "metadata": {},
   "outputs": [
    {
     "name": "stdout",
     "output_type": "stream",
     "text": [
      "[0.99316868 0.99474514 0.99369085 0.99369085 0.9957939 ]\n"
     ]
    }
   ],
   "source": [
    "cv_scores = cross_val_score(clf,X_train_over,y_train_over,cv=5,n_jobs=-1)\n",
    "print(cv_scores)"
   ]
  },
  {
   "cell_type": "code",
   "execution_count": 73,
   "id": "dd75b82b-6b93-49f0-a329-175d75c56cfb",
   "metadata": {},
   "outputs": [],
   "source": [
    "# Run this code cell\n",
    "\n",
    "params = {\n",
    "    \"max_depth\": range(30, 50, 10),\n",
    "    \"n_estimators\": range(25, 51, 25),\n",
    "}"
   ]
  },
  {
   "cell_type": "markdown",
   "id": "fc280d9a-3cd4-4ddb-9c93-01f9b84c748b",
   "metadata": {},
   "source": [
    "**Task 5.5.13**"
   ]
  },
  {
   "cell_type": "code",
   "execution_count": 75,
   "id": "28c7e9a9-0f16-418f-b299-f888df1d7f41",
   "metadata": {},
   "outputs": [],
   "source": [
    "model = GridSearchCV(clf,param_grid=params,cv=5,n_jobs=-1,verbose=1)"
   ]
  },
  {
   "cell_type": "markdown",
   "id": "10252f2b-c9cc-4e25-960e-e88e5a13aaa7",
   "metadata": {},
   "source": [
    "**Ungraded Task:** Fit your model to the over-sampled training data. "
   ]
  },
  {
   "cell_type": "code",
   "execution_count": 76,
   "id": "ede4b08f-12b6-4f02-91ec-43917193adf3",
   "metadata": {},
   "outputs": [
    {
     "name": "stdout",
     "output_type": "stream",
     "text": [
      "Fitting 5 folds for each of 4 candidates, totalling 20 fits\n"
     ]
    },
    {
     "data": {
      "text/html": [
       "<style>#sk-container-id-3 {color: black;}#sk-container-id-3 pre{padding: 0;}#sk-container-id-3 div.sk-toggleable {background-color: white;}#sk-container-id-3 label.sk-toggleable__label {cursor: pointer;display: block;width: 100%;margin-bottom: 0;padding: 0.3em;box-sizing: border-box;text-align: center;}#sk-container-id-3 label.sk-toggleable__label-arrow:before {content: \"▸\";float: left;margin-right: 0.25em;color: #696969;}#sk-container-id-3 label.sk-toggleable__label-arrow:hover:before {color: black;}#sk-container-id-3 div.sk-estimator:hover label.sk-toggleable__label-arrow:before {color: black;}#sk-container-id-3 div.sk-toggleable__content {max-height: 0;max-width: 0;overflow: hidden;text-align: left;background-color: #f0f8ff;}#sk-container-id-3 div.sk-toggleable__content pre {margin: 0.2em;color: black;border-radius: 0.25em;background-color: #f0f8ff;}#sk-container-id-3 input.sk-toggleable__control:checked~div.sk-toggleable__content {max-height: 200px;max-width: 100%;overflow: auto;}#sk-container-id-3 input.sk-toggleable__control:checked~label.sk-toggleable__label-arrow:before {content: \"▾\";}#sk-container-id-3 div.sk-estimator input.sk-toggleable__control:checked~label.sk-toggleable__label {background-color: #d4ebff;}#sk-container-id-3 div.sk-label input.sk-toggleable__control:checked~label.sk-toggleable__label {background-color: #d4ebff;}#sk-container-id-3 input.sk-hidden--visually {border: 0;clip: rect(1px 1px 1px 1px);clip: rect(1px, 1px, 1px, 1px);height: 1px;margin: -1px;overflow: hidden;padding: 0;position: absolute;width: 1px;}#sk-container-id-3 div.sk-estimator {font-family: monospace;background-color: #f0f8ff;border: 1px dotted black;border-radius: 0.25em;box-sizing: border-box;margin-bottom: 0.5em;}#sk-container-id-3 div.sk-estimator:hover {background-color: #d4ebff;}#sk-container-id-3 div.sk-parallel-item::after {content: \"\";width: 100%;border-bottom: 1px solid gray;flex-grow: 1;}#sk-container-id-3 div.sk-label:hover label.sk-toggleable__label {background-color: #d4ebff;}#sk-container-id-3 div.sk-serial::before {content: \"\";position: absolute;border-left: 1px solid gray;box-sizing: border-box;top: 0;bottom: 0;left: 50%;z-index: 0;}#sk-container-id-3 div.sk-serial {display: flex;flex-direction: column;align-items: center;background-color: white;padding-right: 0.2em;padding-left: 0.2em;position: relative;}#sk-container-id-3 div.sk-item {position: relative;z-index: 1;}#sk-container-id-3 div.sk-parallel {display: flex;align-items: stretch;justify-content: center;background-color: white;position: relative;}#sk-container-id-3 div.sk-item::before, #sk-container-id-3 div.sk-parallel-item::before {content: \"\";position: absolute;border-left: 1px solid gray;box-sizing: border-box;top: 0;bottom: 0;left: 50%;z-index: -1;}#sk-container-id-3 div.sk-parallel-item {display: flex;flex-direction: column;z-index: 1;position: relative;background-color: white;}#sk-container-id-3 div.sk-parallel-item:first-child::after {align-self: flex-end;width: 50%;}#sk-container-id-3 div.sk-parallel-item:last-child::after {align-self: flex-start;width: 50%;}#sk-container-id-3 div.sk-parallel-item:only-child::after {width: 0;}#sk-container-id-3 div.sk-dashed-wrapped {border: 1px dashed gray;margin: 0 0.4em 0.5em 0.4em;box-sizing: border-box;padding-bottom: 0.4em;background-color: white;}#sk-container-id-3 div.sk-label label {font-family: monospace;font-weight: bold;display: inline-block;line-height: 1.2em;}#sk-container-id-3 div.sk-label-container {text-align: center;}#sk-container-id-3 div.sk-container {/* jupyter's `normalize.less` sets `[hidden] { display: none; }` but bootstrap.min.css set `[hidden] { display: none !important; }` so we also need the `!important` here to be able to override the default hidden behavior on the sphinx rendered scikit-learn.org. See: https://github.com/scikit-learn/scikit-learn/issues/21755 */display: inline-block !important;position: relative;}#sk-container-id-3 div.sk-text-repr-fallback {display: none;}</style><div id=\"sk-container-id-3\" class=\"sk-top-container\"><div class=\"sk-text-repr-fallback\"><pre>GridSearchCV(cv=5, estimator=RandomForestClassifier(random_state=42), n_jobs=-1,\n",
       "             param_grid={&#x27;max_depth&#x27;: range(30, 50, 10),\n",
       "                         &#x27;n_estimators&#x27;: range(25, 51, 25)},\n",
       "             verbose=1)</pre><b>In a Jupyter environment, please rerun this cell to show the HTML representation or trust the notebook. <br />On GitHub, the HTML representation is unable to render, please try loading this page with nbviewer.org.</b></div><div class=\"sk-container\" hidden><div class=\"sk-item sk-dashed-wrapped\"><div class=\"sk-label-container\"><div class=\"sk-label sk-toggleable\"><input class=\"sk-toggleable__control sk-hidden--visually\" id=\"sk-estimator-id-6\" type=\"checkbox\" ><label for=\"sk-estimator-id-6\" class=\"sk-toggleable__label sk-toggleable__label-arrow\">GridSearchCV</label><div class=\"sk-toggleable__content\"><pre>GridSearchCV(cv=5, estimator=RandomForestClassifier(random_state=42), n_jobs=-1,\n",
       "             param_grid={&#x27;max_depth&#x27;: range(30, 50, 10),\n",
       "                         &#x27;n_estimators&#x27;: range(25, 51, 25)},\n",
       "             verbose=1)</pre></div></div></div><div class=\"sk-parallel\"><div class=\"sk-parallel-item\"><div class=\"sk-item\"><div class=\"sk-label-container\"><div class=\"sk-label sk-toggleable\"><input class=\"sk-toggleable__control sk-hidden--visually\" id=\"sk-estimator-id-7\" type=\"checkbox\" ><label for=\"sk-estimator-id-7\" class=\"sk-toggleable__label sk-toggleable__label-arrow\">estimator: RandomForestClassifier</label><div class=\"sk-toggleable__content\"><pre>RandomForestClassifier(random_state=42)</pre></div></div></div><div class=\"sk-serial\"><div class=\"sk-item\"><div class=\"sk-estimator sk-toggleable\"><input class=\"sk-toggleable__control sk-hidden--visually\" id=\"sk-estimator-id-8\" type=\"checkbox\" ><label for=\"sk-estimator-id-8\" class=\"sk-toggleable__label sk-toggleable__label-arrow\">RandomForestClassifier</label><div class=\"sk-toggleable__content\"><pre>RandomForestClassifier(random_state=42)</pre></div></div></div></div></div></div></div></div></div></div>"
      ],
      "text/plain": [
       "GridSearchCV(cv=5, estimator=RandomForestClassifier(random_state=42), n_jobs=-1,\n",
       "             param_grid={'max_depth': range(30, 50, 10),\n",
       "                         'n_estimators': range(25, 51, 25)},\n",
       "             verbose=1)"
      ]
     },
     "execution_count": 76,
     "metadata": {},
     "output_type": "execute_result"
    }
   ],
   "source": [
    "model.fit(X_train_over, y_train_over)"
   ]
  },
  {
   "cell_type": "markdown",
   "id": "053c6eea-f08a-4699-8502-3099f2ba6422",
   "metadata": {},
   "source": [
    "**Task 5.5.14**"
   ]
  },
  {
   "cell_type": "code",
   "execution_count": 79,
   "id": "47e2ba81-a16c-4563-bb45-885eba3dc953",
   "metadata": {},
   "outputs": [
    {
     "data": {
      "text/html": [
       "<div>\n",
       "<style scoped>\n",
       "    .dataframe tbody tr th:only-of-type {\n",
       "        vertical-align: middle;\n",
       "    }\n",
       "\n",
       "    .dataframe tbody tr th {\n",
       "        vertical-align: top;\n",
       "    }\n",
       "\n",
       "    .dataframe thead th {\n",
       "        text-align: right;\n",
       "    }\n",
       "</style>\n",
       "<table border=\"1\" class=\"dataframe\">\n",
       "  <thead>\n",
       "    <tr style=\"text-align: right;\">\n",
       "      <th></th>\n",
       "      <th>mean_fit_time</th>\n",
       "      <th>std_fit_time</th>\n",
       "      <th>mean_score_time</th>\n",
       "      <th>std_score_time</th>\n",
       "      <th>param_max_depth</th>\n",
       "      <th>param_n_estimators</th>\n",
       "      <th>params</th>\n",
       "      <th>split0_test_score</th>\n",
       "      <th>split1_test_score</th>\n",
       "      <th>split2_test_score</th>\n",
       "      <th>split3_test_score</th>\n",
       "      <th>split4_test_score</th>\n",
       "      <th>mean_test_score</th>\n",
       "      <th>std_test_score</th>\n",
       "      <th>rank_test_score</th>\n",
       "    </tr>\n",
       "  </thead>\n",
       "  <tbody>\n",
       "    <tr>\n",
       "      <th>0</th>\n",
       "      <td>0.729387</td>\n",
       "      <td>0.015006</td>\n",
       "      <td>0.008226</td>\n",
       "      <td>0.000602</td>\n",
       "      <td>30</td>\n",
       "      <td>25</td>\n",
       "      <td>{'max_depth': 30, 'n_estimators': 25}</td>\n",
       "      <td>0.992643</td>\n",
       "      <td>0.993694</td>\n",
       "      <td>0.992114</td>\n",
       "      <td>0.993165</td>\n",
       "      <td>0.993165</td>\n",
       "      <td>0.992956</td>\n",
       "      <td>0.000537</td>\n",
       "      <td>4</td>\n",
       "    </tr>\n",
       "    <tr>\n",
       "      <th>1</th>\n",
       "      <td>1.456348</td>\n",
       "      <td>0.042530</td>\n",
       "      <td>0.013050</td>\n",
       "      <td>0.000406</td>\n",
       "      <td>30</td>\n",
       "      <td>50</td>\n",
       "      <td>{'max_depth': 30, 'n_estimators': 50}</td>\n",
       "      <td>0.992118</td>\n",
       "      <td>0.993694</td>\n",
       "      <td>0.992114</td>\n",
       "      <td>0.993165</td>\n",
       "      <td>0.994217</td>\n",
       "      <td>0.993061</td>\n",
       "      <td>0.000841</td>\n",
       "      <td>3</td>\n",
       "    </tr>\n",
       "    <tr>\n",
       "      <th>2</th>\n",
       "      <td>0.730297</td>\n",
       "      <td>0.017262</td>\n",
       "      <td>0.008194</td>\n",
       "      <td>0.000448</td>\n",
       "      <td>40</td>\n",
       "      <td>25</td>\n",
       "      <td>{'max_depth': 40, 'n_estimators': 25}</td>\n",
       "      <td>0.994220</td>\n",
       "      <td>0.994220</td>\n",
       "      <td>0.994742</td>\n",
       "      <td>0.993165</td>\n",
       "      <td>0.994742</td>\n",
       "      <td>0.994218</td>\n",
       "      <td>0.000576</td>\n",
       "      <td>2</td>\n",
       "    </tr>\n",
       "    <tr>\n",
       "      <th>3</th>\n",
       "      <td>1.454482</td>\n",
       "      <td>0.019857</td>\n",
       "      <td>0.013184</td>\n",
       "      <td>0.000196</td>\n",
       "      <td>40</td>\n",
       "      <td>50</td>\n",
       "      <td>{'max_depth': 40, 'n_estimators': 50}</td>\n",
       "      <td>0.992643</td>\n",
       "      <td>0.995271</td>\n",
       "      <td>0.994217</td>\n",
       "      <td>0.993691</td>\n",
       "      <td>0.996320</td>\n",
       "      <td>0.994428</td>\n",
       "      <td>0.001270</td>\n",
       "      <td>1</td>\n",
       "    </tr>\n",
       "  </tbody>\n",
       "</table>\n",
       "</div>"
      ],
      "text/plain": [
       "   mean_fit_time  std_fit_time  mean_score_time  std_score_time  \\\n",
       "0       0.729387      0.015006         0.008226        0.000602   \n",
       "1       1.456348      0.042530         0.013050        0.000406   \n",
       "2       0.730297      0.017262         0.008194        0.000448   \n",
       "3       1.454482      0.019857         0.013184        0.000196   \n",
       "\n",
       "  param_max_depth param_n_estimators                                 params  \\\n",
       "0              30                 25  {'max_depth': 30, 'n_estimators': 25}   \n",
       "1              30                 50  {'max_depth': 30, 'n_estimators': 50}   \n",
       "2              40                 25  {'max_depth': 40, 'n_estimators': 25}   \n",
       "3              40                 50  {'max_depth': 40, 'n_estimators': 50}   \n",
       "\n",
       "   split0_test_score  split1_test_score  split2_test_score  split3_test_score  \\\n",
       "0           0.992643           0.993694           0.992114           0.993165   \n",
       "1           0.992118           0.993694           0.992114           0.993165   \n",
       "2           0.994220           0.994220           0.994742           0.993165   \n",
       "3           0.992643           0.995271           0.994217           0.993691   \n",
       "\n",
       "   split4_test_score  mean_test_score  std_test_score  rank_test_score  \n",
       "0           0.993165         0.992956        0.000537                4  \n",
       "1           0.994217         0.993061        0.000841                3  \n",
       "2           0.994742         0.994218        0.000576                2  \n",
       "3           0.996320         0.994428        0.001270                1  "
      ]
     },
     "execution_count": 79,
     "metadata": {},
     "output_type": "execute_result"
    }
   ],
   "source": [
    "cv_results = pd.DataFrame(model.cv_results_)\n",
    "cv_results.head(5)"
   ]
  },
  {
   "cell_type": "markdown",
   "id": "3664fb33-2b5d-426d-af7f-0daa582575cc",
   "metadata": {},
   "source": [
    "**Task 5.5.15**"
   ]
  },
  {
   "cell_type": "code",
   "execution_count": 83,
   "id": "5bca6dd7-0711-4a4c-8c10-848bbdbba92c",
   "metadata": {},
   "outputs": [
    {
     "name": "stdout",
     "output_type": "stream",
     "text": [
      "{'max_depth': 40, 'n_estimators': 50}\n"
     ]
    }
   ],
   "source": [
    "best_params = model.best_params_\n",
    "print(best_params)"
   ]
  },
  {
   "cell_type": "markdown",
   "id": "6dbab4ae-2376-4a5a-b92e-ccd4bd39ec88",
   "metadata": {},
   "source": [
    "## Evaluate"
   ]
  },
  {
   "cell_type": "markdown",
   "id": "546758ef-9a65-4275-bdf8-0bd3e43c0b30",
   "metadata": {},
   "source": [
    "**Ungraded Task:** Test the quality of your model by calculating accuracy scores for the training and test data."
   ]
  },
  {
   "cell_type": "code",
   "execution_count": 85,
   "id": "428e0694-ede2-40ff-aa6f-9cb8665ce024",
   "metadata": {},
   "outputs": [
    {
     "name": "stdout",
     "output_type": "stream",
     "text": [
      "Model Training Accuracy: 1.0\n",
      "Model Test Accuracy: 0.9772\n"
     ]
    }
   ],
   "source": [
    "acc_train = model.score(X_train,y_train)\n",
    "acc_test =model.score(X_test,y_test)\n",
    "\n",
    "print(\"Model Training Accuracy:\", round(acc_train, 4))\n",
    "print(\"Model Test Accuracy:\", round(acc_test, 4))"
   ]
  },
  {
   "cell_type": "markdown",
   "id": "00e35b54-acc0-47ea-b053-75212c0b631c",
   "metadata": {},
   "source": [
    "**Task 5.5.16**"
   ]
  },
  {
   "cell_type": "code",
   "execution_count": 89,
   "id": "4d6875a6-62b7-4198-b8a2-5871dd7dd156",
   "metadata": {},
   "outputs": [
    {
     "data": {
      "image/png": "[encoded data removed]",
      "text/plain": [
       "<Figure size 640x480 with 2 Axes>"
      ]
     },
     "metadata": {},
     "output_type": "display_data"
    }
   ],
   "source": [
    "# write code here\n",
    "fig, ax = plt.subplots()\n",
    "ConfusionMatrixDisplay.from_estimator(model,X_test,y_test,ax=ax);"
   ]
  },
  {
   "cell_type": "markdown",
   "id": "5d31978d-b6d8-4397-a884-0ab6d9dc5ddb",
   "metadata": {},
   "source": [
    "**Task 5.5.17**"
   ]
  },
  {
   "cell_type": "code",
   "execution_count": 92,
   "id": "0b04df35-1326-482b-b86c-489f3eeb992f",
   "metadata": {},
   "outputs": [
    {
     "name": "stdout",
     "output_type": "stream",
     "text": [
      "              precision    recall  f1-score   support\n",
      "\n",
      "       False       0.98      0.99      0.99      1191\n",
      "        True       0.71      0.41      0.52        37\n",
      "\n",
      "    accuracy                           0.98      1228\n",
      "   macro avg       0.85      0.70      0.75      1228\n",
      "weighted avg       0.97      0.98      0.97      1228\n",
      "\n"
     ]
    }
   ],
   "source": [
    "class_report = classification_report(y_test,model.predict(X_test))\n",
    "print(class_report)"
   ]
  },
  {
   "cell_type": "markdown",
   "id": "64153890-7c5d-4b8d-9265-08444c4c3068",
   "metadata": {},
   "source": [
    "# Communicate"
   ]
  },
  {
   "cell_type": "markdown",
   "id": "bd293667-cf33-4645-9a6d-6102fed6a8b8",
   "metadata": {},
   "source": [
    "**Task 5.5.18**"
   ]
  },
  {
   "cell_type": "code",
   "execution_count": 107,
   "id": "682d409c-30bd-43b2-8fa9-942b241b26f0",
   "metadata": {},
   "outputs": [
    {
     "data": {
      "image/png": "[encoded data removed]",
      "text/plain": [
       "<Figure size 640x480 with 1 Axes>"
      ]
     },
     "metadata": {},
     "output_type": "display_data"
    }
   ],
   "source": [
    "# write your code here\n",
    "features=X_train_over.columns\n",
    "importances=model.best_estimator_.feature_importances_\n",
    "feat_imp=pd.Series(importances,index=features).sort_values()\n",
    "fig, ax = plt.subplots()\n",
    "feat_imp.tail(10).plot(kind=\"barh\",ax=ax)\n",
    "ax.set_xlabel(\"Gini Importance\")\n",
    "ax.set_ylabel(\"Feature\")\n",
    "ax.set_title(\"Feature Importance\");"
   ]
  },
  {
   "cell_type": "markdown",
   "id": "1edec385-98f2-4d33-95a6-72ee4378038c",
   "metadata": {},
   "source": [
    "**Task 5.5.19**"
   ]
  },
  {
   "cell_type": "code",
   "execution_count": 109,
   "id": "418d11d0-1f01-4f41-b248-7f9f6fd0bf55",
   "metadata": {},
   "outputs": [],
   "source": [
    "# Save model\n",
    "with open(\"model-5-5.pkl\",\"wb\")as f:\n",
    "    pickle.dump(model,f)\n"
   ]
  },
  {
   "cell_type": "markdown",
   "id": "93cae90c-fdfd-4295-8bca-0a670185e86a",
   "metadata": {},
   "source": [
    "**Task 5.5.20**"
   ]
  },
  {
   "cell_type": "code",
   "execution_count": 112,
   "id": "8708d162-ebf0-4f11-92f1-05f65088f576",
   "metadata": {},
   "outputs": [
    {
     "name": "stdout",
     "output_type": "stream",
     "text": [
      "predictions shape: (682,)\n"
     ]
    },
    {
     "data": {
      "text/plain": [
       "id\n",
       "18    False\n",
       "20    False\n",
       "24    False\n",
       "32    False\n",
       "38    False\n",
       "Name: bankrupt, dtype: bool"
      ]
     },
     "execution_count": 112,
     "metadata": {},
     "output_type": "execute_result"
    }
   ],
   "source": [
    "# Import your module\n",
    "\n",
    "from my_predictor_assignment  import make_predictions\n",
    "# Generate predictions\n",
    "y_test_pred = make_predictions(\n",
    "    data_filepath=\"data/taiwan-bankruptcy-data-test-features.json.gz\",\n",
    "    model_filepath=\"model-5-5.pkl\",\n",
    ")\n",
    "\n",
    "print(\"predictions shape:\", y_test_pred.shape)\n",
    "y_test_pred.head()"
   ]
  },
  {
   "cell_type": "markdown",
   "id": "e96df798-3221-44d6-876a-3488c1772300",
   "metadata": {},
   "source": [
    "<div class=\"alert alert-info\" role=\"alert\">\n",
    "    <b>Tip:</b> If you get an <code style=\"color:#E45E5C;background-color:#FEDDDE\">ImportError</code> when you try to import <code>make_predictions</code> from <code>my_predictor_assignment</code>, try restarting your kernel. Go to the <b>Kernel</b> menu and click on  <b>Restart Kernel and Clear All Outputs</b>. Then rerun just the cell above. ☝️\n",
    "</div>"
   ]
  },
  {
   "cell_type": "markdown",
   "id": "fb3a3aa0",
   "metadata": {
    "deletable": false,
    "editable": false
   },
   "source": [
    "---\n",
    "Copyright 2023 WorldQuant University. This\n",
    "content is licensed solely for personal use. Redistribution or\n",
    "publication of this material is strictly prohibited.\n"
   ]
  }
 ],
 "metadata": {
  "kernelspec": {
   "display_name": "Python 3 (ipykernel)",
   "language": "python",
   "name": "python3"
  },
  "language_info": {
   "codemirror_mode": {
    "name": "ipython",
    "version": 3
   },
   "file_extension": ".py",
   "mimetype": "text/x-python",
   "name": "python",
   "nbconvert_exporter": "python",
   "pygments_lexer": "ipython3",
   "version": "3.11.0"
  },
  "toc-autonumbering": false,
  "widgets": {
   "application/vnd.jupyter.widget-state+json": {
    "state": {},
    "version_major": 2,
    "version_minor": 0
   }
  }
 },
 "nbformat": 4,
 "nbformat_minor": 5
}
