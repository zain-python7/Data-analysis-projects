{
 "cells": [
  {
   "cell_type": "markdown",
   "id": "241ff9ce-bd6c-4949-9206-e98982e9bbaf",
   "metadata": {},
   "source": [
    "<font size=\"+3\"><strong>6.2. Clustering with Two Features</strong></font>"
   ]
  },
  {
   "cell_type": "markdown",
   "id": "6bfd1e6b-45c6-48ca-9199-8b43183cf166",
   "metadata": {},
   "source": [
    "In the previous lesson, you explored data from the [Survey of Consumer Finances](https://www.federalreserve.gov/econres/scfindex.htm) (SCF), paying special attention to households that have been turned down for credit or feared being denied credit. In this lesson, we'll build a model to segment those households into distinct clusters, and examine the differences between those clusters. "
   ]
  },
  {
   "cell_type": "code",
   "execution_count": 1,
   "id": "e248e25b-7db5-4cab-aaef-116e80a86f2a",
   "metadata": {},
   "outputs": [],
   "source": [
    "import matplotlib.pyplot as plt\n",
    "import pandas as pd\n",
    "import seaborn as sns\n",
    "import pickle\n",
    "from IPython.display import VimeoVideo\n",
    "from sklearn.cluster import KMeans\n",
    "from sklearn.metrics import silhouette_score\n",
    "from sklearn.utils.validation import check_is_fitted\n",
    "from teaching_tools.widgets import ClusterWidget, SCFClusterWidget\n",
    "import warnings\n",
    "\n",
    "warnings.simplefilter(action=\"ignore\", category=FutureWarning)\n",
    "warnings.filterwarnings(\"ignore\", category=DeprecationWarning)"
   ]
  },
  {
   "cell_type": "code",
   "execution_count": null,
   "id": "6f36ffe5-2622-4335-b6b4-7b40f472a3b4",
   "metadata": {},
   "outputs": [],
   "source": [
    "VimeoVideo(\"713919442\", h=\"7b4cbc1495\", width=600)"
   ]
  },
  {
   "cell_type": "markdown",
   "id": "2e118d14-d5d1-4b76-9cf2-d05f4aaf37f1",
   "metadata": {},
   "source": [
    "# Prepare Data"
   ]
  },
  {
   "cell_type": "markdown",
   "id": "527236cc-02b7-4815-b788-820064f3bb91",
   "metadata": {},
   "source": [
    "## Import\n",
    "\n",
    "Just like always, we need to begin by bringing our data into the project. We spent some time in the previous lesson working with a subset of the larger SCF dataset called `\"TURNFEAR\"`. Let's start with that."
   ]
  },
  {
   "cell_type": "code",
   "execution_count": null,
   "id": "3920fa43-88e3-4bbe-9c5f-880a24792810",
   "metadata": {},
   "outputs": [],
   "source": [
    "VimeoVideo(\"713919411\", h=\"fd4fae4013\", width=600)"
   ]
  },
  {
   "cell_type": "markdown",
   "id": "9324beb9-82dd-44ab-855e-fc0921115ca5",
   "metadata": {},
   "source": [
    "**Task 6.2.1:** Create a `wrangle` function that takes a path of a CSV file as input, reads the file into a DataFrame, subsets the data to households that have been turned down for credit or feared being denied credit in the past 5 years (see `\"TURNFEAR\"`), and returns the subset DataFrame. \n",
    "\n",
    "- [<span id='technique'>Write a function in <span id='tool'>Python</span></span>.](../%40textbook/02-python-advanced.ipynb#Functions)\n",
    "- [Subset a DataFrame by selecting one or more columns in pandas.](../%40textbook/04-pandas-advanced.ipynb#Subsetting-with-Masks)"
   ]
  },
  {
   "cell_type": "code",
   "execution_count": null,
   "id": "3fc9712c-73c5-4432-914c-047050251aaf",
   "metadata": {},
   "outputs": [],
   "source": [
    "def wrangle(filepath):\n",
    "    df=pd.read_csv(filepath)\n",
    "    mask=df[\"TURNFEAR\"]==1\n",
    "    df=df[mask]\n",
    "    return df"
   ]
  },
  {
   "cell_type": "markdown",
   "id": "f855b24b-b119-4750-be90-c06afef92e6b",
   "metadata": {},
   "source": [
    "And now that we've got that taken care of, we'll import the data and see what we've got.\n",
    "\n",
    "**Task 6.2.2:** Use your `wrangle` function to read the file `SCFP2019.csv.gz` into a DataFrame named `df`.\n",
    "\n",
    "- [Read a CSV file into a DataFrame using pandas.](../%40textbook/03-pandas-getting-started.ipynb#Working-with-DataFrames)"
   ]
  },
  {
   "cell_type": "code",
   "execution_count": null,
   "id": "aa8e58d2-ddbd-4a50-b2aa-8ece0952748c",
   "metadata": {},
   "outputs": [],
   "source": [
    "df = wrangle(\"data/SCFP2019.csv.gz\")\n",
    "\n",
    "print(\"df type:\", type(df))\n",
    "print(\"df shape:\", df.shape)\n",
    "df.head()"
   ]
  },
  {
   "cell_type": "markdown",
   "id": "8a3dfb8f-b266-47b1-86bc-ecd99bdc2340",
   "metadata": {},
   "source": [
    "## Explore"
   ]
  },
  {
   "cell_type": "markdown",
   "id": "2859157c-0fa2-46cc-bd2b-8284ba76cf85",
   "metadata": {},
   "source": [
    "We looked at a lot of different features of the `\"TURNFEAR\"` subset in the last lesson, and the last thing we looked at was the relationship between real estate and debt. To refresh our memory on what that relationship looked like, let's make that graph again."
   ]
  },
  {
   "cell_type": "code",
   "execution_count": null,
   "id": "090fe9f0-a8ce-4c94-802d-2acb73672af9",
   "metadata": {},
   "outputs": [],
   "source": [
    "VimeoVideo(\"713919351\", h=\"55dc979d55\", width=600)"
   ]
  },
  {
   "cell_type": "markdown",
   "id": "34e581ac-e038-41e5-84c5-82b2ca074c6d",
   "metadata": {},
   "source": [
    "**Task 6.2.3:** Create a scatter plot of that shows the total value of primary residence of a household (`\"HOUSES\"`) as a function of the total value of household debt (`\"DEBT\"`). Be sure to label your x-axis as `\"Household Debt\"`, your y-axis as `\"Home Value\"`, and use the title `\"Credit Fearful: Home Value vs. Household Debt\"`.\n",
    "\n",
    "- [What's a scatter plot?](../%40textbook/06-visualization-matplotlib.ipynb#Scatter-Plots)\n",
    "- [Create a scatter plot using seaborn.](../%40textbook/09-visualization-seaborn.ipynb#Scatter-Plots)"
   ]
  },
  {
   "cell_type": "code",
   "execution_count": null,
   "id": "b63fc323-9eda-434b-91f7-1b44b06264ec",
   "metadata": {},
   "outputs": [],
   "source": [
    "# Plot \"HOUSES\" vs \"DEBT\"\n",
    "df.plot.scatter(x=\"DEBT\",y=\"HOUSES\")\n",
    "plt.xlabel(\"Household Debt [$1M]\")\n",
    "plt.ylabel(\"Home Value [$1M]\")\n",
    "plt.title(\"Credit Fearful: Home Value vs. Household Debt\");"
   ]
  },
  {
   "cell_type": "markdown",
   "id": "99c7c89f-3c23-430d-89bc-6c84fbeda093",
   "metadata": {},
   "source": [
    "Remember that graph and its clusters? Let's get a little deeper into it."
   ]
  },
  {
   "cell_type": "markdown",
   "id": "b8c6e172-247c-41eb-938c-e6ea962078ec",
   "metadata": {
    "tags": []
   },
   "source": [
    "## Split"
   ]
  },
  {
   "cell_type": "markdown",
   "id": "cd1aea0d-66e2-4172-ab54-522e5bdc6d7e",
   "metadata": {},
   "source": [
    "We need to split our data, but we're not going to need target vector or a test set this time around. That's because the model we'll be building involves *unsupervised* learning. It's called *unsupervised* because the model doesn't try to map input to a st of labels or targets that already exist. It's kind of like how humans learn new skills, in that we don't always have models to copy. Sometimes, we just try out something and see what happens. Keep in mind that this doesn't make these models any less useful, it just makes them different.\n",
    "\n",
    "So, keeping that in mind, let's do the split."
   ]
  },
  {
   "cell_type": "code",
   "execution_count": null,
   "id": "9d7c9ad8-ebd8-4a47-9a85-9ef44f3fed94",
   "metadata": {},
   "outputs": [],
   "source": [
    "VimeoVideo(\"713919336\", h=\"775867f48a\", width=600)"
   ]
  },
  {
   "cell_type": "markdown",
   "id": "0d03be09-da3e-4e08-af5b-0cdbb55ab9b8",
   "metadata": {},
   "source": [
    "**Task 6.2.4:** Create the feature matrix `X`. It should contain two features only: `\"DEBT\"` and `\"HOUSES\"`.\n",
    "\n",
    "- [What's a feature matrix?](../%40textbook/14-ml-classification.ipynb#Randomized-Train-Test-split)\n",
    "- [Subset a DataFrame by selecting one or more columns in pandas.](../%40textbook/04-pandas-advanced.ipynb#Subset-a-DataFrame-by-Selecting-One-or-More-Columns) "
   ]
  },
  {
   "cell_type": "code",
   "execution_count": null,
   "id": "1eef1531-d919-4a85-8eaa-148750c2d5c0",
   "metadata": {},
   "outputs": [],
   "source": [
    "X = df[[\"DEBT\",\"HOUSES\"]]\n",
    "\n",
    "print(\"X type:\", type(X))\n",
    "print(\"X shape:\", X.shape)\n",
    "X.head()"
   ]
  },
  {
   "cell_type": "markdown",
   "id": "cd9ae9a4-a490-4a15-b300-4b3b5c8109a5",
   "metadata": {},
   "source": [
    "# Build Model"
   ]
  },
  {
   "cell_type": "markdown",
   "id": "4fbe730c-ab0b-4079-8725-af3b3296ff18",
   "metadata": {},
   "source": [
    "Before we start building the model, let's take a second to talk about something called `KMeans`. \n",
    "\n",
    "Take another look at the scatter plot we made at the beginning of this lesson. Remember how the datapoints form little clusters? It turns out we can use an algorithm that partitions the dataset into smaller groups.\n",
    "\n",
    "Let's take a look at how those things work together."
   ]
  },
  {
   "cell_type": "code",
   "execution_count": null,
   "id": "54f88523-2a77-45a5-bcc4-252d8d56048a",
   "metadata": {},
   "outputs": [],
   "source": [
    "VimeoVideo(\"713919214\", h=\"028502efe7\", width=600)"
   ]
  },
  {
   "cell_type": "markdown",
   "id": "6034f191-5042-44dd-a752-6567c8bae504",
   "metadata": {},
   "source": [
    "**Task 6.2.5:** Run the cell below to display the `ClusterWidget`.\n",
    "\n",
    "- [What's a centroid?](../%40textbook/16-ml-unsupervised-learning.ipynb#Clustering)\n",
    "- [What's a cluster?](../%40textbook/16-ml-unsupervised-learning.ipynb#Clustering)"
   ]
  },
  {
   "cell_type": "code",
   "execution_count": null,
   "id": "11a542d2-518f-433b-be05-7e9f5c8ceeec",
   "metadata": {},
   "outputs": [],
   "source": [
    "cw = ClusterWidget(n_clusters=3)\n",
    "cw.show()"
   ]
  },
  {
   "cell_type": "markdown",
   "id": "1dd60210-5bfa-4c96-b96d-c49d3ed77f6a",
   "metadata": {},
   "source": [
    "Take a second and run slowly through all the positions on the slider. At the first position, there's whole bunch of gray datapoints, and if you look carefully, you'll see there are also three stars. Those stars are the **centroids**. At first, their position is set randomly. If you move the slider one more position to the right, you'll see all the gray points change colors that correspond to three clusters.\n",
    "\n",
    "Since a centroid represents the mean value of all the data in the cluster, we would expect it to fall in the center of whatever cluster it's in. That's what will happen if you move the slider one more position to the right. See how the centroids moved? \n",
    "\n",
    "Aha! But since they moved, the datapoints might not be in the right clusters anymore. Move the slider again, and you'll see the data points redistribute themselves to better reflect the new position of the centroids. The new clusters mean that the centroids also need to move, which will lead to the clusters changing again, and so on, until all the datapoints end up in the right cluster with a centroid that reflects the mean value of all those points.\n",
    "\n",
    "Let's see what happens when we try the same with our `\"DEBT\"` and `\"HOUSES\"` data."
   ]
  },
  {
   "cell_type": "code",
   "execution_count": null,
   "id": "ca818e2e-284c-4902-9f00-acb2cd1c2fb3",
   "metadata": {},
   "outputs": [],
   "source": [
    "VimeoVideo(\"713919177\", h=\"102616b1c3\", width=600)"
   ]
  },
  {
   "cell_type": "markdown",
   "id": "5d8c5712-a2fa-4452-8df1-611b8a9123c5",
   "metadata": {},
   "source": [
    "**Task 6.2.6:** Run the cell below to display the `SCFClusterWidget`."
   ]
  },
  {
   "cell_type": "code",
   "execution_count": null,
   "id": "e555382f-0702-4f3a-9863-9ab8cff8687f",
   "metadata": {
    "tags": []
   },
   "outputs": [],
   "source": [
    "scfc = SCFClusterWidget(x=df[\"DEBT\"], y=df[\"HOUSES\"], n_clusters=3)\n",
    "scfc.show()"
   ]
  },
  {
   "cell_type": "markdown",
   "id": "e9a916f0-d3b9-43dc-8cc6-0a838757b672",
   "metadata": {},
   "source": [
    "## Iterate\n",
    "\n",
    "Now that you've had a chance to play around with the process a little bit, let's get into how to build a model that does the same thing."
   ]
  },
  {
   "cell_type": "code",
   "execution_count": null,
   "id": "daa29a90-70b1-4158-b82a-51e49e829ef6",
   "metadata": {},
   "outputs": [],
   "source": [
    "VimeoVideo(\"713919157\", h=\"0b2c3c95f2\", width=600)"
   ]
  },
  {
   "cell_type": "markdown",
   "id": "3fd9ad56-c87b-4837-a057-2600d409274a",
   "metadata": {},
   "source": [
    "**Task 6.2.7:** Build a `KMeans` model, assign it to the variable name `model`, and fit it to the training data `X`. \n",
    "\n",
    "- [What's k-means clustering?](../%40textbook/16-ml-unsupervised-learning.ipynb#k-means-Clustering)\n",
    "- [Fit a model to training data in scikit-learn.](../%40textbook/15-ml-regression.ipynb#Fitting-a-Model-to-Training-Data)"
   ]
  },
  {
   "cell_type": "markdown",
   "id": "a7de441a-16d8-485f-8793-d624aeb3c9c2",
   "metadata": {},
   "source": [
    "<div class=\"alert alert-info\" role=\"alert\">\n",
    "    <b>Tip:</b> The k-means clustering algorithm relies on random processes, so don't forget to set a <code>random_state</code> for all your models in this lesson.\n",
    "</div>"
   ]
  },
  {
   "cell_type": "code",
   "execution_count": null,
   "id": "4426994a-a944-4e4f-903d-62cf639a14e8",
   "metadata": {},
   "outputs": [],
   "source": [
    "# Build model\n",
    "model = KMeans(n_clusters=3,random_state=42)\n",
    "print(\"model type:\", type(model))\n",
    "\n",
    "# Fit model to data\n",
    "model.fit(X)\n",
    "# Assert that model has been fit to data\n",
    "check_is_fitted(model)"
   ]
  },
  {
   "cell_type": "markdown",
   "id": "933b266a-94a1-45e1-b87c-3e934753c5ab",
   "metadata": {},
   "source": [
    "And there it is. 42 datapoints spread across three clusters. Let's grab the labels that the model has assigned to the data points so we can start making a new visualization."
   ]
  },
  {
   "cell_type": "code",
   "execution_count": null,
   "id": "e1a58c5d-7487-4ae3-b415-85611eb3b145",
   "metadata": {},
   "outputs": [],
   "source": [
    "VimeoVideo(\"713919137\", h=\"7eafe805ff\", width=600)"
   ]
  },
  {
   "cell_type": "markdown",
   "id": "be8151eb-10db-4d34-9cd5-15540abadcee",
   "metadata": {},
   "source": [
    "**Task 6.2.8:** Extract the labels that your `model` created during training and assign them to the variable `labels`.\n",
    "\n",
    "- [Access an object in a pipeline in scikit-learn.](../%40textbook/13-ml-data-pre-processing-and-production.ipynb#Accessing-an-Object-in-a-Pipeline)"
   ]
  },
  {
   "cell_type": "code",
   "execution_count": null,
   "id": "cd5fbe19-b0c5-44eb-84c7-942c08c4280b",
   "metadata": {},
   "outputs": [],
   "source": [
    "labels = model.labels_\n",
    "\n",
    "print(\"labels type:\", type(labels))\n",
    "print(\"labels shape:\", labels.shape)\n",
    "labels[:10]"
   ]
  },
  {
   "cell_type": "markdown",
   "id": "bde33cf2-8576-48df-8dad-9512584edeae",
   "metadata": {},
   "source": [
    "Using the labels we just extracted, let's recreate the scatter plot from before, this time we'll color each point according to the cluster to which the model assigned it."
   ]
  },
  {
   "cell_type": "code",
   "execution_count": null,
   "id": "95452118-096f-41ab-a0d7-9b7ea6819b3b",
   "metadata": {},
   "outputs": [],
   "source": [
    "VimeoVideo(\"713919104\", h=\"2f6d4285f1\", width=600)"
   ]
  },
  {
   "cell_type": "markdown",
   "id": "27b7abe8-9efe-4e63-98d1-71a9c7cc1744",
   "metadata": {},
   "source": [
    "**Task 6.2.9:** Recreate the \"Home Value vs. Household Debt\" scatter plot you made above, but with two changes. First, use seaborn to create the plot. Second, pass your `labels` to the `hue` argument, and set the `palette` argument to `\"deep\"`. \n",
    "\n",
    "- [What's a scatter plot?](../%40textbook/06-visualization-matplotlib.ipynb#Scatter-Plots)\n",
    "- [Create a scatter plot using seaborn.](../%40textbook/09-visualization-seaborn.ipynb#Scatter-Plots)"
   ]
  },
  {
   "cell_type": "code",
   "execution_count": null,
   "id": "d9994a61-c6a3-4ccd-9714-edee0ccf2c62",
   "metadata": {},
   "outputs": [],
   "source": [
    "# Plot \"HOUSES\" vs \"DEBT\" with hue=label\n",
    "sns.scatterplot(x=df[\"DEBT\"]/ 1e6,y=df[\"HOUSES\"]/ 1e6,hue=labels,palette=\"deep\")\n",
    "plt.xlabel(\"Household Debt [$1M]\")\n",
    "plt.ylabel(\"Home Value [$1M]\")\n",
    "plt.title(\"Credit Fearful: Home Value vs. Household Debt\");"
   ]
  },
  {
   "cell_type": "markdown",
   "id": "6b448021-405c-4422-8670-ce5a51832c5d",
   "metadata": {},
   "source": [
    "Nice! Each cluster has its own color. The centroids are still missing, so let's pull those out."
   ]
  },
  {
   "cell_type": "code",
   "execution_count": null,
   "id": "b0152691-344a-4c22-b7b9-48420858ec30",
   "metadata": {},
   "outputs": [],
   "source": [
    "VimeoVideo(\"713919087\", h=\"9b8635c9a8\", width=600)"
   ]
  },
  {
   "cell_type": "markdown",
   "id": "7a77cd64-ee85-4378-b6e8-efffa7e57630",
   "metadata": {},
   "source": [
    "**Task 6.2.10:** Extract the centroids that your `model` created during training, and assign them to the variable `centroids`. \n",
    "\n",
    "- [What's a centroid?](../%40textbook/16-ml-unsupervised-learning.ipynb#Clustering)"
   ]
  },
  {
   "cell_type": "code",
   "execution_count": null,
   "id": "bd2340a9-8f69-4ce4-8fca-d80718bfd9e2",
   "metadata": {},
   "outputs": [],
   "source": [
    "centroids = model.cluster_centers_\n",
    "print(\"centroids type:\", type(centroids))\n",
    "print(\"centroids shape:\", centroids.shape)\n",
    "centroids"
   ]
  },
  {
   "cell_type": "markdown",
   "id": "2a62afc8-9119-4ea9-a4ba-c481692e3d9b",
   "metadata": {},
   "source": [
    "Let's add the centroids to the graph."
   ]
  },
  {
   "cell_type": "code",
   "execution_count": null,
   "id": "badc12c5-c407-4673-9905-95253e5501b3",
   "metadata": {},
   "outputs": [],
   "source": [
    "VimeoVideo(\"713919002\", h=\"08cba14f6b\", width=600)"
   ]
  },
  {
   "cell_type": "markdown",
   "id": "0cf0a343-0df2-4d79-bcdf-b790e1cade78",
   "metadata": {},
   "source": [
    "**Task 6.2.11:** Recreate the seaborn \"Home Value vs. Household Debt\" scatter plot you just made, but with one difference: Add the `centroids` to the plot. Be sure to set the centroids color to `\"gray\"`.\n",
    "\n",
    "- [What's a scatter plot?](../%40textbook/06-visualization-matplotlib.ipynb#Scatter-Plots)\n",
    "- [Create a scatter plot using seaborn.](../%40textbook/09-visualization-seaborn.ipynb#Scatter-Plots)"
   ]
  },
  {
   "cell_type": "code",
   "execution_count": null,
   "id": "e646d42b-2b5f-44e6-b349-e37c29621540",
   "metadata": {},
   "outputs": [],
   "source": [
    "# Plot \"HOUSES\" vs \"DEBT\", add centroids\n",
    "sns.scatterplot(x=df[\"DEBT\"]/ 1e6,y=df[\"HOUSES\"]/ 1e6,hue=labels,palette=\"deep\")\n",
    "plt.scatter(\n",
    "    x=centroids[:,0]/ 1e6,\n",
    "    y=centroids[:,1]/ 1e6,\n",
    "    color=\"red\",\n",
    "    s=150,\n",
    "    marker=\"*\"\n",
    "    \n",
    ")\n",
    "plt.xlabel(\"Household Debt [$1M]\")\n",
    "plt.ylabel(\"Home Value [$1M]\")\n",
    "plt.title(\"Credit Fearful: Home Value vs. Household Debt\");"
   ]
  },
  {
   "cell_type": "markdown",
   "id": "bcb051f7-7552-4164-aebd-17166a0296e6",
   "metadata": {},
   "source": [
    "That looks great, but let's not pat ourselves on the back just yet. Even though our graph makes it *look* like the clusters are correctly assigned but, as data scientists, we need a numerical evaluation. The data we're using is pretty clear-cut, but if things were a little more muddled, we'd want to run some calculations to make sure we got everything right.\n",
    "\n",
    "There are two metrics that we'll use to evaluate our clusters. We'll start with **inertia**, which measure the distance between the points *within the same cluster*. "
   ]
  },
  {
   "cell_type": "code",
   "execution_count": null,
   "id": "d417612a-1837-4d68-ad08-0b24b0f302e8",
   "metadata": {},
   "outputs": [],
   "source": [
    "VimeoVideo(\"713918749\", h=\"bfc741b1e7\", width=600)"
   ]
  },
  {
   "cell_type": "markdown",
   "id": "0d90b232-9fc0-4aaa-92e4-3c85df93fef2",
   "metadata": {},
   "source": [
    "<div class=\"alert alert-info\" role=\"alert\">\n",
    "    <p><b>Question:</b> What do those double bars in the equation mean?</p>\n",
    "    <p><b>Answer:</b> It's the <i>L2 norm</i>, that is, the non-negative Euclidean distance between each datapoint and its centroid. In Python, it would be something like <code>sqrt((x1-c)**2 + (x2-c)**2) + ...)</code>.</p>\n",
    "    <p>Many thanks to Aghogho Esuoma Monorien for his comment in the forum! 🙏</p>\n",
    "</div>"
   ]
  },
  {
   "cell_type": "markdown",
   "id": "9f2d01c0-3811-4cfd-b6dc-92a6e57c8f8a",
   "metadata": {},
   "source": [
    "**Task 6.2.12:** Extract the inertia for your `model` and assign it to the variable `inertia`.\n",
    "\n",
    "- [What's inertia?](../%40textbook/16-ml-unsupervised-learning.ipynb#Inertia)\n",
    "- [Access an object in a pipeline in scikit-learn.](../%40textbook/13-ml-data-pre-processing-and-production.ipynb#Accessing-an-Object-in-a-Pipeline)\n",
    "- [Calculate the inertia for a model in scikit-learn.](../%40textbook/16-ml-unsupervised-learning.ipynb#Inertia)"
   ]
  },
  {
   "cell_type": "code",
   "execution_count": null,
   "id": "e606a8e4-8087-4f9f-ab9f-def5a2c02e17",
   "metadata": {},
   "outputs": [],
   "source": [
    "inertia = model.inertia_\n",
    "print(\"inertia type:\", type(inertia))\n",
    "print(\"Inertia (3 clusters):\", inertia)"
   ]
  },
  {
   "cell_type": "markdown",
   "id": "c5a860be-2cd4-4d40-9285-4748ba2222a3",
   "metadata": {},
   "source": [
    "The \"best\" inertia is 0, and our score is pretty far from that. Does that mean our model is \"bad?\" Not necessarily. Inertia is a measurement of distance (like mean absolute error from Project 2). This means that the unit of measurement for inertia depends on the unit of measurement of our x- and y-axes. And since `\"DEBT\"` and `\"HOUSES\"` are measured in tens of millions of dollars, it's not surprising that inertia is so large. \n",
    "\n",
    "However, it would be helpful to have metric that was easier to interpret, and that's where **silhouette score** comes in. Silhouette score measures the distance *between different clusters*. It ranges from -1 (the worst) to 1 (the best), so it's easier to interpret than inertia. <span style='color: transparent; font-size:1%'>WQU WorldQuant University Applied Data Science Lab QQQQ</span>"
   ]
  },
  {
   "cell_type": "code",
   "execution_count": null,
   "id": "35814eed-8531-449c-81cd-ec26c9a82a23",
   "metadata": {},
   "outputs": [],
   "source": [
    "VimeoVideo(\"713918501\", h=\"0462c4784a\", width=600)"
   ]
  },
  {
   "cell_type": "markdown",
   "id": "a7c4556e-ccdd-43e5-9e83-b7c1cec8f521",
   "metadata": {},
   "source": [
    "**Task 6.2.13:** Calculate the silhouette score for your model and assign it to the variable `ss`.\n",
    "\n",
    "- [What's silhouette score?](../%40textbook/16-ml-unsupervised-learning.ipynb#Silhouette-Score)\n",
    "- [Calculate the silhouette score for a model in scikit-learn.](../%40textbook/16-ml-unsupervised-learning.ipynb#Silhouette-Score)"
   ]
  },
  {
   "cell_type": "code",
   "execution_count": null,
   "id": "28ee87d9-a855-4f84-b998-754e64330972",
   "metadata": {},
   "outputs": [],
   "source": [
    "ss =silhouette_score(X,labels)\n",
    "print(\"ss type:\", type(ss))\n",
    "print(\"Silhouette Score (3 clusters):\", ss)"
   ]
  },
  {
   "cell_type": "markdown",
   "id": "3eacc169-b9dd-42e6-9afa-2ce9179d397f",
   "metadata": {},
   "source": [
    "Outstanding! 0.976 is pretty close to 1, so our model has done a good job at identifying 3 clusters that are far away from each other."
   ]
  },
  {
   "cell_type": "markdown",
   "id": "40a37622-0388-41c4-b150-3a6d998d6945",
   "metadata": {},
   "source": [
    "It's important to remember that these performance metrics are the result of the number of clusters we told our model to create. In unsupervised learning, the number of clusters is hyperparameter that you set before training your model. So what would happen if we change the number of clusters? Will it lead to better performance? Let's try!"
   ]
  },
  {
   "cell_type": "code",
   "execution_count": null,
   "id": "10357197-5d19-4a9e-99c8-323e873ca470",
   "metadata": {},
   "outputs": [],
   "source": [
    "VimeoVideo(\"713918420\", h=\"e16f3735c7\", width=600)"
   ]
  },
  {
   "cell_type": "markdown",
   "id": "2ddb791b-dd46-44af-aec0-ceaf151f775e",
   "metadata": {},
   "source": [
    "**Task 6.2.14:** Use a `for` loop to build and train a K-Means model where `n_clusters` ranges from 2 to 12 (inclusive). Each time a model is trained, calculate the inertia and add it to the list `inertia_errors`, then calculate the silhouette score and add it to the list `silhouette_scores`."
   ]
  },
  {
   "cell_type": "markdown",
   "id": "919be49c-49d0-40ec-bf34-da04c51c4229",
   "metadata": {},
   "source": [
    "- [Write a `for` loop in Python.](../%40textbook/01-python-getting-started.ipynb#Working-with-for-Loops)\n",
    "- [Calculate the inertia for a model in scikit-learn.](../%40textbook/16-ml-unsupervised-learning.ipynb#Inertia)\n",
    "- [Calculate the silhouette score for a model in scikit-learn.](../%40textbook/16-ml-unsupervised-learning.ipynb#Silhouette-Score)"
   ]
  },
  {
   "cell_type": "code",
   "execution_count": null,
   "id": "7161b0d6-4ceb-4576-b541-0e58421f0a00",
   "metadata": {},
   "outputs": [],
   "source": [
    "n_clusters = range(2,13)\n",
    "inertia_errors = []\n",
    "silhouette_scores = []\n",
    "\n",
    "# Add `for` loop to train model and calculate inertia, silhouette score.\n",
    "for k in n_clusters:\n",
    "    model=KMeans(n_clusters=k,random_state=42)\n",
    "    model.fit(X)\n",
    "    inertia=model.inertia_\n",
    "    inertia_errors.append(inertia)\n",
    "    silhouette_scores.append(silhouette_score(X,model.labels_))\n",
    "\n",
    "print(\"inertia_errors type:\", type(inertia_errors))\n",
    "print(\"inertia_errors len:\", len(inertia_errors))\n",
    "print(\"Inertia:\", inertia_errors)\n",
    "print()\n",
    "print(\"silhouette_scores type:\", type(silhouette_scores))\n",
    "print(\"silhouette_scores len:\", len(silhouette_scores))\n",
    "print(\"Silhouette Scores:\", silhouette_scores)"
   ]
  },
  {
   "cell_type": "markdown",
   "id": "4e533481-06df-48a1-ab7a-1d590fd73e69",
   "metadata": {},
   "source": [
    "Now that we have both performance metrics for several different settings of `n_clusters`, let's make some line plots to see the relationship between the number of clusters in a model and its inertia and silhouette scores."
   ]
  },
  {
   "cell_type": "code",
   "execution_count": null,
   "id": "bf077922-f9a1-4213-b510-1b5f0b2aaaa3",
   "metadata": {},
   "outputs": [],
   "source": [
    "VimeoVideo(\"713918224\", h=\"32ff34ffa1\", width=600)"
   ]
  },
  {
   "cell_type": "markdown",
   "id": "5f5b4dc1-ed01-4e3b-bc38-9cc82f384b9b",
   "metadata": {},
   "source": [
    "**Task 6.2.15:** Create a line plot that shows the values of `inertia_errors` as a function of `n_clusters`. Be sure to label your x-axis `\"Number of Clusters\"`, your y-axis `\"Inertia\"`, and use the title `\"K-Means Model: Inertia vs Number of Clusters\"`.\n",
    "\n",
    "- [Create a line plot in Matplotlib.](../%40textbook/07-visualization-pandas.ipynb#Line-Plots)"
   ]
  },
  {
   "cell_type": "code",
   "execution_count": null,
   "id": "23eb146d-54aa-4338-9f1e-70be64241831",
   "metadata": {},
   "outputs": [],
   "source": [
    "# Plot `inertia_errors` by `n_clusters`\n",
    "plt.plot(n_clusters,inertia_errors)\n",
    "plt.xlabel(\"Number of Clusters\")\n",
    "plt.ylabel(\"Inertia\")\n",
    "plt.title(\"K-Means Model: Inertia vs Number of Clusters\")"
   ]
  },
  {
   "cell_type": "markdown",
   "id": "2eb69ba0-1c59-4e57-833b-243620560684",
   "metadata": {},
   "source": [
    "What we're seeing here is that, as the number of clusters increases, inertia goes down. In fact, we could get inertia to 0 if we told our model to make 4,623 clusters (the same number of observations in `X`), but those clusters wouldn't be helpful to us.\n",
    "\n",
    "The trick with choosing the right number of clusters is to look for the \"bend in the elbow\" for this plot. In other words, we want to pick the point where the drop in inertia becomes less dramatic and the line begins to flatten out. In this case, it looks like the sweet spot is 4 or 5. \n",
    "\n",
    "Let's see what the silhouette score looks like. "
   ]
  },
  {
   "cell_type": "code",
   "execution_count": null,
   "id": "cccb601b-229d-44cf-8c53-cfb990e3ebfa",
   "metadata": {},
   "outputs": [],
   "source": [
    "VimeoVideo(\"713918153\", h=\"3f3a1312d2\", width=600)"
   ]
  },
  {
   "cell_type": "markdown",
   "id": "b8031362-7e80-4732-a219-68d37cc75130",
   "metadata": {},
   "source": [
    "**Task 6.2.16:** Create a line plot that shows the values of `silhouette_scores` as a function of `n_clusters`. Be sure to label your x-axis `\"Number of Clusters\"`, your y-axis `\"Silhouette Score\"`, and use the title `\"K-Means Model: Silhouette Score vs Number of Clusters\"`.\n",
    "\n",
    "- [Create a line plot in Matplotlib.](../%40textbook/07-visualization-pandas.ipynb#Line-Plots)"
   ]
  },
  {
   "cell_type": "code",
   "execution_count": null,
   "id": "63c717f9-fe1f-447b-814c-c3102a6a6712",
   "metadata": {},
   "outputs": [],
   "source": [
    "# Plot `silhouette_scores` vs `n_clusters`\n",
    "plt.plot(n_clusters,silhouette_scores)\n",
    "plt.xlabel(\"Number of Clusters\")\n",
    "plt.ylabel(\"Silhouette Score\")\n",
    "plt.title(\"K-Means Model: Silhouette Score vs Number of Clusters\")"
   ]
  },
  {
   "cell_type": "markdown",
   "id": "6f369f10-aedb-4921-ac4e-4c6d9782951e",
   "metadata": {},
   "source": [
    "Note that, in contrast to our inertia plot, bigger is better. So we're not looking for a \"bend in the elbow\" but rather a number of clusters for which the silhouette score still remains high. We can see that silhouette score drops drastically beyond 4 clusters. Given this and what we saw in the inertia plot, it looks like the optimal number of clusters is 4. \n",
    "\n",
    "Now that we've decided on the final number of clusters, let's build a final model."
   ]
  },
  {
   "cell_type": "code",
   "execution_count": null,
   "id": "2d144728-dfa6-4c10-a13e-dc41230886b9",
   "metadata": {},
   "outputs": [],
   "source": [
    "VimeoVideo(\"713918108\", h=\"e6aa88569e\", width=600)"
   ]
  },
  {
   "cell_type": "markdown",
   "id": "21131c9e-82ba-4a10-b05b-29157841a178",
   "metadata": {},
   "source": [
    "**Task 6.2.17:** Build and train a new k-means model named `final_model`. Use the information you gained from the two plots above to set an appropriate value for the `n_clusters` argument. Once you've built and trained your model, submit it to the grader for evaluation. \n",
    "\n",
    "- [Fit a model to training data in scikit-learn.](../%40textbook/15-ml-regression.ipynb#Fitting-a-Model-to-Training-Data)"
   ]
  },
  {
   "cell_type": "code",
   "execution_count": 65,
   "id": "8f731ce5-87d5-4c31-806f-2d5184c6c741",
   "metadata": {},
   "outputs": [
    {
     "data": {
      "text/html": [
       "<style>#sk-container-id-2 {color: black;}#sk-container-id-2 pre{padding: 0;}#sk-container-id-2 div.sk-toggleable {background-color: white;}#sk-container-id-2 label.sk-toggleable__label {cursor: pointer;display: block;width: 100%;margin-bottom: 0;padding: 0.3em;box-sizing: border-box;text-align: center;}#sk-container-id-2 label.sk-toggleable__label-arrow:before {content: \"▸\";float: left;margin-right: 0.25em;color: #696969;}#sk-container-id-2 label.sk-toggleable__label-arrow:hover:before {color: black;}#sk-container-id-2 div.sk-estimator:hover label.sk-toggleable__label-arrow:before {color: black;}#sk-container-id-2 div.sk-toggleable__content {max-height: 0;max-width: 0;overflow: hidden;text-align: left;background-color: #f0f8ff;}#sk-container-id-2 div.sk-toggleable__content pre {margin: 0.2em;color: black;border-radius: 0.25em;background-color: #f0f8ff;}#sk-container-id-2 input.sk-toggleable__control:checked~div.sk-toggleable__content {max-height: 200px;max-width: 100%;overflow: auto;}#sk-container-id-2 input.sk-toggleable__control:checked~label.sk-toggleable__label-arrow:before {content: \"▾\";}#sk-container-id-2 div.sk-estimator input.sk-toggleable__control:checked~label.sk-toggleable__label {background-color: #d4ebff;}#sk-container-id-2 div.sk-label input.sk-toggleable__control:checked~label.sk-toggleable__label {background-color: #d4ebff;}#sk-container-id-2 input.sk-hidden--visually {border: 0;clip: rect(1px 1px 1px 1px);clip: rect(1px, 1px, 1px, 1px);height: 1px;margin: -1px;overflow: hidden;padding: 0;position: absolute;width: 1px;}#sk-container-id-2 div.sk-estimator {font-family: monospace;background-color: #f0f8ff;border: 1px dotted black;border-radius: 0.25em;box-sizing: border-box;margin-bottom: 0.5em;}#sk-container-id-2 div.sk-estimator:hover {background-color: #d4ebff;}#sk-container-id-2 div.sk-parallel-item::after {content: \"\";width: 100%;border-bottom: 1px solid gray;flex-grow: 1;}#sk-container-id-2 div.sk-label:hover label.sk-toggleable__label {background-color: #d4ebff;}#sk-container-id-2 div.sk-serial::before {content: \"\";position: absolute;border-left: 1px solid gray;box-sizing: border-box;top: 0;bottom: 0;left: 50%;z-index: 0;}#sk-container-id-2 div.sk-serial {display: flex;flex-direction: column;align-items: center;background-color: white;padding-right: 0.2em;padding-left: 0.2em;position: relative;}#sk-container-id-2 div.sk-item {position: relative;z-index: 1;}#sk-container-id-2 div.sk-parallel {display: flex;align-items: stretch;justify-content: center;background-color: white;position: relative;}#sk-container-id-2 div.sk-item::before, #sk-container-id-2 div.sk-parallel-item::before {content: \"\";position: absolute;border-left: 1px solid gray;box-sizing: border-box;top: 0;bottom: 0;left: 50%;z-index: -1;}#sk-container-id-2 div.sk-parallel-item {display: flex;flex-direction: column;z-index: 1;position: relative;background-color: white;}#sk-container-id-2 div.sk-parallel-item:first-child::after {align-self: flex-end;width: 50%;}#sk-container-id-2 div.sk-parallel-item:last-child::after {align-self: flex-start;width: 50%;}#sk-container-id-2 div.sk-parallel-item:only-child::after {width: 0;}#sk-container-id-2 div.sk-dashed-wrapped {border: 1px dashed gray;margin: 0 0.4em 0.5em 0.4em;box-sizing: border-box;padding-bottom: 0.4em;background-color: white;}#sk-container-id-2 div.sk-label label {font-family: monospace;font-weight: bold;display: inline-block;line-height: 1.2em;}#sk-container-id-2 div.sk-label-container {text-align: center;}#sk-container-id-2 div.sk-container {/* jupyter's `normalize.less` sets `[hidden] { display: none; }` but bootstrap.min.css set `[hidden] { display: none !important; }` so we also need the `!important` here to be able to override the default hidden behavior on the sphinx rendered scikit-learn.org. See: https://github.com/scikit-learn/scikit-learn/issues/21755 */display: inline-block !important;position: relative;}#sk-container-id-2 div.sk-text-repr-fallback {display: none;}</style><div id=\"sk-container-id-2\" class=\"sk-top-container\"><div class=\"sk-text-repr-fallback\"><pre>KMeans(n_clusters=4, random_state=42)</pre><b>In a Jupyter environment, please rerun this cell to show the HTML representation or trust the notebook. <br />On GitHub, the HTML representation is unable to render, please try loading this page with nbviewer.org.</b></div><div class=\"sk-container\" hidden><div class=\"sk-item\"><div class=\"sk-estimator sk-toggleable\"><input class=\"sk-toggleable__control sk-hidden--visually\" id=\"sk-estimator-id-2\" type=\"checkbox\" checked><label for=\"sk-estimator-id-2\" class=\"sk-toggleable__label sk-toggleable__label-arrow\">KMeans</label><div class=\"sk-toggleable__content\"><pre>KMeans(n_clusters=4, random_state=42)</pre></div></div></div></div></div>"
      ],
      "text/plain": [
       "KMeans(n_clusters=4, random_state=42)"
      ]
     },
     "execution_count": 65,
     "metadata": {},
     "output_type": "execute_result"
    }
   ],
   "source": [
    "# Build model\n",
    "final_model = KMeans(n_clusters=4,random_state=42)\n",
    "\n",
    "# Fit model to data\n",
    "\n",
    "final_model.fit(X)"
   ]
  },
  {
   "cell_type": "markdown",
   "id": "d5cb0f75-4972-40f5-88c5-568769063827",
   "metadata": {},
   "source": [
    "(In case you're wondering, we don't need an *Evaluate* section in this notebook because we don't have any test data to evaluate our model with.)"
   ]
  },
  {
   "cell_type": "markdown",
   "id": "63474b1b-2841-43eb-b11c-da16b078e452",
   "metadata": {},
   "source": [
    "# Communicate"
   ]
  },
  {
   "cell_type": "code",
   "execution_count": 67,
   "id": "fc0f71f4-df28-4f56-8a9f-2729e123c601",
   "metadata": {},
   "outputs": [
    {
     "data": {
      "text/html": [
       "\n",
       "        <iframe\n",
       "            width=\"600\"\n",
       "            height=\"300\"\n",
       "            src=\"https://player.vimeo.com/video/713918073?h=3929b58011\"\n",
       "            frameborder=\"0\"\n",
       "            allowfullscreen\n",
       "            \n",
       "        ></iframe>\n",
       "        "
      ],
      "text/plain": [
       "<IPython.lib.display.VimeoVideo at 0x70f4c7a88190>"
      ]
     },
     "execution_count": 67,
     "metadata": {},
     "output_type": "execute_result"
    }
   ],
   "source": [
    "VimeoVideo(\"713918073\", h=\"3929b58011\", width=600)"
   ]
  },
  {
   "cell_type": "markdown",
   "id": "8f50eac2-9cb8-48c1-b42c-be2a62b9149d",
   "metadata": {},
   "source": [
    "**Task 6.2.18:** Create one last \"Home Value vs. Household Debt\" scatter plot that shows the clusters that your `final_model` has assigned to the training data. \n",
    "\n",
    "- [What's a scatter plot?](../%40textbook/06-visualization-matplotlib.ipynb#Scatter-Plots)\n",
    "- [Create a scatter plot using Matplotlib.](../%40textbook/06-visualization-matplotlib.ipynb#Scatter-Plots)"
   ]
  },
  {
   "cell_type": "code",
   "execution_count": 68,
   "id": "670ddaf1-a5d3-4ea0-8486-bfbaf11011d0",
   "metadata": {},
   "outputs": [
    {
     "data": {
      "image/png": "[encoded data removed]",
      "text/plain": [
       "<Figure size 640x480 with 1 Axes>"
      ]
     },
     "metadata": {},
     "output_type": "display_data"
    }
   ],
   "source": [
    "# Plot \"HOUSES\" vs \"DEBT\" with final_model labels\n",
    "sns.scatterplot(x=df[\"DEBT\"]/ 1e6,y=df[\"HOUSES\"]/ 1e6,hue=final_model.labels_,palette=\"deep\")\n",
    "plt.xlabel(\"Household Debt [$1M]\")\n",
    "plt.ylabel(\"Home Value [$1M]\")\n",
    "plt.title(\"Credit Fearful: Home Value vs. Household Debt\");"
   ]
  },
  {
   "cell_type": "markdown",
   "id": "feab7c75-c95b-4305-bb5a-8a9f99897565",
   "metadata": {},
   "source": [
    "Nice! You can see all four of our clusters, each differentiated from the rest by color.\n",
    "\n",
    "We're going to make one more visualization, converting the cluster analysis we just did to something a little more actionable: a side-by-side bar chart. In order to do that, we need to put our clustered data into a DataFrame."
   ]
  },
  {
   "cell_type": "code",
   "execution_count": 69,
   "id": "15b7248a-b14a-4fd8-9470-e4096202e14f",
   "metadata": {},
   "outputs": [
    {
     "data": {
      "text/html": [
       "\n",
       "        <iframe\n",
       "            width=\"600\"\n",
       "            height=\"300\"\n",
       "            src=\"https://player.vimeo.com/video/713918023?h=110156bd98\"\n",
       "            frameborder=\"0\"\n",
       "            allowfullscreen\n",
       "            \n",
       "        ></iframe>\n",
       "        "
      ],
      "text/plain": [
       "<IPython.lib.display.VimeoVideo at 0x70f4cc2f3410>"
      ]
     },
     "execution_count": 69,
     "metadata": {},
     "output_type": "execute_result"
    }
   ],
   "source": [
    "VimeoVideo(\"713918023\", h=\"110156bd98\", width=600)"
   ]
  },
  {
   "cell_type": "markdown",
   "id": "4a488652-d2f7-4de5-967d-9d9435291e72",
   "metadata": {},
   "source": [
    "**Task 6.2.19:** Create a DataFrame `xgb` that contains the mean `\"DEBT\"` and `\"HOUSES\"` values for each of the clusters in your `final_model`.\n",
    "\n",
    "- [Access an object in a pipeline in scikit-learn.](../%40textbook/13-ml-data-pre-processing-and-production.ipynb#Accessing-an-Object-in-a-Pipeline)\n",
    "- [Aggregate data using the groupby method in pandas.](../%40textbook/04-pandas-advanced.ipynb#Series-and-Groupby)\n",
    "- [Create a DataFrame from a Series in pandas.](../%40textbook/04-pandas-advanced.ipynb#Series-and-Groupby)"
   ]
  },
  {
   "cell_type": "code",
   "execution_count": 70,
   "id": "86c83bd0-4546-4457-96d3-f5a5e21bea9c",
   "metadata": {},
   "outputs": [
    {
     "name": "stdout",
     "output_type": "stream",
     "text": [
      "xgb type: <class 'pandas.core.frame.DataFrame'>\n",
      "xgb shape: (4, 2)\n"
     ]
    },
    {
     "data": {
      "text/html": [
       "<div>\n",
       "<style scoped>\n",
       "    .dataframe tbody tr th:only-of-type {\n",
       "        vertical-align: middle;\n",
       "    }\n",
       "\n",
       "    .dataframe tbody tr th {\n",
       "        vertical-align: top;\n",
       "    }\n",
       "\n",
       "    .dataframe thead th {\n",
       "        text-align: right;\n",
       "    }\n",
       "</style>\n",
       "<table border=\"1\" class=\"dataframe\">\n",
       "  <thead>\n",
       "    <tr style=\"text-align: right;\">\n",
       "      <th></th>\n",
       "      <th>DEBT</th>\n",
       "      <th>HOUSES</th>\n",
       "    </tr>\n",
       "  </thead>\n",
       "  <tbody>\n",
       "    <tr>\n",
       "      <th>0</th>\n",
       "      <td>8.488629e+04</td>\n",
       "      <td>1.031872e+05</td>\n",
       "    </tr>\n",
       "    <tr>\n",
       "      <th>1</th>\n",
       "      <td>1.838410e+07</td>\n",
       "      <td>3.448400e+07</td>\n",
       "    </tr>\n",
       "    <tr>\n",
       "      <th>2</th>\n",
       "      <td>2.420929e+06</td>\n",
       "      <td>4.551429e+06</td>\n",
       "    </tr>\n",
       "    <tr>\n",
       "      <th>3</th>\n",
       "      <td>5.472800e+06</td>\n",
       "      <td>1.407400e+07</td>\n",
       "    </tr>\n",
       "  </tbody>\n",
       "</table>\n",
       "</div>"
      ],
      "text/plain": [
       "           DEBT        HOUSES\n",
       "0  8.488629e+04  1.031872e+05\n",
       "1  1.838410e+07  3.448400e+07\n",
       "2  2.420929e+06  4.551429e+06\n",
       "3  5.472800e+06  1.407400e+07"
      ]
     },
     "execution_count": 70,
     "metadata": {},
     "output_type": "execute_result"
    }
   ],
   "source": [
    "xgb = X.groupby(final_model.labels_).mean()\n",
    "\n",
    "print(\"xgb type:\", type(xgb))\n",
    "print(\"xgb shape:\", xgb.shape)\n",
    "xgb"
   ]
  },
  {
   "cell_type": "code",
   "execution_count": 71,
   "id": "8e952a5f-e95d-473a-86b4-a366a70d8393",
   "metadata": {},
   "outputs": [
    {
     "data": {
      "text/plain": [
       "array([[   84886.28951384,   103187.22476563],\n",
       "       [18384100.        , 34484000.        ],\n",
       "       [ 2420928.57142857,  4551428.57142857],\n",
       "       [ 5472800.        , 14074000.        ]])"
      ]
     },
     "execution_count": 71,
     "metadata": {},
     "output_type": "execute_result"
    }
   ],
   "source": [
    "final_model.cluster_centers_"
   ]
  },
  {
   "cell_type": "markdown",
   "id": "101e4725-a0c9-4430-aba8-cc478819951a",
   "metadata": {},
   "source": [
    "Before you move to the next task, print out the `cluster_centers_` for your `final_model`. Do you see any similarities between them and the DataFrame you just made? Why do you think that is?"
   ]
  },
  {
   "cell_type": "code",
   "execution_count": 73,
   "id": "06ef23af-6311-4637-b223-0ad006f7871f",
   "metadata": {},
   "outputs": [
    {
     "data": {
      "text/html": [
       "\n",
       "        <iframe\n",
       "            width=\"600\"\n",
       "            height=\"300\"\n",
       "            src=\"https://player.vimeo.com/video/713917740?h=bcc496c2d9\"\n",
       "            frameborder=\"0\"\n",
       "            allowfullscreen\n",
       "            \n",
       "        ></iframe>\n",
       "        "
      ],
      "text/plain": [
       "<IPython.lib.display.VimeoVideo at 0x70f4c7a34650>"
      ]
     },
     "execution_count": 73,
     "metadata": {},
     "output_type": "execute_result"
    }
   ],
   "source": [
    "VimeoVideo(\"713917740\", h=\"bcc496c2d9\", width=600)"
   ]
  },
  {
   "cell_type": "markdown",
   "id": "5e5ca07a-dbda-4c96-9326-81e193ac7734",
   "metadata": {},
   "source": [
    "**Task 6.2.20:** Create a side-by-side bar chart from `xgb` that shows the mean `\"DEBT\"` and `\"HOUSES\"` values for each of the clusters in your `final_model`. For readability, you'll want to divide the values in `xgb` by 1 million. Be sure to label the x-axis `\"Cluster\"`, the y-axis `\"Value [$1 million]\"`, and use the title `\"Mean Home Value & Household Debt by Cluster\"`.\n",
    "\n",
    "- [Create a bar chart using pandas.](../%40textbook/07-visualization-pandas.ipynb#Bar-Charts)"
   ]
  },
  {
   "cell_type": "code",
   "execution_count": 72,
   "id": "2c1279e4-83db-4f5a-a56b-6ba2271c900e",
   "metadata": {},
   "outputs": [
    {
     "data": {
      "image/png": "[encoded data removed]",
      "text/plain": [
       "<Figure size 640x480 with 1 Axes>"
      ]
     },
     "metadata": {},
     "output_type": "display_data"
    }
   ],
   "source": [
    "# Create side-by-side bar chart of `xgb`\n",
    "(xgb / 1eb).plot(kind=\"bar\")\n",
    "plt.xlabel(\"Cluster\")\n",
    "plt.ylabel(\"Value [$1 million]\")\n",
    "plt.title(\"Mean Home Value & Household Debt by Cluster\");"
   ]
  },
  {
   "cell_type": "markdown",
   "id": "d7ff343c-2a60-4954-bec3-98983791df85",
   "metadata": {},
   "source": [
    "In this plot, we have our four clusters spread across the x-axis, and the dollar amounts for home value and household debt on the y-axis. \n",
    "\n",
    "The first thing to look at in this chart is the different mean home values for the five clusters. Clusters 0 represents households with small to moderate home values, clusters 2 and 3 have high home values, and cluster 1 has extremely high values. \n",
    "\n",
    "The second thing to look at is the proportion of debt to home value. In clusters 1 and 3, this proportion is around 0.5. This suggests that these groups have a moderate amount of untapped equity in their homes. But for group 0, it's almost 1, which suggests that the largest source of household debt is their mortgage. Group 2 is unique in that they have the smallest proportion of debt to home value, around 0.4.\n",
    "\n",
    "This information could be useful to financial institution that want to target customers with products that would appeal to them. For instance, households in group 0 might be interested in refinancing their mortgage to lower their interest rate. Group 2 households could be interested in a [home equity line of credit](https://www.investopedia.com/home-equity-line-of-credit-heloc-definition-5217473) because they have more equity in their homes. And the bankers, Bill Gates, and Beyoncés in group 1 might want white-glove personalized wealth management. "
   ]
  },
  {
   "cell_type": "markdown",
   "id": "6deb557f",
   "metadata": {
    "deletable": false,
    "editable": false
   },
   "source": [
    "---\n",
    "Copyright 2023 WorldQuant University. This\n",
    "content is licensed solely for personal use. Redistribution or\n",
    "publication of this material is strictly prohibited.\n"
   ]
  }
 ],
 "metadata": {
  "kernelspec": {
   "display_name": "Python 3 (ipykernel)",
   "language": "python",
   "name": "python3"
  },
  "language_info": {
   "codemirror_mode": {
    "name": "ipython",
    "version": 3
   },
   "file_extension": ".py",
   "mimetype": "text/x-python",
   "name": "python",
   "nbconvert_exporter": "python",
   "pygments_lexer": "ipython3",
   "version": "3.11.0"
  },
  "vscode": {
   "interpreter": {
    "hash": "916dbcbb3f70747c44a77c7bcd40155683ae19c65e1c03b4aa3499c5328201f1"
   }
  },
  "widgets": {
   "application/vnd.jupyter.widget-state+json": {
    "state": {},
    "version_major": 2,
    "version_minor": 0
   }
  }
 },
 "nbformat": 4,
 "nbformat_minor": 5
}
