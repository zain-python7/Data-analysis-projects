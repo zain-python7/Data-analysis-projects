{
 "cells": [
  {
   "cell_type": "markdown",
   "id": "d28effa8-98dc-459e-9741-dd0ebea44a5b",
   "metadata": {},
   "source": [
    "<font size=\"+3\"><strong>3.5. Air Quality in Dar es Salaam 🇹🇿</strong></font>"
   ]
  },
  {
   "cell_type": "code",
   "execution_count": 205,
   "id": "ec3bc549-1ab5-47bd-ae8e-8ec3d8e4ccac",
   "metadata": {
    "tags": []
   },
   "outputs": [],
   "source": [
    "import warnings\n",
    "\n",
    "warnings.simplefilter(action=\"ignore\", category=FutureWarning)\n",
    "warnings.filterwarnings(\"ignore\", category=DeprecationWarning)"
   ]
  },
  {
   "cell_type": "code",
   "execution_count": 206,
   "id": "10115ee7-bdeb-497f-91c3-15abf1da1403",
   "metadata": {
    "tags": []
   },
   "outputs": [],
   "source": [
    "# Import libraries here\n",
    "\n",
    "from statsmodels.tsa.arima.model import ARIMA\n",
    "from statsmodels.tsa.ar_model import AutoReg\n",
    "\n",
    "import matplotlib.pyplot as plt\n",
    "import pandas as pd\n",
    "import plotly.express as px\n",
    "from IPython.display import VimeoVideo\n",
    "from pymongo import MongoClient\n",
    "from pprint import PrettyPrinter \n",
    "from sklearn.metrics import mean_absolute_error\n",
    "from statsmodels.graphics.tsaplots import plot_acf, plot_pacf\n",
    "from statsmodels.tsa.ar_model import AutoReg\n",
    "\n",
    "warnings.simplefilter(action=\"ignore\", category=FutureWarning)"
   ]
  },
  {
   "cell_type": "markdown",
   "id": "5b7bad4e-0aa7-4e91-8dd9-85c2aa6a342a",
   "metadata": {},
   "source": [
    "# Prepare Data"
   ]
  },
  {
   "cell_type": "markdown",
   "id": "cb933d8e-dd2d-46cf-8ecf-5ea6b6725dc5",
   "metadata": {},
   "source": [
    "## Connect"
   ]
  },
  {
   "cell_type": "markdown",
   "id": "d1a3cc5d-7e99-4fe6-ad6f-56e6453b2329",
   "metadata": {},
   "source": [
    "<div style=\"padding: 1em; border: 1px solid #f0ad4e; border-left: 6px solid #f0ad4e; background-color: #fcf8e3; color: #8a6d3b; border-radius: 4px;\">\n",
    "\n",
    "<strong>🛠️ Instruction:</strong> Locate the IP address of the machine running MongoDB and assign it to the variable <code>host</code>. Make sure to use a <strong>string</strong> (i.e., wrap the IP in quotes).<br><br>\n",
    "\n",
    "<strong>⚠️ Note:</strong> The IP address is <strong>dynamic</strong> — it may change every time you start the lab. Always check the current IP before proceeding.\n",
    "\n",
    "</div>\n",
    "\n",
    "<img src=\"../images/mongo_ip.png\" alt=\"MongoDB\" width=\"600\"/>\n"
   ]
  },
  {
   "cell_type": "code",
   "execution_count": 207,
   "id": "ab686c85-9cb5-4e6b-a0bb-47bbf910dcfd",
   "metadata": {},
   "outputs": [],
   "source": [
    "host = \"...\""
   ]
  },
  {
   "cell_type": "markdown",
   "id": "09c2fea7-09de-485a-93db-16fadf850c6e",
   "metadata": {},
   "source": [
    "**Task 3.5.1**"
   ]
  },
  {
   "cell_type": "code",
   "execution_count": 208,
   "id": "d413ea63-33f3-4502-952f-4bdc6c817248",
   "metadata": {
    "tags": []
   },
   "outputs": [],
   "source": [
    "client =MongoClient(host=\"192.42.98.2\",port=27017)\n",
    "db = client[\"air-quality\"]\n",
    "dar = db[\"dar-es-salaam\"]"
   ]
  },
  {
   "cell_type": "markdown",
   "id": "dc252e6b-46cd-46d7-b3ef-35123c026121",
   "metadata": {},
   "source": [
    "## Explore"
   ]
  },
  {
   "cell_type": "markdown",
   "id": "6b5d96fa-1cbf-4510-bf8e-606e4507fedc",
   "metadata": {},
   "source": [
    "**Task 3.5.2**"
   ]
  },
  {
   "cell_type": "code",
   "execution_count": 209,
   "id": "ac8aaf1f-03a6-4d74-860b-fa8674875593",
   "metadata": {},
   "outputs": [],
   "source": [
    "pp = PrettyPrinter(indent=2)"
   ]
  },
  {
   "cell_type": "code",
   "execution_count": 210,
   "id": "ba705272-ab00-467a-b7a0-da23302c77e1",
   "metadata": {
    "tags": []
   },
   "outputs": [
    {
     "data": {
      "text/plain": [
       "[11, 23]"
      ]
     },
     "execution_count": 210,
     "metadata": {},
     "output_type": "execute_result"
    }
   ],
   "source": [
    "#doc=dar.find_one({})\n",
    "sites = dar.distinct(\"metadata.site\")\n",
    "sites\n",
    "#pp.pprint(doc)"
   ]
  },
  {
   "cell_type": "markdown",
   "id": "133b2520-25ac-4a16-8c52-706879d68fc9",
   "metadata": {},
   "source": [
    "**Task 3.5.3**"
   ]
  },
  {
   "cell_type": "code",
   "execution_count": 211,
   "id": "805e41eb-5a6d-4acd-a058-dba6f45e681a",
   "metadata": {
    "tags": []
   },
   "outputs": [
    {
     "data": {
      "text/plain": [
       "[{'_id': 11, 'count': 173242}, {'_id': 23, 'count': 60020}]"
      ]
     },
     "execution_count": 211,
     "metadata": {},
     "output_type": "execute_result"
    }
   ],
   "source": [
    "result = dar.aggregate(\n",
    "    [\n",
    "        {\"$group\":{\"_id\":\"$metadata.site\",\"count\":{\"$count\":{}}}}\n",
    "    ]\n",
    "    \n",
    ")\n",
    "#pp.pprint(list(result))\n",
    "\n",
    "readings_per_site = list(result)\n",
    "readings_per_site"
   ]
  },
  {
   "cell_type": "markdown",
   "id": "acc9d59d-7c70-4237-9b7f-b3a32cbec84d",
   "metadata": {},
   "source": [
    "## Import"
   ]
  },
  {
   "cell_type": "markdown",
   "id": "e93b82b8-d28d-4832-ac2f-1f6132c97ea6",
   "metadata": {},
   "source": [
    "**Task 3.5.4**"
   ]
  },
  {
   "cell_type": "code",
   "execution_count": 212,
   "id": "ad6454c1-7734-4b82-b39e-6f3114f1b4e7",
   "metadata": {},
   "outputs": [
    {
     "name": "stdout",
     "output_type": "stream",
     "text": [
      "{'P2': 9.27, 'timestamp': datetime.datetime(2018, 1, 1, 0, 0, 4, 53000)}\n"
     ]
    }
   ],
   "source": [
    "result = dar.find(\n",
    "    {\"metadata.site\": 11, \"metadata.measurement\": \"P2\"},\n",
    "    projection={\"P2\": 1, \"timestamp\": 1, \"_id\": 0}\n",
    ")\n",
    "pp.pprint(result.next())"
   ]
  },
  {
   "cell_type": "code",
   "execution_count": 213,
   "id": "3d074a70-cbe2-48f6-8108-69ccc88bd82a",
   "metadata": {
    "tags": []
   },
   "outputs": [],
   "source": [
    "def wrangle(collection):\n",
    "    results = collection.find(\n",
    "        {\"metadata.site\": 11, \"metadata.measurement\": \"P2\"},\n",
    "        projection={\"P2\": 1, \"timestamp\": 1, \"_id\": 0},\n",
    "    )\n",
    "    \n",
    "    df = pd.DataFrame(list(results)).set_index(\"timestamp\")  # Create df first\n",
    "    \n",
    "    df.index = df.index.tz_localize(\"UTC\").tz_convert(\"Africa/Dar_es_Salaam\")  # Then localize timezone\n",
    "    \n",
    "    df = df[df[\"P2\"] < 100]  # Remove outliers\n",
    "    \n",
    "    y = df[\"P2\"].resample(\"1H\").mean().fillna(method=\"ffill\")  # Resample and forward-fill\n",
    "    \n",
    "    return y\n"
   ]
  },
  {
   "cell_type": "markdown",
   "id": "873a97b1-6217-4c4d-ac6c-05db61d37d46",
   "metadata": {},
   "source": [
    "Use your `wrangle` function to query the `dar` collection and return your cleaned results."
   ]
  },
  {
   "cell_type": "code",
   "execution_count": 214,
   "id": "1036624c-e1a0-4529-98bc-2c4be1bb4825",
   "metadata": {
    "tags": []
   },
   "outputs": [
    {
     "name": "stdout",
     "output_type": "stream",
     "text": [
      "<class 'pandas.core.series.Series'>\n"
     ]
    },
    {
     "data": {
      "text/plain": [
       "timestamp\n",
       "2018-01-01 03:00:00+03:00     9.456327\n",
       "2018-01-01 04:00:00+03:00     9.400833\n",
       "2018-01-01 05:00:00+03:00     9.331458\n",
       "2018-01-01 06:00:00+03:00     9.528776\n",
       "2018-01-01 07:00:00+03:00     8.861250\n",
       "                               ...    \n",
       "2018-03-31 22:00:00+03:00     8.460000\n",
       "2018-03-31 23:00:00+03:00     5.725000\n",
       "2018-04-01 00:00:00+03:00     8.089167\n",
       "2018-04-01 01:00:00+03:00    29.476250\n",
       "2018-04-01 02:00:00+03:00    16.780417\n",
       "Freq: H, Name: P2, Length: 2160, dtype: float64"
      ]
     },
     "execution_count": 214,
     "metadata": {},
     "output_type": "execute_result"
    }
   ],
   "source": [
    "y = wrangle(dar)\n",
    "print(type(y))\n",
    "y"
   ]
  },
  {
   "cell_type": "markdown",
   "id": "3e1d2bd7-87d2-4348-b571-0c23ba73d36c",
   "metadata": {},
   "source": [
    "## Explore Some More"
   ]
  },
  {
   "cell_type": "markdown",
   "id": "017b42ee-0987-419e-ae25-e0d506f3a793",
   "metadata": {},
   "source": [
    "**Task 3.5.5**"
   ]
  },
  {
   "cell_type": "code",
   "execution_count": 215,
   "id": "ae7283e6-ad67-4d6f-b169-785082f5eb86",
   "metadata": {
    "tags": []
   },
   "outputs": [
    {
     "data": {
      "text/plain": [
       "Text(0.5, 1.0, 'Dar es Salaam PM2.5 Levels')"
      ]
     },
     "execution_count": 215,
     "metadata": {},
     "output_type": "execute_result"
    },
    {
     "data": {
      "image/png": "[encoded data removed]",
      "text/plain": [
       "<Figure size 1500x600 with 1 Axes>"
      ]
     },
     "metadata": {},
     "output_type": "display_data"
    }
   ],
   "source": [
    "fig, ax = plt.subplots(figsize=(15, 6))\n",
    "y.plot()\n",
    "plt.xlabel(\"Date\")\n",
    "plt.ylabel(\"PM2.5 Level\")\n",
    "plt.title(\"Dar es Salaam PM2.5 Levels\")\n",
    "# use ax=ax in your plot\n"
   ]
  },
  {
   "cell_type": "markdown",
   "id": "444f2a1a-d764-4eec-a183-8c5c52623828",
   "metadata": {},
   "source": [
    "**Task 3.5.6**"
   ]
  },
  {
   "cell_type": "code",
   "execution_count": 216,
   "id": "13dc5d5d-bddc-4681-a1af-17b19d41e4fd",
   "metadata": {
    "tags": []
   },
   "outputs": [
    {
     "data": {
      "text/plain": [
       "Text(0.5, 1.0, 'Dar es Salaam PM2.5 Levels, 7-Day Rolling Average')"
      ]
     },
     "execution_count": 216,
     "metadata": {},
     "output_type": "execute_result"
    },
    {
     "data": {
      "image/png": "[encoded data removed]",
      "text/plain": [
       "<Figure size 1500x600 with 1 Axes>"
      ]
     },
     "metadata": {},
     "output_type": "display_data"
    }
   ],
   "source": [
    "\n",
    "fig, ax = plt.subplots(figsize=(15, 6))\n",
    "y.rolling(window=168).mean().plot()\n",
    "plt.xlabel(\"Date\")\n",
    "plt.ylabel(\"PM2.5 Level\")\n",
    "plt.title(\"Dar es Salaam PM2.5 Levels, 7-Day Rolling Average\")\n",
    "\n",
    "# use ax=ax in your plot\n"
   ]
  },
  {
   "cell_type": "markdown",
   "id": "c8845846-aa0f-445e-a24e-349e332993db",
   "metadata": {},
   "source": [
    "**Task 3.5.7**"
   ]
  },
  {
   "cell_type": "code",
   "execution_count": 217,
   "id": "2819b7f1-b7a6-41cc-8b2b-18d334443265",
   "metadata": {
    "tags": []
   },
   "outputs": [
    {
     "data": {
      "text/plain": [
       "Text(0.5, 1.0, 'Dar es Salaam PM2.5 Readings, ACF')"
      ]
     },
     "execution_count": 217,
     "metadata": {},
     "output_type": "execute_result"
    },
    {
     "data": {
      "image/png": "[encoded data removed]",
      "text/plain": [
       "<Figure size 1500x600 with 1 Axes>"
      ]
     },
     "metadata": {},
     "output_type": "display_data"
    }
   ],
   "source": [
    "\n",
    "fig, ax = plt.subplots(figsize=(15, 6))\n",
    "plot_acf(y,ax=ax)\n",
    "plt.xlabel(\"Lag [hours]\")\n",
    "plt.ylabel(\"Correlation Coefficient\")\n",
    "plt.title(\"Dar es Salaam PM2.5 Readings, ACF\")\n",
    "# use ax=ax in your plot\n"
   ]
  },
  {
   "cell_type": "markdown",
   "id": "18e5db3e-6768-44ed-b537-b4edddc6ceb9",
   "metadata": {},
   "source": [
    "**Task 3.5.8**"
   ]
  },
  {
   "cell_type": "code",
   "execution_count": 218,
   "id": "5cdf3b91-d56b-445a-b5bc-84b4426be501",
   "metadata": {
    "tags": []
   },
   "outputs": [
    {
     "data": {
      "text/plain": [
       "Text(0.5, 1.0, 'Dar es Salaam PM2.5 Readings, PACF')"
      ]
     },
     "execution_count": 218,
     "metadata": {},
     "output_type": "execute_result"
    },
    {
     "data": {
      "image/png": "[encoded data removed]",
      "text/plain": [
       "<Figure size 1500x600 with 1 Axes>"
      ]
     },
     "metadata": {},
     "output_type": "display_data"
    }
   ],
   "source": [
    "fig, ax = plt.subplots(figsize=(15, 6))\n",
    "plot_pacf(y,ax=ax)\n",
    "plt.xlabel(\"Lag [hours]\")\n",
    "plt.ylabel(\"Correlation Coefficient\")\n",
    "plt.title(\"Dar es Salaam PM2.5 Readings, PACF\")\n",
    "# Use ax=ax in your plot\n"
   ]
  },
  {
   "cell_type": "markdown",
   "id": "c20b2822-0f54-40fc-8e27-7a4af876727a",
   "metadata": {},
   "source": [
    "## Split"
   ]
  },
  {
   "cell_type": "markdown",
   "id": "5f52fc17-b55f-48a4-b029-bfbd9180dde6",
   "metadata": {},
   "source": [
    "**Task 3.5.9**"
   ]
  },
  {
   "cell_type": "code",
   "execution_count": 219,
   "id": "f5b8dd5f-c917-4e7a-9eb7-73cd21ae481f",
   "metadata": {},
   "outputs": [
    {
     "data": {
      "text/plain": [
       "1944"
      ]
     },
     "execution_count": 219,
     "metadata": {},
     "output_type": "execute_result"
    }
   ],
   "source": [
    " int(len(y)*0.90)\n",
    "#len(y)"
   ]
  },
  {
   "cell_type": "code",
   "execution_count": 220,
   "id": "fce78c3f-6c47-4115-a223-3aba130ef30e",
   "metadata": {
    "tags": []
   },
   "outputs": [
    {
     "name": "stdout",
     "output_type": "stream",
     "text": [
      "y_train shape: (1944,)\n",
      "y_test shape: (216,)\n"
     ]
    }
   ],
   "source": [
    "cutoff_test =int(len(y)*0.90)\n",
    "y_train = y.iloc[:cutoff_test]\n",
    "y_test =y.iloc[cutoff_test:]\n",
    "print(\"y_train shape:\", y_train.shape)\n",
    "print(\"y_test shape:\", y_test.shape)"
   ]
  },
  {
   "cell_type": "code",
   "execution_count": 221,
   "id": "2977bf2d-2a10-4eaf-a98d-72eddd75fef3",
   "metadata": {},
   "outputs": [
    {
     "data": {
      "text/plain": [
       "True"
      ]
     },
     "execution_count": 221,
     "metadata": {},
     "output_type": "execute_result"
    }
   ],
   "source": [
    "len(y_train)+len(y_test)==len(y)"
   ]
  },
  {
   "cell_type": "markdown",
   "id": "fbe6b15f-d89e-4a8e-a313-72878f459a99",
   "metadata": {},
   "source": [
    "# Build Model"
   ]
  },
  {
   "cell_type": "markdown",
   "id": "3a9c3f11-d663-4788-99d8-84bcf8cbf65d",
   "metadata": {},
   "source": [
    "## Baseline"
   ]
  },
  {
   "cell_type": "markdown",
   "id": "15ed1868-b79b-4c3a-8d5f-5c84c369f3c9",
   "metadata": {},
   "source": [
    "**Task 3.5.10**"
   ]
  },
  {
   "cell_type": "code",
   "execution_count": 222,
   "id": "0b1782b1-02ec-4d32-a2d7-f01d31adef2f",
   "metadata": {
    "tags": []
   },
   "outputs": [
    {
     "name": "stdout",
     "output_type": "stream",
     "text": [
      "Mean P2 Reading: 8.57142319061077\n",
      "Baseline MAE: 4.053101181299159\n"
     ]
    }
   ],
   "source": [
    "y_train_mean = y_train.mean()\n",
    "y_pred_baseline = [y_train_mean]*len(y_train)\n",
    "mae_baseline = mean_absolute_error(y_train,y_pred_baseline)\n",
    "\n",
    "print(\"Mean P2 Reading:\", y_train_mean)\n",
    "print(\"Baseline MAE:\", mae_baseline)"
   ]
  },
  {
   "cell_type": "markdown",
   "id": "f62c9fbd-d620-4a98-a9aa-bffab485faf0",
   "metadata": {},
   "source": [
    "## Iterate"
   ]
  },
  {
   "cell_type": "markdown",
   "id": "fe5bddd3-86b4-431b-b67b-b6b35223a831",
   "metadata": {},
   "source": [
    "**Task 3.5.11**"
   ]
  },
  {
   "cell_type": "markdown",
   "id": "f512febf",
   "metadata": {},
   "source": [
    "<div class=\"alert alert-block alert-info\">\n",
    "    <p><b>Tip:</b> In this task, you'll need to combine the model you learned about in <b>Task 3.3.8</b> with the hyperparameter tuning technique you learned in <b>Task 3.4.9</b>.</p>\n",
    "</div>"
   ]
  },
  {
   "cell_type": "code",
   "execution_count": 223,
   "id": "e9b3a2c4-3cbe-45fd-8a59-a4b475d732df",
   "metadata": {
    "tags": []
   },
   "outputs": [
    {
     "data": {
      "text/plain": [
       "1     1.059376\n",
       "2     1.045182\n",
       "3     1.032489\n",
       "4     1.032147\n",
       "5     1.031022\n",
       "6     1.026948\n",
       "7     1.023510\n",
       "8     1.022944\n",
       "9     1.022321\n",
       "10    1.022058\n",
       "11    1.018001\n",
       "12    1.018568\n",
       "13    1.019006\n",
       "14    1.018080\n",
       "15    1.018818\n",
       "16    1.021036\n",
       "17    1.021398\n",
       "18    1.021820\n",
       "19    1.020472\n",
       "20    1.019727\n",
       "21    1.017981\n",
       "22    1.017824\n",
       "23    1.014569\n",
       "24    1.013427\n",
       "25    1.010657\n",
       "26    1.010285\n",
       "27    1.010619\n",
       "28    1.010287\n",
       "29    1.012046\n",
       "30    1.016535\n",
       "Name: mae, dtype: float64"
      ]
     },
     "execution_count": 223,
     "metadata": {},
     "output_type": "execute_result"
    }
   ],
   "source": [
    "from statsmodels.tsa.arima.model import ARIMA\n",
    "from statsmodels.tsa.ar_model import AutoReg\n",
    "# Create range to test different lags\n",
    "p_params = range(1, 31)\n",
    "\n",
    "# Create empty list to hold mean absolute error scores\n",
    "maes = []\n",
    "\n",
    "# Iterate through all values of p in `p_params`\n",
    "for p in p_params:\n",
    "    # Build model\n",
    "    model =  AutoReg(y_train,lags=p).fit()\n",
    "\n",
    "    # Make predictions on training data, dropping null values caused by lag\n",
    "    y_pred = model.predict().dropna()\n",
    "\n",
    "    # Calculate mean absolute error for training data vs predictions\n",
    "    mae = mean_absolute_error(y_train.iloc[p:], y_pred)\n",
    "\n",
    "    # Append `mae` to list `maes`\n",
    "    maes.append(mae)\n",
    "\n",
    "# Put list `maes` into Series with index `p_params`\n",
    "mae_series = pd.Series(maes, name=\"mae\", index=p_params)\n",
    "\n",
    "# Inspect head of Series\n",
    "mae_series.head(30)"
   ]
  },
  {
   "cell_type": "markdown",
   "id": "3bed32bc-03f1-459b-ab4a-3427ee9a139c",
   "metadata": {},
   "source": [
    "**Task 3.5.12**"
   ]
  },
  {
   "cell_type": "code",
   "execution_count": 224,
   "id": "83c92e43-b311-4329-8b32-cd0389e81f9f",
   "metadata": {
    "tags": []
   },
   "outputs": [],
   "source": [
    "best_p = mae_series.idxmin()\n",
    "best_model =AutoReg(y_train,lags=best_p).fit()"
   ]
  },
  {
   "cell_type": "markdown",
   "id": "6ba53db5-0b15-4adc-b258-eec2df030401",
   "metadata": {},
   "source": [
    "**Task 3.5.13**"
   ]
  },
  {
   "cell_type": "code",
   "execution_count": 225,
   "id": "8f5d1ae9-9fae-4253-b932-bf06911d51a8",
   "metadata": {
    "tags": []
   },
   "outputs": [
    {
     "data": {
      "text/plain": [
       "timestamp\n",
       "2018-01-02 05:00:00+03:00   -0.412913\n",
       "2018-01-02 06:00:00+03:00    1.484934\n",
       "2018-01-02 07:00:00+03:00    1.672359\n",
       "2018-01-02 08:00:00+03:00   -0.368030\n",
       "2018-01-02 09:00:00+03:00   -0.536868\n",
       "Freq: H, Name: residuals, dtype: float64"
      ]
     },
     "execution_count": 225,
     "metadata": {},
     "output_type": "execute_result"
    }
   ],
   "source": [
    "y_train_resid = best_model.resid\n",
    "y_train_resid.name = \"residuals\"\n",
    "y_train_resid.head()"
   ]
  },
  {
   "cell_type": "markdown",
   "id": "58713896-8d29-458e-9fd3-443479b79be0",
   "metadata": {},
   "source": [
    "<div class=\"alert alert-info\" role=\"alert\">\n",
    "  <strong>Slight Code Change</strong>\n",
    "\n",
    "In the following task, you'll notice a small change in how plots are created compared to what you saw in the lessons.\n",
    "While the lessons use the global matplotlib method like <code>plt.plot(...)</code>, in this task, you are expected to use the object-oriented (OOP) API instead.\n",
    "This means creating your plots using <code>fig, ax = plt.subplots()</code> and then calling plotting methods on the <code>ax</code> object, such as <code>ax.plot(...)</code>, <code>ax.hist(...)</code>, or <code>ax.scatter(...)</code>.\n",
    "\n",
    "If you're using pandas’ or seaborn’s built-in plotting methods (like <code>df.plot()</code> or <code>sns.lineplot()</code>), make sure to pass the <code>ax=ax</code> argument so that the plot is rendered on the correct axes.\n",
    "\n",
    "This approach is considered best practice and will be used consistently across all graded tasks that involve matplotlib.\n",
    "</div>\n"
   ]
  },
  {
   "cell_type": "markdown",
   "id": "d916c106-af20-43af-994f-381b211bbcd8",
   "metadata": {},
   "source": [
    "**Task 3.5.14**"
   ]
  },
  {
   "cell_type": "code",
   "execution_count": 226,
   "id": "d3f6986e-e7c0-4909-b72b-6fc72cfd1bcb",
   "metadata": {
    "tags": []
   },
   "outputs": [
    {
     "data": {
      "text/plain": [
       "Text(0.5, 1.0, 'Best Model, Training Residuals')"
      ]
     },
     "execution_count": 226,
     "metadata": {},
     "output_type": "execute_result"
    },
    {
     "data": {
      "image/png": "[encoded data removed]",
      "text/plain": [
       "<Figure size 640x480 with 1 Axes>"
      ]
     },
     "metadata": {},
     "output_type": "display_data"
    }
   ],
   "source": [
    "# Plot histogram of residuals\n",
    "fig, ax = plt.subplots()\n",
    "y_train_resid.hist()\n",
    "plt.xlabel(\"Residuals\")\n",
    "plt.ylabel(\"Frequency\")\n",
    "plt.title(\"Best Model, Training Residuals\")"
   ]
  },
  {
   "cell_type": "markdown",
   "id": "62931901-b20f-4a40-9d0a-fda6e4f64c69",
   "metadata": {},
   "source": [
    "**Task 3.5.15**"
   ]
  },
  {
   "cell_type": "code",
   "execution_count": 227,
   "id": "893a226f-dd45-454e-8dc3-f310f2239c05",
   "metadata": {
    "tags": []
   },
   "outputs": [
    {
     "data": {
      "text/plain": [
       "Text(0.5, 1.0, 'Dar es Salaam, Training Residuals ACF')"
      ]
     },
     "execution_count": 227,
     "metadata": {},
     "output_type": "execute_result"
    },
    {
     "data": {
      "image/png": "[encoded data removed]",
      "text/plain": [
       "<Figure size 1500x600 with 1 Axes>"
      ]
     },
     "metadata": {},
     "output_type": "display_data"
    }
   ],
   "source": [
    "fig, ax = plt.subplots(figsize=(15, 6))\n",
    "plot_acf(y_train_resid,ax=ax)\n",
    "plt.xlabel(\"Lag [hours]\")\n",
    "plt.ylabel(\"Correlation Coefficient\")\n",
    "plt.title(\"Dar es Salaam, Training Residuals ACF\")\n",
    "# Use ax=ax in your plot\n"
   ]
  },
  {
   "cell_type": "markdown",
   "id": "ae216a3c-092d-4c78-aec2-a09d3d6ae04d",
   "metadata": {},
   "source": [
    "## Evaluate"
   ]
  },
  {
   "cell_type": "markdown",
   "id": "1a3e3aa7-f91b-4f9a-b431-cc9ea712ae8c",
   "metadata": {},
   "source": [
    "**Task 3.5.16**"
   ]
  },
  {
   "cell_type": "code",
   "execution_count": 228,
   "id": "fe8d14e6-3d52-4963-8889-2142ee9bfb39",
   "metadata": {
    "tags": []
   },
   "outputs": [
    {
     "data": {
      "text/plain": [
       "timestamp\n",
       "2018-03-23 03:00:00+03:00    10.414744\n",
       "2018-03-23 04:00:00+03:00     8.269589\n",
       "2018-03-23 05:00:00+03:00    15.178677\n",
       "2018-03-23 06:00:00+03:00    33.475398\n",
       "2018-03-23 07:00:00+03:00    39.571363\n",
       "                               ...    \n",
       "2018-03-31 22:00:00+03:00     6.939370\n",
       "2018-03-31 23:00:00+03:00     8.114680\n",
       "2018-04-01 00:00:00+03:00     5.710798\n",
       "2018-04-01 01:00:00+03:00     9.133960\n",
       "2018-04-01 02:00:00+03:00    28.946615\n",
       "Freq: H, Name: prediction, Length: 216, dtype: float64"
      ]
     },
     "execution_count": 228,
     "metadata": {},
     "output_type": "execute_result"
    }
   ],
   "source": [
    "\n",
    "\n",
    "# Initialize empty Series\n",
    "y_pred_wfv = pd.Series(dtype=float)\n",
    "\n",
    "# Correct: copy the y_train data\n",
    "history = y_train.copy()\n",
    "\n",
    "# Walk-forward validation loop\n",
    "for i in range(len(y_test)):\n",
    "    model = AutoReg(history, lags=best_p, old_names=False).fit()\n",
    "   \n",
    "    next_pred=model.forecast()\n",
    "    # Append the prediction\n",
    "    y_pred_wfv = y_pred_wfv.append(next_pred)\n",
    "    \n",
    "    # Append the actual value from y_test to history for next step\n",
    "    history = history.append(pd.Series(y_test.iloc[i], index=next_pred.index))\n",
    "\n",
    "# Finalize prediction series\n",
    "y_pred_wfv.name = \"prediction\"\n",
    "y_pred_wfv.index.name = \"timestamp\"\n",
    "\n",
    "# Show predictions\n",
    "y_pred_wfv\n"
   ]
  },
  {
   "cell_type": "markdown",
   "id": "8ff0c77d-faa7-4389-be15-5625c8961eaf",
   "metadata": {},
   "source": [
    "**Task 3.5.17**"
   ]
  },
  {
   "cell_type": "code",
   "execution_count": 229,
   "id": "b63d8723-9a0a-4bc6-bc4e-db125bcddd28",
   "metadata": {},
   "outputs": [
    {
     "name": "stdout",
     "output_type": "stream",
     "text": [
      "Test MAE (walk forward validation): 3.97\n"
     ]
    }
   ],
   "source": [
    "# Enter y_pred_wfv at ... (Ellipsis) to see the test mean absolute error\n",
    "\n",
    "test_mae = mean_absolute_error(y_test, y_pred_wfv)\n",
    "print(\"Test MAE (walk forward validation):\", round(test_mae, 2))"
   ]
  },
  {
   "cell_type": "markdown",
   "id": "1747af25-64f8-4432-8865-4a0b92f812dc",
   "metadata": {},
   "source": [
    "# Communicate Results"
   ]
  },
  {
   "cell_type": "markdown",
   "id": "2c87834c-760a-411d-9206-98f12c92d0c4",
   "metadata": {},
   "source": [
    "**Task 3.5.18**"
   ]
  },
  {
   "cell_type": "code",
   "execution_count": 203,
   "id": "ab959d9e-b8bd-4dbd-adab-6d8816a1b64f",
   "metadata": {},
   "outputs": [
    {
     "data": {
      "application/vnd.plotly.v1+json": {
       "config": {
        "plotlyServerURL": "https://plot.ly"
       },
       "data": [
        {
         "hovertemplate": "variable=y_test<br>index=%{x}<br>PM2.5 Level=%{y}<extra></extra>",
         "legendgroup": "y_test",
         "line": {
          "color": "#636efa",
          "dash": "solid"
         },
         "marker": {
          "symbol": "circle"
         },
         "mode": "lines",
         "name": "y_test",
         "orientation": "v",
         "showlegend": true,
         "type": "scatter",
         "x": [
          "2018-03-23T03:00:00+03:00",
          "2018-03-23T04:00:00+03:00",
          "2018-03-23T05:00:00+03:00",
          "2018-03-23T06:00:00+03:00",
          "2018-03-23T07:00:00+03:00",
          "2018-03-23T08:00:00+03:00",
          "2018-03-23T09:00:00+03:00",
          "2018-03-23T10:00:00+03:00",
          "2018-03-23T11:00:00+03:00",
          "2018-03-23T12:00:00+03:00",
          "2018-03-23T13:00:00+03:00",
          "2018-03-23T14:00:00+03:00",
          "2018-03-23T15:00:00+03:00",
          "2018-03-23T16:00:00+03:00",
          "2018-03-23T17:00:00+03:00",
          "2018-03-23T18:00:00+03:00",
          "2018-03-23T19:00:00+03:00",
          "2018-03-23T20:00:00+03:00",
          "2018-03-23T21:00:00+03:00",
          "2018-03-23T22:00:00+03:00",
          "2018-03-23T23:00:00+03:00",
          "2018-03-24T00:00:00+03:00",
          "2018-03-24T01:00:00+03:00",
          "2018-03-24T02:00:00+03:00",
          "2018-03-24T03:00:00+03:00",
          "2018-03-24T04:00:00+03:00",
          "2018-03-24T05:00:00+03:00",
          "2018-03-24T06:00:00+03:00",
          "2018-03-24T07:00:00+03:00",
          "2018-03-24T08:00:00+03:00",
          "2018-03-24T09:00:00+03:00",
          "2018-03-24T10:00:00+03:00",
          "2018-03-24T11:00:00+03:00",
          "2018-03-24T12:00:00+03:00",
          "2018-03-24T13:00:00+03:00",
          "2018-03-24T14:00:00+03:00",
          "2018-03-24T15:00:00+03:00",
          "2018-03-24T16:00:00+03:00",
          "2018-03-24T17:00:00+03:00",
          "2018-03-24T18:00:00+03:00",
          "2018-03-24T19:00:00+03:00",
          "2018-03-24T20:00:00+03:00",
          "2018-03-24T21:00:00+03:00",
          "2018-03-24T22:00:00+03:00",
          "2018-03-24T23:00:00+03:00",
          "2018-03-25T00:00:00+03:00",
          "2018-03-25T01:00:00+03:00",
          "2018-03-25T02:00:00+03:00",
          "2018-03-25T03:00:00+03:00",
          "2018-03-25T04:00:00+03:00",
          "2018-03-25T05:00:00+03:00",
          "2018-03-25T06:00:00+03:00",
          "2018-03-25T07:00:00+03:00",
          "2018-03-25T08:00:00+03:00",
          "2018-03-25T09:00:00+03:00",
          "2018-03-25T10:00:00+03:00",
          "2018-03-25T11:00:00+03:00",
          "2018-03-25T12:00:00+03:00",
          "2018-03-25T13:00:00+03:00",
          "2018-03-25T14:00:00+03:00",
          "2018-03-25T15:00:00+03:00",
          "2018-03-25T16:00:00+03:00",
          "2018-03-25T17:00:00+03:00",
          "2018-03-25T18:00:00+03:00",
          "2018-03-25T19:00:00+03:00",
          "2018-03-25T20:00:00+03:00",
          "2018-03-25T21:00:00+03:00",
          "2018-03-25T22:00:00+03:00",
          "2018-03-25T23:00:00+03:00",
          "2018-03-26T00:00:00+03:00",
          "2018-03-26T01:00:00+03:00",
          "2018-03-26T02:00:00+03:00",
          "2018-03-26T03:00:00+03:00",
          "2018-03-26T04:00:00+03:00",
          "2018-03-26T05:00:00+03:00",
          "2018-03-26T06:00:00+03:00",
          "2018-03-26T07:00:00+03:00",
          "2018-03-26T08:00:00+03:00",
          "2018-03-26T09:00:00+03:00",
          "2018-03-26T10:00:00+03:00",
          "2018-03-26T11:00:00+03:00",
          "2018-03-26T12:00:00+03:00",
          "2018-03-26T13:00:00+03:00",
          "2018-03-26T14:00:00+03:00",
          "2018-03-26T15:00:00+03:00",
          "2018-03-26T16:00:00+03:00",
          "2018-03-26T17:00:00+03:00",
          "2018-03-26T18:00:00+03:00",
          "2018-03-26T19:00:00+03:00",
          "2018-03-26T20:00:00+03:00",
          "2018-03-26T21:00:00+03:00",
          "2018-03-26T22:00:00+03:00",
          "2018-03-26T23:00:00+03:00",
          "2018-03-27T00:00:00+03:00",
          "2018-03-27T01:00:00+03:00",
          "2018-03-27T02:00:00+03:00",
          "2018-03-27T03:00:00+03:00",
          "2018-03-27T04:00:00+03:00",
          "2018-03-27T05:00:00+03:00",
          "2018-03-27T06:00:00+03:00",
          "2018-03-27T07:00:00+03:00",
          "2018-03-27T08:00:00+03:00",
          "2018-03-27T09:00:00+03:00",
          "2018-03-27T10:00:00+03:00",
          "2018-03-27T11:00:00+03:00",
          "2018-03-27T12:00:00+03:00",
          "2018-03-27T13:00:00+03:00",
          "2018-03-27T14:00:00+03:00",
          "2018-03-27T15:00:00+03:00",
          "2018-03-27T16:00:00+03:00",
          "2018-03-27T17:00:00+03:00",
          "2018-03-27T18:00:00+03:00",
          "2018-03-27T19:00:00+03:00",
          "2018-03-27T20:00:00+03:00",
          "2018-03-27T21:00:00+03:00",
          "2018-03-27T22:00:00+03:00",
          "2018-03-27T23:00:00+03:00",
          "2018-03-28T00:00:00+03:00",
          "2018-03-28T01:00:00+03:00",
          "2018-03-28T02:00:00+03:00",
          "2018-03-28T03:00:00+03:00",
          "2018-03-28T04:00:00+03:00",
          "2018-03-28T05:00:00+03:00",
          "2018-03-28T06:00:00+03:00",
          "2018-03-28T07:00:00+03:00",
          "2018-03-28T08:00:00+03:00",
          "2018-03-28T09:00:00+03:00",
          "2018-03-28T10:00:00+03:00",
          "2018-03-28T11:00:00+03:00",
          "2018-03-28T12:00:00+03:00",
          "2018-03-28T13:00:00+03:00",
          "2018-03-28T14:00:00+03:00",
          "2018-03-28T15:00:00+03:00",
          "2018-03-28T16:00:00+03:00",
          "2018-03-28T17:00:00+03:00",
          "2018-03-28T18:00:00+03:00",
          "2018-03-28T19:00:00+03:00",
          "2018-03-28T20:00:00+03:00",
          "2018-03-28T21:00:00+03:00",
          "2018-03-28T22:00:00+03:00",
          "2018-03-28T23:00:00+03:00",
          "2018-03-29T00:00:00+03:00",
          "2018-03-29T01:00:00+03:00",
          "2018-03-29T02:00:00+03:00",
          "2018-03-29T03:00:00+03:00",
          "2018-03-29T04:00:00+03:00",
          "2018-03-29T05:00:00+03:00",
          "2018-03-29T06:00:00+03:00",
          "2018-03-29T07:00:00+03:00",
          "2018-03-29T08:00:00+03:00",
          "2018-03-29T09:00:00+03:00",
          "2018-03-29T10:00:00+03:00",
          "2018-03-29T11:00:00+03:00",
          "2018-03-29T12:00:00+03:00",
          "2018-03-29T13:00:00+03:00",
          "2018-03-29T14:00:00+03:00",
          "2018-03-29T15:00:00+03:00",
          "2018-03-29T16:00:00+03:00",
          "2018-03-29T17:00:00+03:00",
          "2018-03-29T18:00:00+03:00",
          "2018-03-29T19:00:00+03:00",
          "2018-03-29T20:00:00+03:00",
          "2018-03-29T21:00:00+03:00",
          "2018-03-29T22:00:00+03:00",
          "2018-03-29T23:00:00+03:00",
          "2018-03-30T00:00:00+03:00",
          "2018-03-30T01:00:00+03:00",
          "2018-03-30T02:00:00+03:00",
          "2018-03-30T03:00:00+03:00",
          "2018-03-30T04:00:00+03:00",
          "2018-03-30T05:00:00+03:00",
          "2018-03-30T06:00:00+03:00",
          "2018-03-30T07:00:00+03:00",
          "2018-03-30T08:00:00+03:00",
          "2018-03-30T09:00:00+03:00",
          "2018-03-30T10:00:00+03:00",
          "2018-03-30T11:00:00+03:00",
          "2018-03-30T12:00:00+03:00",
          "2018-03-30T13:00:00+03:00",
          "2018-03-30T14:00:00+03:00",
          "2018-03-30T15:00:00+03:00",
          "2018-03-30T16:00:00+03:00",
          "2018-03-30T17:00:00+03:00",
          "2018-03-30T18:00:00+03:00",
          "2018-03-30T19:00:00+03:00",
          "2018-03-30T20:00:00+03:00",
          "2018-03-30T21:00:00+03:00",
          "2018-03-30T22:00:00+03:00",
          "2018-03-30T23:00:00+03:00",
          "2018-03-31T00:00:00+03:00",
          "2018-03-31T01:00:00+03:00",
          "2018-03-31T02:00:00+03:00",
          "2018-03-31T03:00:00+03:00",
          "2018-03-31T04:00:00+03:00",
          "2018-03-31T05:00:00+03:00",
          "2018-03-31T06:00:00+03:00",
          "2018-03-31T07:00:00+03:00",
          "2018-03-31T08:00:00+03:00",
          "2018-03-31T09:00:00+03:00",
          "2018-03-31T10:00:00+03:00",
          "2018-03-31T11:00:00+03:00",
          "2018-03-31T12:00:00+03:00",
          "2018-03-31T13:00:00+03:00",
          "2018-03-31T14:00:00+03:00",
          "2018-03-31T15:00:00+03:00",
          "2018-03-31T16:00:00+03:00",
          "2018-03-31T17:00:00+03:00",
          "2018-03-31T18:00:00+03:00",
          "2018-03-31T19:00:00+03:00",
          "2018-03-31T20:00:00+03:00",
          "2018-03-31T21:00:00+03:00",
          "2018-03-31T22:00:00+03:00",
          "2018-03-31T23:00:00+03:00",
          "2018-04-01T00:00:00+03:00",
          "2018-04-01T01:00:00+03:00",
          "2018-04-01T02:00:00+03:00"
         ],
         "xaxis": "x",
         "y": [
          9.015416666666667,
          13.385,
          31.3225,
          42.64666666666667,
          48.175000000000004,
          31.050416666666667,
          16.162499999999998,
          12.209999999999999,
          8.947083333333333,
          9.335416666666667,
          9.74,
          8.755,
          9.348333333333334,
          7.934166666666667,
          8.383333333333333,
          10.698333333333332,
          16.197916666666668,
          12.308750000000002,
          14.264583333333334,
          35.45291666666667,
          33.89791666666667,
          27.97791666666667,
          42.25875,
          34.884166666666665,
          21.84875,
          23.8096,
          30.110833333333332,
          49.846666666666664,
          33.13291666666667,
          30.14375,
          11.454583333333334,
          12.020434782608698,
          9.788695652173912,
          3.780416666666667,
          3.0295833333333335,
          3.3625000000000003,
          4.5796,
          4.203888888888889,
          4.909166666666667,
          4.817391304347826,
          7.404583333333334,
          7.919583333333333,
          5.581666666666667,
          4.6137500000000005,
          4.995416666666666,
          4.169583333333334,
          10.556666666666667,
          7.355416666666667,
          14.382083333333334,
          29.637083333333333,
          23.498333333333335,
          14.109166666666667,
          8.19375,
          6.940833333333333,
          7.0687500000000005,
          3.92375,
          1.80875,
          1.96125,
          3.1033333333333335,
          4.598333333333334,
          3.932608695652174,
          2.8316666666666666,
          2.1404166666666664,
          3.1029166666666668,
          6.115833333333334,
          6.167916666666667,
          7.3,
          5.447500000000001,
          5.082916666666667,
          15.535833333333334,
          14.795416666666666,
          3.9254166666666666,
          8.37375,
          4.890416666666667,
          6.7629166666666665,
          34.455416666666665,
          27.964166666666667,
          12.995833333333332,
          9.043333333333333,
          5.381818181818182,
          4.428181818181819,
          4.9525,
          4.482727272727273,
          3.3475,
          5.508181818181818,
          3.655,
          2.0936363636363637,
          2.7383333333333333,
          3.186666666666667,
          3.3558333333333334,
          2.966666666666667,
          3.4416666666666664,
          4.615833333333334,
          7.098333333333334,
          13.3925,
          9.301666666666668,
          11.775,
          8.981666666666667,
          8.18,
          13.259166666666667,
          20.768333333333334,
          20.03666666666667,
          13.9125,
          8.09125,
          2.9717391304347824,
          2.4366666666666665,
          2.191666666666667,
          2.405,
          1.7304166666666667,
          1.719090909090909,
          2.5779166666666664,
          2.9462499999999996,
          6.564166666666666,
          9.7325,
          5.934166666666666,
          5.150833333333334,
          8.292173913043479,
          11.051666666666668,
          26.365416666666665,
          33.60052631578947,
          31.398749999999996,
          15.024166666666666,
          9.659166666666666,
          10.51125,
          19.73391304347826,
          16.320416666666667,
          11.07875,
          7.7250000000000005,
          15.25590909090909,
          9.897499999999999,
          11.399999999999999,
          6.2024,
          6.093076923076922,
          9.566923076923077,
          4.370833333333334,
          4.75125,
          4.591666666666667,
          7.197500000000001,
          12.749166666666667,
          11.912916666666668,
          10.605,
          8.132083333333332,
          11.89,
          33.558,
          29.234583333333333,
          21.46875,
          27.207391304347826,
          20.457083333333333,
          23.189999999999998,
          15.212083333333332,
          15.212083333333332,
          15.212083333333332,
          15.212083333333332,
          4.7075000000000005,
          4.484583333333333,
          4.707916666666667,
          4.707916666666667,
          4.385555555555555,
          4.016666666666667,
          4.016666666666667,
          5.236,
          6.364166666666667,
          6.364166666666667,
          6.364166666666667,
          12.730434782608697,
          8.804166666666667,
          12.0175,
          8.465,
          13.342916666666667,
          12.563333333333333,
          28.91333333333333,
          28.91333333333333,
          24.311,
          12.442083333333334,
          5.6575,
          7.718500000000001,
          1.34,
          1.0891666666666666,
          2.6845833333333338,
          1.4229166666666666,
          1.5225,
          1.567391304347826,
          2.12,
          3.6604166666666664,
          4.5525,
          4.5525,
          5.973333333333333,
          6.078333333333333,
          6.477916666666666,
          4.861666666666667,
          4.284782608695652,
          3.748333333333333,
          5.511304347826087,
          4.972916666666666,
          5.6191666666666675,
          13.1425,
          13.1425,
          2.085,
          5.871666666666666,
          5.871666666666666,
          1.5116666666666667,
          1.5116666666666667,
          1.9511111111111115,
          1.5599999999999998,
          1.3017391304347827,
          0.9,
          2.4066666666666667,
          5.3212,
          18.45,
          16.690416666666668,
          8.459999999999999,
          8.459999999999999,
          5.725,
          8.089166666666666,
          29.476249999999997,
          16.780416666666667
         ],
         "yaxis": "y"
        },
        {
         "hovertemplate": "variable=y_pred_wfv<br>index=%{x}<br>PM2.5 Level=%{y}<extra></extra>",
         "legendgroup": "y_pred_wfv",
         "line": {
          "color": "#EF553B",
          "dash": "solid"
         },
         "marker": {
          "symbol": "circle"
         },
         "mode": "lines",
         "name": "y_pred_wfv",
         "orientation": "v",
         "showlegend": true,
         "type": "scatter",
         "x": [
          "2018-03-23T03:00:00+03:00",
          "2018-03-23T04:00:00+03:00",
          "2018-03-23T05:00:00+03:00",
          "2018-03-23T06:00:00+03:00",
          "2018-03-23T07:00:00+03:00",
          "2018-03-23T08:00:00+03:00",
          "2018-03-23T09:00:00+03:00",
          "2018-03-23T10:00:00+03:00",
          "2018-03-23T11:00:00+03:00",
          "2018-03-23T12:00:00+03:00",
          "2018-03-23T13:00:00+03:00",
          "2018-03-23T14:00:00+03:00",
          "2018-03-23T15:00:00+03:00",
          "2018-03-23T16:00:00+03:00",
          "2018-03-23T17:00:00+03:00",
          "2018-03-23T18:00:00+03:00",
          "2018-03-23T19:00:00+03:00",
          "2018-03-23T20:00:00+03:00",
          "2018-03-23T21:00:00+03:00",
          "2018-03-23T22:00:00+03:00",
          "2018-03-23T23:00:00+03:00",
          "2018-03-24T00:00:00+03:00",
          "2018-03-24T01:00:00+03:00",
          "2018-03-24T02:00:00+03:00",
          "2018-03-24T03:00:00+03:00",
          "2018-03-24T04:00:00+03:00",
          "2018-03-24T05:00:00+03:00",
          "2018-03-24T06:00:00+03:00",
          "2018-03-24T07:00:00+03:00",
          "2018-03-24T08:00:00+03:00",
          "2018-03-24T09:00:00+03:00",
          "2018-03-24T10:00:00+03:00",
          "2018-03-24T11:00:00+03:00",
          "2018-03-24T12:00:00+03:00",
          "2018-03-24T13:00:00+03:00",
          "2018-03-24T14:00:00+03:00",
          "2018-03-24T15:00:00+03:00",
          "2018-03-24T16:00:00+03:00",
          "2018-03-24T17:00:00+03:00",
          "2018-03-24T18:00:00+03:00",
          "2018-03-24T19:00:00+03:00",
          "2018-03-24T20:00:00+03:00",
          "2018-03-24T21:00:00+03:00",
          "2018-03-24T22:00:00+03:00",
          "2018-03-24T23:00:00+03:00",
          "2018-03-25T00:00:00+03:00",
          "2018-03-25T01:00:00+03:00",
          "2018-03-25T02:00:00+03:00",
          "2018-03-25T03:00:00+03:00",
          "2018-03-25T04:00:00+03:00",
          "2018-03-25T05:00:00+03:00",
          "2018-03-25T06:00:00+03:00",
          "2018-03-25T07:00:00+03:00",
          "2018-03-25T08:00:00+03:00",
          "2018-03-25T09:00:00+03:00",
          "2018-03-25T10:00:00+03:00",
          "2018-03-25T11:00:00+03:00",
          "2018-03-25T12:00:00+03:00",
          "2018-03-25T13:00:00+03:00",
          "2018-03-25T14:00:00+03:00",
          "2018-03-25T15:00:00+03:00",
          "2018-03-25T16:00:00+03:00",
          "2018-03-25T17:00:00+03:00",
          "2018-03-25T18:00:00+03:00",
          "2018-03-25T19:00:00+03:00",
          "2018-03-25T20:00:00+03:00",
          "2018-03-25T21:00:00+03:00",
          "2018-03-25T22:00:00+03:00",
          "2018-03-25T23:00:00+03:00",
          "2018-03-26T00:00:00+03:00",
          "2018-03-26T01:00:00+03:00",
          "2018-03-26T02:00:00+03:00",
          "2018-03-26T03:00:00+03:00",
          "2018-03-26T04:00:00+03:00",
          "2018-03-26T05:00:00+03:00",
          "2018-03-26T06:00:00+03:00",
          "2018-03-26T07:00:00+03:00",
          "2018-03-26T08:00:00+03:00",
          "2018-03-26T09:00:00+03:00",
          "2018-03-26T10:00:00+03:00",
          "2018-03-26T11:00:00+03:00",
          "2018-03-26T12:00:00+03:00",
          "2018-03-26T13:00:00+03:00",
          "2018-03-26T14:00:00+03:00",
          "2018-03-26T15:00:00+03:00",
          "2018-03-26T16:00:00+03:00",
          "2018-03-26T17:00:00+03:00",
          "2018-03-26T18:00:00+03:00",
          "2018-03-26T19:00:00+03:00",
          "2018-03-26T20:00:00+03:00",
          "2018-03-26T21:00:00+03:00",
          "2018-03-26T22:00:00+03:00",
          "2018-03-26T23:00:00+03:00",
          "2018-03-27T00:00:00+03:00",
          "2018-03-27T01:00:00+03:00",
          "2018-03-27T02:00:00+03:00",
          "2018-03-27T03:00:00+03:00",
          "2018-03-27T04:00:00+03:00",
          "2018-03-27T05:00:00+03:00",
          "2018-03-27T06:00:00+03:00",
          "2018-03-27T07:00:00+03:00",
          "2018-03-27T08:00:00+03:00",
          "2018-03-27T09:00:00+03:00",
          "2018-03-27T10:00:00+03:00",
          "2018-03-27T11:00:00+03:00",
          "2018-03-27T12:00:00+03:00",
          "2018-03-27T13:00:00+03:00",
          "2018-03-27T14:00:00+03:00",
          "2018-03-27T15:00:00+03:00",
          "2018-03-27T16:00:00+03:00",
          "2018-03-27T17:00:00+03:00",
          "2018-03-27T18:00:00+03:00",
          "2018-03-27T19:00:00+03:00",
          "2018-03-27T20:00:00+03:00",
          "2018-03-27T21:00:00+03:00",
          "2018-03-27T22:00:00+03:00",
          "2018-03-27T23:00:00+03:00",
          "2018-03-28T00:00:00+03:00",
          "2018-03-28T01:00:00+03:00",
          "2018-03-28T02:00:00+03:00",
          "2018-03-28T03:00:00+03:00",
          "2018-03-28T04:00:00+03:00",
          "2018-03-28T05:00:00+03:00",
          "2018-03-28T06:00:00+03:00",
          "2018-03-28T07:00:00+03:00",
          "2018-03-28T08:00:00+03:00",
          "2018-03-28T09:00:00+03:00",
          "2018-03-28T10:00:00+03:00",
          "2018-03-28T11:00:00+03:00",
          "2018-03-28T12:00:00+03:00",
          "2018-03-28T13:00:00+03:00",
          "2018-03-28T14:00:00+03:00",
          "2018-03-28T15:00:00+03:00",
          "2018-03-28T16:00:00+03:00",
          "2018-03-28T17:00:00+03:00",
          "2018-03-28T18:00:00+03:00",
          "2018-03-28T19:00:00+03:00",
          "2018-03-28T20:00:00+03:00",
          "2018-03-28T21:00:00+03:00",
          "2018-03-28T22:00:00+03:00",
          "2018-03-28T23:00:00+03:00",
          "2018-03-29T00:00:00+03:00",
          "2018-03-29T01:00:00+03:00",
          "2018-03-29T02:00:00+03:00",
          "2018-03-29T03:00:00+03:00",
          "2018-03-29T04:00:00+03:00",
          "2018-03-29T05:00:00+03:00",
          "2018-03-29T06:00:00+03:00",
          "2018-03-29T07:00:00+03:00",
          "2018-03-29T08:00:00+03:00",
          "2018-03-29T09:00:00+03:00",
          "2018-03-29T10:00:00+03:00",
          "2018-03-29T11:00:00+03:00",
          "2018-03-29T12:00:00+03:00",
          "2018-03-29T13:00:00+03:00",
          "2018-03-29T14:00:00+03:00",
          "2018-03-29T15:00:00+03:00",
          "2018-03-29T16:00:00+03:00",
          "2018-03-29T17:00:00+03:00",
          "2018-03-29T18:00:00+03:00",
          "2018-03-29T19:00:00+03:00",
          "2018-03-29T20:00:00+03:00",
          "2018-03-29T21:00:00+03:00",
          "2018-03-29T22:00:00+03:00",
          "2018-03-29T23:00:00+03:00",
          "2018-03-30T00:00:00+03:00",
          "2018-03-30T01:00:00+03:00",
          "2018-03-30T02:00:00+03:00",
          "2018-03-30T03:00:00+03:00",
          "2018-03-30T04:00:00+03:00",
          "2018-03-30T05:00:00+03:00",
          "2018-03-30T06:00:00+03:00",
          "2018-03-30T07:00:00+03:00",
          "2018-03-30T08:00:00+03:00",
          "2018-03-30T09:00:00+03:00",
          "2018-03-30T10:00:00+03:00",
          "2018-03-30T11:00:00+03:00",
          "2018-03-30T12:00:00+03:00",
          "2018-03-30T13:00:00+03:00",
          "2018-03-30T14:00:00+03:00",
          "2018-03-30T15:00:00+03:00",
          "2018-03-30T16:00:00+03:00",
          "2018-03-30T17:00:00+03:00",
          "2018-03-30T18:00:00+03:00",
          "2018-03-30T19:00:00+03:00",
          "2018-03-30T20:00:00+03:00",
          "2018-03-30T21:00:00+03:00",
          "2018-03-30T22:00:00+03:00",
          "2018-03-30T23:00:00+03:00",
          "2018-03-31T00:00:00+03:00",
          "2018-03-31T01:00:00+03:00",
          "2018-03-31T02:00:00+03:00",
          "2018-03-31T03:00:00+03:00",
          "2018-03-31T04:00:00+03:00",
          "2018-03-31T05:00:00+03:00",
          "2018-03-31T06:00:00+03:00",
          "2018-03-31T07:00:00+03:00",
          "2018-03-31T08:00:00+03:00",
          "2018-03-31T09:00:00+03:00",
          "2018-03-31T10:00:00+03:00",
          "2018-03-31T11:00:00+03:00",
          "2018-03-31T12:00:00+03:00",
          "2018-03-31T13:00:00+03:00",
          "2018-03-31T14:00:00+03:00",
          "2018-03-31T15:00:00+03:00",
          "2018-03-31T16:00:00+03:00",
          "2018-03-31T17:00:00+03:00",
          "2018-03-31T18:00:00+03:00",
          "2018-03-31T19:00:00+03:00",
          "2018-03-31T20:00:00+03:00",
          "2018-03-31T21:00:00+03:00",
          "2018-03-31T22:00:00+03:00",
          "2018-03-31T23:00:00+03:00",
          "2018-04-01T00:00:00+03:00",
          "2018-04-01T01:00:00+03:00",
          "2018-04-01T02:00:00+03:00"
         ],
         "xaxis": "x",
         "y": [
          10.414744193640711,
          8.26958912244238,
          15.178677227585204,
          33.47539758883478,
          39.57136338012402,
          42.16615873496421,
          21.533000104893596,
          12.465191963608541,
          12.32966934469001,
          9.091695874593086,
          10.769932716209516,
          11.004261056804912,
          8.729951182055107,
          10.763181192209316,
          8.777951294224552,
          9.803613055832626,
          12.382676117589117,
          16.14470544084672,
          10.748104915685882,
          14.688192823984908,
          38.3636279998514,
          27.095643158946608,
          22.387931021040867,
          42.07717506971507,
          27.02101146515622,
          21.601838121704922,
          27.34644373681222,
          31.26837702050949,
          50.67682297419977,
          19.855727756448424,
          29.383293433128845,
          5.948143944729864,
          13.959939799735546,
          9.562654592489928,
          7.855417000628106,
          4.8399982631459615,
          5.487937025304329,
          7.269786212314166,
          6.396726866696905,
          9.650927999721493,
          3.894357424840402,
          9.618108977107262,
          12.086848002770516,
          9.657180830797587,
          8.556351876333824,
          8.445435721375283,
          5.7313191906925525,
          9.25909873234844,
          5.844395754705946,
          15.111568869466538,
          34.36872101851134,
          20.643744674368946,
          11.042769870371023,
          5.96460947394327,
          5.815029086894624,
          6.853352881815395,
          3.490621772622019,
          2.051942352117414,
          3.4551629718926793,
          3.461177691818153,
          5.214614608070798,
          5.203897985127984,
          2.817008193655747,
          3.3345069789768162,
          4.227948569044215,
          6.983654749613553,
          6.476696020470077,
          7.176082425205449,
          5.083177476114558,
          5.428886906652515,
          16.65294833538482,
          14.305503180481526,
          4.956909333726833,
          11.552193304964874,
          2.985575519248664,
          6.123878077076123,
          35.95593716698773,
          20.38382611656013,
          9.911966784841313,
          7.70827090205899,
          5.105673883249083,
          6.641946611536924,
          5.611457858618229,
          4.159895634189368,
          4.691499084513156,
          5.759835602771948,
          3.498381643266188,
          4.99945800251444,
          2.562049329074261,
          3.5528733464173134,
          4.417585685180569,
          3.7361266355907503,
          6.784713855693922,
          5.731436892942861,
          6.49553508486275,
          12.765715225392201,
          6.603376886572121,
          12.927756500268723,
          10.940506052307324,
          10.798552017855773,
          12.283448520215746,
          18.648652169474037,
          15.950618919362721,
          11.254338691954986,
          6.7005461233190715,
          3.2726065606339585,
          4.012691937260247,
          2.7822462597993827,
          3.5276062085085256,
          2.164311983121861,
          2.2934697366021646,
          3.790262717022723,
          3.5833799444147254,
          7.280279133898285,
          8.922609152348649,
          5.286097911401683,
          6.0569667259744495,
          10.071326325612846,
          11.43128829622434,
          26.854441633875503,
          28.77378741034057,
          26.37430204370026,
          10.33015020212035,
          11.270262174220097,
          12.416827588741207,
          21.249460947199474,
          11.990181821074613,
          8.713084640318758,
          6.485172205753443,
          16.186161281347424,
          7.945212648554865,
          11.690418561045425,
          4.230871262457038,
          6.530410502375994,
          10.528736763761255,
          4.920694579232666,
          7.498394488284131,
          5.683808175186083,
          7.368026924617743,
          12.994950452437797,
          11.103129746991321,
          12.47579457469507,
          10.997311820117668,
          14.86725496043169,
          32.991226441180494,
          21.602032837103934,
          16.33697433079577,
          27.321176018777066,
          17.903282359086212,
          22.70951203183128,
          11.070425506115662,
          16.064049478667197,
          14.435461772635822,
          14.836029166478134,
          2.546272440201104,
          7.028213159702844,
          5.420671218838294,
          5.134202493816251,
          5.301010179865559,
          3.852118033088416,
          5.668125166213722,
          7.545585166865584,
          8.261975838976623,
          7.290718475022322,
          5.9794928773221425,
          14.30177139049226,
          10.162939334436192,
          15.991293788802722,
          7.697612205269773,
          15.253212240844178,
          11.967317068193168,
          28.948346914681697,
          24.179396305949176,
          20.476274232981247,
          10.323255203457931,
          6.137087586303663,
          9.425493011525491,
          0.06417975681085819,
          2.6732370161525107,
          3.8757841442760563,
          2.2405987624013335,
          2.094289475318146,
          2.6953016210482454,
          3.3160007481386815,
          4.430498242314491,
          4.954063217943486,
          5.39299290736745,
          7.570464739326732,
          7.440062181112969,
          7.398828117072722,
          5.972006197860617,
          4.4353082024330375,
          5.139796104958788,
          8.38067109744945,
          7.901676709317363,
          7.103906724381053,
          12.904753999059784,
          10.312914630501346,
          -0.19360824905855933,
          6.87270802106047,
          5.0902657859121465,
          1.6471138761933455,
          2.214573419607139,
          2.4866114916834583,
          2.4443730699820962,
          1.6721133225551477,
          1.5179350508855909,
          3.8499939608825997,
          5.897463181287787,
          17.977822546425095,
          13.85189768002978,
          6.939370317609752,
          8.114680206353341,
          5.710798497574409,
          9.133960009293455,
          28.94661520489083
         ],
         "yaxis": "y"
        }
       ],
       "layout": {
        "legend": {
         "title": {
          "text": "variable"
         },
         "tracegroupgap": 0
        },
        "margin": {
         "t": 60
        },
        "template": {
         "data": {
          "bar": [
           {
            "error_x": {
             "color": "#2a3f5f"
            },
            "error_y": {
             "color": "#2a3f5f"
            },
            "marker": {
             "line": {
              "color": "#E5ECF6",
              "width": 0.5
             },
             "pattern": {
              "fillmode": "overlay",
              "size": 10,
              "solidity": 0.2
             }
            },
            "type": "bar"
           }
          ],
          "barpolar": [
           {
            "marker": {
             "line": {
              "color": "#E5ECF6",
              "width": 0.5
             },
             "pattern": {
              "fillmode": "overlay",
              "size": 10,
              "solidity": 0.2
             }
            },
            "type": "barpolar"
           }
          ],
          "carpet": [
           {
            "aaxis": {
             "endlinecolor": "#2a3f5f",
             "gridcolor": "white",
             "linecolor": "white",
             "minorgridcolor": "white",
             "startlinecolor": "#2a3f5f"
            },
            "baxis": {
             "endlinecolor": "#2a3f5f",
             "gridcolor": "white",
             "linecolor": "white",
             "minorgridcolor": "white",
             "startlinecolor": "#2a3f5f"
            },
            "type": "carpet"
           }
          ],
          "choropleth": [
           {
            "colorbar": {
             "outlinewidth": 0,
             "ticks": ""
            },
            "type": "choropleth"
           }
          ],
          "contour": [
           {
            "colorbar": {
             "outlinewidth": 0,
             "ticks": ""
            },
            "colorscale": [
             [
              0,
              "#0d0887"
             ],
             [
              0.1111111111111111,
              "#46039f"
             ],
             [
              0.2222222222222222,
              "#7201a8"
             ],
             [
              0.3333333333333333,
              "#9c179e"
             ],
             [
              0.4444444444444444,
              "#bd3786"
             ],
             [
              0.5555555555555556,
              "#d8576b"
             ],
             [
              0.6666666666666666,
              "#ed7953"
             ],
             [
              0.7777777777777778,
              "#fb9f3a"
             ],
             [
              0.8888888888888888,
              "#fdca26"
             ],
             [
              1,
              "#f0f921"
             ]
            ],
            "type": "contour"
           }
          ],
          "contourcarpet": [
           {
            "colorbar": {
             "outlinewidth": 0,
             "ticks": ""
            },
            "type": "contourcarpet"
           }
          ],
          "heatmap": [
           {
            "colorbar": {
             "outlinewidth": 0,
             "ticks": ""
            },
            "colorscale": [
             [
              0,
              "#0d0887"
             ],
             [
              0.1111111111111111,
              "#46039f"
             ],
             [
              0.2222222222222222,
              "#7201a8"
             ],
             [
              0.3333333333333333,
              "#9c179e"
             ],
             [
              0.4444444444444444,
              "#bd3786"
             ],
             [
              0.5555555555555556,
              "#d8576b"
             ],
             [
              0.6666666666666666,
              "#ed7953"
             ],
             [
              0.7777777777777778,
              "#fb9f3a"
             ],
             [
              0.8888888888888888,
              "#fdca26"
             ],
             [
              1,
              "#f0f921"
             ]
            ],
            "type": "heatmap"
           }
          ],
          "heatmapgl": [
           {
            "colorbar": {
             "outlinewidth": 0,
             "ticks": ""
            },
            "colorscale": [
             [
              0,
              "#0d0887"
             ],
             [
              0.1111111111111111,
              "#46039f"
             ],
             [
              0.2222222222222222,
              "#7201a8"
             ],
             [
              0.3333333333333333,
              "#9c179e"
             ],
             [
              0.4444444444444444,
              "#bd3786"
             ],
             [
              0.5555555555555556,
              "#d8576b"
             ],
             [
              0.6666666666666666,
              "#ed7953"
             ],
             [
              0.7777777777777778,
              "#fb9f3a"
             ],
             [
              0.8888888888888888,
              "#fdca26"
             ],
             [
              1,
              "#f0f921"
             ]
            ],
            "type": "heatmapgl"
           }
          ],
          "histogram": [
           {
            "marker": {
             "pattern": {
              "fillmode": "overlay",
              "size": 10,
              "solidity": 0.2
             }
            },
            "type": "histogram"
           }
          ],
          "histogram2d": [
           {
            "colorbar": {
             "outlinewidth": 0,
             "ticks": ""
            },
            "colorscale": [
             [
              0,
              "#0d0887"
             ],
             [
              0.1111111111111111,
              "#46039f"
             ],
             [
              0.2222222222222222,
              "#7201a8"
             ],
             [
              0.3333333333333333,
              "#9c179e"
             ],
             [
              0.4444444444444444,
              "#bd3786"
             ],
             [
              0.5555555555555556,
              "#d8576b"
             ],
             [
              0.6666666666666666,
              "#ed7953"
             ],
             [
              0.7777777777777778,
              "#fb9f3a"
             ],
             [
              0.8888888888888888,
              "#fdca26"
             ],
             [
              1,
              "#f0f921"
             ]
            ],
            "type": "histogram2d"
           }
          ],
          "histogram2dcontour": [
           {
            "colorbar": {
             "outlinewidth": 0,
             "ticks": ""
            },
            "colorscale": [
             [
              0,
              "#0d0887"
             ],
             [
              0.1111111111111111,
              "#46039f"
             ],
             [
              0.2222222222222222,
              "#7201a8"
             ],
             [
              0.3333333333333333,
              "#9c179e"
             ],
             [
              0.4444444444444444,
              "#bd3786"
             ],
             [
              0.5555555555555556,
              "#d8576b"
             ],
             [
              0.6666666666666666,
              "#ed7953"
             ],
             [
              0.7777777777777778,
              "#fb9f3a"
             ],
             [
              0.8888888888888888,
              "#fdca26"
             ],
             [
              1,
              "#f0f921"
             ]
            ],
            "type": "histogram2dcontour"
           }
          ],
          "mesh3d": [
           {
            "colorbar": {
             "outlinewidth": 0,
             "ticks": ""
            },
            "type": "mesh3d"
           }
          ],
          "parcoords": [
           {
            "line": {
             "colorbar": {
              "outlinewidth": 0,
              "ticks": ""
             }
            },
            "type": "parcoords"
           }
          ],
          "pie": [
           {
            "automargin": true,
            "type": "pie"
           }
          ],
          "scatter": [
           {
            "fillpattern": {
             "fillmode": "overlay",
             "size": 10,
             "solidity": 0.2
            },
            "type": "scatter"
           }
          ],
          "scatter3d": [
           {
            "line": {
             "colorbar": {
              "outlinewidth": 0,
              "ticks": ""
             }
            },
            "marker": {
             "colorbar": {
              "outlinewidth": 0,
              "ticks": ""
             }
            },
            "type": "scatter3d"
           }
          ],
          "scattercarpet": [
           {
            "marker": {
             "colorbar": {
              "outlinewidth": 0,
              "ticks": ""
             }
            },
            "type": "scattercarpet"
           }
          ],
          "scattergeo": [
           {
            "marker": {
             "colorbar": {
              "outlinewidth": 0,
              "ticks": ""
             }
            },
            "type": "scattergeo"
           }
          ],
          "scattergl": [
           {
            "marker": {
             "colorbar": {
              "outlinewidth": 0,
              "ticks": ""
             }
            },
            "type": "scattergl"
           }
          ],
          "scattermapbox": [
           {
            "marker": {
             "colorbar": {
              "outlinewidth": 0,
              "ticks": ""
             }
            },
            "type": "scattermapbox"
           }
          ],
          "scatterpolar": [
           {
            "marker": {
             "colorbar": {
              "outlinewidth": 0,
              "ticks": ""
             }
            },
            "type": "scatterpolar"
           }
          ],
          "scatterpolargl": [
           {
            "marker": {
             "colorbar": {
              "outlinewidth": 0,
              "ticks": ""
             }
            },
            "type": "scatterpolargl"
           }
          ],
          "scatterternary": [
           {
            "marker": {
             "colorbar": {
              "outlinewidth": 0,
              "ticks": ""
             }
            },
            "type": "scatterternary"
           }
          ],
          "surface": [
           {
            "colorbar": {
             "outlinewidth": 0,
             "ticks": ""
            },
            "colorscale": [
             [
              0,
              "#0d0887"
             ],
             [
              0.1111111111111111,
              "#46039f"
             ],
             [
              0.2222222222222222,
              "#7201a8"
             ],
             [
              0.3333333333333333,
              "#9c179e"
             ],
             [
              0.4444444444444444,
              "#bd3786"
             ],
             [
              0.5555555555555556,
              "#d8576b"
             ],
             [
              0.6666666666666666,
              "#ed7953"
             ],
             [
              0.7777777777777778,
              "#fb9f3a"
             ],
             [
              0.8888888888888888,
              "#fdca26"
             ],
             [
              1,
              "#f0f921"
             ]
            ],
            "type": "surface"
           }
          ],
          "table": [
           {
            "cells": {
             "fill": {
              "color": "#EBF0F8"
             },
             "line": {
              "color": "white"
             }
            },
            "header": {
             "fill": {
              "color": "#C8D4E3"
             },
             "line": {
              "color": "white"
             }
            },
            "type": "table"
           }
          ]
         },
         "layout": {
          "annotationdefaults": {
           "arrowcolor": "#2a3f5f",
           "arrowhead": 0,
           "arrowwidth": 1
          },
          "autotypenumbers": "strict",
          "coloraxis": {
           "colorbar": {
            "outlinewidth": 0,
            "ticks": ""
           }
          },
          "colorscale": {
           "diverging": [
            [
             0,
             "#8e0152"
            ],
            [
             0.1,
             "#c51b7d"
            ],
            [
             0.2,
             "#de77ae"
            ],
            [
             0.3,
             "#f1b6da"
            ],
            [
             0.4,
             "#fde0ef"
            ],
            [
             0.5,
             "#f7f7f7"
            ],
            [
             0.6,
             "#e6f5d0"
            ],
            [
             0.7,
             "#b8e186"
            ],
            [
             0.8,
             "#7fbc41"
            ],
            [
             0.9,
             "#4d9221"
            ],
            [
             1,
             "#276419"
            ]
           ],
           "sequential": [
            [
             0,
             "#0d0887"
            ],
            [
             0.1111111111111111,
             "#46039f"
            ],
            [
             0.2222222222222222,
             "#7201a8"
            ],
            [
             0.3333333333333333,
             "#9c179e"
            ],
            [
             0.4444444444444444,
             "#bd3786"
            ],
            [
             0.5555555555555556,
             "#d8576b"
            ],
            [
             0.6666666666666666,
             "#ed7953"
            ],
            [
             0.7777777777777778,
             "#fb9f3a"
            ],
            [
             0.8888888888888888,
             "#fdca26"
            ],
            [
             1,
             "#f0f921"
            ]
           ],
           "sequentialminus": [
            [
             0,
             "#0d0887"
            ],
            [
             0.1111111111111111,
             "#46039f"
            ],
            [
             0.2222222222222222,
             "#7201a8"
            ],
            [
             0.3333333333333333,
             "#9c179e"
            ],
            [
             0.4444444444444444,
             "#bd3786"
            ],
            [
             0.5555555555555556,
             "#d8576b"
            ],
            [
             0.6666666666666666,
             "#ed7953"
            ],
            [
             0.7777777777777778,
             "#fb9f3a"
            ],
            [
             0.8888888888888888,
             "#fdca26"
            ],
            [
             1,
             "#f0f921"
            ]
           ]
          },
          "colorway": [
           "#636efa",
           "#EF553B",
           "#00cc96",
           "#ab63fa",
           "#FFA15A",
           "#19d3f3",
           "#FF6692",
           "#B6E880",
           "#FF97FF",
           "#FECB52"
          ],
          "font": {
           "color": "#2a3f5f"
          },
          "geo": {
           "bgcolor": "white",
           "lakecolor": "white",
           "landcolor": "#E5ECF6",
           "showlakes": true,
           "showland": true,
           "subunitcolor": "white"
          },
          "hoverlabel": {
           "align": "left"
          },
          "hovermode": "closest",
          "mapbox": {
           "style": "light"
          },
          "paper_bgcolor": "white",
          "plot_bgcolor": "#E5ECF6",
          "polar": {
           "angularaxis": {
            "gridcolor": "white",
            "linecolor": "white",
            "ticks": ""
           },
           "bgcolor": "#E5ECF6",
           "radialaxis": {
            "gridcolor": "white",
            "linecolor": "white",
            "ticks": ""
           }
          },
          "scene": {
           "xaxis": {
            "backgroundcolor": "#E5ECF6",
            "gridcolor": "white",
            "gridwidth": 2,
            "linecolor": "white",
            "showbackground": true,
            "ticks": "",
            "zerolinecolor": "white"
           },
           "yaxis": {
            "backgroundcolor": "#E5ECF6",
            "gridcolor": "white",
            "gridwidth": 2,
            "linecolor": "white",
            "showbackground": true,
            "ticks": "",
            "zerolinecolor": "white"
           },
           "zaxis": {
            "backgroundcolor": "#E5ECF6",
            "gridcolor": "white",
            "gridwidth": 2,
            "linecolor": "white",
            "showbackground": true,
            "ticks": "",
            "zerolinecolor": "white"
           }
          },
          "shapedefaults": {
           "line": {
            "color": "#2a3f5f"
           }
          },
          "ternary": {
           "aaxis": {
            "gridcolor": "white",
            "linecolor": "white",
            "ticks": ""
           },
           "baxis": {
            "gridcolor": "white",
            "linecolor": "white",
            "ticks": ""
           },
           "bgcolor": "#E5ECF6",
           "caxis": {
            "gridcolor": "white",
            "linecolor": "white",
            "ticks": ""
           }
          },
          "title": {
           "x": 0.05
          },
          "xaxis": {
           "automargin": true,
           "gridcolor": "white",
           "linecolor": "white",
           "ticks": "",
           "title": {
            "standoff": 15
           },
           "zerolinecolor": "white",
           "zerolinewidth": 2
          },
          "yaxis": {
           "automargin": true,
           "gridcolor": "white",
           "linecolor": "white",
           "ticks": "",
           "title": {
            "standoff": 15
           },
           "zerolinecolor": "white",
           "zerolinewidth": 2
          }
         }
        },
        "title": {
         "text": "Dar es Salaam, WFV Predictions"
        },
        "xaxis": {
         "anchor": "y",
         "domain": [
          0,
          1
         ],
         "dtick": "1D",
         "title": {
          "text": "Date"
         }
        },
        "yaxis": {
         "anchor": "x",
         "domain": [
          0,
          1
         ],
         "title": {
          "text": "PM2.5 Level"
         }
        }
       }
      },
      "image/png": "[encoded data removed]",
      "text/html": [
       "<div>                            <div id=\"59f64fb4-6f90-4d7d-8f7f-6189804c6a71\" class=\"plotly-graph-div\" style=\"height:525px; width:100%;\"></div>            <script type=\"text/javascript\">                require([\"plotly\"], function(Plotly) {                    window.PLOTLYENV=window.PLOTLYENV || {};                                    if (document.getElementById(\"59f64fb4-6f90-4d7d-8f7f-6189804c6a71\")) {                    Plotly.newPlot(                        \"59f64fb4-6f90-4d7d-8f7f-6189804c6a71\",                        [{\"hovertemplate\":\"variable=y_test\\u003cbr\\u003eindex=%{x}\\u003cbr\\u003ePM2.5 Level=%{y}\\u003cextra\\u003e\\u003c\\u002fextra\\u003e\",\"legendgroup\":\"y_test\",\"line\":{\"color\":\"#636efa\",\"dash\":\"solid\"},\"marker\":{\"symbol\":\"circle\"},\"mode\":\"lines\",\"name\":\"y_test\",\"orientation\":\"v\",\"showlegend\":true,\"x\":[\"2018-03-23T03:00:00+03:00\",\"2018-03-23T04:00:00+03:00\",\"2018-03-23T05:00:00+03:00\",\"2018-03-23T06:00:00+03:00\",\"2018-03-23T07:00:00+03:00\",\"2018-03-23T08:00:00+03:00\",\"2018-03-23T09:00:00+03:00\",\"2018-03-23T10:00:00+03:00\",\"2018-03-23T11:00:00+03:00\",\"2018-03-23T12:00:00+03:00\",\"2018-03-23T13:00:00+03:00\",\"2018-03-23T14:00:00+03:00\",\"2018-03-23T15:00:00+03:00\",\"2018-03-23T16:00:00+03:00\",\"2018-03-23T17:00:00+03:00\",\"2018-03-23T18:00:00+03:00\",\"2018-03-23T19:00:00+03:00\",\"2018-03-23T20:00:00+03:00\",\"2018-03-23T21:00:00+03:00\",\"2018-03-23T22:00:00+03:00\",\"2018-03-23T23:00:00+03:00\",\"2018-03-24T00:00:00+03:00\",\"2018-03-24T01:00:00+03:00\",\"2018-03-24T02:00:00+03:00\",\"2018-03-24T03:00:00+03:00\",\"2018-03-24T04:00:00+03:00\",\"2018-03-24T05:00:00+03:00\",\"2018-03-24T06:00:00+03:00\",\"2018-03-24T07:00:00+03:00\",\"2018-03-24T08:00:00+03:00\",\"2018-03-24T09:00:00+03:00\",\"2018-03-24T10:00:00+03:00\",\"2018-03-24T11:00:00+03:00\",\"2018-03-24T12:00:00+03:00\",\"2018-03-24T13:00:00+03:00\",\"2018-03-24T14:00:00+03:00\",\"2018-03-24T15:00:00+03:00\",\"2018-03-24T16:00:00+03:00\",\"2018-03-24T17:00:00+03:00\",\"2018-03-24T18:00:00+03:00\",\"2018-03-24T19:00:00+03:00\",\"2018-03-24T20:00:00+03:00\",\"2018-03-24T21:00:00+03:00\",\"2018-03-24T22:00:00+03:00\",\"2018-03-24T23:00:00+03:00\",\"2018-03-25T00:00:00+03:00\",\"2018-03-25T01:00:00+03:00\",\"2018-03-25T02:00:00+03:00\",\"2018-03-25T03:00:00+03:00\",\"2018-03-25T04:00:00+03:00\",\"2018-03-25T05:00:00+03:00\",\"2018-03-25T06:00:00+03:00\",\"2018-03-25T07:00:00+03:00\",\"2018-03-25T08:00:00+03:00\",\"2018-03-25T09:00:00+03:00\",\"2018-03-25T10:00:00+03:00\",\"2018-03-25T11:00:00+03:00\",\"2018-03-25T12:00:00+03:00\",\"2018-03-25T13:00:00+03:00\",\"2018-03-25T14:00:00+03:00\",\"2018-03-25T15:00:00+03:00\",\"2018-03-25T16:00:00+03:00\",\"2018-03-25T17:00:00+03:00\",\"2018-03-25T18:00:00+03:00\",\"2018-03-25T19:00:00+03:00\",\"2018-03-25T20:00:00+03:00\",\"2018-03-25T21:00:00+03:00\",\"2018-03-25T22:00:00+03:00\",\"2018-03-25T23:00:00+03:00\",\"2018-03-26T00:00:00+03:00\",\"2018-03-26T01:00:00+03:00\",\"2018-03-26T02:00:00+03:00\",\"2018-03-26T03:00:00+03:00\",\"2018-03-26T04:00:00+03:00\",\"2018-03-26T05:00:00+03:00\",\"2018-03-26T06:00:00+03:00\",\"2018-03-26T07:00:00+03:00\",\"2018-03-26T08:00:00+03:00\",\"2018-03-26T09:00:00+03:00\",\"2018-03-26T10:00:00+03:00\",\"2018-03-26T11:00:00+03:00\",\"2018-03-26T12:00:00+03:00\",\"2018-03-26T13:00:00+03:00\",\"2018-03-26T14:00:00+03:00\",\"2018-03-26T15:00:00+03:00\",\"2018-03-26T16:00:00+03:00\",\"2018-03-26T17:00:00+03:00\",\"2018-03-26T18:00:00+03:00\",\"2018-03-26T19:00:00+03:00\",\"2018-03-26T20:00:00+03:00\",\"2018-03-26T21:00:00+03:00\",\"2018-03-26T22:00:00+03:00\",\"2018-03-26T23:00:00+03:00\",\"2018-03-27T00:00:00+03:00\",\"2018-03-27T01:00:00+03:00\",\"2018-03-27T02:00:00+03:00\",\"2018-03-27T03:00:00+03:00\",\"2018-03-27T04:00:00+03:00\",\"2018-03-27T05:00:00+03:00\",\"2018-03-27T06:00:00+03:00\",\"2018-03-27T07:00:00+03:00\",\"2018-03-27T08:00:00+03:00\",\"2018-03-27T09:00:00+03:00\",\"2018-03-27T10:00:00+03:00\",\"2018-03-27T11:00:00+03:00\",\"2018-03-27T12:00:00+03:00\",\"2018-03-27T13:00:00+03:00\",\"2018-03-27T14:00:00+03:00\",\"2018-03-27T15:00:00+03:00\",\"2018-03-27T16:00:00+03:00\",\"2018-03-27T17:00:00+03:00\",\"2018-03-27T18:00:00+03:00\",\"2018-03-27T19:00:00+03:00\",\"2018-03-27T20:00:00+03:00\",\"2018-03-27T21:00:00+03:00\",\"2018-03-27T22:00:00+03:00\",\"2018-03-27T23:00:00+03:00\",\"2018-03-28T00:00:00+03:00\",\"2018-03-28T01:00:00+03:00\",\"2018-03-28T02:00:00+03:00\",\"2018-03-28T03:00:00+03:00\",\"2018-03-28T04:00:00+03:00\",\"2018-03-28T05:00:00+03:00\",\"2018-03-28T06:00:00+03:00\",\"2018-03-28T07:00:00+03:00\",\"2018-03-28T08:00:00+03:00\",\"2018-03-28T09:00:00+03:00\",\"2018-03-28T10:00:00+03:00\",\"2018-03-28T11:00:00+03:00\",\"2018-03-28T12:00:00+03:00\",\"2018-03-28T13:00:00+03:00\",\"2018-03-28T14:00:00+03:00\",\"2018-03-28T15:00:00+03:00\",\"2018-03-28T16:00:00+03:00\",\"2018-03-28T17:00:00+03:00\",\"2018-03-28T18:00:00+03:00\",\"2018-03-28T19:00:00+03:00\",\"2018-03-28T20:00:00+03:00\",\"2018-03-28T21:00:00+03:00\",\"2018-03-28T22:00:00+03:00\",\"2018-03-28T23:00:00+03:00\",\"2018-03-29T00:00:00+03:00\",\"2018-03-29T01:00:00+03:00\",\"2018-03-29T02:00:00+03:00\",\"2018-03-29T03:00:00+03:00\",\"2018-03-29T04:00:00+03:00\",\"2018-03-29T05:00:00+03:00\",\"2018-03-29T06:00:00+03:00\",\"2018-03-29T07:00:00+03:00\",\"2018-03-29T08:00:00+03:00\",\"2018-03-29T09:00:00+03:00\",\"2018-03-29T10:00:00+03:00\",\"2018-03-29T11:00:00+03:00\",\"2018-03-29T12:00:00+03:00\",\"2018-03-29T13:00:00+03:00\",\"2018-03-29T14:00:00+03:00\",\"2018-03-29T15:00:00+03:00\",\"2018-03-29T16:00:00+03:00\",\"2018-03-29T17:00:00+03:00\",\"2018-03-29T18:00:00+03:00\",\"2018-03-29T19:00:00+03:00\",\"2018-03-29T20:00:00+03:00\",\"2018-03-29T21:00:00+03:00\",\"2018-03-29T22:00:00+03:00\",\"2018-03-29T23:00:00+03:00\",\"2018-03-30T00:00:00+03:00\",\"2018-03-30T01:00:00+03:00\",\"2018-03-30T02:00:00+03:00\",\"2018-03-30T03:00:00+03:00\",\"2018-03-30T04:00:00+03:00\",\"2018-03-30T05:00:00+03:00\",\"2018-03-30T06:00:00+03:00\",\"2018-03-30T07:00:00+03:00\",\"2018-03-30T08:00:00+03:00\",\"2018-03-30T09:00:00+03:00\",\"2018-03-30T10:00:00+03:00\",\"2018-03-30T11:00:00+03:00\",\"2018-03-30T12:00:00+03:00\",\"2018-03-30T13:00:00+03:00\",\"2018-03-30T14:00:00+03:00\",\"2018-03-30T15:00:00+03:00\",\"2018-03-30T16:00:00+03:00\",\"2018-03-30T17:00:00+03:00\",\"2018-03-30T18:00:00+03:00\",\"2018-03-30T19:00:00+03:00\",\"2018-03-30T20:00:00+03:00\",\"2018-03-30T21:00:00+03:00\",\"2018-03-30T22:00:00+03:00\",\"2018-03-30T23:00:00+03:00\",\"2018-03-31T00:00:00+03:00\",\"2018-03-31T01:00:00+03:00\",\"2018-03-31T02:00:00+03:00\",\"2018-03-31T03:00:00+03:00\",\"2018-03-31T04:00:00+03:00\",\"2018-03-31T05:00:00+03:00\",\"2018-03-31T06:00:00+03:00\",\"2018-03-31T07:00:00+03:00\",\"2018-03-31T08:00:00+03:00\",\"2018-03-31T09:00:00+03:00\",\"2018-03-31T10:00:00+03:00\",\"2018-03-31T11:00:00+03:00\",\"2018-03-31T12:00:00+03:00\",\"2018-03-31T13:00:00+03:00\",\"2018-03-31T14:00:00+03:00\",\"2018-03-31T15:00:00+03:00\",\"2018-03-31T16:00:00+03:00\",\"2018-03-31T17:00:00+03:00\",\"2018-03-31T18:00:00+03:00\",\"2018-03-31T19:00:00+03:00\",\"2018-03-31T20:00:00+03:00\",\"2018-03-31T21:00:00+03:00\",\"2018-03-31T22:00:00+03:00\",\"2018-03-31T23:00:00+03:00\",\"2018-04-01T00:00:00+03:00\",\"2018-04-01T01:00:00+03:00\",\"2018-04-01T02:00:00+03:00\"],\"xaxis\":\"x\",\"y\":[9.015416666666667,13.385,31.3225,42.64666666666667,48.175000000000004,31.050416666666667,16.162499999999998,12.209999999999999,8.947083333333333,9.335416666666667,9.74,8.755,9.348333333333334,7.934166666666667,8.383333333333333,10.698333333333332,16.197916666666668,12.308750000000002,14.264583333333334,35.45291666666667,33.89791666666667,27.97791666666667,42.25875,34.884166666666665,21.84875,23.8096,30.110833333333332,49.846666666666664,33.13291666666667,30.14375,11.454583333333334,12.020434782608698,9.788695652173912,3.780416666666667,3.0295833333333335,3.3625000000000003,4.5796,4.203888888888889,4.909166666666667,4.817391304347826,7.404583333333334,7.919583333333333,5.581666666666667,4.6137500000000005,4.995416666666666,4.169583333333334,10.556666666666667,7.355416666666667,14.382083333333334,29.637083333333333,23.498333333333335,14.109166666666667,8.19375,6.940833333333333,7.0687500000000005,3.92375,1.80875,1.96125,3.1033333333333335,4.598333333333334,3.932608695652174,2.8316666666666666,2.1404166666666664,3.1029166666666668,6.115833333333334,6.167916666666667,7.3,5.447500000000001,5.082916666666667,15.535833333333334,14.795416666666666,3.9254166666666666,8.37375,4.890416666666667,6.7629166666666665,34.455416666666665,27.964166666666667,12.995833333333332,9.043333333333333,5.381818181818182,4.428181818181819,4.9525,4.482727272727273,3.3475,5.508181818181818,3.655,2.0936363636363637,2.7383333333333333,3.186666666666667,3.3558333333333334,2.966666666666667,3.4416666666666664,4.615833333333334,7.098333333333334,13.3925,9.301666666666668,11.775,8.981666666666667,8.18,13.259166666666667,20.768333333333334,20.03666666666667,13.9125,8.09125,2.9717391304347824,2.4366666666666665,2.191666666666667,2.405,1.7304166666666667,1.719090909090909,2.5779166666666664,2.9462499999999996,6.564166666666666,9.7325,5.934166666666666,5.150833333333334,8.292173913043479,11.051666666666668,26.365416666666665,33.60052631578947,31.398749999999996,15.024166666666666,9.659166666666666,10.51125,19.73391304347826,16.320416666666667,11.07875,7.7250000000000005,15.25590909090909,9.897499999999999,11.399999999999999,6.2024,6.093076923076922,9.566923076923077,4.370833333333334,4.75125,4.591666666666667,7.197500000000001,12.749166666666667,11.912916666666668,10.605,8.132083333333332,11.89,33.558,29.234583333333333,21.46875,27.207391304347826,20.457083333333333,23.189999999999998,15.212083333333332,15.212083333333332,15.212083333333332,15.212083333333332,4.7075000000000005,4.484583333333333,4.707916666666667,4.707916666666667,4.385555555555555,4.016666666666667,4.016666666666667,5.236,6.364166666666667,6.364166666666667,6.364166666666667,12.730434782608697,8.804166666666667,12.0175,8.465,13.342916666666667,12.563333333333333,28.91333333333333,28.91333333333333,24.311,12.442083333333334,5.6575,7.718500000000001,1.34,1.0891666666666666,2.6845833333333338,1.4229166666666666,1.5225,1.567391304347826,2.12,3.6604166666666664,4.5525,4.5525,5.973333333333333,6.078333333333333,6.477916666666666,4.861666666666667,4.284782608695652,3.748333333333333,5.511304347826087,4.972916666666666,5.6191666666666675,13.1425,13.1425,2.085,5.871666666666666,5.871666666666666,1.5116666666666667,1.5116666666666667,1.9511111111111115,1.5599999999999998,1.3017391304347827,0.9,2.4066666666666667,5.3212,18.45,16.690416666666668,8.459999999999999,8.459999999999999,5.725,8.089166666666666,29.476249999999997,16.780416666666667],\"yaxis\":\"y\",\"type\":\"scatter\"},{\"hovertemplate\":\"variable=y_pred_wfv\\u003cbr\\u003eindex=%{x}\\u003cbr\\u003ePM2.5 Level=%{y}\\u003cextra\\u003e\\u003c\\u002fextra\\u003e\",\"legendgroup\":\"y_pred_wfv\",\"line\":{\"color\":\"#EF553B\",\"dash\":\"solid\"},\"marker\":{\"symbol\":\"circle\"},\"mode\":\"lines\",\"name\":\"y_pred_wfv\",\"orientation\":\"v\",\"showlegend\":true,\"x\":[\"2018-03-23T03:00:00+03:00\",\"2018-03-23T04:00:00+03:00\",\"2018-03-23T05:00:00+03:00\",\"2018-03-23T06:00:00+03:00\",\"2018-03-23T07:00:00+03:00\",\"2018-03-23T08:00:00+03:00\",\"2018-03-23T09:00:00+03:00\",\"2018-03-23T10:00:00+03:00\",\"2018-03-23T11:00:00+03:00\",\"2018-03-23T12:00:00+03:00\",\"2018-03-23T13:00:00+03:00\",\"2018-03-23T14:00:00+03:00\",\"2018-03-23T15:00:00+03:00\",\"2018-03-23T16:00:00+03:00\",\"2018-03-23T17:00:00+03:00\",\"2018-03-23T18:00:00+03:00\",\"2018-03-23T19:00:00+03:00\",\"2018-03-23T20:00:00+03:00\",\"2018-03-23T21:00:00+03:00\",\"2018-03-23T22:00:00+03:00\",\"2018-03-23T23:00:00+03:00\",\"2018-03-24T00:00:00+03:00\",\"2018-03-24T01:00:00+03:00\",\"2018-03-24T02:00:00+03:00\",\"2018-03-24T03:00:00+03:00\",\"2018-03-24T04:00:00+03:00\",\"2018-03-24T05:00:00+03:00\",\"2018-03-24T06:00:00+03:00\",\"2018-03-24T07:00:00+03:00\",\"2018-03-24T08:00:00+03:00\",\"2018-03-24T09:00:00+03:00\",\"2018-03-24T10:00:00+03:00\",\"2018-03-24T11:00:00+03:00\",\"2018-03-24T12:00:00+03:00\",\"2018-03-24T13:00:00+03:00\",\"2018-03-24T14:00:00+03:00\",\"2018-03-24T15:00:00+03:00\",\"2018-03-24T16:00:00+03:00\",\"2018-03-24T17:00:00+03:00\",\"2018-03-24T18:00:00+03:00\",\"2018-03-24T19:00:00+03:00\",\"2018-03-24T20:00:00+03:00\",\"2018-03-24T21:00:00+03:00\",\"2018-03-24T22:00:00+03:00\",\"2018-03-24T23:00:00+03:00\",\"2018-03-25T00:00:00+03:00\",\"2018-03-25T01:00:00+03:00\",\"2018-03-25T02:00:00+03:00\",\"2018-03-25T03:00:00+03:00\",\"2018-03-25T04:00:00+03:00\",\"2018-03-25T05:00:00+03:00\",\"2018-03-25T06:00:00+03:00\",\"2018-03-25T07:00:00+03:00\",\"2018-03-25T08:00:00+03:00\",\"2018-03-25T09:00:00+03:00\",\"2018-03-25T10:00:00+03:00\",\"2018-03-25T11:00:00+03:00\",\"2018-03-25T12:00:00+03:00\",\"2018-03-25T13:00:00+03:00\",\"2018-03-25T14:00:00+03:00\",\"2018-03-25T15:00:00+03:00\",\"2018-03-25T16:00:00+03:00\",\"2018-03-25T17:00:00+03:00\",\"2018-03-25T18:00:00+03:00\",\"2018-03-25T19:00:00+03:00\",\"2018-03-25T20:00:00+03:00\",\"2018-03-25T21:00:00+03:00\",\"2018-03-25T22:00:00+03:00\",\"2018-03-25T23:00:00+03:00\",\"2018-03-26T00:00:00+03:00\",\"2018-03-26T01:00:00+03:00\",\"2018-03-26T02:00:00+03:00\",\"2018-03-26T03:00:00+03:00\",\"2018-03-26T04:00:00+03:00\",\"2018-03-26T05:00:00+03:00\",\"2018-03-26T06:00:00+03:00\",\"2018-03-26T07:00:00+03:00\",\"2018-03-26T08:00:00+03:00\",\"2018-03-26T09:00:00+03:00\",\"2018-03-26T10:00:00+03:00\",\"2018-03-26T11:00:00+03:00\",\"2018-03-26T12:00:00+03:00\",\"2018-03-26T13:00:00+03:00\",\"2018-03-26T14:00:00+03:00\",\"2018-03-26T15:00:00+03:00\",\"2018-03-26T16:00:00+03:00\",\"2018-03-26T17:00:00+03:00\",\"2018-03-26T18:00:00+03:00\",\"2018-03-26T19:00:00+03:00\",\"2018-03-26T20:00:00+03:00\",\"2018-03-26T21:00:00+03:00\",\"2018-03-26T22:00:00+03:00\",\"2018-03-26T23:00:00+03:00\",\"2018-03-27T00:00:00+03:00\",\"2018-03-27T01:00:00+03:00\",\"2018-03-27T02:00:00+03:00\",\"2018-03-27T03:00:00+03:00\",\"2018-03-27T04:00:00+03:00\",\"2018-03-27T05:00:00+03:00\",\"2018-03-27T06:00:00+03:00\",\"2018-03-27T07:00:00+03:00\",\"2018-03-27T08:00:00+03:00\",\"2018-03-27T09:00:00+03:00\",\"2018-03-27T10:00:00+03:00\",\"2018-03-27T11:00:00+03:00\",\"2018-03-27T12:00:00+03:00\",\"2018-03-27T13:00:00+03:00\",\"2018-03-27T14:00:00+03:00\",\"2018-03-27T15:00:00+03:00\",\"2018-03-27T16:00:00+03:00\",\"2018-03-27T17:00:00+03:00\",\"2018-03-27T18:00:00+03:00\",\"2018-03-27T19:00:00+03:00\",\"2018-03-27T20:00:00+03:00\",\"2018-03-27T21:00:00+03:00\",\"2018-03-27T22:00:00+03:00\",\"2018-03-27T23:00:00+03:00\",\"2018-03-28T00:00:00+03:00\",\"2018-03-28T01:00:00+03:00\",\"2018-03-28T02:00:00+03:00\",\"2018-03-28T03:00:00+03:00\",\"2018-03-28T04:00:00+03:00\",\"2018-03-28T05:00:00+03:00\",\"2018-03-28T06:00:00+03:00\",\"2018-03-28T07:00:00+03:00\",\"2018-03-28T08:00:00+03:00\",\"2018-03-28T09:00:00+03:00\",\"2018-03-28T10:00:00+03:00\",\"2018-03-28T11:00:00+03:00\",\"2018-03-28T12:00:00+03:00\",\"2018-03-28T13:00:00+03:00\",\"2018-03-28T14:00:00+03:00\",\"2018-03-28T15:00:00+03:00\",\"2018-03-28T16:00:00+03:00\",\"2018-03-28T17:00:00+03:00\",\"2018-03-28T18:00:00+03:00\",\"2018-03-28T19:00:00+03:00\",\"2018-03-28T20:00:00+03:00\",\"2018-03-28T21:00:00+03:00\",\"2018-03-28T22:00:00+03:00\",\"2018-03-28T23:00:00+03:00\",\"2018-03-29T00:00:00+03:00\",\"2018-03-29T01:00:00+03:00\",\"2018-03-29T02:00:00+03:00\",\"2018-03-29T03:00:00+03:00\",\"2018-03-29T04:00:00+03:00\",\"2018-03-29T05:00:00+03:00\",\"2018-03-29T06:00:00+03:00\",\"2018-03-29T07:00:00+03:00\",\"2018-03-29T08:00:00+03:00\",\"2018-03-29T09:00:00+03:00\",\"2018-03-29T10:00:00+03:00\",\"2018-03-29T11:00:00+03:00\",\"2018-03-29T12:00:00+03:00\",\"2018-03-29T13:00:00+03:00\",\"2018-03-29T14:00:00+03:00\",\"2018-03-29T15:00:00+03:00\",\"2018-03-29T16:00:00+03:00\",\"2018-03-29T17:00:00+03:00\",\"2018-03-29T18:00:00+03:00\",\"2018-03-29T19:00:00+03:00\",\"2018-03-29T20:00:00+03:00\",\"2018-03-29T21:00:00+03:00\",\"2018-03-29T22:00:00+03:00\",\"2018-03-29T23:00:00+03:00\",\"2018-03-30T00:00:00+03:00\",\"2018-03-30T01:00:00+03:00\",\"2018-03-30T02:00:00+03:00\",\"2018-03-30T03:00:00+03:00\",\"2018-03-30T04:00:00+03:00\",\"2018-03-30T05:00:00+03:00\",\"2018-03-30T06:00:00+03:00\",\"2018-03-30T07:00:00+03:00\",\"2018-03-30T08:00:00+03:00\",\"2018-03-30T09:00:00+03:00\",\"2018-03-30T10:00:00+03:00\",\"2018-03-30T11:00:00+03:00\",\"2018-03-30T12:00:00+03:00\",\"2018-03-30T13:00:00+03:00\",\"2018-03-30T14:00:00+03:00\",\"2018-03-30T15:00:00+03:00\",\"2018-03-30T16:00:00+03:00\",\"2018-03-30T17:00:00+03:00\",\"2018-03-30T18:00:00+03:00\",\"2018-03-30T19:00:00+03:00\",\"2018-03-30T20:00:00+03:00\",\"2018-03-30T21:00:00+03:00\",\"2018-03-30T22:00:00+03:00\",\"2018-03-30T23:00:00+03:00\",\"2018-03-31T00:00:00+03:00\",\"2018-03-31T01:00:00+03:00\",\"2018-03-31T02:00:00+03:00\",\"2018-03-31T03:00:00+03:00\",\"2018-03-31T04:00:00+03:00\",\"2018-03-31T05:00:00+03:00\",\"2018-03-31T06:00:00+03:00\",\"2018-03-31T07:00:00+03:00\",\"2018-03-31T08:00:00+03:00\",\"2018-03-31T09:00:00+03:00\",\"2018-03-31T10:00:00+03:00\",\"2018-03-31T11:00:00+03:00\",\"2018-03-31T12:00:00+03:00\",\"2018-03-31T13:00:00+03:00\",\"2018-03-31T14:00:00+03:00\",\"2018-03-31T15:00:00+03:00\",\"2018-03-31T16:00:00+03:00\",\"2018-03-31T17:00:00+03:00\",\"2018-03-31T18:00:00+03:00\",\"2018-03-31T19:00:00+03:00\",\"2018-03-31T20:00:00+03:00\",\"2018-03-31T21:00:00+03:00\",\"2018-03-31T22:00:00+03:00\",\"2018-03-31T23:00:00+03:00\",\"2018-04-01T00:00:00+03:00\",\"2018-04-01T01:00:00+03:00\",\"2018-04-01T02:00:00+03:00\"],\"xaxis\":\"x\",\"y\":[10.414744193640711,8.26958912244238,15.178677227585204,33.47539758883478,39.57136338012402,42.16615873496421,21.533000104893596,12.465191963608541,12.32966934469001,9.091695874593086,10.769932716209516,11.004261056804912,8.729951182055107,10.763181192209316,8.777951294224552,9.803613055832626,12.382676117589117,16.14470544084672,10.748104915685882,14.688192823984908,38.3636279998514,27.095643158946608,22.387931021040867,42.07717506971507,27.02101146515622,21.601838121704922,27.34644373681222,31.26837702050949,50.67682297419977,19.855727756448424,29.383293433128845,5.948143944729864,13.959939799735546,9.562654592489928,7.855417000628106,4.8399982631459615,5.487937025304329,7.269786212314166,6.396726866696905,9.650927999721493,3.894357424840402,9.618108977107262,12.086848002770516,9.657180830797587,8.556351876333824,8.445435721375283,5.7313191906925525,9.25909873234844,5.844395754705946,15.111568869466538,34.36872101851134,20.643744674368946,11.042769870371023,5.96460947394327,5.815029086894624,6.853352881815395,3.490621772622019,2.051942352117414,3.4551629718926793,3.461177691818153,5.214614608070798,5.203897985127984,2.817008193655747,3.3345069789768162,4.227948569044215,6.983654749613553,6.476696020470077,7.176082425205449,5.083177476114558,5.428886906652515,16.65294833538482,14.305503180481526,4.956909333726833,11.552193304964874,2.985575519248664,6.123878077076123,35.95593716698773,20.38382611656013,9.911966784841313,7.70827090205899,5.105673883249083,6.641946611536924,5.611457858618229,4.159895634189368,4.691499084513156,5.759835602771948,3.498381643266188,4.99945800251444,2.562049329074261,3.5528733464173134,4.417585685180569,3.7361266355907503,6.784713855693922,5.731436892942861,6.49553508486275,12.765715225392201,6.603376886572121,12.927756500268723,10.940506052307324,10.798552017855773,12.283448520215746,18.648652169474037,15.950618919362721,11.254338691954986,6.7005461233190715,3.2726065606339585,4.012691937260247,2.7822462597993827,3.5276062085085256,2.164311983121861,2.2934697366021646,3.790262717022723,3.5833799444147254,7.280279133898285,8.922609152348649,5.286097911401683,6.0569667259744495,10.071326325612846,11.43128829622434,26.854441633875503,28.77378741034057,26.37430204370026,10.33015020212035,11.270262174220097,12.416827588741207,21.249460947199474,11.990181821074613,8.713084640318758,6.485172205753443,16.186161281347424,7.945212648554865,11.690418561045425,4.230871262457038,6.530410502375994,10.528736763761255,4.920694579232666,7.498394488284131,5.683808175186083,7.368026924617743,12.994950452437797,11.103129746991321,12.47579457469507,10.997311820117668,14.86725496043169,32.991226441180494,21.602032837103934,16.33697433079577,27.321176018777066,17.903282359086212,22.70951203183128,11.070425506115662,16.064049478667197,14.435461772635822,14.836029166478134,2.546272440201104,7.028213159702844,5.420671218838294,5.134202493816251,5.301010179865559,3.852118033088416,5.668125166213722,7.545585166865584,8.261975838976623,7.290718475022322,5.9794928773221425,14.30177139049226,10.162939334436192,15.991293788802722,7.697612205269773,15.253212240844178,11.967317068193168,28.948346914681697,24.179396305949176,20.476274232981247,10.323255203457931,6.137087586303663,9.425493011525491,0.06417975681085819,2.6732370161525107,3.8757841442760563,2.2405987624013335,2.094289475318146,2.6953016210482454,3.3160007481386815,4.430498242314491,4.954063217943486,5.39299290736745,7.570464739326732,7.440062181112969,7.398828117072722,5.972006197860617,4.4353082024330375,5.139796104958788,8.38067109744945,7.901676709317363,7.103906724381053,12.904753999059784,10.312914630501346,-0.19360824905855933,6.87270802106047,5.0902657859121465,1.6471138761933455,2.214573419607139,2.4866114916834583,2.4443730699820962,1.6721133225551477,1.5179350508855909,3.8499939608825997,5.897463181287787,17.977822546425095,13.85189768002978,6.939370317609752,8.114680206353341,5.710798497574409,9.133960009293455,28.94661520489083],\"yaxis\":\"y\",\"type\":\"scatter\"}],                        {\"template\":{\"data\":{\"histogram2dcontour\":[{\"type\":\"histogram2dcontour\",\"colorbar\":{\"outlinewidth\":0,\"ticks\":\"\"},\"colorscale\":[[0.0,\"#0d0887\"],[0.1111111111111111,\"#46039f\"],[0.2222222222222222,\"#7201a8\"],[0.3333333333333333,\"#9c179e\"],[0.4444444444444444,\"#bd3786\"],[0.5555555555555556,\"#d8576b\"],[0.6666666666666666,\"#ed7953\"],[0.7777777777777778,\"#fb9f3a\"],[0.8888888888888888,\"#fdca26\"],[1.0,\"#f0f921\"]]}],\"choropleth\":[{\"type\":\"choropleth\",\"colorbar\":{\"outlinewidth\":0,\"ticks\":\"\"}}],\"histogram2d\":[{\"type\":\"histogram2d\",\"colorbar\":{\"outlinewidth\":0,\"ticks\":\"\"},\"colorscale\":[[0.0,\"#0d0887\"],[0.1111111111111111,\"#46039f\"],[0.2222222222222222,\"#7201a8\"],[0.3333333333333333,\"#9c179e\"],[0.4444444444444444,\"#bd3786\"],[0.5555555555555556,\"#d8576b\"],[0.6666666666666666,\"#ed7953\"],[0.7777777777777778,\"#fb9f3a\"],[0.8888888888888888,\"#fdca26\"],[1.0,\"#f0f921\"]]}],\"heatmap\":[{\"type\":\"heatmap\",\"colorbar\":{\"outlinewidth\":0,\"ticks\":\"\"},\"colorscale\":[[0.0,\"#0d0887\"],[0.1111111111111111,\"#46039f\"],[0.2222222222222222,\"#7201a8\"],[0.3333333333333333,\"#9c179e\"],[0.4444444444444444,\"#bd3786\"],[0.5555555555555556,\"#d8576b\"],[0.6666666666666666,\"#ed7953\"],[0.7777777777777778,\"#fb9f3a\"],[0.8888888888888888,\"#fdca26\"],[1.0,\"#f0f921\"]]}],\"heatmapgl\":[{\"type\":\"heatmapgl\",\"colorbar\":{\"outlinewidth\":0,\"ticks\":\"\"},\"colorscale\":[[0.0,\"#0d0887\"],[0.1111111111111111,\"#46039f\"],[0.2222222222222222,\"#7201a8\"],[0.3333333333333333,\"#9c179e\"],[0.4444444444444444,\"#bd3786\"],[0.5555555555555556,\"#d8576b\"],[0.6666666666666666,\"#ed7953\"],[0.7777777777777778,\"#fb9f3a\"],[0.8888888888888888,\"#fdca26\"],[1.0,\"#f0f921\"]]}],\"contourcarpet\":[{\"type\":\"contourcarpet\",\"colorbar\":{\"outlinewidth\":0,\"ticks\":\"\"}}],\"contour\":[{\"type\":\"contour\",\"colorbar\":{\"outlinewidth\":0,\"ticks\":\"\"},\"colorscale\":[[0.0,\"#0d0887\"],[0.1111111111111111,\"#46039f\"],[0.2222222222222222,\"#7201a8\"],[0.3333333333333333,\"#9c179e\"],[0.4444444444444444,\"#bd3786\"],[0.5555555555555556,\"#d8576b\"],[0.6666666666666666,\"#ed7953\"],[0.7777777777777778,\"#fb9f3a\"],[0.8888888888888888,\"#fdca26\"],[1.0,\"#f0f921\"]]}],\"surface\":[{\"type\":\"surface\",\"colorbar\":{\"outlinewidth\":0,\"ticks\":\"\"},\"colorscale\":[[0.0,\"#0d0887\"],[0.1111111111111111,\"#46039f\"],[0.2222222222222222,\"#7201a8\"],[0.3333333333333333,\"#9c179e\"],[0.4444444444444444,\"#bd3786\"],[0.5555555555555556,\"#d8576b\"],[0.6666666666666666,\"#ed7953\"],[0.7777777777777778,\"#fb9f3a\"],[0.8888888888888888,\"#fdca26\"],[1.0,\"#f0f921\"]]}],\"mesh3d\":[{\"type\":\"mesh3d\",\"colorbar\":{\"outlinewidth\":0,\"ticks\":\"\"}}],\"scatter\":[{\"fillpattern\":{\"fillmode\":\"overlay\",\"size\":10,\"solidity\":0.2},\"type\":\"scatter\"}],\"parcoords\":[{\"type\":\"parcoords\",\"line\":{\"colorbar\":{\"outlinewidth\":0,\"ticks\":\"\"}}}],\"scatterpolargl\":[{\"type\":\"scatterpolargl\",\"marker\":{\"colorbar\":{\"outlinewidth\":0,\"ticks\":\"\"}}}],\"bar\":[{\"error_x\":{\"color\":\"#2a3f5f\"},\"error_y\":{\"color\":\"#2a3f5f\"},\"marker\":{\"line\":{\"color\":\"#E5ECF6\",\"width\":0.5},\"pattern\":{\"fillmode\":\"overlay\",\"size\":10,\"solidity\":0.2}},\"type\":\"bar\"}],\"scattergeo\":[{\"type\":\"scattergeo\",\"marker\":{\"colorbar\":{\"outlinewidth\":0,\"ticks\":\"\"}}}],\"scatterpolar\":[{\"type\":\"scatterpolar\",\"marker\":{\"colorbar\":{\"outlinewidth\":0,\"ticks\":\"\"}}}],\"histogram\":[{\"marker\":{\"pattern\":{\"fillmode\":\"overlay\",\"size\":10,\"solidity\":0.2}},\"type\":\"histogram\"}],\"scattergl\":[{\"type\":\"scattergl\",\"marker\":{\"colorbar\":{\"outlinewidth\":0,\"ticks\":\"\"}}}],\"scatter3d\":[{\"type\":\"scatter3d\",\"line\":{\"colorbar\":{\"outlinewidth\":0,\"ticks\":\"\"}},\"marker\":{\"colorbar\":{\"outlinewidth\":0,\"ticks\":\"\"}}}],\"scattermapbox\":[{\"type\":\"scattermapbox\",\"marker\":{\"colorbar\":{\"outlinewidth\":0,\"ticks\":\"\"}}}],\"scatterternary\":[{\"type\":\"scatterternary\",\"marker\":{\"colorbar\":{\"outlinewidth\":0,\"ticks\":\"\"}}}],\"scattercarpet\":[{\"type\":\"scattercarpet\",\"marker\":{\"colorbar\":{\"outlinewidth\":0,\"ticks\":\"\"}}}],\"carpet\":[{\"aaxis\":{\"endlinecolor\":\"#2a3f5f\",\"gridcolor\":\"white\",\"linecolor\":\"white\",\"minorgridcolor\":\"white\",\"startlinecolor\":\"#2a3f5f\"},\"baxis\":{\"endlinecolor\":\"#2a3f5f\",\"gridcolor\":\"white\",\"linecolor\":\"white\",\"minorgridcolor\":\"white\",\"startlinecolor\":\"#2a3f5f\"},\"type\":\"carpet\"}],\"table\":[{\"cells\":{\"fill\":{\"color\":\"#EBF0F8\"},\"line\":{\"color\":\"white\"}},\"header\":{\"fill\":{\"color\":\"#C8D4E3\"},\"line\":{\"color\":\"white\"}},\"type\":\"table\"}],\"barpolar\":[{\"marker\":{\"line\":{\"color\":\"#E5ECF6\",\"width\":0.5},\"pattern\":{\"fillmode\":\"overlay\",\"size\":10,\"solidity\":0.2}},\"type\":\"barpolar\"}],\"pie\":[{\"automargin\":true,\"type\":\"pie\"}]},\"layout\":{\"autotypenumbers\":\"strict\",\"colorway\":[\"#636efa\",\"#EF553B\",\"#00cc96\",\"#ab63fa\",\"#FFA15A\",\"#19d3f3\",\"#FF6692\",\"#B6E880\",\"#FF97FF\",\"#FECB52\"],\"font\":{\"color\":\"#2a3f5f\"},\"hovermode\":\"closest\",\"hoverlabel\":{\"align\":\"left\"},\"paper_bgcolor\":\"white\",\"plot_bgcolor\":\"#E5ECF6\",\"polar\":{\"bgcolor\":\"#E5ECF6\",\"angularaxis\":{\"gridcolor\":\"white\",\"linecolor\":\"white\",\"ticks\":\"\"},\"radialaxis\":{\"gridcolor\":\"white\",\"linecolor\":\"white\",\"ticks\":\"\"}},\"ternary\":{\"bgcolor\":\"#E5ECF6\",\"aaxis\":{\"gridcolor\":\"white\",\"linecolor\":\"white\",\"ticks\":\"\"},\"baxis\":{\"gridcolor\":\"white\",\"linecolor\":\"white\",\"ticks\":\"\"},\"caxis\":{\"gridcolor\":\"white\",\"linecolor\":\"white\",\"ticks\":\"\"}},\"coloraxis\":{\"colorbar\":{\"outlinewidth\":0,\"ticks\":\"\"}},\"colorscale\":{\"sequential\":[[0.0,\"#0d0887\"],[0.1111111111111111,\"#46039f\"],[0.2222222222222222,\"#7201a8\"],[0.3333333333333333,\"#9c179e\"],[0.4444444444444444,\"#bd3786\"],[0.5555555555555556,\"#d8576b\"],[0.6666666666666666,\"#ed7953\"],[0.7777777777777778,\"#fb9f3a\"],[0.8888888888888888,\"#fdca26\"],[1.0,\"#f0f921\"]],\"sequentialminus\":[[0.0,\"#0d0887\"],[0.1111111111111111,\"#46039f\"],[0.2222222222222222,\"#7201a8\"],[0.3333333333333333,\"#9c179e\"],[0.4444444444444444,\"#bd3786\"],[0.5555555555555556,\"#d8576b\"],[0.6666666666666666,\"#ed7953\"],[0.7777777777777778,\"#fb9f3a\"],[0.8888888888888888,\"#fdca26\"],[1.0,\"#f0f921\"]],\"diverging\":[[0,\"#8e0152\"],[0.1,\"#c51b7d\"],[0.2,\"#de77ae\"],[0.3,\"#f1b6da\"],[0.4,\"#fde0ef\"],[0.5,\"#f7f7f7\"],[0.6,\"#e6f5d0\"],[0.7,\"#b8e186\"],[0.8,\"#7fbc41\"],[0.9,\"#4d9221\"],[1,\"#276419\"]]},\"xaxis\":{\"gridcolor\":\"white\",\"linecolor\":\"white\",\"ticks\":\"\",\"title\":{\"standoff\":15},\"zerolinecolor\":\"white\",\"automargin\":true,\"zerolinewidth\":2},\"yaxis\":{\"gridcolor\":\"white\",\"linecolor\":\"white\",\"ticks\":\"\",\"title\":{\"standoff\":15},\"zerolinecolor\":\"white\",\"automargin\":true,\"zerolinewidth\":2},\"scene\":{\"xaxis\":{\"backgroundcolor\":\"#E5ECF6\",\"gridcolor\":\"white\",\"linecolor\":\"white\",\"showbackground\":true,\"ticks\":\"\",\"zerolinecolor\":\"white\",\"gridwidth\":2},\"yaxis\":{\"backgroundcolor\":\"#E5ECF6\",\"gridcolor\":\"white\",\"linecolor\":\"white\",\"showbackground\":true,\"ticks\":\"\",\"zerolinecolor\":\"white\",\"gridwidth\":2},\"zaxis\":{\"backgroundcolor\":\"#E5ECF6\",\"gridcolor\":\"white\",\"linecolor\":\"white\",\"showbackground\":true,\"ticks\":\"\",\"zerolinecolor\":\"white\",\"gridwidth\":2}},\"shapedefaults\":{\"line\":{\"color\":\"#2a3f5f\"}},\"annotationdefaults\":{\"arrowcolor\":\"#2a3f5f\",\"arrowhead\":0,\"arrowwidth\":1},\"geo\":{\"bgcolor\":\"white\",\"landcolor\":\"#E5ECF6\",\"subunitcolor\":\"white\",\"showland\":true,\"showlakes\":true,\"lakecolor\":\"white\"},\"title\":{\"x\":0.05},\"mapbox\":{\"style\":\"light\"}}},\"xaxis\":{\"anchor\":\"y\",\"domain\":[0.0,1.0],\"title\":{\"text\":\"Date\"},\"dtick\":\"1D\"},\"yaxis\":{\"anchor\":\"x\",\"domain\":[0.0,1.0],\"title\":{\"text\":\"PM2.5 Level\"}},\"legend\":{\"title\":{\"text\":\"variable\"},\"tracegroupgap\":0},\"margin\":{\"t\":60},\"title\":{\"text\":\"Dar es Salaam, WFV Predictions\"}},                        {\"responsive\": true}                    ).then(function(){\n",
       "                            \n",
       "var gd = document.getElementById('59f64fb4-6f90-4d7d-8f7f-6189804c6a71');\n",
       "var x = new MutationObserver(function (mutations, observer) {{\n",
       "        var display = window.getComputedStyle(gd).display;\n",
       "        if (!display || display === 'none') {{\n",
       "            console.log([gd, 'removed!']);\n",
       "            Plotly.purge(gd);\n",
       "            observer.disconnect();\n",
       "        }}\n",
       "}});\n",
       "\n",
       "// Listen for the removal of the full notebook cells\n",
       "var notebookContainer = gd.closest('#notebook-container');\n",
       "if (notebookContainer) {{\n",
       "    x.observe(notebookContainer, {childList: true});\n",
       "}}\n",
       "\n",
       "// Listen for the clearing of the current output cell\n",
       "var outputEl = gd.closest('.output');\n",
       "if (outputEl) {{\n",
       "    x.observe(outputEl, {childList: true});\n",
       "}}\n",
       "\n",
       "                        })                };                });            </script>        </div>"
      ]
     },
     "metadata": {},
     "output_type": "display_data"
    }
   ],
   "source": [
    "df_pred_test =pd.DataFrame({\n",
    "    \"y_test\":y_test,\"y_pred_wfv\":y_pred_wfv\n",
    "})\n",
    "fig = px.line(df_pred_test, labels={\"value\": \"PM2.5 Level\"})\n",
    "fig.update_layout(\n",
    "    title=\"Dar es Salaam, WFV Predictions\",\n",
    "    xaxis_title=\"Date\",\n",
    "    yaxis_title=\"PM2.5 Level\",\n",
    "    \n",
    ")\n",
    "fig.update_xaxes(dtick=\"1D\")\n",
    "fig.show()"
   ]
  },
  {
   "cell_type": "markdown",
   "id": "76848dc8",
   "metadata": {
    "deletable": false,
    "editable": false
   },
   "source": [
    "---\n",
    "Copyright 2024 WorldQuant University. This\n",
    "content is licensed solely for personal use. Redistribution or\n",
    "publication of this material is strictly prohibited.\n"
   ]
  }
 ],
 "metadata": {
  "kernelspec": {
   "display_name": "Python 3 (ipykernel)",
   "language": "python",
   "name": "python3"
  },
  "language_info": {
   "codemirror_mode": {
    "name": "ipython",
    "version": 3
   },
   "file_extension": ".py",
   "mimetype": "text/x-python",
   "name": "python",
   "nbconvert_exporter": "python",
   "pygments_lexer": "ipython3",
   "version": "3.11.0"
  },
  "toc-autonumbering": false,
  "widgets": {
   "application/vnd.jupyter.widget-state+json": {
    "state": {},
    "version_major": 2,
    "version_minor": 0
   }
  }
 },
 "nbformat": 4,
 "nbformat_minor": 5
}
