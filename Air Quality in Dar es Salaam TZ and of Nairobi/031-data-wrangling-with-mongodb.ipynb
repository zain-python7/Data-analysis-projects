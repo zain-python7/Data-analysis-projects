{
 "cells": [
  {
   "cell_type": "markdown",
   "id": "cae9cf17",
   "metadata": {},
   "source": [
    "<font size=\"+3\"><strong>3.1. Wrangling Data with MongoDB 🇰🇪</strong></font>"
   ]
  },
  {
   "cell_type": "code",
   "execution_count": 3,
   "id": "284fa992-bf10-4101-9d16-ec2c07b041ee",
   "metadata": {},
   "outputs": [],
   "source": [
    "from pprint import PrettyPrinter \n",
    "\n",
    "import pandas as pd\n",
    "from IPython.display import VimeoVideo\n",
    "from pymongo import MongoClient"
   ]
  },
  {
   "cell_type": "code",
   "execution_count": null,
   "id": "8351a960-d9a8-4d10-a07b-81283b519591",
   "metadata": {},
   "outputs": [],
   "source": [
    "VimeoVideo(\"665412094\", h=\"8334dfab2e\", width=600)"
   ]
  },
  {
   "cell_type": "code",
   "execution_count": 2,
   "id": "a1b8df3e-a1f4-4a82-a1f9-c0c4567e1f23",
   "metadata": {},
   "outputs": [
    {
     "data": {
      "text/html": [
       "\n",
       "        <iframe\n",
       "            width=\"600\"\n",
       "            height=\"300\"\n",
       "            src=\"https://player.vimeo.com/video/665412135?h=dcff7ab83a\"\n",
       "            frameborder=\"0\"\n",
       "            allowfullscreen\n",
       "            \n",
       "        ></iframe>\n",
       "        "
      ],
      "text/plain": [
       "<IPython.lib.display.VimeoVideo at 0x7f3460e53210>"
      ]
     },
     "execution_count": 2,
     "metadata": {},
     "output_type": "execute_result"
    }
   ],
   "source": [
    "VimeoVideo(\"665412135\", h=\"dcff7ab83a\", width=600)"
   ]
  },
  {
   "cell_type": "markdown",
   "id": "a092d51f-57c8-4a1f-a738-eb863552b2df",
   "metadata": {},
   "source": [
    "**Task 3.1.1:** Instantiate a `PrettyPrinter`, and assign it to the variable `pp`.\n",
    "\n",
    "- [<span id='technique'>Construct a `PrettyPrinter` instance in <span id='tool'>pprint.](../%40textbook/11-databases-mongodb.ipynb#Servers-and-Clients)"
   ]
  },
  {
   "cell_type": "code",
   "execution_count": 4,
   "id": "0e576abf-7d42-4af8-b3f7-404afc254afb",
   "metadata": {},
   "outputs": [],
   "source": [
    "pp = PrettyPrinter(indent=2)"
   ]
  },
  {
   "cell_type": "markdown",
   "id": "adaea611-972d-41c1-9061-38271bcf36df",
   "metadata": {},
   "source": [
    "# Prepare Data"
   ]
  },
  {
   "cell_type": "markdown",
   "id": "5e8b4c50-ab78-48f5-8517-e1b8558b3e37",
   "metadata": {},
   "source": [
    "## Connect"
   ]
  },
  {
   "cell_type": "markdown",
   "id": "63fbf101-e12b-42ee-9c7e-bea010b3cc24",
   "metadata": {},
   "source": [
    "<div style=\"padding: 1em; border: 1px solid #f0ad4e; border-left: 6px solid #f0ad4e; background-color: #fcf8e3; color: #8a6d3b; border-radius: 4px;\">\n",
    "\n",
    "<strong>🛠️ Instruction:</strong> Locate the IP address of the machine running MongoDB and assign it to the variable <code>host</code>. Make sure to use a <strong>string</strong> (i.e., wrap the IP in quotes).<br><br>\n",
    "\n",
    "<strong>⚠️ Note:</strong> The IP address is <strong>dynamic</strong> — it may change every time you start the lab. Always check the current IP before proceeding.\n",
    "\n",
    "</div>\n",
    "\n",
    "<img src=\"../images/mongo_ip.png\" alt=\"MongoDB\" width=\"600\"/>"
   ]
  },
  {
   "cell_type": "code",
   "execution_count": 10,
   "id": "1e70a592-e052-480e-b7d7-96b7fe5770af",
   "metadata": {},
   "outputs": [],
   "source": []
  },
  {
   "cell_type": "code",
   "execution_count": 6,
   "id": "ddd7faef-e6fd-4f80-baf3-69aefe38628d",
   "metadata": {},
   "outputs": [
    {
     "data": {
      "text/html": [
       "\n",
       "        <iframe\n",
       "            width=\"600\"\n",
       "            height=\"300\"\n",
       "            src=\"https://player.vimeo.com/video/665412155?h=1ca0dd03d0\"\n",
       "            frameborder=\"0\"\n",
       "            allowfullscreen\n",
       "            \n",
       "        ></iframe>\n",
       "        "
      ],
      "text/plain": [
       "<IPython.lib.display.VimeoVideo at 0x7f344dbf5e50>"
      ]
     },
     "execution_count": 6,
     "metadata": {},
     "output_type": "execute_result"
    }
   ],
   "source": [
    "VimeoVideo(\"665412155\", h=\"1ca0dd03d0\", width=600)"
   ]
  },
  {
   "cell_type": "markdown",
   "id": "5f4a7da3-ceb8-44ae-8b32-a970a146ec15",
   "metadata": {},
   "source": [
    "**Task 3.1.2:** Create a client that connects to the database running at `host` on port `27017`.\n",
    "\n",
    "- [What's a <span id='term'>database client?](../%40textbook/11-databases-mongodb.ipynb#Servers-and-Clients)\n",
    "- [What's a <span id='term'>database server?](../%40textbook/11-databases-mongodb.ipynb#Servers-and-Clients)\n",
    "- [<span id='technique'>Create a client object for a <span id='tool'>MongoDB</span> instance.](../%40textbook/11-databases-mongodb.ipynb#Servers-and-Clients) "
   ]
  },
  {
   "cell_type": "code",
   "execution_count": 5,
   "id": "5fee19d3-06cc-48a4-b823-75a21f8b7dd7",
   "metadata": {},
   "outputs": [],
   "source": [
    "client =MongoClient(host=\"192.204.36.2\", port=27017)"
   ]
  },
  {
   "cell_type": "markdown",
   "id": "db78b375-3e08-4755-b8f7-9dc0efc4898f",
   "metadata": {},
   "source": [
    "## Explore"
   ]
  },
  {
   "cell_type": "code",
   "execution_count": 8,
   "id": "db92461a-618e-446e-965b-5bcabe80894d",
   "metadata": {},
   "outputs": [
    {
     "data": {
      "text/html": [
       "\n",
       "        <iframe\n",
       "            width=\"600\"\n",
       "            height=\"300\"\n",
       "            src=\"https://player.vimeo.com/video/665412176?h=6fea7c6346\"\n",
       "            frameborder=\"0\"\n",
       "            allowfullscreen\n",
       "            \n",
       "        ></iframe>\n",
       "        "
      ],
      "text/plain": [
       "<IPython.lib.display.VimeoVideo at 0x7f344db4d410>"
      ]
     },
     "execution_count": 8,
     "metadata": {},
     "output_type": "execute_result"
    }
   ],
   "source": [
    "VimeoVideo(\"665412176\", h=\"6fea7c6346\", width=600)"
   ]
  },
  {
   "cell_type": "markdown",
   "id": "440ef108-b04b-4c6d-8ab3-76c2c3aaf3c4",
   "metadata": {},
   "source": [
    "**Task 3.1.3:** Print a list of the databases available on `client`.\n",
    "\n",
    "- [What's an <span id='term'>iterator?](../%40textbook/02-python-advanced.ipynb#Iterators-and-Iterables-)\n",
    "- [<span id='technique'>List the databases of a server using <span id='tool'>PyMongo.](../%40textbook/11-databases-mongodb.ipynb#Exploring-a-Database)\n",
    "- [<span id='technique'>Print output using <span id='tool'>pprint.](../%40textbook/11-databases-mongodb.ipynb#Exploring-a-Database)"
   ]
  },
  {
   "cell_type": "code",
   "execution_count": 6,
   "id": "51a9dcf3-1e3e-4e03-8777-77fcf7134051",
   "metadata": {},
   "outputs": [
    {
     "name": "stdout",
     "output_type": "stream",
     "text": [
      "[ {'empty': False, 'name': 'admin', 'sizeOnDisk': 40960},\n",
      "  {'empty': False, 'name': 'air-quality', 'sizeOnDisk': 5931008},\n",
      "  {'empty': False, 'name': 'config', 'sizeOnDisk': 73728},\n",
      "  {'empty': False, 'name': 'local', 'sizeOnDisk': 73728},\n",
      "  {'empty': False, 'name': 'wqu-abtest', 'sizeOnDisk': 585728}]\n"
     ]
    }
   ],
   "source": [
    "\n",
    "#client.list_databases()\n",
    "pp.pprint(list(client.list_databases()))"
   ]
  },
  {
   "cell_type": "code",
   "execution_count": 7,
   "id": "1a2f0197-142b-4c5b-a4d7-1d4189e6bc72",
   "metadata": {},
   "outputs": [
    {
     "data": {
      "text/html": [
       "\n",
       "        <iframe\n",
       "            width=\"600\"\n",
       "            height=\"300\"\n",
       "            src=\"https://player.vimeo.com/video/665412216?h=7d4027dc33\"\n",
       "            frameborder=\"0\"\n",
       "            allowfullscreen\n",
       "            \n",
       "        ></iframe>\n",
       "        "
      ],
      "text/plain": [
       "<IPython.lib.display.VimeoVideo at 0x725464add1d0>"
      ]
     },
     "execution_count": 7,
     "metadata": {},
     "output_type": "execute_result"
    }
   ],
   "source": [
    "VimeoVideo(\"665412216\", h=\"7d4027dc33\", width=600)"
   ]
  },
  {
   "cell_type": "markdown",
   "id": "0a85a5eb-b03c-4a26-bffd-40acb5ead879",
   "metadata": {},
   "source": [
    "**Task 3.1.4:** Assign the `\"air-quality\"` database to the variable `db`.\n",
    "\n",
    "- [What's a <span id='term'>MongoDB database?](../%40textbook/11-databases-mongodb.ipynb#Databases)\n",
    "- [<span id='technique'>Access a database using <span id='tool'>PyMongo.](../%40textbook/11-databases-mongodb.ipynb#Servers-and-Clients)"
   ]
  },
  {
   "cell_type": "code",
   "execution_count": 8,
   "id": "54ce822a-f18e-4e6f-b717-fbf64f35313a",
   "metadata": {},
   "outputs": [],
   "source": [
    "db = client[\"air-quality\"]"
   ]
  },
  {
   "cell_type": "code",
   "execution_count": 9,
   "id": "a5734301-574f-4426-8214-da212d388f03",
   "metadata": {},
   "outputs": [
    {
     "data": {
      "text/html": [
       "\n",
       "        <iframe\n",
       "            width=\"600\"\n",
       "            height=\"300\"\n",
       "            src=\"https://player.vimeo.com/video/665412231?h=89c546b00f\"\n",
       "            frameborder=\"0\"\n",
       "            allowfullscreen\n",
       "            \n",
       "        ></iframe>\n",
       "        "
      ],
      "text/plain": [
       "<IPython.lib.display.VimeoVideo at 0x725464ae05d0>"
      ]
     },
     "execution_count": 9,
     "metadata": {},
     "output_type": "execute_result"
    }
   ],
   "source": [
    "VimeoVideo(\"665412231\", h=\"89c546b00f\", width=600)"
   ]
  },
  {
   "cell_type": "markdown",
   "id": "29fa8e0f-41aa-4bb9-8adc-2855d2afe8c8",
   "metadata": {},
   "source": [
    "**Task 3.1.5:** Use the [`list_collections`](https://pymongo.readthedocs.io/en/stable/api/pymongo/database.html?highlight=list_collections#pymongo.database.Database.list_collections) method to print a list of the collections available in `db`.\n",
    "\n",
    "- [What's a <span id='term'>MongoDB collection?](../%40textbook/11-databases-mongodb.ipynb#Collections)\n",
    "- [<span id='technique'>List the collections in a database using <span id='tool'>PyMongo.](../%40textbook/11-databases-mongodb.ipynb#Exploring-a-Database)"
   ]
  },
  {
   "cell_type": "code",
   "execution_count": 15,
   "id": "dbb1df4c-3732-4b34-99f2-4c709a1e4d2f",
   "metadata": {},
   "outputs": [
    {
     "name": "stdout",
     "output_type": "stream",
     "text": [
      "dar-es-salaam\n",
      "system.buckets.dar-es-salaam\n",
      "nairobi\n",
      "system.buckets.nairobi\n",
      "system.views\n",
      "lagos\n",
      "system.buckets.lagos\n"
     ]
    }
   ],
   "source": [
    "for i in db.list_collections():\n",
    "    print(i[\"name\"])"
   ]
  },
  {
   "cell_type": "code",
   "execution_count": 16,
   "id": "87236a51-e776-4f21-a564-4fc823ce229f",
   "metadata": {},
   "outputs": [
    {
     "data": {
      "text/html": [
       "\n",
       "        <iframe\n",
       "            width=\"600\"\n",
       "            height=\"300\"\n",
       "            src=\"https://player.vimeo.com/video/665412252?h=bff2abbdc0\"\n",
       "            frameborder=\"0\"\n",
       "            allowfullscreen\n",
       "            \n",
       "        ></iframe>\n",
       "        "
      ],
      "text/plain": [
       "<IPython.lib.display.VimeoVideo at 0x72545eea7090>"
      ]
     },
     "execution_count": 16,
     "metadata": {},
     "output_type": "execute_result"
    }
   ],
   "source": [
    "VimeoVideo(\"665412252\", h=\"bff2abbdc0\", width=600)"
   ]
  },
  {
   "cell_type": "markdown",
   "id": "e7e70fd1-42d9-413d-b4f6-38e623623ad0",
   "metadata": {},
   "source": [
    "**Task 3.1.6:** Assign the `\"nairobi\"` collection in `db` to the variable name `nairobi`.\n",
    "\n",
    "- [<span id='technique'>Access a collection in a database using <span id='tool'>PyMongo.](../%40textbook/11-databases-mongodb.ipynb#Collections)"
   ]
  },
  {
   "cell_type": "code",
   "execution_count": 17,
   "id": "8f18c1f6-098f-495d-bc36-ea72e7eb9164",
   "metadata": {},
   "outputs": [],
   "source": [
    "nairobi = db[\"nairobi\"]"
   ]
  },
  {
   "cell_type": "code",
   "execution_count": 56,
   "id": "b7423e4e-4ec7-4cec-94bf-50ec73726257",
   "metadata": {},
   "outputs": [
    {
     "data": {
      "text/html": [
       "\n",
       "        <iframe\n",
       "            width=\"600\"\n",
       "            height=\"300\"\n",
       "            src=\"https://player.vimeo.com/video/665412270?h=e4a5f5c84b\"\n",
       "            frameborder=\"0\"\n",
       "            allowfullscreen\n",
       "            \n",
       "        ></iframe>\n",
       "        "
      ],
      "text/plain": [
       "<IPython.lib.display.VimeoVideo at 0x72545e60f0d0>"
      ]
     },
     "execution_count": 56,
     "metadata": {},
     "output_type": "execute_result"
    }
   ],
   "source": [
    "VimeoVideo(\"665412270\", h=\"e4a5f5c84b\", width=600)"
   ]
  },
  {
   "cell_type": "markdown",
   "id": "c109d8a6-f9eb-4f93-86e3-8e2c8695ca13",
   "metadata": {},
   "source": [
    "**Task 3.1.7:** Use the [`count_documents`](https://pymongo.readthedocs.io/en/stable/api/pymongo/collection.html#pymongo.collection.Collection.count_documents) method to see how many documents are in the `nairobi` collection.\n",
    "\n",
    "- [What's a <span id='term'>MongoDB document?](../%40textbook/11-databases-mongodb.ipynb#Documents)\n",
    "- [<span id='technique'>Count the documents in a collection using <span id='tool'>PyMongo.](../%40textbook/11-databases-mongodb.ipynb#Documents) "
   ]
  },
  {
   "cell_type": "code",
   "execution_count": 57,
   "id": "476dd0f6-2296-4fd1-9181-491a93c0817b",
   "metadata": {},
   "outputs": [
    {
     "data": {
      "text/plain": [
       "202212"
      ]
     },
     "execution_count": 57,
     "metadata": {},
     "output_type": "execute_result"
    }
   ],
   "source": [
    "nairobi.count_documents({})"
   ]
  },
  {
   "cell_type": "code",
   "execution_count": 19,
   "id": "295009e4-869f-4508-9cbc-f73bf4938c67",
   "metadata": {},
   "outputs": [
    {
     "data": {
      "text/html": [
       "\n",
       "        <iframe\n",
       "            width=\"600\"\n",
       "            height=\"300\"\n",
       "            src=\"https://player.vimeo.com/video/665412279?h=c2315f3be1\"\n",
       "            frameborder=\"0\"\n",
       "            allowfullscreen\n",
       "            \n",
       "        ></iframe>\n",
       "        "
      ],
      "text/plain": [
       "<IPython.lib.display.VimeoVideo at 0x72545eea5010>"
      ]
     },
     "execution_count": 19,
     "metadata": {},
     "output_type": "execute_result"
    }
   ],
   "source": [
    "VimeoVideo(\"665412279\", h=\"c2315f3be1\", width=600)"
   ]
  },
  {
   "cell_type": "markdown",
   "id": "5e04f96e-d7fb-4861-93f7-84669184a5ee",
   "metadata": {},
   "source": [
    "**Task 3.1.8:** Use the [`find_one`](https://pymongo.readthedocs.io/en/stable/api/pymongo/collection.html#pymongo.collection.Collection.find_one) method to retrieve one document from the `nairobi` collection, and assign it to the variable name `result`.\n",
    "\n",
    "- [What's <span id='term'>metadata?](../%40textbook/11-databases-mongodb.ipynb#Metadata)\n",
    "- [What's <span id='term'>semi-structured data?](../%40textbook/11-databases-mongodb.ipynb#Semi-structured-Data)\n",
    "- [<span id='technique'>Retrieve a document from a collection using <span id='tool'>PyMongo.](../%40textbook/11-databases-mongodb.ipynb#Retrieving-Data)"
   ]
  },
  {
   "cell_type": "code",
   "execution_count": 20,
   "id": "bb4fbe42-7c71-45ee-87f7-f6844ba630cc",
   "metadata": {},
   "outputs": [
    {
     "name": "stdout",
     "output_type": "stream",
     "text": [
      "{ '_id': ObjectId('6525d772f44bfedd842a6fcc'),\n",
      "  'metadata': { 'lat': -1.3,\n",
      "                'lon': 36.785,\n",
      "                'measurement': 'temperature',\n",
      "                'sensor_id': 58,\n",
      "                'sensor_type': 'DHT22',\n",
      "                'site': 29},\n",
      "  'temperature': 16.5,\n",
      "  'timestamp': datetime.datetime(2018, 9, 1, 0, 0, 4, 301000)}\n"
     ]
    }
   ],
   "source": [
    "result = nairobi.find_one({})\n",
    "pp.pprint(result)"
   ]
  },
  {
   "cell_type": "code",
   "execution_count": 23,
   "id": "cc31ae98-b951-49de-aa9b-e1d03547ede5",
   "metadata": {},
   "outputs": [
    {
     "data": {
      "text/html": [
       "\n",
       "        <iframe\n",
       "            width=\"600\"\n",
       "            height=\"300\"\n",
       "            src=\"https://player.vimeo.com/video/665412306?h=e1e913dfd1\"\n",
       "            frameborder=\"0\"\n",
       "            allowfullscreen\n",
       "            \n",
       "        ></iframe>\n",
       "        "
      ],
      "text/plain": [
       "<IPython.lib.display.VimeoVideo at 0x72545eec4a50>"
      ]
     },
     "execution_count": 23,
     "metadata": {},
     "output_type": "execute_result"
    }
   ],
   "source": [
    "VimeoVideo(\"665412306\", h=\"e1e913dfd1\", width=600)"
   ]
  },
  {
   "cell_type": "markdown",
   "id": "fb3a4fc1-a04e-42f2-8d22-161cdf969de4",
   "metadata": {},
   "source": [
    "**Task 3.1.9:** Use the [`distinct`](https://pymongo.readthedocs.io/en/stable/api/pymongo/collection.html#pymongo.collection.Collection.distinct) method to determine how many sensor sites are included in the `nairobi` collection.\n",
    "\n",
    "- [<span id='technique'>Get a list of distinct values for a key among all documents using <span id='tool'>PyMongo.](../%40textbook/11-databases-mongodb.ipynb#Analyzing-Data)"
   ]
  },
  {
   "cell_type": "code",
   "execution_count": 26,
   "id": "df2f6858-3000-40f0-9b99-aefb6cc7bb40",
   "metadata": {},
   "outputs": [
    {
     "data": {
      "text/plain": [
       "[29, 6]"
      ]
     },
     "execution_count": 26,
     "metadata": {},
     "output_type": "execute_result"
    }
   ],
   "source": [
    "nairobi.distinct(\"metadata.site\")"
   ]
  },
  {
   "cell_type": "code",
   "execution_count": 27,
   "id": "c0e9eb86-1b55-4b05-a64e-dc4a9fb4eb00",
   "metadata": {},
   "outputs": [
    {
     "data": {
      "text/html": [
       "\n",
       "        <iframe\n",
       "            width=\"600\"\n",
       "            height=\"300\"\n",
       "            src=\"https://player.vimeo.com/video/665412322?h=4776c6d548\"\n",
       "            frameborder=\"0\"\n",
       "            allowfullscreen\n",
       "            \n",
       "        ></iframe>\n",
       "        "
      ],
      "text/plain": [
       "<IPython.lib.display.VimeoVideo at 0x72545eec5010>"
      ]
     },
     "execution_count": 27,
     "metadata": {},
     "output_type": "execute_result"
    }
   ],
   "source": [
    "VimeoVideo(\"665412322\", h=\"4776c6d548\", width=600)"
   ]
  },
  {
   "cell_type": "markdown",
   "id": "6548bd90-7600-4812-afe8-102c6ac7b4e4",
   "metadata": {},
   "source": [
    "**Task 3.1.10:** Use the [`count_documents`](https://pymongo.readthedocs.io/en/stable/api/pymongo/collection.html#pymongo.collection.Collection.count_documents) method to determine how many readings there are for each site in the `nairobi` collection.\n",
    "\n",
    "- [<span id='technique'>Count the documents in a collection using <span id='tool'>PyMongo.](../%40textbook/11-databases-mongodb.ipynb#Analyzing-Data) <span style='color: transparent; font-size:1%'>WQU WorldQuant University Applied Data Science Lab QQQQ</span>"
   ]
  },
  {
   "cell_type": "code",
   "execution_count": 29,
   "id": "590b43b0-dbbe-4ca0-8d87-b8ebe7dad190",
   "metadata": {},
   "outputs": [
    {
     "name": "stdout",
     "output_type": "stream",
     "text": [
      "Documents from site 6: 70360\n",
      "Documents from site 29: 131852\n"
     ]
    }
   ],
   "source": [
    "print(\"Documents from site 6:\", nairobi.count_documents({\"metadata.site\":6}))\n",
    "print(\"Documents from site 29:\", nairobi.count_documents({\"metadata.site\":29}))"
   ]
  },
  {
   "cell_type": "code",
   "execution_count": 30,
   "id": "1352bad3-a30d-4699-b174-f0a75dafab5c",
   "metadata": {},
   "outputs": [
    {
     "data": {
      "text/html": [
       "\n",
       "        <iframe\n",
       "            width=\"600\"\n",
       "            height=\"300\"\n",
       "            src=\"https://player.vimeo.com/video/665412344?h=d2354584cd\"\n",
       "            frameborder=\"0\"\n",
       "            allowfullscreen\n",
       "            \n",
       "        ></iframe>\n",
       "        "
      ],
      "text/plain": [
       "<IPython.lib.display.VimeoVideo at 0x72545eec8790>"
      ]
     },
     "execution_count": 30,
     "metadata": {},
     "output_type": "execute_result"
    }
   ],
   "source": [
    "VimeoVideo(\"665412344\", h=\"d2354584cd\", width=600)"
   ]
  },
  {
   "cell_type": "markdown",
   "id": "4156c47a-d7a1-4c38-a5ee-2016bf90e0f4",
   "metadata": {},
   "source": [
    "**Task 3.1.11:** Use the [`aggregate`](https://pymongo.readthedocs.io/en/stable/api/pymongo/collection.html#pymongo.collection.Collection.aggregate) method to determine how many readings there are for each site in the `nairobi` collection.\n",
    "\n",
    "- [<span id='technique'>Perform aggregation calculations on documents using <span id='tool'>PyMongo.](../%40textbook/11-databases-mongodb.ipynb#Analyzing-Data)"
   ]
  },
  {
   "cell_type": "code",
   "execution_count": 33,
   "id": "e9715900-ec7b-4650-b6c2-3c4a702c5d84",
   "metadata": {},
   "outputs": [
    {
     "name": "stdout",
     "output_type": "stream",
     "text": [
      "[{'_id': 29, 'count': 131852}, {'_id': 6, 'count': 70360}]\n"
     ]
    }
   ],
   "source": [
    "result = nairobi.aggregate(\n",
    "    [\n",
    "        {\"$group\":{\"_id\":\"$metadata.site\",\"count\":{\"$count\":{}}}}\n",
    "    ]\n",
    "    \n",
    ")\n",
    "pp.pprint(list(result))"
   ]
  },
  {
   "cell_type": "code",
   "execution_count": 34,
   "id": "53c55cef-bbc7-4070-bc17-5808fdc82998",
   "metadata": {},
   "outputs": [
    {
     "data": {
      "text/html": [
       "\n",
       "        <iframe\n",
       "            width=\"600\"\n",
       "            height=\"300\"\n",
       "            src=\"https://player.vimeo.com/video/665412372?h=565122c9cc\"\n",
       "            frameborder=\"0\"\n",
       "            allowfullscreen\n",
       "            \n",
       "        ></iframe>\n",
       "        "
      ],
      "text/plain": [
       "<IPython.lib.display.VimeoVideo at 0x72545eec87d0>"
      ]
     },
     "execution_count": 34,
     "metadata": {},
     "output_type": "execute_result"
    }
   ],
   "source": [
    "VimeoVideo(\"665412372\", h=\"565122c9cc\", width=600)"
   ]
  },
  {
   "cell_type": "markdown",
   "id": "1d7bd153-ba49-4227-b113-10109cfd1c4e",
   "metadata": {},
   "source": [
    "**Task 3.1.12:** Use the [`distinct`](https://pymongo.readthedocs.io/en/stable/api/pymongo/collection.html#pymongo.collection.Collection.distinct) method to determine how many types of measurements have been taken in the `nairobi` collection.\n",
    "\n",
    "- [<span id='technique'>Get a list of distinct values for a key among all documents using <span id='tool'>PyMongo.](../%40textbook/11-databases-mongodb.ipynb#Analyzing-Data)"
   ]
  },
  {
   "cell_type": "code",
   "execution_count": 37,
   "id": "68016374-c397-488b-a698-6bc00aa778f9",
   "metadata": {},
   "outputs": [
    {
     "data": {
      "text/plain": [
       "['temperature', 'humidity', 'P1', 'P2']"
      ]
     },
     "execution_count": 37,
     "metadata": {},
     "output_type": "execute_result"
    }
   ],
   "source": [
    "nairobi.distinct(\"metadata.measurement\")"
   ]
  },
  {
   "cell_type": "code",
   "execution_count": 38,
   "id": "adacf913-c3db-4bf8-af3d-9e16acbc81f7",
   "metadata": {},
   "outputs": [
    {
     "data": {
      "text/html": [
       "\n",
       "        <iframe\n",
       "            width=\"600\"\n",
       "            height=\"300\"\n",
       "            src=\"https://player.vimeo.com/video/665412380?h=f7f7a39bb3\"\n",
       "            frameborder=\"0\"\n",
       "            allowfullscreen\n",
       "            \n",
       "        ></iframe>\n",
       "        "
      ],
      "text/plain": [
       "<IPython.lib.display.VimeoVideo at 0x72545e6d4c10>"
      ]
     },
     "execution_count": 38,
     "metadata": {},
     "output_type": "execute_result"
    }
   ],
   "source": [
    "VimeoVideo(\"665412380\", h=\"f7f7a39bb3\", width=600)"
   ]
  },
  {
   "cell_type": "markdown",
   "id": "087fbada-e0db-4ae5-a89a-a8c49c202ef5",
   "metadata": {},
   "source": [
    "**Task 3.1.13:** Use the [`find`](https://pymongo.readthedocs.io/en/stable/api/pymongo/collection.html#pymongo.collection.Collection.find) method to retrieve the PM 2.5 readings from all sites. Be sure to limit your results to 3 records only.\n",
    "\n",
    "- [<span id='technique'>Query a collection using <span id='tool'>PyMongo.](../%40textbook/11-databases-mongodb.ipynb#Retrieving-Data)"
   ]
  },
  {
   "cell_type": "code",
   "execution_count": 39,
   "id": "da7d27ca-815d-480f-a570-9f72091bac22",
   "metadata": {},
   "outputs": [
    {
     "name": "stdout",
     "output_type": "stream",
     "text": [
      "[ { 'P2': 34.43,\n",
      "    '_id': ObjectId('6525d775f44bfedd842bf24d'),\n",
      "    'metadata': { 'lat': -1.3,\n",
      "                  'lon': 36.785,\n",
      "                  'measurement': 'P2',\n",
      "                  'sensor_id': 57,\n",
      "                  'sensor_type': 'SDS011',\n",
      "                  'site': 29},\n",
      "    'timestamp': datetime.datetime(2018, 9, 1, 0, 0, 2, 472000)},\n",
      "  { 'P2': 30.53,\n",
      "    '_id': ObjectId('6525d775f44bfedd842bf24e'),\n",
      "    'metadata': { 'lat': -1.3,\n",
      "                  'lon': 36.785,\n",
      "                  'measurement': 'P2',\n",
      "                  'sensor_id': 57,\n",
      "                  'sensor_type': 'SDS011',\n",
      "                  'site': 29},\n",
      "    'timestamp': datetime.datetime(2018, 9, 1, 0, 5, 3, 941000)},\n",
      "  { 'P2': 22.8,\n",
      "    '_id': ObjectId('6525d775f44bfedd842bf24f'),\n",
      "    'metadata': { 'lat': -1.3,\n",
      "                  'lon': 36.785,\n",
      "                  'measurement': 'P2',\n",
      "                  'sensor_id': 57,\n",
      "                  'sensor_type': 'SDS011',\n",
      "                  'site': 29},\n",
      "    'timestamp': datetime.datetime(2018, 9, 1, 0, 10, 4, 374000)}]\n"
     ]
    }
   ],
   "source": [
    "result = nairobi.find({\"metadata.measurement\":\"P2\"}).limit(3)\n",
    "pp.pprint(list(result))"
   ]
  },
  {
   "cell_type": "code",
   "execution_count": 40,
   "id": "ca44aec6-ef50-4321-b078-2329620558a0",
   "metadata": {},
   "outputs": [
    {
     "data": {
      "text/html": [
       "\n",
       "        <iframe\n",
       "            width=\"600\"\n",
       "            height=\"300\"\n",
       "            src=\"https://player.vimeo.com/video/665412389?h=8976ea3090\"\n",
       "            frameborder=\"0\"\n",
       "            allowfullscreen\n",
       "            \n",
       "        ></iframe>\n",
       "        "
      ],
      "text/plain": [
       "<IPython.lib.display.VimeoVideo at 0x72545e6d4090>"
      ]
     },
     "execution_count": 40,
     "metadata": {},
     "output_type": "execute_result"
    }
   ],
   "source": [
    "VimeoVideo(\"665412389\", h=\"8976ea3090\", width=600)"
   ]
  },
  {
   "cell_type": "markdown",
   "id": "44bd75e3-aada-4468-89d3-bbfbf3727729",
   "metadata": {},
   "source": [
    "**Task 3.1.14:** Use the [`aggregate`](https://pymongo.readthedocs.io/en/stable/api/pymongo/collection.html#pymongo.collection.Collection.aggregate) method to calculate how many readings there are for each type (`\"humidity\"`, `\"temperature\"`, `\"P2\"`, and `\"P1\"`) in site `6`.\n",
    "\n",
    "- [<span id='technique'>Perform aggregation calculations on documents using <span id='tool'>PyMongo.](../%40textbook/11-databases-mongodb.ipynb#Analyzing-Data)"
   ]
  },
  {
   "cell_type": "code",
   "execution_count": 43,
   "id": "835cf805-a1ec-4074-924e-740438414c77",
   "metadata": {},
   "outputs": [
    {
     "name": "stdout",
     "output_type": "stream",
     "text": [
      "[ {'_id': 'temperature', 'count': 17011},\n",
      "  {'_id': 'humidity', 'count': 17011},\n",
      "  {'_id': 'P1', 'count': 18169},\n",
      "  {'_id': 'P2', 'count': 18169}]\n"
     ]
    }
   ],
   "source": [
    "result = nairobi.aggregate(\n",
    "    [\n",
    "        {\"$match\":{\"metadata.site\":6}},\n",
    "        {\"$group\":{\"_id\":\"$metadata.measurement\",\"count\":{\"$count\":{}}}}\n",
    "    ]\n",
    "    \n",
    ")\n",
    "pp.pprint(list(result))"
   ]
  },
  {
   "cell_type": "code",
   "execution_count": 45,
   "id": "7156a914-6335-424a-888d-a44dafd6b814",
   "metadata": {},
   "outputs": [
    {
     "data": {
      "text/html": [
       "\n",
       "        <iframe\n",
       "            width=\"600\"\n",
       "            height=\"300\"\n",
       "            src=\"https://player.vimeo.com/video/665412418?h=0c4b125254\"\n",
       "            frameborder=\"0\"\n",
       "            allowfullscreen\n",
       "            \n",
       "        ></iframe>\n",
       "        "
      ],
      "text/plain": [
       "<IPython.lib.display.VimeoVideo at 0x72545e7073d0>"
      ]
     },
     "execution_count": 45,
     "metadata": {},
     "output_type": "execute_result"
    }
   ],
   "source": [
    "VimeoVideo(\"665412418\", h=\"0c4b125254\", width=600)"
   ]
  },
  {
   "cell_type": "markdown",
   "id": "e3d5acbd-aacd-4a98-9663-3cacd3e3b51d",
   "metadata": {},
   "source": [
    "**Task 3.1.15:** Use the [`aggregate`](https://pymongo.readthedocs.io/en/stable/api/pymongo/collection.html#pymongo.collection.Collection.aggregate) method to calculate how many readings there are for each type (`\"humidity\"`, `\"temperature\"`, `\"P2\"`, and `\"P1\"`) in site `29`.\n",
    "\n",
    "- [<span id='technique'>Perform aggregation calculations on documents using <span id='tool'>PyMongo.](../%40textbook/11-databases-mongodb.ipynb#Analyzing-Data)"
   ]
  },
  {
   "cell_type": "code",
   "execution_count": 44,
   "id": "89ead8d6-f405-4e1d-b119-d5e3de33f3a6",
   "metadata": {},
   "outputs": [
    {
     "name": "stdout",
     "output_type": "stream",
     "text": [
      "[ {'_id': 'temperature', 'count': 33019},\n",
      "  {'_id': 'humidity', 'count': 33019},\n",
      "  {'_id': 'P1', 'count': 32907},\n",
      "  {'_id': 'P2', 'count': 32907}]\n"
     ]
    }
   ],
   "source": [
    "result = nairobi.aggregate(\n",
    "    [\n",
    "        {\"$match\":{\"metadata.site\":29}},\n",
    "        {\"$group\":{\"_id\":\"$metadata.measurement\",\"count\":{\"$count\":{}}}}\n",
    "    ]\n",
    "    \n",
    ")\n",
    "pp.pprint(list(result))"
   ]
  },
  {
   "cell_type": "markdown",
   "id": "fb74fa35-d155-4d18-bb27-a62503f81313",
   "metadata": {},
   "source": [
    "## Import"
   ]
  },
  {
   "cell_type": "code",
   "execution_count": 46,
   "id": "1d31f47c-3985-410c-8075-cc8afe2328d9",
   "metadata": {},
   "outputs": [
    {
     "data": {
      "text/html": [
       "\n",
       "        <iframe\n",
       "            width=\"600\"\n",
       "            height=\"300\"\n",
       "            src=\"https://player.vimeo.com/video/665412437?h=7a436c7e7e\"\n",
       "            frameborder=\"0\"\n",
       "            allowfullscreen\n",
       "            \n",
       "        ></iframe>\n",
       "        "
      ],
      "text/plain": [
       "<IPython.lib.display.VimeoVideo at 0x72545e7f6c10>"
      ]
     },
     "execution_count": 46,
     "metadata": {},
     "output_type": "execute_result"
    }
   ],
   "source": [
    "VimeoVideo(\"665412437\", h=\"7a436c7e7e\", width=600)"
   ]
  },
  {
   "cell_type": "markdown",
   "id": "6fd6a780-14c2-441c-9ec5-50a1ed492097",
   "metadata": {},
   "source": [
    "**Task 3.1.16:** Use the [`find`](https://pymongo.readthedocs.io/en/stable/api/pymongo/collection.html#pymongo.collection.Collection.find) method to retrieve the PM 2.5 readings from site `29`. Be sure to limit your results to 3 records only. Since we won't need the metadata for our model, use the `projection` argument to limit the results to the `\"P2\"` and `\"timestamp\"` keys only.\n",
    "\n",
    "- [<span id='technique'>Query a collection using <span id='tool'>PyMongo.](../%40textbook/11-databases-mongodb.ipynb#Retrieving-Data)"
   ]
  },
  {
   "cell_type": "code",
   "execution_count": 53,
   "id": "7d709937-22c5-43d8-a34f-6126792f0818",
   "metadata": {},
   "outputs": [],
   "source": [
    "result = nairobi.find(\n",
    "    {\"metadata.site\":29,\"metadata.measurement\":\"P2\"},\n",
    "    projection={\"P2\":1,\"timestamp\":1,\"_id\":0}\n",
    ")\n",
    "#pp.pprint(result.next())"
   ]
  },
  {
   "cell_type": "code",
   "execution_count": 48,
   "id": "98f2ff2d-e317-45da-8fdf-1aad38c17eec",
   "metadata": {},
   "outputs": [
    {
     "data": {
      "text/html": [
       "\n",
       "        <iframe\n",
       "            width=\"600\"\n",
       "            height=\"300\"\n",
       "            src=\"https://player.vimeo.com/video/665412442?h=494636d1ea\"\n",
       "            frameborder=\"0\"\n",
       "            allowfullscreen\n",
       "            \n",
       "        ></iframe>\n",
       "        "
      ],
      "text/plain": [
       "<IPython.lib.display.VimeoVideo at 0x72545e5d5f90>"
      ]
     },
     "execution_count": 48,
     "metadata": {},
     "output_type": "execute_result"
    }
   ],
   "source": [
    "VimeoVideo(\"665412442\", h=\"494636d1ea\", width=600)"
   ]
  },
  {
   "cell_type": "markdown",
   "id": "167dad40-55f3-48db-abe6-d866310951b4",
   "metadata": {},
   "source": [
    "**Task 3.1.17:** Read records from your `result` into the DataFrame `df`. Be sure to set the index to `\"timestamp\"`.\n",
    "\n",
    "- [<span id='technique'>Create a DataFrame from a dictionary using <span id='tool'>pandas.](../%40textbook/03-pandas-getting-started.ipynb#Working-with-DataFrames)"
   ]
  },
  {
   "cell_type": "code",
   "execution_count": 54,
   "id": "568c0e55-6c88-4d85-85c7-5c52f5714395",
   "metadata": {},
   "outputs": [
    {
     "data": {
      "text/html": [
       "<div>\n",
       "<style scoped>\n",
       "    .dataframe tbody tr th:only-of-type {\n",
       "        vertical-align: middle;\n",
       "    }\n",
       "\n",
       "    .dataframe tbody tr th {\n",
       "        vertical-align: top;\n",
       "    }\n",
       "\n",
       "    .dataframe thead th {\n",
       "        text-align: right;\n",
       "    }\n",
       "</style>\n",
       "<table border=\"1\" class=\"dataframe\">\n",
       "  <thead>\n",
       "    <tr style=\"text-align: right;\">\n",
       "      <th></th>\n",
       "      <th>P2</th>\n",
       "    </tr>\n",
       "    <tr>\n",
       "      <th>timestamp</th>\n",
       "      <th></th>\n",
       "    </tr>\n",
       "  </thead>\n",
       "  <tbody>\n",
       "    <tr>\n",
       "      <th>2018-09-01 00:00:02.472</th>\n",
       "      <td>34.43</td>\n",
       "    </tr>\n",
       "    <tr>\n",
       "      <th>2018-09-01 00:05:03.941</th>\n",
       "      <td>30.53</td>\n",
       "    </tr>\n",
       "    <tr>\n",
       "      <th>2018-09-01 00:10:04.374</th>\n",
       "      <td>22.80</td>\n",
       "    </tr>\n",
       "    <tr>\n",
       "      <th>2018-09-01 00:15:04.245</th>\n",
       "      <td>13.30</td>\n",
       "    </tr>\n",
       "    <tr>\n",
       "      <th>2018-09-01 00:20:04.869</th>\n",
       "      <td>16.57</td>\n",
       "    </tr>\n",
       "  </tbody>\n",
       "</table>\n",
       "</div>"
      ],
      "text/plain": [
       "                            P2\n",
       "timestamp                     \n",
       "2018-09-01 00:00:02.472  34.43\n",
       "2018-09-01 00:05:03.941  30.53\n",
       "2018-09-01 00:10:04.374  22.80\n",
       "2018-09-01 00:15:04.245  13.30\n",
       "2018-09-01 00:20:04.869  16.57"
      ]
     },
     "execution_count": 54,
     "metadata": {},
     "output_type": "execute_result"
    }
   ],
   "source": [
    "df = pd.DataFrame(result).set_index(\"timestamp\")\n",
    "df.head()"
   ]
  },
  {
   "cell_type": "code",
   "execution_count": 55,
   "id": "085a8763-15f0-49bd-91c4-3fca0a87e0e7",
   "metadata": {},
   "outputs": [],
   "source": [
    "# Check your work\n",
    "assert df.shape[1] == 1, f\"`df` should have only one column, not {df.shape[1]}.\"\n",
    "assert df.columns == [\n",
    "    \"P2\"\n",
    "], f\"The single column in `df` should be `'P2'`, not {df.columns[0]}.\"\n",
    "assert isinstance(df.index, pd.DatetimeIndex), \"`df` should have a `DatetimeIndex`.\""
   ]
  },
  {
   "cell_type": "markdown",
   "id": "c8657a23",
   "metadata": {
    "deletable": false,
    "editable": false
   },
   "source": [
    "---\n",
    "Copyright 2023 WorldQuant University. This\n",
    "content is licensed solely for personal use. Redistribution or\n",
    "publication of this material is strictly prohibited.\n"
   ]
  }
 ],
 "metadata": {
  "kernelspec": {
   "display_name": "Python 3 (ipykernel)",
   "language": "python",
   "name": "python3"
  },
  "language_info": {
   "codemirror_mode": {
    "name": "ipython",
    "version": 3
   },
   "file_extension": ".py",
   "mimetype": "text/x-python",
   "name": "python",
   "nbconvert_exporter": "python",
   "pygments_lexer": "ipython3",
   "version": "3.11.0"
  },
  "widgets": {
   "application/vnd.jupyter.widget-state+json": {
    "state": {},
    "version_major": 2,
    "version_minor": 0
   }
  }
 },
 "nbformat": 4,
 "nbformat_minor": 5
}
