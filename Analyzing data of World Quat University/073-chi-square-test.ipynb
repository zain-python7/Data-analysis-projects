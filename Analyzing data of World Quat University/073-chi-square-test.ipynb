{
 "cells": [
  {
   "cell_type": "markdown",
   "id": "7ad7f957-a31b-41a7-9793-9262ef369cf2",
   "metadata": {
    "editable": true,
    "slideshow": {
     "slide_type": ""
    },
    "tags": []
   },
   "source": [
    "<font size=\"+3\"><strong>3. Chi-square test</strong></font>"
   ]
  },
  {
   "cell_type": "markdown",
   "id": "e7bf71d4-773f-4793-9f92-25ec7b060d36",
   "metadata": {},
   "source": [
    "In the previous lesson, we identified a subset of applicants who don't complete the admissions quiz. Then we developed a null and alternative hypothesis that we want to test in an experiment.\n",
    "\n",
    "In this lesson, we'll conduct our experiment. First, we'll determine how long we need to run our experiment in order to detect a significant difference between our control and treatment groups. Then we'll run our experiment and evaluate our results using a chi-square test. "
   ]
  },
  {
   "cell_type": "markdown",
   "id": "51bcf155-9713-4b68-9f8f-8a84e597d3bf",
   "metadata": {
    "editable": true,
    "slideshow": {
     "slide_type": ""
    },
    "tags": []
   },
   "source": [
    "<div class=\"alert alert-block alert-warning\">\n",
    "<b>Warning:</b> The database has changed since this videos for this lesson were filmed. So don't worry if you don't get exactly the same numbers as the instructor for the tasks in this project.\n",
    "</div>"
   ]
  },
  {
   "cell_type": "markdown",
   "id": "e2498499-bfd6-4863-b122-247b745f4cde",
   "metadata": {
    "editable": true,
    "slideshow": {
     "slide_type": ""
    },
    "tags": []
   },
   "source": [
    "> Note: Replace `ip_of_mongo_device` with your actual MongoDB IP address.\n",
    "\n"
   ]
  },
  {
   "cell_type": "code",
   "execution_count": 43,
   "id": "d1494deb",
   "metadata": {
    "slideshow": {
     "slide_type": ""
    },
    "tags": []
   },
   "outputs": [
    {
     "name": "stdout",
     "output_type": "stream",
     "text": [
      "Reset 'ds-applicants' collection. Now has 5025 documents.\n",
      "Reset 'mscfe-applicants' collection. Now has 1335 documents.\n"
     ]
    }
   ],
   "source": [
    "import math\n",
    "\n",
    "import matplotlib.pyplot as plt\n",
    "import numpy as np\n",
    "import pandas as pd\n",
    "import plotly.express as px\n",
    "import scipy\n",
    "from IPython.display import VimeoVideo\n",
    "from pymongo import MongoClient\n",
    "from statsmodels.stats.contingency_tables import Table2x2\n",
    "from statsmodels.stats.power import GofChisquarePower\n",
    "from teaching_tools.ab_test.experiment import Experiment\n",
    "from teaching_tools.ab_test.reset import Reset\n",
    "\n",
    "# Reset database\n",
    "r = Reset(\"192.145.110.2\")\n",
    "r.reset_database()"
   ]
  },
  {
   "cell_type": "code",
   "execution_count": 4,
   "id": "64933391-0c57-49da-81e7-100a4a6b1d7d",
   "metadata": {},
   "outputs": [
    {
     "data": {
      "text/html": [
       "\n",
       "        <iframe\n",
       "            width=\"600\"\n",
       "            height=\"300\"\n",
       "            src=\"https://player.vimeo.com/video/742459144?h=0f1aa2db83\"\n",
       "            frameborder=\"0\"\n",
       "            allowfullscreen\n",
       "            \n",
       "        ></iframe>\n",
       "        "
      ],
      "text/plain": [
       "<IPython.lib.display.VimeoVideo at 0x7aea5acd4650>"
      ]
     },
     "execution_count": 4,
     "metadata": {},
     "output_type": "execute_result"
    }
   ],
   "source": [
    "VimeoVideo(\"742459144\", h=\"0f1aa2db83\", width=600)"
   ]
  },
  {
   "cell_type": "markdown",
   "id": "6520d906-f2c3-49c1-8830-0ecdd5ffcdb3",
   "metadata": {},
   "source": [
    "# Preparing the Experiment"
   ]
  },
  {
   "cell_type": "markdown",
   "id": "6037568b-e7ec-4466-a63c-e42959188694",
   "metadata": {
    "tags": []
   },
   "source": [
    "## Connect to Database\n",
    "\n",
    "Just like in the previous module, the first thing we need to do is connect to our MongoDB server and turn our collection of interest into a variable."
   ]
  },
  {
   "cell_type": "markdown",
   "id": "2a94b9f9-e9d2-4176-9185-26202918ff2b",
   "metadata": {},
   "source": [
    "<div style=\"padding: 1em; border: 1px solid #f0ad4e; border-left: 6px solid #f0ad4e; background-color: #fcf8e3; color: #8a6d3b; border-radius: 4px;\">\n",
    "\n",
    "<strong>🛠️ Instruction:</strong> Locate the IP address of the machine running MongoDB and assign it to the variable <code>host</code>. Make sure to use a <strong>string</strong> (i.e., wrap the IP in quotes).<br><br>\n",
    "\n",
    "<strong>⚠️ Note:</strong> The IP address is <strong>dynamic</strong> — it may change every time you start the lab. Always check the current IP before proceeding.\n",
    "\n",
    "</div>\n",
    "<img src=\"images/mongo_ip.png\" alt=\"MongoDB\" width=\"600\"/>\n"
   ]
  },
  {
   "cell_type": "code",
   "execution_count": 22,
   "id": "6d6c15ba-da57-4704-b8a1-0715f78729e0",
   "metadata": {},
   "outputs": [],
   "source": [
    "host = \"192.145.110.2\""
   ]
  },
  {
   "cell_type": "markdown",
   "id": "1ff0a8b0-11e5-454e-96e0-97fe9ae95b26",
   "metadata": {},
   "source": [
    "**Task 7.3.1:** Assign the `\"ds-applicants\"` collection in the `\"wqu-abtest\"` database to the variable name `ds_app`.\n",
    "\n",
    "> Note: When using the `MongoClient` class, specify the host by passing `host=host` as the first argument. For example: `MongoClient(host=host, port=27017)`\n",
    "\n",
    "\n",
    "> MongoDB server is running at `host` on port `27017`.\n",
    "\n",
    "- [What's a MongoDB collection?](../%40textbook/11-databases-mongodb.ipynb#Collections)\n",
    "- [Access a collection in a database using PyMongo.](../%40textbook/11-databases-mongodb.ipynb#Collections)"
   ]
  },
  {
   "cell_type": "code",
   "execution_count": 23,
   "id": "0921f12a-de9d-454c-a01b-f8a78b9b2a7c",
   "metadata": {},
   "outputs": [
    {
     "name": "stdout",
     "output_type": "stream",
     "text": [
      "{'_id': ObjectId('68aab8156eb0e521ee7419ba'), 'createdAt': datetime.datetime(2022, 5, 13, 15, 2, 44), 'firstName': 'Terry', 'lastName': 'Hassler', 'email': 'terry.hassler28@yahow.com', 'birthday': datetime.datetime(1998, 4, 29, 0, 0), 'gender': 'male', 'highestDegreeEarned': \"Bachelor's degree\", 'countryISO2': 'GB', 'admissionsQuiz': 'incomplete'}\n",
      "{'_id': ObjectId('68aab8156eb0e521ee7419bb'), 'createdAt': datetime.datetime(2022, 5, 23, 10, 36, 56), 'firstName': 'Alan', 'lastName': 'Noble', 'email': 'alan.noble91@hotmeal.com', 'birthday': datetime.datetime(1999, 3, 3, 0, 0), 'gender': 'male', 'highestDegreeEarned': \"Bachelor's degree\", 'countryISO2': 'NG', 'admissionsQuiz': 'complete'}\n",
      "{'_id': ObjectId('68aab8156eb0e521ee7419bc'), 'createdAt': datetime.datetime(2022, 5, 11, 9, 35, 39), 'firstName': 'Ruth', 'lastName': 'Vedovelli', 'email': 'ruth.vedovelli46@microsift.com', 'birthday': datetime.datetime(1994, 8, 16, 0, 0), 'gender': 'female', 'highestDegreeEarned': \"Master's degree\", 'countryISO2': 'ZM', 'admissionsQuiz': 'incomplete'}\n",
      "{'_id': ObjectId('68aab8156eb0e521ee7419bd'), 'createdAt': datetime.datetime(2022, 5, 16, 8, 31, 34), 'firstName': 'Jennifer', 'lastName': 'Mayer', 'email': 'jennifer.mayer25@gmall.com', 'birthday': datetime.datetime(1984, 11, 23, 0, 0), 'gender': 'female', 'highestDegreeEarned': \"Bachelor's degree\", 'countryISO2': 'NG', 'admissionsQuiz': 'complete'}\n",
      "{'_id': ObjectId('68aab8156eb0e521ee7419be'), 'createdAt': datetime.datetime(2022, 5, 2, 15, 14, 39), 'firstName': 'Ray', 'lastName': 'Hersey', 'email': 'ray.hersey99@hotmeal.com', 'birthday': datetime.datetime(1990, 10, 15, 0, 0), 'gender': 'male', 'highestDegreeEarned': \"Master's degree\", 'countryISO2': 'PK', 'admissionsQuiz': 'complete'}\n",
      "client: <class 'pymongo.synchronous.mongo_client.MongoClient'>\n",
      "ds_app: <class 'pymongo.synchronous.collection.Collection'>\n"
     ]
    }
   ],
   "source": [
    "client = MongoClient(host=host,port=27017)\n",
    "df=client[\"wqu-abtest\"]\n",
    "ds_app = df[\"ds-applicants\"]\n",
    "for doc in ds_app.find().limit(5):\n",
    "    print(doc)\n",
    "print(\"client:\", type(client))\n",
    "print(\"ds_app:\", type(ds_app))"
   ]
  },
  {
   "cell_type": "markdown",
   "id": "4387e824-4ba6-4c72-a477-c674004f34cc",
   "metadata": {},
   "source": [
    "## Calculate Power\n",
    "\n",
    "One of a Data Scientist's jobs is to help others determine what's  meaningful information and what's not. You can think about this as distinguishing between **signal** and **noise**. As the author [Nate Silver](https://en.wikipedia.org/wiki/The_Signal_and_the_Noise) puts it, \"The signal is the truth. The noise is what distracts us from the truth.\"\n",
    "\n",
    "In our experiment, we're looking for a signal indicating that applicants who receive an email are more likely to complete the admissions quiz. If signal's strong, it'll be easy to see. A much higher number of applicants in our treatment group will complete the quiz. But if the signal's weak and there's only a tiny change in quiz completion, it will be harder to determine if this is a meaningful difference or just random variation. How can we separate signal from noise in this case? The answer is **statistical power**.\n",
    "\n",
    "To understand what statistical power is, let's imagine that we're radio engineers building an antenna. The size of our antenna would depend on the type of signal we wanted to detect. It would be OK to build a low-power antenna if we only wanted to detect strong signals, like a car antenna that picks up your favorite local music station. But our antenna wouldn't pick up weaker signals — like a radio station on the other side of the globe. For weaker signals, we'd need something with higher power. In statistics, power comes from the number of observations you include in your experiment. In other words, the more people we include, the stronger our antenna, and the better we can detect weak signals. \n",
    "\n",
    "To determine exactly how many people we should include in our study, we need to do a **power calculation**. "
   ]
  },
  {
   "cell_type": "code",
   "execution_count": 7,
   "id": "66da8f61-ca4d-47b3-8e3d-c51ae37cf103",
   "metadata": {},
   "outputs": [
    {
     "data": {
      "text/html": [
       "\n",
       "        <iframe\n",
       "            width=\"600\"\n",
       "            height=\"300\"\n",
       "            src=\"https://player.vimeo.com/video/734517993?h=624e1cd2ea\"\n",
       "            frameborder=\"0\"\n",
       "            allowfullscreen\n",
       "            \n",
       "        ></iframe>\n",
       "        "
      ],
      "text/plain": [
       "<IPython.lib.display.VimeoVideo at 0x7aea5b774810>"
      ]
     },
     "execution_count": 7,
     "metadata": {},
     "output_type": "execute_result"
    }
   ],
   "source": [
    "VimeoVideo(\"734517993\", h=\"624e1cd2ea\", width=600)"
   ]
  },
  {
   "cell_type": "code",
   "execution_count": 8,
   "id": "3b56ef41-cb3c-44de-bbe0-3c0217a1dc73",
   "metadata": {},
   "outputs": [
    {
     "data": {
      "text/html": [
       "\n",
       "        <iframe\n",
       "            width=\"600\"\n",
       "            height=\"300\"\n",
       "            src=\"https://player.vimeo.com/video/734517709?h=907b2d3102\"\n",
       "            frameborder=\"0\"\n",
       "            allowfullscreen\n",
       "            \n",
       "        ></iframe>\n",
       "        "
      ],
      "text/plain": [
       "<IPython.lib.display.VimeoVideo at 0x7aea84bb5a50>"
      ]
     },
     "execution_count": 8,
     "metadata": {},
     "output_type": "execute_result"
    }
   ],
   "source": [
    "VimeoVideo(\"734517709\", h=\"907b2d3102\", width=600)"
   ]
  },
  {
   "cell_type": "markdown",
   "id": "65b36665-386a-4eb7-8cfe-a6aed87516c4",
   "metadata": {},
   "source": [
    "**Task 7.3.2:** First, instantiate a `GofChisquarePower` object and assign it to the variable name `chi_square_power`. Then use it to calculate the `group_size` needed to detect an effect size of `0.2`, with an alpha of `0.05` and power of `0.8`.\n",
    "\n",
    "- [What's statistical power?](../%40textbook/20-statistics.ipynb#Power)\n",
    "- [What's effect size?](../%40textbook/20-statistics.ipynb#Effect-Size)\n",
    "- [Perform a power calculation using statsmodels.](../%40textbook/20-statistics.ipynb#Test-for-Independence)"
   ]
  },
  {
   "cell_type": "code",
   "execution_count": 24,
   "id": "fd3e0cec-a4d3-43aa-94ac-64b44a930fc6",
   "metadata": {},
   "outputs": [
    {
     "name": "stdout",
     "output_type": "stream",
     "text": [
      "Group size: 197\n",
      "Total # of applicants needed: 394\n"
     ]
    }
   ],
   "source": [
    "chi_square_power =GofChisquarePower()\n",
    "group_size = math.ceil(chi_square_power.solve_power(effect_size=0.2,alpha=0.05,power=0.8))\n",
    "\n",
    "print(\"Group size:\", group_size)\n",
    "print(\"Total # of applicants needed:\", group_size * 2)"
   ]
  },
  {
   "cell_type": "markdown",
   "id": "30f92d0c",
   "metadata": {},
   "source": [
    "The results here are telling us that if we want to detect an effect size of 0.2 we need a group size of about 200 people. Since our experiment has two conditions (treatment and control, or email and no email), that means we need a total of about 400 applicants in our experiment.\n",
    "\n",
    "But what about detecting other effect sizes? If we needed to detect a *larger* effect size, we'd need *fewer* applicants. If we needed to detect a *smaller* effect size, we'd need *more* applicants. One way to visualize the relationship between effect size, statistical power, and number of applicants is to make a graph."
   ]
  },
  {
   "cell_type": "code",
   "execution_count": 10,
   "id": "e87bd7e8-843a-4d30-b6a3-af3cec8bbeb8",
   "metadata": {},
   "outputs": [
    {
     "data": {
      "text/html": [
       "\n",
       "        <iframe\n",
       "            width=\"600\"\n",
       "            height=\"300\"\n",
       "            src=\"https://player.vimeo.com/video/734517244?h=44460ba891\"\n",
       "            frameborder=\"0\"\n",
       "            allowfullscreen\n",
       "            \n",
       "        ></iframe>\n",
       "        "
      ],
      "text/plain": [
       "<IPython.lib.display.VimeoVideo at 0x7aea5ac7b050>"
      ]
     },
     "execution_count": 10,
     "metadata": {},
     "output_type": "execute_result"
    }
   ],
   "source": [
    "VimeoVideo(\"734517244\", h=\"44460ba891\", width=600)"
   ]
  },
  {
   "cell_type": "markdown",
   "id": "94c668a2-79cf-4f66-8407-aa74746e17bc",
   "metadata": {},
   "source": [
    "**Task 7.3.3:** Use `chi_square_power` to plot a power curve for three effect sizes: `0.2`, `0.5`, and `0.8`. The x-axis should be the number of observations, ranging from `0` to twice the `group_size` from the previous task. \n",
    "\n",
    "- [Plot a power calculation using statsmodels.](../%40textbook/20-statistics.ipynb#Test-for-Independence)"
   ]
  },
  {
   "cell_type": "code",
   "execution_count": 25,
   "id": "071cda18-c660-4e19-bb9a-48a4b2ba2685",
   "metadata": {},
   "outputs": [
    {
     "data": {
      "image/png": "[encoded data removed]",
      "text/plain": [
       "<Figure size 640x480 with 1 Axes>"
      ]
     },
     "execution_count": 25,
     "metadata": {},
     "output_type": "execute_result"
    },
    {
     "data": {
      "image/png": "[encoded data removed]",
      "text/plain": [
       "<Figure size 640x480 with 1 Axes>"
      ]
     },
     "metadata": {},
     "output_type": "display_data"
    }
   ],
   "source": [
    "n_observations = np.arange(0,group_size * 2+1)\n",
    "effect_sizes = np.array([0.2,0.5,0.8])\n",
    "\n",
    "# Plot power curve using `chi_square_power`\n",
    "chi_square_power.plot_power(\n",
    "    dep_var=\"nobs\",\n",
    "    nobs=n_observations,\n",
    "    effect_size=effect_sizes,\n",
    "    alpha=0.05,\n",
    "    n_bins=2\n",
    "    \n",
    ")"
   ]
  },
  {
   "cell_type": "markdown",
   "id": "c948c3aa-bd5b-4a77-9918-c62842a19f5d",
   "metadata": {
    "tags": []
   },
   "source": [
    "## Calculate Subjects per Day\n",
    "\n",
    "In the previous lesson, we decided that our experiment would focus on the subset of applicants who don't take the admissions quiz immediately after creating an account. We know we need around 400 observations from this subset, but how long do we need to run our experiment for in order to get that number?\n",
    "\n",
    "To answer that question, we first need to calculate how many such applicants open an account each day."
   ]
  },
  {
   "cell_type": "code",
   "execution_count": 12,
   "id": "d5d82b4f-b106-43be-b772-5342b8d5c494",
   "metadata": {},
   "outputs": [
    {
     "data": {
      "text/html": [
       "\n",
       "        <iframe\n",
       "            width=\"600\"\n",
       "            height=\"300\"\n",
       "            src=\"https://player.vimeo.com/video/734516984?h=f8c2ae9e0e\"\n",
       "            frameborder=\"0\"\n",
       "            allowfullscreen\n",
       "            \n",
       "        ></iframe>\n",
       "        "
      ],
      "text/plain": [
       "<IPython.lib.display.VimeoVideo at 0x7aea5935dad0>"
      ]
     },
     "execution_count": 12,
     "metadata": {},
     "output_type": "execute_result"
    }
   ],
   "source": [
    "VimeoVideo(\"734516984\", h=\"f8c2ae9e0e\", width=600)"
   ]
  },
  {
   "cell_type": "markdown",
   "id": "9f15841d-f29c-4cc1-8d15-e22d3be2a375",
   "metadata": {},
   "source": [
    "**Task 7.3.4:** Use the [`aggregate`](https://pymongo.readthedocs.io/en/stable/api/pymongo/collection.html#pymongo.collection.Collection.aggregate) method to calculate how many new accounts were created each day included in the database.\n",
    "\n",
    "- [Perform aggregation calculations on documents using PyMongo.](../%40textbook/11-databases-mongodb.ipynb#Analyzing-Data)\n",
    "- [Use the `$dateTrunc` operator to truncate a date in PyMongo.](../%40textbook/11-databases-mongodb.ipynb#Analyzing-Data)\n",
    "- [Use the `$group` operator in an aggregation in PyMongo.](../%40textbook/11-databases-mongodb.ipynb#Aggregation)\n",
    "- [Use the `$match` operator in an aggregation in PyMongo.](../%40textbook/11-databases-mongodb.ipynb#Aggregation)"
   ]
  },
  {
   "cell_type": "code",
   "execution_count": 30,
   "id": "a8716cf2-78f7-4196-adb7-869c7382df93",
   "metadata": {},
   "outputs": [],
   "source": [
    "result = ds_app.aggregate([\n",
    "    {\n",
    "        \"$match\": {\n",
    "            \"admissionsQuiz\": \"incomplete\"\n",
    "        }\n",
    "    },\n",
    "    {\n",
    "        \"$group\": {\n",
    "            \"_id\": {\n",
    "                \"$dateTrunc\": {\n",
    "                    \"date\": \"$createdAt\",  \n",
    "                    \"unit\": \"day\"\n",
    "                }\n",
    "            },\n",
    "            \"count\": { \"$sum\": 1 }\n",
    "        }\n",
    "    },\n",
    "   \n",
    "])\n"
   ]
  },
  {
   "cell_type": "markdown",
   "id": "8d9d5863",
   "metadata": {},
   "source": [
    "Now we'll read our query result into a Series."
   ]
  },
  {
   "cell_type": "code",
   "execution_count": 14,
   "id": "7f2bd83b-0b20-42e2-9829-24fa38cf4b0c",
   "metadata": {},
   "outputs": [
    {
     "data": {
      "text/html": [
       "\n",
       "        <iframe\n",
       "            width=\"600\"\n",
       "            height=\"300\"\n",
       "            src=\"https://player.vimeo.com/video/734516829?h=9c7014eb8d\"\n",
       "            frameborder=\"0\"\n",
       "            allowfullscreen\n",
       "            \n",
       "        ></iframe>\n",
       "        "
      ],
      "text/plain": [
       "<IPython.lib.display.VimeoVideo at 0x7aea593bd7d0>"
      ]
     },
     "execution_count": 14,
     "metadata": {},
     "output_type": "execute_result"
    }
   ],
   "source": [
    "VimeoVideo(\"734516829\", h=\"9c7014eb8d\", width=600)"
   ]
  },
  {
   "cell_type": "markdown",
   "id": "358ed713-1493-48f4-b0af-995c886989b8",
   "metadata": {},
   "source": [
    "**Task 7.3.5:** Read your `result` from the previous task into the Series `no_quiz`. The Series index should be called `\"date\"`, and the name should be `\"new_users\"`.\n",
    "\n",
    "- [Create a DataFrame from a dictionary using pandas.](../%40textbook/03-pandas-getting-started.ipynb#Working-with-DataFrames)\n",
    "- [Rename columns in a DataFrame using pandas.](../%40textbook/03-pandas-getting-started.ipynb#Rename-a-Series)\n",
    "- [Set and reset the index of a DataFrame in pandas.](../%40textbook/03-pandas-getting-started.ipynb#Working-with-DataFrame-Indices)\n",
    "- [Sort a DataFrame or Series in pandas.](../%40textbook/03-pandas-getting-started.ipynb#Sorting)"
   ]
  },
  {
   "cell_type": "code",
   "execution_count": 31,
   "id": "a94fcd9e-f54d-4947-a24a-4ac6148c6cdb",
   "metadata": {},
   "outputs": [
    {
     "name": "stdout",
     "output_type": "stream",
     "text": [
      "no_quiz type: <class 'pandas.core.series.Series'>\n",
      "no_quiz shape: (30,)\n",
      "date\n",
      "2022-05-01    37\n",
      "2022-05-02    49\n",
      "2022-05-03    43\n",
      "2022-05-04    48\n",
      "2022-05-05    47\n",
      "Name: new_users, dtype: int64\n"
     ]
    }
   ],
   "source": [
    "no_quiz = (\n",
    "    pd.DataFrame(list(result))\n",
    "    .rename({\"_id\":\"date\",\"count\":\"new_users\"},axis=1).set_index(\"date\").sort_index().squeeze()\n",
    "    \n",
    ")\n",
    "\n",
    "print(\"no_quiz type:\", type(no_quiz))\n",
    "print(\"no_quiz shape:\", no_quiz.shape)\n",
    "print(no_quiz.head())"
   ]
  },
  {
   "cell_type": "markdown",
   "id": "11af9190",
   "metadata": {},
   "source": [
    "Okay! Let's see what we've got here by creating a histogram."
   ]
  },
  {
   "cell_type": "code",
   "execution_count": 32,
   "id": "3c157f70-a11a-4adc-a919-6b59ca94059b",
   "metadata": {},
   "outputs": [
    {
     "data": {
      "text/html": [
       "\n",
       "        <iframe\n",
       "            width=\"600\"\n",
       "            height=\"300\"\n",
       "            src=\"https://player.vimeo.com/video/734516524?h=c1e506e702\"\n",
       "            frameborder=\"0\"\n",
       "            allowfullscreen\n",
       "            \n",
       "        ></iframe>\n",
       "        "
      ],
      "text/plain": [
       "<IPython.lib.display.VimeoVideo at 0x7aea4393bdd0>"
      ]
     },
     "execution_count": 32,
     "metadata": {},
     "output_type": "execute_result"
    }
   ],
   "source": [
    "VimeoVideo(\"734516524\", h=\"c1e506e702\", width=600)"
   ]
  },
  {
   "cell_type": "markdown",
   "id": "98f0f400-5067-4b3c-9dc8-417edddabd86",
   "metadata": {},
   "source": [
    "**Task 7.3.6:** Create a histogram of `no_quiz`. Be sure to label the x-axis `\"New Users with No Quiz\"`, the y-axis `\"Frequency [count]\"`, and use the title `\"Distribution of Daily New Users with No Quiz\"`.\n",
    "\n",
    "- [Create a histogram using pandas.](../%40textbook/07-visualization-pandas.ipynb#Histograms)"
   ]
  },
  {
   "cell_type": "code",
   "execution_count": 35,
   "id": "186ef9e7-0ac4-442b-93fc-a388bb7e126d",
   "metadata": {},
   "outputs": [
    {
     "data": {
      "text/plain": [
       "Text(0.5, 1.0, 'Distribution of Daily New Users with No Quiz')"
      ]
     },
     "execution_count": 35,
     "metadata": {},
     "output_type": "execute_result"
    },
    {
     "data": {
      "image/png": "[encoded data removed]",
      "text/plain": [
       "<Figure size 640x480 with 1 Axes>"
      ]
     },
     "metadata": {},
     "output_type": "display_data"
    }
   ],
   "source": [
    "# Create histogram of `no_quiz`\n",
    "no_quiz.hist()\n",
    "# Add axis labels and title\n",
    "plt.xlabel(\"New Users with No Quiz\")\n",
    "plt.ylabel(\"Frequency [count]\")\n",
    "plt.title(\"Distribution of Daily New Users with No Quiz\")"
   ]
  },
  {
   "cell_type": "markdown",
   "id": "be0128cf",
   "metadata": {},
   "source": [
    "We can see that somewhere between 30–60 no-quiz applicants come to the site every day. But how can we use this information to ensure that we get our 400 observations? We need to calculate the mean and standard deviation of this distribution. "
   ]
  },
  {
   "cell_type": "code",
   "execution_count": null,
   "id": "017b4f27-1fef-4ae1-a21d-bdbd4ec6f005",
   "metadata": {},
   "outputs": [],
   "source": [
    "VimeoVideo(\"734516130\", h=\"a93fabac0f\", width=600)"
   ]
  },
  {
   "cell_type": "markdown",
   "id": "4cf26603-58ca-4e9b-92cd-4688ad324323",
   "metadata": {},
   "source": [
    "**Task 7.3.7:** Calculate the mean and standard deviation of the values in `no_quiz`, and assign them to the variables `mean` and `std`, respectively.\n",
    "\n",
    "- [Calculate summary statistics for a DataFrame or Series in pandas.](../%40textbook/05-pandas-summary-statistics.ipynb#Working-with-Summary-Statistics)"
   ]
  },
  {
   "cell_type": "code",
   "execution_count": 36,
   "id": "5836cc3d-8c28-498c-8694-a06d2b78e6e0",
   "metadata": {},
   "outputs": [
    {
     "name": "stdout",
     "output_type": "stream",
     "text": [
      "no_quiz mean: 43.6\n",
      "no_quiz std: 6.398275629767974\n"
     ]
    }
   ],
   "source": [
    "mean = no_quiz.mean()\n",
    "std = no_quiz.std()\n",
    "print(\"no_quiz mean:\", mean)\n",
    "print(\"no_quiz std:\", std)"
   ]
  },
  {
   "cell_type": "markdown",
   "id": "db5ace15-5bdb-4ade-9d6d-3a5f5bf44dfb",
   "metadata": {},
   "source": [
    "The exact answers you'll get here will be a little different, but you should see a mean around 40 and a standard deviation between 7 and 8. Taking those rough numbers as a guide, how many days do we need to run the experiment to make sure we get to 400 users?\n",
    "\n",
    "Intuitively, you might think the answer is 10 days, because $10 \\cdot 40 = 400$. But we can't guarantee that we'll get 40 new users every day. Some days, there will be fewer; some days, more. So how can we estimate how many days we'll need? Statistics!\n",
    "\n",
    "The distribution we plotted above shows how many no-quiz applicants come to the site *each day*, but we can use that mean and standard deviation to create a new distribution — one for the sum of no-quiz applicants over *several days*. Let's start with our intuition, and create a distribution for 10 days."
   ]
  },
  {
   "cell_type": "code",
   "execution_count": 37,
   "id": "dee2c7ad-238e-4b44-95fe-5953fe82f545",
   "metadata": {},
   "outputs": [
    {
     "data": {
      "text/html": [
       "\n",
       "        <iframe\n",
       "            width=\"600\"\n",
       "            height=\"300\"\n",
       "            src=\"https://player.vimeo.com/video/742459088?h=1962b016f9\"\n",
       "            frameborder=\"0\"\n",
       "            allowfullscreen\n",
       "            \n",
       "        ></iframe>\n",
       "        "
      ],
      "text/plain": [
       "<IPython.lib.display.VimeoVideo at 0x7aea40603e90>"
      ]
     },
     "execution_count": 37,
     "metadata": {},
     "output_type": "execute_result"
    }
   ],
   "source": [
    "VimeoVideo(\"742459088\", h=\"1962b016f9\", width=600)"
   ]
  },
  {
   "cell_type": "markdown",
   "id": "35245a46-f900-49d5-873b-14a0c3279003",
   "metadata": {},
   "source": [
    "**Task 7.3.8:** Calculate the mean and standard deviation of the probability distribution for the total number of sign-ups over 10 days. \n",
    "\n",
    "- [What's the central limit theorem?](../%40textbook/20-statistics.ipynb#Central-Limit-Theorem)"
   ]
  },
  {
   "cell_type": "code",
   "execution_count": 38,
   "id": "9a5e362d-1244-488f-8e37-26480c4acad3",
   "metadata": {},
   "outputs": [
    {
     "name": "stdout",
     "output_type": "stream",
     "text": [
      "Mean of sum: 436.0\n",
      "Std of sum: 20.233124087615032\n"
     ]
    }
   ],
   "source": [
    "days = 10\n",
    "sum_mean = days*mean\n",
    "sum_std = std*math.sqrt(days)\n",
    "print(\"Mean of sum:\", sum_mean)\n",
    "print(\"Std of sum:\", sum_std)"
   ]
  },
  {
   "cell_type": "markdown",
   "id": "ae23a9c3-28d2-44b0-bf2b-a793212fd154",
   "metadata": {},
   "source": [
    "With this new distribution, we want to know what the probability is that we'll have 400 or more no-quiz applicants after 10 days. We can calculate this using the **cumulative density function** or CDF. The CDF will give us the probability of having 400 or fewer no-quiz applicants, so we'll need to subtract our result from 1."
   ]
  },
  {
   "cell_type": "markdown",
   "id": "eb7f7a19-e322-4931-8f2f-581e47a3b9af",
   "metadata": {},
   "source": [
    "**Task 7.3.9:** Calculate the probability of getting 400 or more sign-ups over three days.\n",
    "\n",
    "- [What's a cumulative density function?](../%40textbook/20-statistics.ipynb#Cumulative-Density-Functions)\n",
    "- [Calculate the cumulative density function for a normal distribution using SciPy.](../%40textbook/20-statistics.ipynb#Cumulative-Density-Functions)"
   ]
  },
  {
   "cell_type": "code",
   "execution_count": 41,
   "id": "9bce99af-ce5b-43b2-9661-79d8d9819113",
   "metadata": {},
   "outputs": [
    {
     "data": {
      "text/html": [
       "\n",
       "        <iframe\n",
       "            width=\"600\"\n",
       "            height=\"300\"\n",
       "            src=\"https://player.vimeo.com/video/742459015?h=33ad7b37ca\"\n",
       "            frameborder=\"0\"\n",
       "            allowfullscreen\n",
       "            \n",
       "        ></iframe>\n",
       "        "
      ],
      "text/plain": [
       "<IPython.lib.display.VimeoVideo at 0x7aea405b0d10>"
      ]
     },
     "execution_count": 41,
     "metadata": {},
     "output_type": "execute_result"
    }
   ],
   "source": [
    "VimeoVideo(\"742459015\", h=\"33ad7b37ca\", width=600)"
   ]
  },
  {
   "cell_type": "code",
   "execution_count": 50,
   "id": "c57a2d9c-4eb6-4894-9f97-d86958dcad16",
   "metadata": {},
   "outputs": [
    {
     "name": "stdout",
     "output_type": "stream",
     "text": [
      "Probability of getting 400+ no_quiz in 10 days: 0.981\n"
     ]
    }
   ],
   "source": [
    "prob_400_or_fewer =scipy.stats.norm.cdf(group_size*2,loc=sum_mean,scale=sum_std)\n",
    "prob_400_or_greater = 1-prob_400_or_fewer\n",
    "\n",
    "print(\n",
    "    f\"Probability of getting 400+ no_quiz in {days} days:\",\n",
    "    round(prob_400_or_greater, 3),\n",
    ")"
   ]
  },
  {
   "cell_type": "markdown",
   "id": "bc85ad68",
   "metadata": {},
   "source": [
    "Again, the exact probability will change every time we regenerate the database, but there should be around a 90% chance that we'll get the number of applicants we need over 10 days. \n",
    "\n",
    "Since we're talking about finding an optimal timeframe, though, try out some other possibilities. Try changing the value of `days` in Task 7.3.8, and see what happens when you run 7.3.9. Cool, huh?"
   ]
  },
  {
   "cell_type": "markdown",
   "id": "aff259fe",
   "metadata": {},
   "source": [
    "# Running the Experiment\n",
    "\n",
    "Okay, now we know how many applicants we need and what the timeframe needs to be. Let's actually run the experiment!"
   ]
  },
  {
   "cell_type": "code",
   "execution_count": 51,
   "id": "a37290e7-8f38-45e0-8ec0-67061f34cd03",
   "metadata": {},
   "outputs": [
    {
     "data": {
      "text/html": [
       "\n",
       "        <iframe\n",
       "            width=\"600\"\n",
       "            height=\"300\"\n",
       "            src=\"https://player.vimeo.com/video/734515713?h=7702f5163d\"\n",
       "            frameborder=\"0\"\n",
       "            allowfullscreen\n",
       "            \n",
       "        ></iframe>\n",
       "        "
      ],
      "text/plain": [
       "<IPython.lib.display.VimeoVideo at 0x7aea405d7590>"
      ]
     },
     "execution_count": 51,
     "metadata": {},
     "output_type": "execute_result"
    }
   ],
   "source": [
    "VimeoVideo(\"734515713\", h=\"7702f5163d\", width=600)"
   ]
  },
  {
   "cell_type": "markdown",
   "id": "ccde56d4-d9bd-40e4-b5a2-54ab1d0fd9e8",
   "metadata": {},
   "source": [
    "**Task 7.3.10:** Using the `Experiment` object created below, run your experiment for the appropriate number of days."
   ]
  },
  {
   "cell_type": "code",
   "execution_count": 52,
   "id": "d4c6f106",
   "metadata": {},
   "outputs": [
    {
     "name": "stdout",
     "output_type": "stream",
     "text": [
      "result type: <class 'dict'>\n"
     ]
    },
    {
     "data": {
      "text/plain": [
       "{'acknowledged': True, 'inserted_count': 1557}"
      ]
     },
     "execution_count": 52,
     "metadata": {},
     "output_type": "execute_result"
    }
   ],
   "source": [
    "exp = Experiment(repo=client, db=\"wqu-abtest\", collection=\"ds-applicants\")\n",
    "exp.reset_experiment()\n",
    "result = exp.run_experiment(days=10)\n",
    "print(\"result type:\", type(result))\n",
    "result"
   ]
  },
  {
   "cell_type": "markdown",
   "id": "a34c6cc3-3351-4792-a7df-8558032c78a0",
   "metadata": {},
   "source": [
    "# Evaluating Experiment Results\n",
    "\n",
    "After all that work, the actual running of the experiment might seem a little anticlimactic. This is because we automated the process and are working with synthetic data. Let's look at our results?"
   ]
  },
  {
   "cell_type": "markdown",
   "id": "c94bc0e6",
   "metadata": {
    "tags": []
   },
   "source": [
    "## Get Data\n",
    "\n",
    "First, get the data we need by finding just the people who were part of the experiment..."
   ]
  },
  {
   "cell_type": "code",
   "execution_count": 53,
   "id": "75497d58-b50c-4ff4-bb6b-28d9f3f11c7c",
   "metadata": {},
   "outputs": [
    {
     "data": {
      "text/html": [
       "\n",
       "        <iframe\n",
       "            width=\"600\"\n",
       "            height=\"300\"\n",
       "            src=\"https://player.vimeo.com/video/734515601?h=759340caf1\"\n",
       "            frameborder=\"0\"\n",
       "            allowfullscreen\n",
       "            \n",
       "        ></iframe>\n",
       "        "
      ],
      "text/plain": [
       "<IPython.lib.display.VimeoVideo at 0x7aea5925cdd0>"
      ]
     },
     "execution_count": 53,
     "metadata": {},
     "output_type": "execute_result"
    }
   ],
   "source": [
    "VimeoVideo(\"734515601\", h=\"759340caf1\", width=600)"
   ]
  },
  {
   "cell_type": "markdown",
   "id": "e4720bfb-d63e-437b-9e17-461304a9cedc",
   "metadata": {},
   "source": [
    "**Task 7.3.11:** Query `ds_app` to find all the documents that are part of the experiment. \n",
    "\n",
    "- [Query a collection using PyMongo.](../%40textbook/11-databases-mongodb.ipynb#Retrieving-Data)"
   ]
  },
  {
   "cell_type": "code",
   "execution_count": 65,
   "id": "822e6258-3819-4028-ad9b-9c97b1a0688f",
   "metadata": {},
   "outputs": [
    {
     "name": "stdout",
     "output_type": "stream",
     "text": [
      "results type: <class 'pymongo.synchronous.cursor.Cursor'>\n"
     ]
    }
   ],
   "source": [
    "result = ds_app.find({\"inExperiment\":True})\n",
    "print(\"results type:\", type(result))"
   ]
  },
  {
   "cell_type": "markdown",
   "id": "d263b110",
   "metadata": {},
   "source": [
    "...and load them into a DataFrame."
   ]
  },
  {
   "cell_type": "code",
   "execution_count": 63,
   "id": "96708f3c-f9cc-4132-8257-1ff4dc1503c5",
   "metadata": {},
   "outputs": [
    {
     "data": {
      "text/html": [
       "\n",
       "        <iframe\n",
       "            width=\"600\"\n",
       "            height=\"300\"\n",
       "            src=\"https://player.vimeo.com/video/734515308?h=8308ce4a22\"\n",
       "            frameborder=\"0\"\n",
       "            allowfullscreen\n",
       "            \n",
       "        ></iframe>\n",
       "        "
      ],
      "text/plain": [
       "<IPython.lib.display.VimeoVideo at 0x7aea405e6bd0>"
      ]
     },
     "execution_count": 63,
     "metadata": {},
     "output_type": "execute_result"
    }
   ],
   "source": [
    "VimeoVideo(\"734515308\", h=\"8308ce4a22\", width=600)"
   ]
  },
  {
   "cell_type": "markdown",
   "id": "3187228c-7397-4ec8-a3ad-6d8475d96af0",
   "metadata": {},
   "source": [
    "**Task 7.3.12:** Load your `result` from the previous task into the DataFrame `df`. Be sure to drop any rows with `NaN` values.\n",
    "\n",
    "- [Create a DataFrame from a dictionary using pandas.](../%40textbook/03-pandas-getting-started.ipynb#Working-with-DataFrames)\n",
    "- [Drop rows with missing values from a DataFrame using pandas.](../%40textbook/03-pandas-getting-started.ipynb#Dropping-Rows)"
   ]
  },
  {
   "cell_type": "code",
   "execution_count": 66,
   "id": "3ccc2929",
   "metadata": {},
   "outputs": [
    {
     "name": "stdout",
     "output_type": "stream",
     "text": [
      "df type: <class 'pandas.core.frame.DataFrame'>\n",
      "df shape: (436, 12)\n"
     ]
    },
    {
     "data": {
      "text/html": [
       "<div>\n",
       "<style scoped>\n",
       "    .dataframe tbody tr th:only-of-type {\n",
       "        vertical-align: middle;\n",
       "    }\n",
       "\n",
       "    .dataframe tbody tr th {\n",
       "        vertical-align: top;\n",
       "    }\n",
       "\n",
       "    .dataframe thead th {\n",
       "        text-align: right;\n",
       "    }\n",
       "</style>\n",
       "<table border=\"1\" class=\"dataframe\">\n",
       "  <thead>\n",
       "    <tr style=\"text-align: right;\">\n",
       "      <th></th>\n",
       "      <th>_id</th>\n",
       "      <th>createdAt</th>\n",
       "      <th>firstName</th>\n",
       "      <th>lastName</th>\n",
       "      <th>email</th>\n",
       "      <th>birthday</th>\n",
       "      <th>gender</th>\n",
       "      <th>highestDegreeEarned</th>\n",
       "      <th>countryISO2</th>\n",
       "      <th>admissionsQuiz</th>\n",
       "      <th>inExperiment</th>\n",
       "      <th>group</th>\n",
       "    </tr>\n",
       "  </thead>\n",
       "  <tbody>\n",
       "    <tr>\n",
       "      <th>0</th>\n",
       "      <td>68aac0876eb0e521ee74329f</td>\n",
       "      <td>2025-08-28 11:16:33</td>\n",
       "      <td>Nathan</td>\n",
       "      <td>Walker</td>\n",
       "      <td>nathan.walker97@microsift.com</td>\n",
       "      <td>1998-04-30</td>\n",
       "      <td>male</td>\n",
       "      <td>Master's degree</td>\n",
       "      <td>PK</td>\n",
       "      <td>complete</td>\n",
       "      <td>True</td>\n",
       "      <td>email (t)</td>\n",
       "    </tr>\n",
       "    <tr>\n",
       "      <th>1</th>\n",
       "      <td>68aac0876eb0e521ee7432a3</td>\n",
       "      <td>2025-08-24 17:33:31</td>\n",
       "      <td>Russell</td>\n",
       "      <td>Koester</td>\n",
       "      <td>russell.koester72@microsift.com</td>\n",
       "      <td>2000-08-06</td>\n",
       "      <td>male</td>\n",
       "      <td>Bachelor's degree</td>\n",
       "      <td>PK</td>\n",
       "      <td>complete</td>\n",
       "      <td>True</td>\n",
       "      <td>email (t)</td>\n",
       "    </tr>\n",
       "    <tr>\n",
       "      <th>2</th>\n",
       "      <td>68aac0876eb0e521ee7432a4</td>\n",
       "      <td>2025-09-02 11:16:12</td>\n",
       "      <td>Michael</td>\n",
       "      <td>Depasquale</td>\n",
       "      <td>michael.depasquale34@gmall.com</td>\n",
       "      <td>2000-10-21</td>\n",
       "      <td>male</td>\n",
       "      <td>Master's degree</td>\n",
       "      <td>BD</td>\n",
       "      <td>complete</td>\n",
       "      <td>True</td>\n",
       "      <td>email (t)</td>\n",
       "    </tr>\n",
       "    <tr>\n",
       "      <th>3</th>\n",
       "      <td>68aac0876eb0e521ee7432aa</td>\n",
       "      <td>2025-08-30 09:41:56</td>\n",
       "      <td>Fay</td>\n",
       "      <td>Miller</td>\n",
       "      <td>fay.miller53@hotmeal.com</td>\n",
       "      <td>1988-12-28</td>\n",
       "      <td>female</td>\n",
       "      <td>Master's degree</td>\n",
       "      <td>NG</td>\n",
       "      <td>complete</td>\n",
       "      <td>True</td>\n",
       "      <td>email (t)</td>\n",
       "    </tr>\n",
       "    <tr>\n",
       "      <th>4</th>\n",
       "      <td>68aac0876eb0e521ee7432ac</td>\n",
       "      <td>2025-09-01 14:39:43</td>\n",
       "      <td>Robert</td>\n",
       "      <td>Shields</td>\n",
       "      <td>robert.shields94@microsift.com</td>\n",
       "      <td>2003-02-14</td>\n",
       "      <td>male</td>\n",
       "      <td>High School or Baccalaureate</td>\n",
       "      <td>ET</td>\n",
       "      <td>complete</td>\n",
       "      <td>True</td>\n",
       "      <td>email (t)</td>\n",
       "    </tr>\n",
       "  </tbody>\n",
       "</table>\n",
       "</div>"
      ],
      "text/plain": [
       "                        _id           createdAt firstName    lastName  \\\n",
       "0  68aac0876eb0e521ee74329f 2025-08-28 11:16:33    Nathan      Walker   \n",
       "1  68aac0876eb0e521ee7432a3 2025-08-24 17:33:31   Russell     Koester   \n",
       "2  68aac0876eb0e521ee7432a4 2025-09-02 11:16:12   Michael  Depasquale   \n",
       "3  68aac0876eb0e521ee7432aa 2025-08-30 09:41:56       Fay      Miller   \n",
       "4  68aac0876eb0e521ee7432ac 2025-09-01 14:39:43    Robert     Shields   \n",
       "\n",
       "                             email   birthday  gender  \\\n",
       "0    nathan.walker97@microsift.com 1998-04-30    male   \n",
       "1  russell.koester72@microsift.com 2000-08-06    male   \n",
       "2   michael.depasquale34@gmall.com 2000-10-21    male   \n",
       "3         fay.miller53@hotmeal.com 1988-12-28  female   \n",
       "4   robert.shields94@microsift.com 2003-02-14    male   \n",
       "\n",
       "            highestDegreeEarned countryISO2 admissionsQuiz  inExperiment  \\\n",
       "0               Master's degree          PK       complete          True   \n",
       "1             Bachelor's degree          PK       complete          True   \n",
       "2               Master's degree          BD       complete          True   \n",
       "3               Master's degree          NG       complete          True   \n",
       "4  High School or Baccalaureate          ET       complete          True   \n",
       "\n",
       "       group  \n",
       "0  email (t)  \n",
       "1  email (t)  \n",
       "2  email (t)  \n",
       "3  email (t)  \n",
       "4  email (t)  "
      ]
     },
     "execution_count": 66,
     "metadata": {},
     "output_type": "execute_result"
    }
   ],
   "source": [
    "df = pd.DataFrame(result).dropna()\n",
    "\n",
    "print(\"df type:\", type(df))\n",
    "print(\"df shape:\", df.shape)\n",
    "df.head()"
   ]
  },
  {
   "cell_type": "markdown",
   "id": "d157df67",
   "metadata": {
    "tags": []
   },
   "source": [
    "## Build Contingency Table\n",
    "\n",
    "Now that the results are in a DataFrame, we can start pulling apart what we found. Let's start by making a table showing how many people did and didn't complete the quiz across our two groups."
   ]
  },
  {
   "cell_type": "code",
   "execution_count": 67,
   "id": "5e3f4d4d-9583-4d1f-8a20-7cc9afe0761d",
   "metadata": {},
   "outputs": [
    {
     "data": {
      "text/html": [
       "\n",
       "        <iframe\n",
       "            width=\"600\"\n",
       "            height=\"300\"\n",
       "            src=\"https://player.vimeo.com/video/734514187?h=9063c1eccf\"\n",
       "            frameborder=\"0\"\n",
       "            allowfullscreen\n",
       "            \n",
       "        ></iframe>\n",
       "        "
      ],
      "text/plain": [
       "<IPython.lib.display.VimeoVideo at 0x7aea58b6b9d0>"
      ]
     },
     "execution_count": 67,
     "metadata": {},
     "output_type": "execute_result"
    }
   ],
   "source": [
    "VimeoVideo(\"734514187\", h=\"9063c1eccf\", width=600)"
   ]
  },
  {
   "cell_type": "markdown",
   "id": "f0791579-dfc1-4bd3-91a6-ae45e0b188ed",
   "metadata": {},
   "source": [
    "**Task 7.3.13:** Use pandas `crosstab` to create a 2x2 table `data` that shows how many applicants in each experimental group completed and didn't complete the admissions quiz. After you're done, submit your `data` to the grader.\n",
    "\n",
    "- [What's cross tabulation?](../%40textbook/20-statistics.ipynb#Contingency-Tables)\n",
    "- [Compute a cross tabulation in pandas.](../%40textbook/20-statistics.ipynb#Contingency-Tables) "
   ]
  },
  {
   "cell_type": "code",
   "execution_count": 85,
   "id": "34b02ac2",
   "metadata": {},
   "outputs": [
    {
     "name": "stdout",
     "output_type": "stream",
     "text": [
      "data type: <class 'pandas.core.frame.DataFrame'>\n",
      "data shape: (2, 2)\n"
     ]
    },
    {
     "data": {
      "text/html": [
       "<div>\n",
       "<style scoped>\n",
       "    .dataframe tbody tr th:only-of-type {\n",
       "        vertical-align: middle;\n",
       "    }\n",
       "\n",
       "    .dataframe tbody tr th {\n",
       "        vertical-align: top;\n",
       "    }\n",
       "\n",
       "    .dataframe thead th {\n",
       "        text-align: right;\n",
       "    }\n",
       "</style>\n",
       "<table border=\"1\" class=\"dataframe\">\n",
       "  <thead>\n",
       "    <tr style=\"text-align: right;\">\n",
       "      <th>admissionsQuiz</th>\n",
       "      <th>complete</th>\n",
       "      <th>incomplete</th>\n",
       "    </tr>\n",
       "    <tr>\n",
       "      <th>group</th>\n",
       "      <th></th>\n",
       "      <th></th>\n",
       "    </tr>\n",
       "  </thead>\n",
       "  <tbody>\n",
       "    <tr>\n",
       "      <th>email (t)</th>\n",
       "      <td>16</td>\n",
       "      <td>202</td>\n",
       "    </tr>\n",
       "    <tr>\n",
       "      <th>no email (c)</th>\n",
       "      <td>12</td>\n",
       "      <td>206</td>\n",
       "    </tr>\n",
       "  </tbody>\n",
       "</table>\n",
       "</div>"
      ],
      "text/plain": [
       "admissionsQuiz  complete  incomplete\n",
       "group                               \n",
       "email (t)             16         202\n",
       "no email (c)          12         206"
      ]
     },
     "execution_count": 85,
     "metadata": {},
     "output_type": "execute_result"
    }
   ],
   "source": [
    "data = pd.crosstab(index=df[\"group\"],columns=df[\"admissionsQuiz\"],normalize=False)\n",
    "\n",
    "print(\"data type:\", type(data))\n",
    "print(\"data shape:\", data.shape)\n",
    "data"
   ]
  },
  {
   "cell_type": "markdown",
   "id": "8171b267",
   "metadata": {},
   "source": [
    "Just to make it easier to see, let's show the results in a side-by-side bar chart."
   ]
  },
  {
   "cell_type": "code",
   "execution_count": 69,
   "id": "88492a1c-cf7c-4f26-9c0e-a2b890cbc4cb",
   "metadata": {},
   "outputs": [
    {
     "data": {
      "text/html": [
       "\n",
       "        <iframe\n",
       "            width=\"600\"\n",
       "            height=\"300\"\n",
       "            src=\"https://player.vimeo.com/video/734513651?h=cc012589ac\"\n",
       "            frameborder=\"0\"\n",
       "            allowfullscreen\n",
       "            \n",
       "        ></iframe>\n",
       "        "
      ],
      "text/plain": [
       "<IPython.lib.display.VimeoVideo at 0x7aea58f31ed0>"
      ]
     },
     "execution_count": 69,
     "metadata": {},
     "output_type": "execute_result"
    }
   ],
   "source": [
    "VimeoVideo(\"734513651\", h=\"cc012589ac\", width=600)"
   ]
  },
  {
   "cell_type": "markdown",
   "id": "01e331ed-d205-4b4c-90c3-6d6d58200d98",
   "metadata": {},
   "source": [
    "**Task 7.3.14:** Create a function that returns side-by-side bar chart from `data`, showing the number of complete and incomplete quizzes for both the treatment and control groups. Be sure to label the x-axis `\"Group\"`, the y-axis `\"Frequency [count]\"`, and use the title `\"Admissions Quiz Completion by Group\"`.\n",
    "\n",
    "- [What's a bar chart?](../%40textbook/07-visualization-pandas.ipynb#Bar-Charts)\n",
    "- [Create a bar chart using plotly express.](../%40textbook/08-visualization-plotly.ipynb#Bar-Chart)<span style='color: transparent; font-size:1%'>WQU WorldQuant University Applied Data Science Lab QQQQ</span>"
   ]
  },
  {
   "cell_type": "code",
   "execution_count": 72,
   "id": "a62f5368-83a6-4ca0-802a-cfbfe77b3ec3",
   "metadata": {},
   "outputs": [
    {
     "data": {
      "application/vnd.plotly.v1+json": {
       "config": {
        "plotlyServerURL": "https://plot.ly"
       },
       "data": [
        {
         "alignmentgroup": "True",
         "hovertemplate": "admissionsQuiz=complete<br>group=%{x}<br>value=%{y}<extra></extra>",
         "legendgroup": "complete",
         "marker": {
          "color": "#636efa",
          "pattern": {
           "shape": ""
          }
         },
         "name": "complete",
         "offsetgroup": "complete",
         "orientation": "v",
         "showlegend": true,
         "textposition": "auto",
         "type": "bar",
         "x": [
          "email (t)",
          "no email (c)"
         ],
         "xaxis": "x",
         "y": [
          16,
          12
         ],
         "yaxis": "y"
        },
        {
         "alignmentgroup": "True",
         "hovertemplate": "admissionsQuiz=incomplete<br>group=%{x}<br>value=%{y}<extra></extra>",
         "legendgroup": "incomplete",
         "marker": {
          "color": "#EF553B",
          "pattern": {
           "shape": ""
          }
         },
         "name": "incomplete",
         "offsetgroup": "incomplete",
         "orientation": "v",
         "showlegend": true,
         "textposition": "auto",
         "type": "bar",
         "x": [
          "email (t)",
          "no email (c)"
         ],
         "xaxis": "x",
         "y": [
          202,
          206
         ],
         "yaxis": "y"
        }
       ],
       "layout": {
        "barmode": "group",
        "legend": {
         "title": {
          "text": "Admission Quiz"
         },
         "tracegroupgap": 0
        },
        "template": {
         "data": {
          "bar": [
           {
            "error_x": {
             "color": "#2a3f5f"
            },
            "error_y": {
             "color": "#2a3f5f"
            },
            "marker": {
             "line": {
              "color": "#E5ECF6",
              "width": 0.5
             },
             "pattern": {
              "fillmode": "overlay",
              "size": 10,
              "solidity": 0.2
             }
            },
            "type": "bar"
           }
          ],
          "barpolar": [
           {
            "marker": {
             "line": {
              "color": "#E5ECF6",
              "width": 0.5
             },
             "pattern": {
              "fillmode": "overlay",
              "size": 10,
              "solidity": 0.2
             }
            },
            "type": "barpolar"
           }
          ],
          "carpet": [
           {
            "aaxis": {
             "endlinecolor": "#2a3f5f",
             "gridcolor": "white",
             "linecolor": "white",
             "minorgridcolor": "white",
             "startlinecolor": "#2a3f5f"
            },
            "baxis": {
             "endlinecolor": "#2a3f5f",
             "gridcolor": "white",
             "linecolor": "white",
             "minorgridcolor": "white",
             "startlinecolor": "#2a3f5f"
            },
            "type": "carpet"
           }
          ],
          "choropleth": [
           {
            "colorbar": {
             "outlinewidth": 0,
             "ticks": ""
            },
            "type": "choropleth"
           }
          ],
          "contour": [
           {
            "colorbar": {
             "outlinewidth": 0,
             "ticks": ""
            },
            "colorscale": [
             [
              0,
              "#0d0887"
             ],
             [
              0.1111111111111111,
              "#46039f"
             ],
             [
              0.2222222222222222,
              "#7201a8"
             ],
             [
              0.3333333333333333,
              "#9c179e"
             ],
             [
              0.4444444444444444,
              "#bd3786"
             ],
             [
              0.5555555555555556,
              "#d8576b"
             ],
             [
              0.6666666666666666,
              "#ed7953"
             ],
             [
              0.7777777777777778,
              "#fb9f3a"
             ],
             [
              0.8888888888888888,
              "#fdca26"
             ],
             [
              1,
              "#f0f921"
             ]
            ],
            "type": "contour"
           }
          ],
          "contourcarpet": [
           {
            "colorbar": {
             "outlinewidth": 0,
             "ticks": ""
            },
            "type": "contourcarpet"
           }
          ],
          "heatmap": [
           {
            "colorbar": {
             "outlinewidth": 0,
             "ticks": ""
            },
            "colorscale": [
             [
              0,
              "#0d0887"
             ],
             [
              0.1111111111111111,
              "#46039f"
             ],
             [
              0.2222222222222222,
              "#7201a8"
             ],
             [
              0.3333333333333333,
              "#9c179e"
             ],
             [
              0.4444444444444444,
              "#bd3786"
             ],
             [
              0.5555555555555556,
              "#d8576b"
             ],
             [
              0.6666666666666666,
              "#ed7953"
             ],
             [
              0.7777777777777778,
              "#fb9f3a"
             ],
             [
              0.8888888888888888,
              "#fdca26"
             ],
             [
              1,
              "#f0f921"
             ]
            ],
            "type": "heatmap"
           }
          ],
          "heatmapgl": [
           {
            "colorbar": {
             "outlinewidth": 0,
             "ticks": ""
            },
            "colorscale": [
             [
              0,
              "#0d0887"
             ],
             [
              0.1111111111111111,
              "#46039f"
             ],
             [
              0.2222222222222222,
              "#7201a8"
             ],
             [
              0.3333333333333333,
              "#9c179e"
             ],
             [
              0.4444444444444444,
              "#bd3786"
             ],
             [
              0.5555555555555556,
              "#d8576b"
             ],
             [
              0.6666666666666666,
              "#ed7953"
             ],
             [
              0.7777777777777778,
              "#fb9f3a"
             ],
             [
              0.8888888888888888,
              "#fdca26"
             ],
             [
              1,
              "#f0f921"
             ]
            ],
            "type": "heatmapgl"
           }
          ],
          "histogram": [
           {
            "marker": {
             "pattern": {
              "fillmode": "overlay",
              "size": 10,
              "solidity": 0.2
             }
            },
            "type": "histogram"
           }
          ],
          "histogram2d": [
           {
            "colorbar": {
             "outlinewidth": 0,
             "ticks": ""
            },
            "colorscale": [
             [
              0,
              "#0d0887"
             ],
             [
              0.1111111111111111,
              "#46039f"
             ],
             [
              0.2222222222222222,
              "#7201a8"
             ],
             [
              0.3333333333333333,
              "#9c179e"
             ],
             [
              0.4444444444444444,
              "#bd3786"
             ],
             [
              0.5555555555555556,
              "#d8576b"
             ],
             [
              0.6666666666666666,
              "#ed7953"
             ],
             [
              0.7777777777777778,
              "#fb9f3a"
             ],
             [
              0.8888888888888888,
              "#fdca26"
             ],
             [
              1,
              "#f0f921"
             ]
            ],
            "type": "histogram2d"
           }
          ],
          "histogram2dcontour": [
           {
            "colorbar": {
             "outlinewidth": 0,
             "ticks": ""
            },
            "colorscale": [
             [
              0,
              "#0d0887"
             ],
             [
              0.1111111111111111,
              "#46039f"
             ],
             [
              0.2222222222222222,
              "#7201a8"
             ],
             [
              0.3333333333333333,
              "#9c179e"
             ],
             [
              0.4444444444444444,
              "#bd3786"
             ],
             [
              0.5555555555555556,
              "#d8576b"
             ],
             [
              0.6666666666666666,
              "#ed7953"
             ],
             [
              0.7777777777777778,
              "#fb9f3a"
             ],
             [
              0.8888888888888888,
              "#fdca26"
             ],
             [
              1,
              "#f0f921"
             ]
            ],
            "type": "histogram2dcontour"
           }
          ],
          "mesh3d": [
           {
            "colorbar": {
             "outlinewidth": 0,
             "ticks": ""
            },
            "type": "mesh3d"
           }
          ],
          "parcoords": [
           {
            "line": {
             "colorbar": {
              "outlinewidth": 0,
              "ticks": ""
             }
            },
            "type": "parcoords"
           }
          ],
          "pie": [
           {
            "automargin": true,
            "type": "pie"
           }
          ],
          "scatter": [
           {
            "fillpattern": {
             "fillmode": "overlay",
             "size": 10,
             "solidity": 0.2
            },
            "type": "scatter"
           }
          ],
          "scatter3d": [
           {
            "line": {
             "colorbar": {
              "outlinewidth": 0,
              "ticks": ""
             }
            },
            "marker": {
             "colorbar": {
              "outlinewidth": 0,
              "ticks": ""
             }
            },
            "type": "scatter3d"
           }
          ],
          "scattercarpet": [
           {
            "marker": {
             "colorbar": {
              "outlinewidth": 0,
              "ticks": ""
             }
            },
            "type": "scattercarpet"
           }
          ],
          "scattergeo": [
           {
            "marker": {
             "colorbar": {
              "outlinewidth": 0,
              "ticks": ""
             }
            },
            "type": "scattergeo"
           }
          ],
          "scattergl": [
           {
            "marker": {
             "colorbar": {
              "outlinewidth": 0,
              "ticks": ""
             }
            },
            "type": "scattergl"
           }
          ],
          "scattermapbox": [
           {
            "marker": {
             "colorbar": {
              "outlinewidth": 0,
              "ticks": ""
             }
            },
            "type": "scattermapbox"
           }
          ],
          "scatterpolar": [
           {
            "marker": {
             "colorbar": {
              "outlinewidth": 0,
              "ticks": ""
             }
            },
            "type": "scatterpolar"
           }
          ],
          "scatterpolargl": [
           {
            "marker": {
             "colorbar": {
              "outlinewidth": 0,
              "ticks": ""
             }
            },
            "type": "scatterpolargl"
           }
          ],
          "scatterternary": [
           {
            "marker": {
             "colorbar": {
              "outlinewidth": 0,
              "ticks": ""
             }
            },
            "type": "scatterternary"
           }
          ],
          "surface": [
           {
            "colorbar": {
             "outlinewidth": 0,
             "ticks": ""
            },
            "colorscale": [
             [
              0,
              "#0d0887"
             ],
             [
              0.1111111111111111,
              "#46039f"
             ],
             [
              0.2222222222222222,
              "#7201a8"
             ],
             [
              0.3333333333333333,
              "#9c179e"
             ],
             [
              0.4444444444444444,
              "#bd3786"
             ],
             [
              0.5555555555555556,
              "#d8576b"
             ],
             [
              0.6666666666666666,
              "#ed7953"
             ],
             [
              0.7777777777777778,
              "#fb9f3a"
             ],
             [
              0.8888888888888888,
              "#fdca26"
             ],
             [
              1,
              "#f0f921"
             ]
            ],
            "type": "surface"
           }
          ],
          "table": [
           {
            "cells": {
             "fill": {
              "color": "#EBF0F8"
             },
             "line": {
              "color": "white"
             }
            },
            "header": {
             "fill": {
              "color": "#C8D4E3"
             },
             "line": {
              "color": "white"
             }
            },
            "type": "table"
           }
          ]
         },
         "layout": {
          "annotationdefaults": {
           "arrowcolor": "#2a3f5f",
           "arrowhead": 0,
           "arrowwidth": 1
          },
          "autotypenumbers": "strict",
          "coloraxis": {
           "colorbar": {
            "outlinewidth": 0,
            "ticks": ""
           }
          },
          "colorscale": {
           "diverging": [
            [
             0,
             "#8e0152"
            ],
            [
             0.1,
             "#c51b7d"
            ],
            [
             0.2,
             "#de77ae"
            ],
            [
             0.3,
             "#f1b6da"
            ],
            [
             0.4,
             "#fde0ef"
            ],
            [
             0.5,
             "#f7f7f7"
            ],
            [
             0.6,
             "#e6f5d0"
            ],
            [
             0.7,
             "#b8e186"
            ],
            [
             0.8,
             "#7fbc41"
            ],
            [
             0.9,
             "#4d9221"
            ],
            [
             1,
             "#276419"
            ]
           ],
           "sequential": [
            [
             0,
             "#0d0887"
            ],
            [
             0.1111111111111111,
             "#46039f"
            ],
            [
             0.2222222222222222,
             "#7201a8"
            ],
            [
             0.3333333333333333,
             "#9c179e"
            ],
            [
             0.4444444444444444,
             "#bd3786"
            ],
            [
             0.5555555555555556,
             "#d8576b"
            ],
            [
             0.6666666666666666,
             "#ed7953"
            ],
            [
             0.7777777777777778,
             "#fb9f3a"
            ],
            [
             0.8888888888888888,
             "#fdca26"
            ],
            [
             1,
             "#f0f921"
            ]
           ],
           "sequentialminus": [
            [
             0,
             "#0d0887"
            ],
            [
             0.1111111111111111,
             "#46039f"
            ],
            [
             0.2222222222222222,
             "#7201a8"
            ],
            [
             0.3333333333333333,
             "#9c179e"
            ],
            [
             0.4444444444444444,
             "#bd3786"
            ],
            [
             0.5555555555555556,
             "#d8576b"
            ],
            [
             0.6666666666666666,
             "#ed7953"
            ],
            [
             0.7777777777777778,
             "#fb9f3a"
            ],
            [
             0.8888888888888888,
             "#fdca26"
            ],
            [
             1,
             "#f0f921"
            ]
           ]
          },
          "colorway": [
           "#636efa",
           "#EF553B",
           "#00cc96",
           "#ab63fa",
           "#FFA15A",
           "#19d3f3",
           "#FF6692",
           "#B6E880",
           "#FF97FF",
           "#FECB52"
          ],
          "font": {
           "color": "#2a3f5f"
          },
          "geo": {
           "bgcolor": "white",
           "lakecolor": "white",
           "landcolor": "#E5ECF6",
           "showlakes": true,
           "showland": true,
           "subunitcolor": "white"
          },
          "hoverlabel": {
           "align": "left"
          },
          "hovermode": "closest",
          "mapbox": {
           "style": "light"
          },
          "paper_bgcolor": "white",
          "plot_bgcolor": "#E5ECF6",
          "polar": {
           "angularaxis": {
            "gridcolor": "white",
            "linecolor": "white",
            "ticks": ""
           },
           "bgcolor": "#E5ECF6",
           "radialaxis": {
            "gridcolor": "white",
            "linecolor": "white",
            "ticks": ""
           }
          },
          "scene": {
           "xaxis": {
            "backgroundcolor": "#E5ECF6",
            "gridcolor": "white",
            "gridwidth": 2,
            "linecolor": "white",
            "showbackground": true,
            "ticks": "",
            "zerolinecolor": "white"
           },
           "yaxis": {
            "backgroundcolor": "#E5ECF6",
            "gridcolor": "white",
            "gridwidth": 2,
            "linecolor": "white",
            "showbackground": true,
            "ticks": "",
            "zerolinecolor": "white"
           },
           "zaxis": {
            "backgroundcolor": "#E5ECF6",
            "gridcolor": "white",
            "gridwidth": 2,
            "linecolor": "white",
            "showbackground": true,
            "ticks": "",
            "zerolinecolor": "white"
           }
          },
          "shapedefaults": {
           "line": {
            "color": "#2a3f5f"
           }
          },
          "ternary": {
           "aaxis": {
            "gridcolor": "white",
            "linecolor": "white",
            "ticks": ""
           },
           "baxis": {
            "gridcolor": "white",
            "linecolor": "white",
            "ticks": ""
           },
           "bgcolor": "#E5ECF6",
           "caxis": {
            "gridcolor": "white",
            "linecolor": "white",
            "ticks": ""
           }
          },
          "title": {
           "x": 0.05
          },
          "xaxis": {
           "automargin": true,
           "gridcolor": "white",
           "linecolor": "white",
           "ticks": "",
           "title": {
            "standoff": 15
           },
           "zerolinecolor": "white",
           "zerolinewidth": 2
          },
          "yaxis": {
           "automargin": true,
           "gridcolor": "white",
           "linecolor": "white",
           "ticks": "",
           "title": {
            "standoff": 15
           },
           "zerolinecolor": "white",
           "zerolinewidth": 2
          }
         }
        },
        "title": {
         "text": "Admissions Quiz Completion by Group"
        },
        "xaxis": {
         "anchor": "y",
         "domain": [
          0,
          1
         ],
         "title": {
          "text": "Group"
         }
        },
        "yaxis": {
         "anchor": "x",
         "domain": [
          0,
          1
         ],
         "title": {
          "text": "Frequency [count]"
         }
        }
       }
      },
      "image/png": "[encoded data removed]",
      "text/html": [
       "<div>                            <div id=\"9e918cac-761d-4bb5-8088-2e6fe0fb7da2\" class=\"plotly-graph-div\" style=\"height:525px; width:100%;\"></div>            <script type=\"text/javascript\">                require([\"plotly\"], function(Plotly) {                    window.PLOTLYENV=window.PLOTLYENV || {};                                    if (document.getElementById(\"9e918cac-761d-4bb5-8088-2e6fe0fb7da2\")) {                    Plotly.newPlot(                        \"9e918cac-761d-4bb5-8088-2e6fe0fb7da2\",                        [{\"alignmentgroup\":\"True\",\"hovertemplate\":\"admissionsQuiz=complete\\u003cbr\\u003egroup=%{x}\\u003cbr\\u003evalue=%{y}\\u003cextra\\u003e\\u003c\\u002fextra\\u003e\",\"legendgroup\":\"complete\",\"marker\":{\"color\":\"#636efa\",\"pattern\":{\"shape\":\"\"}},\"name\":\"complete\",\"offsetgroup\":\"complete\",\"orientation\":\"v\",\"showlegend\":true,\"textposition\":\"auto\",\"x\":[\"email (t)\",\"no email (c)\"],\"xaxis\":\"x\",\"y\":[16,12],\"yaxis\":\"y\",\"type\":\"bar\"},{\"alignmentgroup\":\"True\",\"hovertemplate\":\"admissionsQuiz=incomplete\\u003cbr\\u003egroup=%{x}\\u003cbr\\u003evalue=%{y}\\u003cextra\\u003e\\u003c\\u002fextra\\u003e\",\"legendgroup\":\"incomplete\",\"marker\":{\"color\":\"#EF553B\",\"pattern\":{\"shape\":\"\"}},\"name\":\"incomplete\",\"offsetgroup\":\"incomplete\",\"orientation\":\"v\",\"showlegend\":true,\"textposition\":\"auto\",\"x\":[\"email (t)\",\"no email (c)\"],\"xaxis\":\"x\",\"y\":[202,206],\"yaxis\":\"y\",\"type\":\"bar\"}],                        {\"template\":{\"data\":{\"histogram2dcontour\":[{\"type\":\"histogram2dcontour\",\"colorbar\":{\"outlinewidth\":0,\"ticks\":\"\"},\"colorscale\":[[0.0,\"#0d0887\"],[0.1111111111111111,\"#46039f\"],[0.2222222222222222,\"#7201a8\"],[0.3333333333333333,\"#9c179e\"],[0.4444444444444444,\"#bd3786\"],[0.5555555555555556,\"#d8576b\"],[0.6666666666666666,\"#ed7953\"],[0.7777777777777778,\"#fb9f3a\"],[0.8888888888888888,\"#fdca26\"],[1.0,\"#f0f921\"]]}],\"choropleth\":[{\"type\":\"choropleth\",\"colorbar\":{\"outlinewidth\":0,\"ticks\":\"\"}}],\"histogram2d\":[{\"type\":\"histogram2d\",\"colorbar\":{\"outlinewidth\":0,\"ticks\":\"\"},\"colorscale\":[[0.0,\"#0d0887\"],[0.1111111111111111,\"#46039f\"],[0.2222222222222222,\"#7201a8\"],[0.3333333333333333,\"#9c179e\"],[0.4444444444444444,\"#bd3786\"],[0.5555555555555556,\"#d8576b\"],[0.6666666666666666,\"#ed7953\"],[0.7777777777777778,\"#fb9f3a\"],[0.8888888888888888,\"#fdca26\"],[1.0,\"#f0f921\"]]}],\"heatmap\":[{\"type\":\"heatmap\",\"colorbar\":{\"outlinewidth\":0,\"ticks\":\"\"},\"colorscale\":[[0.0,\"#0d0887\"],[0.1111111111111111,\"#46039f\"],[0.2222222222222222,\"#7201a8\"],[0.3333333333333333,\"#9c179e\"],[0.4444444444444444,\"#bd3786\"],[0.5555555555555556,\"#d8576b\"],[0.6666666666666666,\"#ed7953\"],[0.7777777777777778,\"#fb9f3a\"],[0.8888888888888888,\"#fdca26\"],[1.0,\"#f0f921\"]]}],\"heatmapgl\":[{\"type\":\"heatmapgl\",\"colorbar\":{\"outlinewidth\":0,\"ticks\":\"\"},\"colorscale\":[[0.0,\"#0d0887\"],[0.1111111111111111,\"#46039f\"],[0.2222222222222222,\"#7201a8\"],[0.3333333333333333,\"#9c179e\"],[0.4444444444444444,\"#bd3786\"],[0.5555555555555556,\"#d8576b\"],[0.6666666666666666,\"#ed7953\"],[0.7777777777777778,\"#fb9f3a\"],[0.8888888888888888,\"#fdca26\"],[1.0,\"#f0f921\"]]}],\"contourcarpet\":[{\"type\":\"contourcarpet\",\"colorbar\":{\"outlinewidth\":0,\"ticks\":\"\"}}],\"contour\":[{\"type\":\"contour\",\"colorbar\":{\"outlinewidth\":0,\"ticks\":\"\"},\"colorscale\":[[0.0,\"#0d0887\"],[0.1111111111111111,\"#46039f\"],[0.2222222222222222,\"#7201a8\"],[0.3333333333333333,\"#9c179e\"],[0.4444444444444444,\"#bd3786\"],[0.5555555555555556,\"#d8576b\"],[0.6666666666666666,\"#ed7953\"],[0.7777777777777778,\"#fb9f3a\"],[0.8888888888888888,\"#fdca26\"],[1.0,\"#f0f921\"]]}],\"surface\":[{\"type\":\"surface\",\"colorbar\":{\"outlinewidth\":0,\"ticks\":\"\"},\"colorscale\":[[0.0,\"#0d0887\"],[0.1111111111111111,\"#46039f\"],[0.2222222222222222,\"#7201a8\"],[0.3333333333333333,\"#9c179e\"],[0.4444444444444444,\"#bd3786\"],[0.5555555555555556,\"#d8576b\"],[0.6666666666666666,\"#ed7953\"],[0.7777777777777778,\"#fb9f3a\"],[0.8888888888888888,\"#fdca26\"],[1.0,\"#f0f921\"]]}],\"mesh3d\":[{\"type\":\"mesh3d\",\"colorbar\":{\"outlinewidth\":0,\"ticks\":\"\"}}],\"scatter\":[{\"fillpattern\":{\"fillmode\":\"overlay\",\"size\":10,\"solidity\":0.2},\"type\":\"scatter\"}],\"parcoords\":[{\"type\":\"parcoords\",\"line\":{\"colorbar\":{\"outlinewidth\":0,\"ticks\":\"\"}}}],\"scatterpolargl\":[{\"type\":\"scatterpolargl\",\"marker\":{\"colorbar\":{\"outlinewidth\":0,\"ticks\":\"\"}}}],\"bar\":[{\"error_x\":{\"color\":\"#2a3f5f\"},\"error_y\":{\"color\":\"#2a3f5f\"},\"marker\":{\"line\":{\"color\":\"#E5ECF6\",\"width\":0.5},\"pattern\":{\"fillmode\":\"overlay\",\"size\":10,\"solidity\":0.2}},\"type\":\"bar\"}],\"scattergeo\":[{\"type\":\"scattergeo\",\"marker\":{\"colorbar\":{\"outlinewidth\":0,\"ticks\":\"\"}}}],\"scatterpolar\":[{\"type\":\"scatterpolar\",\"marker\":{\"colorbar\":{\"outlinewidth\":0,\"ticks\":\"\"}}}],\"histogram\":[{\"marker\":{\"pattern\":{\"fillmode\":\"overlay\",\"size\":10,\"solidity\":0.2}},\"type\":\"histogram\"}],\"scattergl\":[{\"type\":\"scattergl\",\"marker\":{\"colorbar\":{\"outlinewidth\":0,\"ticks\":\"\"}}}],\"scatter3d\":[{\"type\":\"scatter3d\",\"line\":{\"colorbar\":{\"outlinewidth\":0,\"ticks\":\"\"}},\"marker\":{\"colorbar\":{\"outlinewidth\":0,\"ticks\":\"\"}}}],\"scattermapbox\":[{\"type\":\"scattermapbox\",\"marker\":{\"colorbar\":{\"outlinewidth\":0,\"ticks\":\"\"}}}],\"scatterternary\":[{\"type\":\"scatterternary\",\"marker\":{\"colorbar\":{\"outlinewidth\":0,\"ticks\":\"\"}}}],\"scattercarpet\":[{\"type\":\"scattercarpet\",\"marker\":{\"colorbar\":{\"outlinewidth\":0,\"ticks\":\"\"}}}],\"carpet\":[{\"aaxis\":{\"endlinecolor\":\"#2a3f5f\",\"gridcolor\":\"white\",\"linecolor\":\"white\",\"minorgridcolor\":\"white\",\"startlinecolor\":\"#2a3f5f\"},\"baxis\":{\"endlinecolor\":\"#2a3f5f\",\"gridcolor\":\"white\",\"linecolor\":\"white\",\"minorgridcolor\":\"white\",\"startlinecolor\":\"#2a3f5f\"},\"type\":\"carpet\"}],\"table\":[{\"cells\":{\"fill\":{\"color\":\"#EBF0F8\"},\"line\":{\"color\":\"white\"}},\"header\":{\"fill\":{\"color\":\"#C8D4E3\"},\"line\":{\"color\":\"white\"}},\"type\":\"table\"}],\"barpolar\":[{\"marker\":{\"line\":{\"color\":\"#E5ECF6\",\"width\":0.5},\"pattern\":{\"fillmode\":\"overlay\",\"size\":10,\"solidity\":0.2}},\"type\":\"barpolar\"}],\"pie\":[{\"automargin\":true,\"type\":\"pie\"}]},\"layout\":{\"autotypenumbers\":\"strict\",\"colorway\":[\"#636efa\",\"#EF553B\",\"#00cc96\",\"#ab63fa\",\"#FFA15A\",\"#19d3f3\",\"#FF6692\",\"#B6E880\",\"#FF97FF\",\"#FECB52\"],\"font\":{\"color\":\"#2a3f5f\"},\"hovermode\":\"closest\",\"hoverlabel\":{\"align\":\"left\"},\"paper_bgcolor\":\"white\",\"plot_bgcolor\":\"#E5ECF6\",\"polar\":{\"bgcolor\":\"#E5ECF6\",\"angularaxis\":{\"gridcolor\":\"white\",\"linecolor\":\"white\",\"ticks\":\"\"},\"radialaxis\":{\"gridcolor\":\"white\",\"linecolor\":\"white\",\"ticks\":\"\"}},\"ternary\":{\"bgcolor\":\"#E5ECF6\",\"aaxis\":{\"gridcolor\":\"white\",\"linecolor\":\"white\",\"ticks\":\"\"},\"baxis\":{\"gridcolor\":\"white\",\"linecolor\":\"white\",\"ticks\":\"\"},\"caxis\":{\"gridcolor\":\"white\",\"linecolor\":\"white\",\"ticks\":\"\"}},\"coloraxis\":{\"colorbar\":{\"outlinewidth\":0,\"ticks\":\"\"}},\"colorscale\":{\"sequential\":[[0.0,\"#0d0887\"],[0.1111111111111111,\"#46039f\"],[0.2222222222222222,\"#7201a8\"],[0.3333333333333333,\"#9c179e\"],[0.4444444444444444,\"#bd3786\"],[0.5555555555555556,\"#d8576b\"],[0.6666666666666666,\"#ed7953\"],[0.7777777777777778,\"#fb9f3a\"],[0.8888888888888888,\"#fdca26\"],[1.0,\"#f0f921\"]],\"sequentialminus\":[[0.0,\"#0d0887\"],[0.1111111111111111,\"#46039f\"],[0.2222222222222222,\"#7201a8\"],[0.3333333333333333,\"#9c179e\"],[0.4444444444444444,\"#bd3786\"],[0.5555555555555556,\"#d8576b\"],[0.6666666666666666,\"#ed7953\"],[0.7777777777777778,\"#fb9f3a\"],[0.8888888888888888,\"#fdca26\"],[1.0,\"#f0f921\"]],\"diverging\":[[0,\"#8e0152\"],[0.1,\"#c51b7d\"],[0.2,\"#de77ae\"],[0.3,\"#f1b6da\"],[0.4,\"#fde0ef\"],[0.5,\"#f7f7f7\"],[0.6,\"#e6f5d0\"],[0.7,\"#b8e186\"],[0.8,\"#7fbc41\"],[0.9,\"#4d9221\"],[1,\"#276419\"]]},\"xaxis\":{\"gridcolor\":\"white\",\"linecolor\":\"white\",\"ticks\":\"\",\"title\":{\"standoff\":15},\"zerolinecolor\":\"white\",\"automargin\":true,\"zerolinewidth\":2},\"yaxis\":{\"gridcolor\":\"white\",\"linecolor\":\"white\",\"ticks\":\"\",\"title\":{\"standoff\":15},\"zerolinecolor\":\"white\",\"automargin\":true,\"zerolinewidth\":2},\"scene\":{\"xaxis\":{\"backgroundcolor\":\"#E5ECF6\",\"gridcolor\":\"white\",\"linecolor\":\"white\",\"showbackground\":true,\"ticks\":\"\",\"zerolinecolor\":\"white\",\"gridwidth\":2},\"yaxis\":{\"backgroundcolor\":\"#E5ECF6\",\"gridcolor\":\"white\",\"linecolor\":\"white\",\"showbackground\":true,\"ticks\":\"\",\"zerolinecolor\":\"white\",\"gridwidth\":2},\"zaxis\":{\"backgroundcolor\":\"#E5ECF6\",\"gridcolor\":\"white\",\"linecolor\":\"white\",\"showbackground\":true,\"ticks\":\"\",\"zerolinecolor\":\"white\",\"gridwidth\":2}},\"shapedefaults\":{\"line\":{\"color\":\"#2a3f5f\"}},\"annotationdefaults\":{\"arrowcolor\":\"#2a3f5f\",\"arrowhead\":0,\"arrowwidth\":1},\"geo\":{\"bgcolor\":\"white\",\"landcolor\":\"#E5ECF6\",\"subunitcolor\":\"white\",\"showland\":true,\"showlakes\":true,\"lakecolor\":\"white\"},\"title\":{\"x\":0.05},\"mapbox\":{\"style\":\"light\"}}},\"xaxis\":{\"anchor\":\"y\",\"domain\":[0.0,1.0],\"title\":{\"text\":\"Group\"}},\"yaxis\":{\"anchor\":\"x\",\"domain\":[0.0,1.0],\"title\":{\"text\":\"Frequency [count]\"}},\"legend\":{\"title\":{\"text\":\"Admission Quiz\"},\"tracegroupgap\":0},\"title\":{\"text\":\"Admissions Quiz Completion by Group\"},\"barmode\":\"group\"},                        {\"responsive\": true}                    ).then(function(){\n",
       "                            \n",
       "var gd = document.getElementById('9e918cac-761d-4bb5-8088-2e6fe0fb7da2');\n",
       "var x = new MutationObserver(function (mutations, observer) {{\n",
       "        var display = window.getComputedStyle(gd).display;\n",
       "        if (!display || display === 'none') {{\n",
       "            console.log([gd, 'removed!']);\n",
       "            Plotly.purge(gd);\n",
       "            observer.disconnect();\n",
       "        }}\n",
       "}});\n",
       "\n",
       "// Listen for the removal of the full notebook cells\n",
       "var notebookContainer = gd.closest('#notebook-container');\n",
       "if (notebookContainer) {{\n",
       "    x.observe(notebookContainer, {childList: true});\n",
       "}}\n",
       "\n",
       "// Listen for the clearing of the current output cell\n",
       "var outputEl = gd.closest('.output');\n",
       "if (outputEl) {{\n",
       "    x.observe(outputEl, {childList: true});\n",
       "}}\n",
       "\n",
       "                        })                };                });            </script>        </div>"
      ]
     },
     "metadata": {},
     "output_type": "display_data"
    }
   ],
   "source": [
    "def build_contingency_bar():\n",
    "    # Create side-by-side bar chart\n",
    "    fig = px.bar(\n",
    "        data_frame=data,\n",
    "        barmode=\"group\",\n",
    "        title=\"Admissions Quiz Completion by Group\"\n",
    "    )\n",
    "    fig.update_layout(\n",
    "        xaxis_title=\"Group\",\n",
    "        yaxis_title=\"Frequency [count]\",\n",
    "        legend={\"title\":\"Admission Quiz\"}\n",
    "    )\n",
    "    # Set axis labels\n",
    "   \n",
    "    return fig\n",
    "\n",
    "\n",
    "build_contingency_bar().show()"
   ]
  },
  {
   "cell_type": "markdown",
   "id": "054c9967",
   "metadata": {},
   "source": [
    "Without doing anything else, we can see that people who got an email actually did complete the quiz more often than people who didn't. So can we conclude that, as a general rule, applicants who receive an email are more likely to complete quiz. No, not yet. After all, the difference we see could be due to chance. \n",
    "\n",
    "In order to determine if this difference is more than random variation, we need to take our results, put them into a **contingency table**, and run a statistical test."
   ]
  },
  {
   "cell_type": "code",
   "execution_count": 73,
   "id": "38911734-793f-461b-99ca-e2493b574d9c",
   "metadata": {},
   "outputs": [
    {
     "data": {
      "text/html": [
       "\n",
       "        <iframe\n",
       "            width=\"600\"\n",
       "            height=\"300\"\n",
       "            src=\"https://player.vimeo.com/video/734512752?h=92e79c3f89\"\n",
       "            frameborder=\"0\"\n",
       "            allowfullscreen\n",
       "            \n",
       "        ></iframe>\n",
       "        "
      ],
      "text/plain": [
       "<IPython.lib.display.VimeoVideo at 0x7aea3742fd90>"
      ]
     },
     "execution_count": 73,
     "metadata": {},
     "output_type": "execute_result"
    }
   ],
   "source": [
    "VimeoVideo(\"734512752\", h=\"92e79c3f89\", width=600)"
   ]
  },
  {
   "cell_type": "markdown",
   "id": "f428df71",
   "metadata": {},
   "source": [
    "**Task 7.3.15:** Instantiate a `Table2x2` object named `contingency_table`, using the values from the `data` you created in the previous task.\n",
    "\n",
    "- [What's a contingency table?](../%40textbook/20-statistics.ipynb#Contingency-Tables) \n",
    "- [Create a contingency table using statsmodels.](../%40textbook/20-statistics.ipynb#Contingency-Tables) "
   ]
  },
  {
   "cell_type": "code",
   "execution_count": 74,
   "id": "e162d5d8",
   "metadata": {},
   "outputs": [
    {
     "name": "stdout",
     "output_type": "stream",
     "text": [
      "contingency_table type: <class 'statsmodels.stats.contingency_tables.Table2x2'>\n"
     ]
    },
    {
     "data": {
      "text/plain": [
       "array([[ 16, 202],\n",
       "       [ 12, 206]])"
      ]
     },
     "execution_count": 74,
     "metadata": {},
     "output_type": "execute_result"
    }
   ],
   "source": [
    "contingency_table = Table2x2(data.values)\n",
    "\n",
    "print(\"contingency_table type:\", type(contingency_table))\n",
    "contingency_table.table_orig"
   ]
  },
  {
   "cell_type": "markdown",
   "id": "f419a186",
   "metadata": {},
   "source": [
    "Now that we have our table, we can calculate what we would expect to see if there was no difference quiz completion between our two groups."
   ]
  },
  {
   "cell_type": "code",
   "execution_count": 75,
   "id": "3149eda9-09b6-4fb1-b49d-bceb0726377c",
   "metadata": {},
   "outputs": [
    {
     "data": {
      "text/html": [
       "\n",
       "        <iframe\n",
       "            width=\"600\"\n",
       "            height=\"300\"\n",
       "            src=\"https://player.vimeo.com/video/734512565?h=4e29a856e1\"\n",
       "            frameborder=\"0\"\n",
       "            allowfullscreen\n",
       "            \n",
       "        ></iframe>\n",
       "        "
      ],
      "text/plain": [
       "<IPython.lib.display.VimeoVideo at 0x7aea3747a490>"
      ]
     },
     "execution_count": 75,
     "metadata": {},
     "output_type": "execute_result"
    }
   ],
   "source": [
    "VimeoVideo(\"734512565\", h=\"4e29a856e1\", width=600)"
   ]
  },
  {
   "cell_type": "markdown",
   "id": "9bade94e-97e5-4286-ad47-737e765460a9",
   "metadata": {},
   "source": [
    "**Task 7.3.16:** Calculate the fitted values for your `contigency_table`.\n",
    "\n",
    "- [Calculate the fitted values for a contingency table in statsmodels.](../%40textbook/20-statistics.ipynb#Contingency-Tables) "
   ]
  },
  {
   "cell_type": "code",
   "execution_count": 87,
   "id": "12a020f2",
   "metadata": {},
   "outputs": [
    {
     "data": {
      "text/plain": [
       "array([[ 14., 204.],\n",
       "       [ 14., 204.]])"
      ]
     },
     "execution_count": 87,
     "metadata": {},
     "output_type": "execute_result"
    }
   ],
   "source": [
    "# Calculate fitted values\n",
    "contingency_table.fittedvalues"
   ]
  },
  {
   "cell_type": "markdown",
   "id": "2b50cedd",
   "metadata": {},
   "source": [
    "These are the counts, but what about probabilities?"
   ]
  },
  {
   "cell_type": "code",
   "execution_count": 88,
   "id": "bbca522e-0169-4855-ba9d-ab7355ef3ad8",
   "metadata": {},
   "outputs": [
    {
     "data": {
      "text/html": [
       "\n",
       "        <iframe\n",
       "            width=\"600\"\n",
       "            height=\"300\"\n",
       "            src=\"https://player.vimeo.com/video/734512366?h=70d4db3edd\"\n",
       "            frameborder=\"0\"\n",
       "            allowfullscreen\n",
       "            \n",
       "        ></iframe>\n",
       "        "
      ],
      "text/plain": [
       "<IPython.lib.display.VimeoVideo at 0x7aea40fa8990>"
      ]
     },
     "execution_count": 88,
     "metadata": {},
     "output_type": "execute_result"
    }
   ],
   "source": [
    "VimeoVideo(\"734512366\", h=\"70d4db3edd\", width=600)"
   ]
  },
  {
   "cell_type": "markdown",
   "id": "a50aa8d5-f59c-4ed0-a820-7cc41d490eac",
   "metadata": {},
   "source": [
    "**Task 7.3.17:** Calculate the joint probabilities under independence for your `contingency_table`.\n",
    "\n",
    "- [Calculate the joint probabilities for a contingency table in statsmodels.](../%40textbook/20-statistics.ipynb#Contingency-Tables) "
   ]
  },
  {
   "cell_type": "code",
   "execution_count": 89,
   "id": "7655b0d7",
   "metadata": {},
   "outputs": [
    {
     "data": {
      "text/plain": [
       "array([[0.032, 0.468],\n",
       "       [0.032, 0.468]])"
      ]
     },
     "execution_count": 89,
     "metadata": {},
     "output_type": "execute_result"
    }
   ],
   "source": [
    "# Calculate independent joint probabilities\n",
    "contingency_table.independence_probabilities.round(3)"
   ]
  },
  {
   "cell_type": "markdown",
   "id": "6e1d9677-e8c3-4252-8f2e-c5aab527c6fc",
   "metadata": {},
   "source": [
    "## Conduct Chi-Square Test"
   ]
  },
  {
   "cell_type": "markdown",
   "id": "f20e5efd",
   "metadata": {},
   "source": [
    "Here's where the rubber meets the road: all the previous calculations have shown us that some of the people who got an email went on to complete the quiz, but we don't know what might be driving that effect. After all, some people might be responding to getting an email, but others might have finished the quiz whether we emailed them or not. Either way, the effect we found could just as easily be due to chance as it could be a result of something we did. The only way to find out whether the result is due to chance is to calculate *statistical significance*.\n",
    "\n",
    "There are several ways to do this, but since the rows and columns here are unordered (nominal factors), we can do a chi-square test."
   ]
  },
  {
   "cell_type": "code",
   "execution_count": null,
   "id": "2327b395-cc8b-4348-b938-c2e905b7c336",
   "metadata": {},
   "outputs": [],
   "source": [
    "VimeoVideo(\"742458959\", h=\"e8da1aeecf\", width=600)"
   ]
  },
  {
   "cell_type": "markdown",
   "id": "24a3069f-f49f-4f7f-9a3d-ba2d8571bb8f",
   "metadata": {},
   "source": [
    "**Task 7.3.18:** Perform a chi-square test of independence on your `contingency_table` and assign the results to `chi_square_test`.\n",
    "\n",
    "- [What's a chi-square test of independence?](../%40textbook/20-statistics.ipynb#Chi-Square)\n",
    "- [Perform a chi-square test on a contingency table in statsmodels.](../%40textbook/20-statistics.ipynb#Contingency-Tables) "
   ]
  },
  {
   "cell_type": "code",
   "execution_count": 90,
   "id": "ccc4fac4",
   "metadata": {},
   "outputs": [
    {
     "name": "stdout",
     "output_type": "stream",
     "text": [
      "chi_square_test type: <class 'statsmodels.stats.contingency_tables._Bunch'>\n",
      "df          1\n",
      "pvalue      0.43454533881809\n",
      "statistic   0.6106442577030814\n"
     ]
    }
   ],
   "source": [
    "chi_square_test = contingency_table.test_nominal_association()\n",
    "\n",
    "print(\"chi_square_test type:\", type(chi_square_test))\n",
    "print(chi_square_test)"
   ]
  },
  {
   "cell_type": "markdown",
   "id": "fee3b046-03b2-4e63-b25e-dac47b4588a3",
   "metadata": {},
   "source": [
    "The important part of that result is the *p-value*. We set our threshold for significance at 0.05 way back at the beginning, so, for our results to be statistically significant, the p-value needs to be less than or equal to 0.05. Our p-value is much higher than 0.05, which means that the difference we saw in our side-by-side bar graph is probably due to chance. In other words, it's noise, not signal. So we can't reject our null hypothesis. \n",
    "\n",
    "What does this result mean? It means there may not be any difference between the groups, or that the difference is so small that we don't have the statistical power to detect it.\n",
    "\n",
    "Since this is a simulated experiment, we can actually increase the power by re-running the experiment for a longer time. If we ran the experiment for 60 days, we might end up with a statistically-significant result. Try it and see what happens!\n",
    "\n",
    "However, there are two important things to keep in mind. First, just because a result is *statistically* significant doesn't mean that it's *practically* significant. A 1% increase in quiz completion may not be worth the time or resources needed to run an email campaign every day. Second, when the number of observations gets very large, any small difference is going to appear statistically significant. This increases the risk of a false positive — rejecting our null hypothesis when it's actually true.\n",
    "\n",
    "Setting the issue of significance aside for now, there's one more calculation that can be helpful in sharing the results of an experiment: the odds ratio. In other words, how much more likely is someone in the treatment group to complete the quiz versus someone in the control group?"
   ]
  },
  {
   "cell_type": "code",
   "execution_count": null,
   "id": "984ef8a9-cf7e-45d9-97b3-de9ab582c2ec",
   "metadata": {},
   "outputs": [],
   "source": [
    "VimeoVideo(\"734512125\", h=\"8dbc500ec2\", width=600)"
   ]
  },
  {
   "cell_type": "markdown",
   "id": "df3c99eb-4d62-4edc-bef1-788171d3ea65",
   "metadata": {},
   "source": [
    "**Task 7.3.19:** Calculate the odds ratio for your `contingency_table`.\n",
    "\n",
    "- [What's an odds ratio in a chi-square test?](../%40textbook/20-statistics.ipynb#Contingency-Tables)\n",
    "- [Calculate the odds ratio from a chi-square test in statsmodels.](../%40textbook/20-statistics.ipynb#Contingency-Tables)"
   ]
  },
  {
   "cell_type": "code",
   "execution_count": 91,
   "id": "39fb15de",
   "metadata": {},
   "outputs": [
    {
     "name": "stdout",
     "output_type": "stream",
     "text": [
      "Odds ratio: 1.3597359735973598\n"
     ]
    }
   ],
   "source": [
    "odds_ratio = contingency_table.oddsratio\n",
    "print(\"Odds ratio:\", odds_ratio)"
   ]
  },
  {
   "cell_type": "markdown",
   "id": "45cb4f70",
   "metadata": {},
   "source": [
    "The interpretation here is that for every 1 person who doesn't complete the quiz, about 1.3 people do. Keep in mind, though, that this ratio isn't actionable in the case of our experiment because our results weren't statistically significant. \n",
    "\n",
    "The last thing we need to do is print all the values in our contingency table."
   ]
  },
  {
   "cell_type": "code",
   "execution_count": 83,
   "id": "de6006c1-3d89-4b7f-a5e7-c173e0fadf05",
   "metadata": {},
   "outputs": [
    {
     "data": {
      "text/html": [
       "\n",
       "        <iframe\n",
       "            width=\"600\"\n",
       "            height=\"300\"\n",
       "            src=\"https://player.vimeo.com/video/748065153?h=47f74a0df8\"\n",
       "            frameborder=\"0\"\n",
       "            allowfullscreen\n",
       "            \n",
       "        ></iframe>\n",
       "        "
      ],
      "text/plain": [
       "<IPython.lib.display.VimeoVideo at 0x7aea40af3a50>"
      ]
     },
     "execution_count": 83,
     "metadata": {},
     "output_type": "execute_result"
    }
   ],
   "source": [
    "VimeoVideo(\"748065153\", h=\"47f74a0df8\", width=600)"
   ]
  },
  {
   "cell_type": "markdown",
   "id": "deab5727-0e1a-40d9-84f4-a6b5b7dc1b78",
   "metadata": {},
   "source": [
    "**Task 7.3.20:** Print out the summary for your `contingency_table`.\n",
    "\n",
    "- [What's a contingency table?](../%40textbook/20-statistics.ipynb#Contingency-Tables) \n",
    "- [Create a contingency table using statsmodels.](../%40textbook/20-statistics.ipynb#Contingency-Tables) "
   ]
  },
  {
   "cell_type": "code",
   "execution_count": 92,
   "id": "2f73a5e2",
   "metadata": {},
   "outputs": [
    {
     "name": "stdout",
     "output_type": "stream",
     "text": [
      "summary type: <class 'statsmodels.iolib.table.SimpleTable'>\n"
     ]
    },
    {
     "data": {
      "text/html": [
       "<table class=\"simpletable\">\n",
       "<tr>\n",
       "         <td></td>        <th>Estimate</th>  <th>SE</th>     <th>LCB</th>   <th>UCB</th>  <th>p-value</th>\n",
       "</tr>\n",
       "<tr>\n",
       "  <th>Odds ratio</th>        <td>1.360</td>      <td></td>  <td>0.628</td> <td>2.946</td>   <td>0.436</td>\n",
       "</tr>\n",
       "<tr>\n",
       "  <th>Log odds ratio</th>    <td>0.307</td> <td>0.395</td> <td>-0.466</td> <td>1.081</td>   <td>0.436</td>\n",
       "</tr>\n",
       "<tr>\n",
       "  <th>Risk ratio</th>        <td>1.333</td>      <td></td>  <td>0.646</td> <td>2.752</td>   <td>0.436</td>\n",
       "</tr>\n",
       "<tr>\n",
       "  <th>Log risk ratio</th>    <td>0.288</td> <td>0.370</td> <td>-0.437</td> <td>1.012</td>   <td>0.436</td>\n",
       "</tr>\n",
       "</table>"
      ],
      "text/latex": [
       "\\begin{center}\n",
       "\\begin{tabular}{lccccc}\n",
       "\n",
       "                        & \\textbf{Estimate} & \\textbf{SE} & \\textbf{LCB} & \\textbf{UCB} & \\textbf{p-value}  \\\\\n",
       "\\midrule\n",
       "\\bottomrule\n",
       "\\end{tabular}\n",
       "\\begin{tabular}{lrrrrr}\n",
       "\\textbf{Odds ratio}     &             1.360 &             &        0.628 &        2.946 &            0.436  \\\\\n",
       "\\textbf{Log odds ratio} &             0.307 &       0.395 &       -0.466 &        1.081 &            0.436  \\\\\n",
       "\\textbf{Risk ratio}     &             1.333 &             &        0.646 &        2.752 &            0.436  \\\\\n",
       "\\textbf{Log risk ratio} &             0.288 &       0.370 &       -0.437 &        1.012 &            0.436  \\\\\n",
       "\\bottomrule\n",
       "\\end{tabular}\n",
       "\\end{center}"
      ],
      "text/plain": [
       "<class 'statsmodels.iolib.table.SimpleTable'>"
      ]
     },
     "execution_count": 92,
     "metadata": {},
     "output_type": "execute_result"
    }
   ],
   "source": [
    "summary = contingency_table.summary()\n",
    "print(\"summary type:\", type(summary))\n",
    "summary"
   ]
  },
  {
   "cell_type": "markdown",
   "id": "8f9e2b25",
   "metadata": {
    "deletable": false,
    "editable": false
   },
   "source": [
    "---\n",
    "Copyright 2023 WorldQuant University. This\n",
    "content is licensed solely for personal use. Redistribution or\n",
    "publication of this material is strictly prohibited.\n"
   ]
  }
 ],
 "metadata": {
  "kernelspec": {
   "display_name": "Python 3 (ipykernel)",
   "language": "python",
   "name": "python3"
  },
  "language_info": {
   "codemirror_mode": {
    "name": "ipython",
    "version": 3
   },
   "file_extension": ".py",
   "mimetype": "text/x-python",
   "name": "python",
   "nbconvert_exporter": "python",
   "pygments_lexer": "ipython3",
   "version": "3.11.0"
  },
  "widgets": {
   "application/vnd.jupyter.widget-state+json": {
    "state": {},
    "version_major": 2,
    "version_minor": 0
   }
  }
 },
 "nbformat": 4,
 "nbformat_minor": 5
}
