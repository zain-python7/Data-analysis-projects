{
 "cells": [
  {
   "cell_type": "markdown",
   "id": "49b57845-4452-476c-b418-e58c541184a8",
   "metadata": {},
   "source": [
    "<font size=\"+3\"><strong>2. Extract, Transform, Load</strong></font>"
   ]
  },
  {
   "cell_type": "markdown",
   "id": "cafdb861-7ab1-4f36-a825-49161996447b",
   "metadata": {},
   "source": [
    "In the last lesson, we focused on exploratory data analysis. Specifically, we extracted information from our MongoDB database in order to describe some characteristics of the DS Lab applicant pool — country of origin, age, and education level. In this lesson, our goal is to design our experiment, and that means we'll need to go beyond extracting information. We'll also need to make some transformations in our data and then load it back into our database.\n",
    "\n",
    "In Data Science and Data Engineering, the process of taking data from a source, changing it, and then loading it into a database is called **ETL**, which is short for **extract, transform, load**. ETL tends to be more programming-intensive than other data science tasks like visualization, so we'll also spend time in this lesson exploring Python as an **object-oriented programming** language. Specifically, we'll create our own Python **class** to contain our ETL processes."
   ]
  },
  {
   "cell_type": "markdown",
   "id": "3e454bb8-94b4-4635-9c45-8902f493e817",
   "metadata": {},
   "source": [
    "<div class=\"alert alert-block alert-warning\">\n",
    "<b>Warning:</b> The database has changed since this videos for this lesson were filmed. So don't worry if you don't get exactly the same numbers as the instructor for the tasks in this project.\n",
    "</div>"
   ]
  },
  {
   "cell_type": "markdown",
   "id": "e1e0268a-856e-479e-8b7b-793f8426adf7",
   "metadata": {
    "editable": true,
    "slideshow": {
     "slide_type": ""
    },
    "tags": []
   },
   "source": [
    "> Note: Replace `ip_of_mongo_device` with your actual MongoDB IP address.\n",
    "\n"
   ]
  },
  {
   "cell_type": "code",
   "execution_count": null,
   "id": "9c5273d4-63eb-486c-ab2a-4bca2c422b76",
   "metadata": {},
   "outputs": [],
   "source": [
    "import random\n",
    "\n",
    "import pandas as pd\n",
    "from IPython.display import VimeoVideo\n",
    "from pymongo import MongoClient\n",
    "from teaching_tools.ab_test.reset import Reset\n",
    "\n",
    "r = Reset(\"192.7.148.2\")\n",
    "r.reset_database()"
   ]
  },
  {
   "cell_type": "code",
   "execution_count": null,
   "id": "455e7069-356c-491b-8b79-1375bde1bfd5",
   "metadata": {},
   "outputs": [],
   "source": [
    "VimeoVideo(\"742770800\", h=\"ce17b05c51\", width=600)"
   ]
  },
  {
   "cell_type": "markdown",
   "id": "9d566805-4808-49af-a182-2905f9db8b44",
   "metadata": {},
   "source": [
    "\n",
    "# Connect\n"
   ]
  },
  {
   "cell_type": "markdown",
   "id": "bb604867-8d3c-4157-918c-e21ef81af3d2",
   "metadata": {},
   "source": [
    "<div style=\"padding: 1em; border: 1px solid #f0ad4e; border-left: 6px solid #f0ad4e; background-color: #fcf8e3; color: #8a6d3b; border-radius: 4px;\">\n",
    "\n",
    "<strong>🛠️ Instruction:</strong> Locate the IP address of the machine running MongoDB and assign it to the variable <code>host</code>. Make sure to use a <strong>string</strong> (i.e., wrap the IP in quotes).<br><br>\n",
    "\n",
    "<strong>⚠️ Note:</strong> The IP address is <strong>dynamic</strong> — it may change every time you start the lab. Always check the current IP before proceeding.\n",
    "\n",
    "</div>\n",
    "<img src=\"images/mongo_ip.png\" alt=\"MongoDB\" width=\"600\"/>\n"
   ]
  },
  {
   "cell_type": "code",
   "execution_count": null,
   "id": "44f16579-c2d6-45bf-a291-c0cf2bcb0fa9",
   "metadata": {},
   "outputs": [],
   "source": []
  },
  {
   "cell_type": "markdown",
   "id": "c916ae2b-d367-4625-92f0-e33778fd92f0",
   "metadata": {},
   "source": [
    "As usual, the first thing we're going to need to do is get access to our data. \n",
    "\n",
    "**Task 7.2.1:** Assign the `\"ds-applicants\"` collection in the `\"wqu-abtest\"` database to the variable name `ds_app`.\n",
    "> Note: When using the `MongoClient` class, specify the host by passing `host=host` as the first argument. For example: `MongoClient(host=host, port=27017)`\n",
    "> \n",
    "> MongoDB server is running at `host` on port `27017`.\n",
    "\n",
    "- [What's a MongoDB collection?](../%40textbook/11-databases-mongodb.ipynb#Collections)\n",
    "- [Access a collection in a database using PyMongo.](../%40textbook/11-databases-mongodb.ipynb#Collections)"
   ]
  },
  {
   "cell_type": "code",
   "execution_count": 55,
   "id": "1160c054-64a3-47a1-b78d-4f5c04524927",
   "metadata": {},
   "outputs": [
    {
     "name": "stdout",
     "output_type": "stream",
     "text": [
      "client: <class 'pymongo.synchronous.mongo_client.MongoClient'>\n",
      "ds_app: <class 'pymongo.synchronous.collection.Collection'>\n"
     ]
    }
   ],
   "source": [
    "client = MongoClient(host=\"192.7.148.2\",port=27017)\n",
    "db=client[\"wqu-abtest\"]\n",
    "ds_app = db[\"ds-applicants\"]\n",
    "print(\"client:\", type(client))\n",
    "print(\"ds_app:\", type(ds_app))"
   ]
  },
  {
   "cell_type": "markdown",
   "id": "fa5181e3-58b3-49e2-96eb-72677b78ff6d",
   "metadata": {},
   "source": [
    "# Extract: Developing the Hypothesis"
   ]
  },
  {
   "cell_type": "markdown",
   "id": "eaacba63-6365-442f-bd2d-f5c0544a411e",
   "metadata": {},
   "source": [
    "Now that we've connected to the data, we need to pull out the information we need. One aspect of our applicant pool that we didn't explore in the last lesson is how many applicants actually complete the DS Lab admissions quiz."
   ]
  },
  {
   "cell_type": "code",
   "execution_count": null,
   "id": "81ad3b56-6c4e-44a2-bdab-a8999293b527",
   "metadata": {},
   "outputs": [],
   "source": [
    "VimeoVideo(\"734130688\", h=\"637d2529dc\", width=600)"
   ]
  },
  {
   "cell_type": "markdown",
   "id": "9e7f6db5-6d7e-496b-afa0-7291286c8eb1",
   "metadata": {},
   "source": [
    "**Task 7.2.2:** Use the [`aggregate`](https://pymongo.readthedocs.io/en/stable/api/pymongo/collection.html#pymongo.collection.Collection.aggregate) method to calculate the number of applicants that completed and did not complete the admissions quiz.\n",
    "\n",
    "- [Perform aggregation calculations on documents using PyMongo.](../%40textbook/11-databases-mongodb.ipynb#Aggregation)"
   ]
  },
  {
   "cell_type": "code",
   "execution_count": 56,
   "id": "9debf480-d5ca-4e84-b692-7dcf41c1fd20",
   "metadata": {},
   "outputs": [],
   "source": [
    "result=ds_app.aggregate(\n",
    "    [\n",
    "        {\n",
    "              \"$group\":{\n",
    "                  \"_id\":\"$admissionsQuiz\",\"count\":{\"$count\":{}}\n",
    "              }\n",
    "        }\n",
    "    ]\n",
    ")"
   ]
  },
  {
   "cell_type": "code",
   "execution_count": null,
   "id": "77fbacf7-a13b-45b5-8adc-8982e4614b72",
   "metadata": {},
   "outputs": [],
   "source": [
    "list(result)"
   ]
  },
  {
   "cell_type": "code",
   "execution_count": 57,
   "id": "6dd63fa2-bbff-439b-8a25-e73929f498cb",
   "metadata": {},
   "outputs": [
    {
     "name": "stdout",
     "output_type": "stream",
     "text": [
      "Completed quiz: 3717\n",
      "Did not complete quiz: 1308\n"
     ]
    }
   ],
   "source": [
    "# How many applicants complete admissions quiz?\n",
    "\n",
    "result=ds_app.aggregate(\n",
    "    [\n",
    "        {\n",
    "              \"$group\":{\n",
    "                  \"_id\":\"$admissionsQuiz\",\"count\":{\"$count\":{}}\n",
    "              }\n",
    "        }\n",
    "    ]\n",
    ")\n",
    "for r in result:\n",
    "    if r[\"_id\"]==\"incomplete\":\n",
    "        incomplete=r[\"count\"]\n",
    "    else:\n",
    "        complete=r[\"count\"]\n",
    "\n",
    "\n",
    "\n",
    "print(\"Completed quiz:\", complete)\n",
    "print(\"Did not complete quiz:\", incomplete)"
   ]
  },
  {
   "cell_type": "markdown",
   "id": "04032545-aeaa-42c5-ac90-b4bb76103ca9",
   "metadata": {},
   "source": [
    "That gives us some raw numbers, but we're interested in participation *rates*, not participation numbers. Let's turn what we just got into a percentage."
   ]
  },
  {
   "cell_type": "code",
   "execution_count": null,
   "id": "8af7377a-f1c0-4bc3-a27e-f9d611931009",
   "metadata": {},
   "outputs": [],
   "source": [
    "VimeoVideo(\"734130558\", h=\"b06dabae44\", width=600)"
   ]
  },
  {
   "cell_type": "markdown",
   "id": "5689f50b-c48b-40f8-81e2-16f5a67524a2",
   "metadata": {},
   "source": [
    "**Task 7.2.3:** Using your results from the previous task, calculate the proportion of new users who have not completed the admissions quiz.\n",
    "\n",
    "- [Perform basic mathematical operations in Python.](../%40textbook/01-python-getting-started.ipynb#Simple-Calculations)"
   ]
  },
  {
   "cell_type": "code",
   "execution_count": 58,
   "id": "24c0ac57-86a6-4035-a4e7-a66f3d3cc59f",
   "metadata": {},
   "outputs": [
    {
     "name": "stdout",
     "output_type": "stream",
     "text": [
      "Proportion of users who don't complete admissions quiz: 0.26\n"
     ]
    }
   ],
   "source": [
    "total=complete+incomplete\n",
    "prop_incomplete = incomplete/total\n",
    "print(\n",
    "    \"Proportion of users who don't complete admissions quiz:\", round(prop_incomplete, 2)\n",
    ")"
   ]
  },
  {
   "cell_type": "markdown",
   "id": "73dc7391-13f9-40fe-81bd-940e7faed563",
   "metadata": {},
   "source": [
    "Now that we know that around a quarter of DS Lab applicants don't complete the admissions quiz, is there anything we can do improve the completion rate? \n",
    "\n",
    "This is a question that we asked ourselves at WQU. In fact, here's a conversation between Nicholas and Anne (Program Director at WQU) where they identify the issue, come up with a hypothesis, and then decide how they'll conduct their experiment.\n",
    "\n",
    "A **hypothesis** is an informed guess about what we think is going to happen in an experiment. We probably hope that whatever we're trying out is going to work, but it's important to maintain a healthy degree of skepticism. Science experiments are designed to demonstrate what *does* work, not what doesn't, so we always start out by assuming that whatever we're about to do won't make a difference (even if we hope it will). The idea that an experimental intervention won't change anything is called a **null hypothesis** ($H_0$), and every experiment either rejects the null hypothesis (meaning the intervention worked), or fails to reject the null hypothesis (meaning it didn't). \n",
    "\n",
    "The mirror image of the null hypothesis is called an **alternate hypothesis** ($H_a$), and it proceeds from the idea that whatever we're about to do actually *will* work. If I'm trying to figure out whether exercising is going to help me lose weight, the null hypothesis says that if I exercise, I won't lose any weight. The alternate hypothesis says that if I exercise, I will lose weight. \n",
    "\n",
    "It's important to keep both types of hypothesis in mind as you work through your experimental design."
   ]
  },
  {
   "cell_type": "code",
   "execution_count": null,
   "id": "562fcc08-ab86-4109-aabb-87ac92577040",
   "metadata": {},
   "outputs": [],
   "source": [
    "VimeoVideo(\"734130136\", h=\"e1c88a9ecd\", width=600)"
   ]
  },
  {
   "cell_type": "code",
   "execution_count": null,
   "id": "bd0ccc4a-6b91-4f4e-8b68-3e3898333876",
   "metadata": {},
   "outputs": [],
   "source": [
    "VimeoVideo(\"734131639\", h=\"7e9aac1e60\", width=600)"
   ]
  },
  {
   "cell_type": "markdown",
   "id": "dd1bbed0-7a23-43ca-b00a-9ac705f3c005",
   "metadata": {},
   "source": [
    "**Task 7.2.4:** Based on the discussion between Nicholas and Anne, write a null and alternate hypothesis to test in the next lesson.\n",
    "\n",
    "- [What's a null hypothesis?](../%40textbook/20-statistics.ipynb#Hypothesis-Testing)\n",
    "- [What's an alternate hypothesis?](../%40textbook/20-statistics.ipynb#Hypothesis-Testing)"
   ]
  },
  {
   "cell_type": "code",
   "execution_count": null,
   "id": "889a4534-e569-4987-9ed1-1f0d0de78f76",
   "metadata": {},
   "outputs": [],
   "source": [
    "null_hypothesis = ...\n",
    "\n",
    "alternate_hypothesis =...\n",
    "\n",
    "print(\"Null Hypothesis:\", null_hypothesis)\n",
    "print(\"Alternate Hypothesis:\", alternate_hypothesis)"
   ]
  },
  {
   "cell_type": "markdown",
   "id": "7bd82a18-931f-4154-a26c-faab2f92db19",
   "metadata": {},
   "source": [
    "The next thing we need to do is figure out a way to filter the data so that we're only looking at students who applied on a certain date. This is a perfect chance to write a function!"
   ]
  },
  {
   "cell_type": "code",
   "execution_count": null,
   "id": "d1a52355-dc38-4e6c-8243-3ad9d47d3974",
   "metadata": {},
   "outputs": [],
   "source": [
    "VimeoVideo(\"734136019\", h=\"227630f2d2\", width=600)"
   ]
  },
  {
   "cell_type": "markdown",
   "id": "a043ea6e-c4cd-41ec-92ef-f790315aa23c",
   "metadata": {},
   "source": [
    "**Task 7.2.5:** Create a function `find_by_date` that can search a collection such as `\"ds-applicants\"` and return all the no-quiz applicants from a specific date. Use the docstring below for guidance.\n",
    "\n",
    "- Convert data to `datetime` using pandas.\n",
    "- Perform a date offset using pandas. \n",
    "- [Select date ranges using the `$gt`, `$gte`, `$lt`, and `$lte` operators in PyMongo.](../%40textbook/11-databases-mongodb.ipynb#Analyzing-Data)\n",
    "- [Query a collection using PyMongo](../%40textbook/11-databases-mongodb.ipynb#Exploring-a-Database)"
   ]
  },
  {
   "cell_type": "code",
   "execution_count": 59,
   "id": "ce6a68b6-a6c4-409d-be44-3912f7016601",
   "metadata": {},
   "outputs": [],
   "source": [
    "def find_by_date(collection, date_string):\n",
    "    \"\"\"Find records in a PyMongo Collection created on a given date.\n",
    "\n",
    "    Parameters\n",
    "    ----------\n",
    "    collection : pymongo.collection.Collection\n",
    "        Collection in which to search for documents.\n",
    "    date_string : str\n",
    "        Date to query. Format must be '%Y-%m-%d', e.g. '2022-06-28'.\n",
    "\n",
    "    Returns\n",
    "    -------\n",
    "    observations : list\n",
    "        Result of query. List of documents (dictionaries).\n",
    "    \"\"\"\n",
    "    collection=ds_app\n",
    "    date_string=\"2022-05-04\"\n",
    "    # Convert `date_string` to datetime object\n",
    "    start = pd.to_datetime(date_string,format=\"%Y-%m-%d\")\n",
    "    # Offset `start` by 1 day\n",
    "    end = start+pd.DateOffset(days=1)\n",
    "    # Create PyMongo query for no-quiz applicants b/t `start` and `end`\n",
    "    query = {\"createdAt\": {\"$gte\": start, \"$lt\": end}, \"admissionsQuiz\": \"incomplete\"}\n",
    "    # Query collection, get result\n",
    "    result = collection.find(query)\n",
    "    # Convert `result` to list\n",
    "    observations = list(result)\n",
    "    return observations"
   ]
  },
  {
   "cell_type": "markdown",
   "id": "763e4a42-692e-4138-b058-66842393a985",
   "metadata": {},
   "source": [
    "2 May 2022 seems like as good a date as any, so let's use the function we just wrote to get all the students who applied that day."
   ]
  },
  {
   "cell_type": "code",
   "execution_count": null,
   "id": "71e5ecce-c94f-4265-8ab1-12ba0ea201ab",
   "metadata": {},
   "outputs": [],
   "source": [
    "VimeoVideo(\"734135947\", h=\"172e5d7e19\", width=600)"
   ]
  },
  {
   "cell_type": "markdown",
   "id": "0bd60521-cd44-4509-947b-af516ea06084",
   "metadata": {},
   "source": [
    "**Task 7.2.6:** Use your `find_by_date` function to create a list `observations` with all the new users created on **2 May 2022**.\n",
    "\n",
    "- [What's a function?](../%40textbook/02-python-advanced.ipynb#Functions)"
   ]
  },
  {
   "cell_type": "code",
   "execution_count": 60,
   "id": "5351d79a-b830-4c67-bffa-4871e9d7823f",
   "metadata": {},
   "outputs": [
    {
     "name": "stdout",
     "output_type": "stream",
     "text": [
      "observations type: <class 'list'>\n",
      "observations len: 48\n"
     ]
    },
    {
     "data": {
      "text/plain": [
       "{'_id': ObjectId('68a811f5eb54637f38f2cbfa'),\n",
       " 'createdAt': datetime.datetime(2022, 5, 4, 1, 4),\n",
       " 'firstName': 'Lindsay',\n",
       " 'lastName': 'Schwartz',\n",
       " 'email': 'lindsay.schwartz9@hotmeal.com',\n",
       " 'birthday': datetime.datetime(1998, 5, 26, 0, 0),\n",
       " 'gender': 'female',\n",
       " 'highestDegreeEarned': \"Bachelor's degree\",\n",
       " 'countryISO2': 'NG',\n",
       " 'admissionsQuiz': 'incomplete',\n",
       " 'group': 'email (control)',\n",
       " 'inExperiment': True}"
      ]
     },
     "execution_count": 60,
     "metadata": {},
     "output_type": "execute_result"
    }
   ],
   "source": [
    "observations = find_by_date(ds_app,date_string=\"2022-05-05\")\n",
    "\n",
    "print(\"observations type:\", type(observations))\n",
    "print(\"observations len:\", len(observations))\n",
    "observations[0]"
   ]
  },
  {
   "cell_type": "markdown",
   "id": "32d47920-980c-43c3-b85f-db75160bd221",
   "metadata": {},
   "source": [
    "# Transform: Designing the Experiment"
   ]
  },
  {
   "cell_type": "markdown",
   "id": "fc195c45-201b-4eeb-95c6-2de03f4fc75e",
   "metadata": {},
   "source": [
    "Okay! Now that we've extracted the data we'll need for the experiment, it's time to get our hands dirty. \n",
    "\n",
    "The **transform** stage of ETL involves manipulating the data we just extracted. In this case, we're going to be figuring out which students didn't take the quiz, and assigning them to different experimental groups. To do that, we'll need to *transform* each document in the database by creating a new attribute for each record.\n",
    "\n",
    "Now we can split the students who didn't take the quiz into two groups: one that will receive a reminder email, and one that will not. Let's make another function that'll do that for us."
   ]
  },
  {
   "cell_type": "code",
   "execution_count": null,
   "id": "705b708d-898d-4dec-b99d-d8c7c1fe01c3",
   "metadata": {},
   "outputs": [],
   "source": [
    "VimeoVideo(\"734134939\", h=\"d7b409da4b\", width=600)"
   ]
  },
  {
   "cell_type": "markdown",
   "id": "fb25f8fb-e38e-4bf6-a413-3df6e413717d",
   "metadata": {},
   "source": [
    "**Task 7.2.7:** Create a function `assign_to_groups` that takes a list of new user documents as input and adds two keys to each document. The first key should be `\"inExperiment\"`, and its value should always be `True`. The second key should be `\"group\"`, with half of the records in `\"email (treatment)\"` and the other half in `\"no email (control)\"`.\n",
    "\n",
    "- [Write a function in Python.](../%40textbook/02-python-advanced.ipynb#Functions)"
   ]
  },
  {
   "cell_type": "code",
   "execution_count": 61,
   "id": "28bd23d5-8dcf-4e05-91bc-7a8ee26e3454",
   "metadata": {},
   "outputs": [
    {
     "name": "stdout",
     "output_type": "stream",
     "text": [
      "observations_assigned type: <class 'list'>\n",
      "observations_assigned len: 48\n"
     ]
    },
    {
     "data": {
      "text/plain": [
       "{'_id': ObjectId('68a811f5eb54637f38f2d89a'),\n",
       " 'createdAt': datetime.datetime(2022, 5, 4, 15, 59, 4),\n",
       " 'firstName': 'Fernando',\n",
       " 'lastName': 'Burns',\n",
       " 'email': 'fernando.burns55@microsift.com',\n",
       " 'birthday': datetime.datetime(1999, 1, 25, 0, 0),\n",
       " 'gender': 'male',\n",
       " 'highestDegreeEarned': 'Some College (1-3 years)',\n",
       " 'countryISO2': 'NP',\n",
       " 'admissionsQuiz': 'incomplete',\n",
       " 'group': 'no email (control)',\n",
       " 'inExperiment': True}"
      ]
     },
     "execution_count": 61,
     "metadata": {},
     "output_type": "execute_result"
    }
   ],
   "source": [
    "def assign_to_groups(observations):\n",
    "    \"\"\"Randomly assigns observations to control and treatment groups.\n",
    "\n",
    "    Parameters\n",
    "    ----------\n",
    "    observations : list or pymongo.cursor.Cursor\n",
    "        List of users to assign to groups.\n",
    "\n",
    "    Returns\n",
    "    -------\n",
    "    observations : list\n",
    "        List of documents from `observations` with two additional keys:\n",
    "        `inExperiment` and `group`.\n",
    "    \"\"\"\n",
    "    # Shuffle `observations`\n",
    "    random.seed(42)\n",
    "    random.shuffle(observations)\n",
    "\n",
    "    # Get index position of item at observations halfway point\n",
    "    idx = len(observations)//2\n",
    "\n",
    "    # Assign first half of observations to control group\n",
    "  \n",
    "    for doc in observations[:idx]:\n",
    "        doc[\"inExperiment\"]=True\n",
    "        doc[\"group\"]=\"no email (control)\"\n",
    "    # Assign second half of observations to treatment group\n",
    "    for doc in observations[idx:]:\n",
    "        doc[\"inExperiment\"]=True\n",
    "        doc[\"group\"]=\"email (control)\"\n",
    "\n",
    "    return observations\n",
    "\n",
    "\n",
    "observations_assigned = assign_to_groups(observations)\n",
    "\n",
    "print(\"observations_assigned type:\", type(observations_assigned))\n",
    "print(\"observations_assigned len:\", len(observations_assigned))\n",
    "observations_assigned[0]"
   ]
  },
  {
   "cell_type": "markdown",
   "id": "e52c76d7-84bb-4759-9329-fee3330fc86b",
   "metadata": {},
   "source": [
    "In the video, Anne said that she needs a CSV file with applicant email addresses. Let's automate that process with another function."
   ]
  },
  {
   "cell_type": "code",
   "execution_count": null,
   "id": "e0868e45-0838-4383-98c5-74a229f880a6",
   "metadata": {},
   "outputs": [],
   "source": [
    "VimeoVideo(\"734137698\", h=\"87610a6a1c\", width=600)"
   ]
  },
  {
   "cell_type": "markdown",
   "id": "9a9b010b-bb80-42cf-b57c-acb0fde9e808",
   "metadata": {},
   "source": [
    "\n",
    "\n",
    "**Task 7.2.8:** Create a function `export_email` that takes a list of documents (like `observations_assigned`) as input, creates a DataFrame with the emails of all observations in the treatment group, and saves the DataFrame as a CSV file. Then use your function to create a CSV file in the current directory.\n",
    "\n",
    "- [Write a function in Python.](../%40textbook/02-python-advanced.ipynb#Functions)\n",
    "- [Create a DataFrame from a Series in pandas.](../%40textbook/03-pandas-getting-started.ipynb#Working-with-DataFrames)\n",
    "- [Save a DataFrame as a CSV file using pandas.](../%40textbook/03-pandas-getting-started.ipynb#Saving-a-DataFrame-as-a-CSV)"
   ]
  },
  {
   "cell_type": "code",
   "execution_count": 62,
   "id": "ecc38a7f-1013-4548-8f70-14709c710d2d",
   "metadata": {},
   "outputs": [],
   "source": [
    "def export_treatment_emails(observations_assigned, directory=\".\"):\n",
    "    \"\"\"Creates CSV file with email addresses of observations in treatment group.\n",
    "\n",
    "    CSV file name will include today's date, e.g. `'2022-06-28_ab-test.csv'`,\n",
    "    and a `'tag'` column where every row will be 'ab-test'.\n",
    "\n",
    "    Parameters\n",
    "    ----------\n",
    "    observations_assigned : list\n",
    "        Observations with group assignment.\n",
    "    directory : str, default='.'\n",
    "        Location for saved CSV file.\n",
    "\n",
    "    Returns\n",
    "    -------\n",
    "    None\n",
    "    \"\"\"\n",
    "    # Put `observations_assigned` docs into DataFrame\n",
    "    df=pd.DataFrame(observations_assigned)\n",
    "    # Add `\"tag\"` column\n",
    "    df[\"tag\"]=\"ab-test\"\n",
    "    # Create mask for treatment group only\n",
    "    mask=df[\"group\"]==\"email (control)\"\n",
    "    # Create filename with date\n",
    "    date_string=pd.Timestamp.now().strftime(format=\"%Y-%m-%d\")\n",
    "    filename = directory+\"/\"+date_string+\"_ab-test.csv\"\n",
    "\n",
    "    # Save DataFrame to directory (email and tag only)\n",
    "    df[mask][[\"email\",\"tag\"]].to_csv(filename,index=False)\n",
    "\n",
    "export_treatment_emails(observations_assigned=observations_assigned)"
   ]
  },
  {
   "cell_type": "markdown",
   "id": "b6afa378-0ec4-4726-ab77-30d22e7a479a",
   "metadata": {},
   "source": [
    "# Load: Preparing the Data"
   ]
  },
  {
   "cell_type": "markdown",
   "id": "e257211a-9862-41d2-8f31-0abb5c582d43",
   "metadata": {},
   "source": [
    "We've *extracted* the data and written a bunch of functions we can use to *transform* the data, so it's time for the third part of this module: *loading* the data.\n",
    "\n",
    "We've assigned the no-quiz applicants to groups for our experiment, so we should update the records in the `\"ds-applicants\"` collection to reflect that assignment. Before we update all our records, let's start with just one. "
   ]
  },
  {
   "cell_type": "code",
   "execution_count": null,
   "id": "577b2790-6dbc-4903-b7ad-214e97ceee4e",
   "metadata": {},
   "outputs": [],
   "source": [
    "VimeoVideo(\"734137546\", h=\"e07cebf91e\", width=600)"
   ]
  },
  {
   "cell_type": "markdown",
   "id": "7b8f1966-b699-4b8f-8e06-72a0b56c6d2c",
   "metadata": {},
   "source": [
    "**Task 7.2.9:** Assign the first item in `observations_assigned` list to the variable `updated_applicant`. The assign that applicant's ID to the variable `applicant_id`.\n",
    "\n",
    "- [What's a dictionary?](../%40textbook/01-python-getting-started.ipynb#Working-with-Dictionaries)\n",
    "- [Access an item in a dictionary using Python.](../%40textbook/01-python-getting-started.ipynb#Working-with-Dictionaries)"
   ]
  },
  {
   "cell_type": "markdown",
   "id": "6a18408c-598b-4192-a0d3-3c729df8385b",
   "metadata": {},
   "source": [
    "<div class=\"alert alert-info\" role=\"alert\">\n",
    "    <p><b>Note:</b> The data in the database may have been updated since this video was recorded, so don't worry if you get a student other than \"Raymond Brown\".</p>\n",
    "</div>"
   ]
  },
  {
   "cell_type": "code",
   "execution_count": 63,
   "id": "150f84ce-a39b-4394-8adc-2084adc6c067",
   "metadata": {},
   "outputs": [
    {
     "name": "stdout",
     "output_type": "stream",
     "text": [
      "applicant type: <class 'dict'>\n",
      "{'_id': ObjectId('68a811f5eb54637f38f2d89a'), 'createdAt': datetime.datetime(2022, 5, 4, 15, 59, 4), 'firstName': 'Fernando', 'lastName': 'Burns', 'email': 'fernando.burns55@microsift.com', 'birthday': datetime.datetime(1999, 1, 25, 0, 0), 'gender': 'male', 'highestDegreeEarned': 'Some College (1-3 years)', 'countryISO2': 'NP', 'admissionsQuiz': 'incomplete', 'group': 'no email (control)', 'inExperiment': True}\n",
      "\n",
      "applicant_id type: <class 'bson.objectid.ObjectId'>\n",
      "68a811f5eb54637f38f2d89a\n"
     ]
    }
   ],
   "source": [
    "updated_applicant =observations_assigned[0]\n",
    "applicant_id = updated_applicant[\"_id\"]\n",
    "print(\"applicant type:\", type(updated_applicant))\n",
    "print(updated_applicant)\n",
    "print()\n",
    "print(\"applicant_id type:\", type(applicant_id))\n",
    "print(applicant_id)"
   ]
  },
  {
   "cell_type": "markdown",
   "id": "1570f911-d2c3-41fd-b7fc-731072f5a7d6",
   "metadata": {},
   "source": [
    "Now that we have the unique identifier for one of the applicants, we can find it in the collection."
   ]
  },
  {
   "cell_type": "code",
   "execution_count": null,
   "id": "7122ae15-10fe-4d9d-851c-0cfb4233f4d6",
   "metadata": {},
   "outputs": [],
   "source": [
    "VimeoVideo(\"734137409\", h=\"5ea2eaf949\", width=600)"
   ]
  },
  {
   "cell_type": "markdown",
   "id": "08781b36-9343-4070-bafa-c9460026fb09",
   "metadata": {},
   "source": [
    "**Task 7.2.10:** Use the `find_one` method together with the `applicant_id` from the previous task to locate the original record in the `\"ds-applicants\"` collection.\n",
    "\n",
    "- Access a class method in Python."
   ]
  },
  {
   "cell_type": "code",
   "execution_count": 64,
   "id": "8c7f52dd-e40b-429e-9917-f295637f4e6d",
   "metadata": {},
   "outputs": [
    {
     "data": {
      "text/plain": [
       "{'_id': ObjectId('68a811f5eb54637f38f2d89a'),\n",
       " 'createdAt': datetime.datetime(2022, 5, 4, 15, 59, 4),\n",
       " 'firstName': 'Fernando',\n",
       " 'lastName': 'Burns',\n",
       " 'email': 'fernando.burns55@microsift.com',\n",
       " 'birthday': datetime.datetime(1999, 1, 25, 0, 0),\n",
       " 'gender': 'male',\n",
       " 'highestDegreeEarned': 'Some College (1-3 years)',\n",
       " 'countryISO2': 'NP',\n",
       " 'admissionsQuiz': 'incomplete',\n",
       " 'group': 'no email (control)',\n",
       " 'inExperiment': True}"
      ]
     },
     "execution_count": 64,
     "metadata": {},
     "output_type": "execute_result"
    }
   ],
   "source": [
    "# Find original record for `applicant_id`\n",
    "ds_app.find_one({\"_id\":applicant_id})"
   ]
  },
  {
   "cell_type": "markdown",
   "id": "c221266f-f6ba-4c0e-a283-3a00fe86b4ab",
   "metadata": {},
   "source": [
    "And now we can update that document to show which group that applicant belongs to."
   ]
  },
  {
   "cell_type": "code",
   "execution_count": null,
   "id": "c1e75dea-f23a-479b-94f7-eb6023baf919",
   "metadata": {},
   "outputs": [],
   "source": [
    "VimeoVideo(\"734141207\", h=\"afe52c4d42\", width=600)"
   ]
  },
  {
   "cell_type": "markdown",
   "id": "a9dea6cf-d634-43cd-9562-9bbc0b0fca0c",
   "metadata": {},
   "source": [
    "**Task 7.2.11:** Use the `update_one` method to update the record with the new information in `updated_applicant`. Once you're done, rerun your query from the previous task to see if the record has been updated. \n",
    "\n",
    "- [Update one or more records in PyMongo.](../%40textbook/11-databases-mongodb.ipynb#Analyzing-Data)"
   ]
  },
  {
   "cell_type": "code",
   "execution_count": 65,
   "id": "b2bf779a-bdcd-4bc4-8249-d4ba53f2645f",
   "metadata": {},
   "outputs": [
    {
     "name": "stdout",
     "output_type": "stream",
     "text": [
      "result type: <class 'pymongo.results.UpdateResult'>\n"
     ]
    }
   ],
   "source": [
    "result =ds_app.update_one(\n",
    "    filter={\"_id\":applicant_id},\n",
    "    update={\"$set\":updated_applicant}\n",
    ")\n",
    "print(\"result type:\", type(result))"
   ]
  },
  {
   "cell_type": "markdown",
   "id": "229b392a-a511-4353-b477-31ff5b1e32d5",
   "metadata": {},
   "source": [
    "Note that when we update the document, we get a `result` back. Before we update multiple records, let's take a moment to explore what `result` is — and how it relates to object oriented programming in Python."
   ]
  },
  {
   "cell_type": "code",
   "execution_count": null,
   "id": "75fe1834-7426-443a-8756-41cfa84ecf9d",
   "metadata": {
    "scrolled": true
   },
   "outputs": [],
   "source": [
    "VimeoVideo(\"734142198\", h=\"eabd16f09e\", width=600)"
   ]
  },
  {
   "cell_type": "markdown",
   "id": "31fe6172-14bb-4465-add5-72965f08f082",
   "metadata": {},
   "source": [
    "**Task 7.2.12:** Use the [`dir`](https://docs.python.org/3/library/functions.html#dir) function to inspect `result`. Once you see some of the attributes, try to access them. For instance, what does the `raw_result` attribute tell you about the success of your record update?\n",
    "\n",
    "- [What's a class?](../%40textbook/21-python-object-oriented-programming.ipynb#Classes)\n",
    "- [What's a class attribute?](../%40textbook/21-python-object-oriented-programming.ipynb#Attributes)\n",
    "- [Access a class attribute in Python.](../%40textbook/21-python-object-oriented-programming.ipynb#Methods)"
   ]
  },
  {
   "cell_type": "code",
   "execution_count": 66,
   "id": "f6685518-3b38-4d2a-a564-71ed74e5417e",
   "metadata": {},
   "outputs": [
    {
     "data": {
      "text/plain": [
       "{'n': 1, 'nModified': 0, 'ok': 1.0, 'updatedExisting': True}"
      ]
     },
     "execution_count": 66,
     "metadata": {},
     "output_type": "execute_result"
    }
   ],
   "source": [
    "# Access methods and attributes using `dir`\n",
    "dir(result)\n",
    "# Access `raw_result` attribute\n",
    "result.raw_result"
   ]
  },
  {
   "cell_type": "markdown",
   "id": "209ad037-3fac-4c4d-bb25-6501d5d03b70",
   "metadata": {},
   "source": [
    "We know how to update a record, and we can interpret our operation results. Since we can do it for one record, we can do it for all of them! So let's update the records for all the observations in our experiment. "
   ]
  },
  {
   "cell_type": "code",
   "execution_count": null,
   "id": "a7da6dc7-f374-4617-b2b1-0d53d5405028",
   "metadata": {},
   "outputs": [],
   "source": [
    "VimeoVideo(\"734147474\", h=\"4e38b07a71\", width=600)"
   ]
  },
  {
   "cell_type": "markdown",
   "id": "4a1f6714-a82e-46d3-9191-bbbac95f2136",
   "metadata": {},
   "source": [
    "**Task 7.2.13:** Create a function `update_applicants` that takes a list of document like as input, updates the corresponding documents in a collection, and returns a dictionary with the results of the update. Then use your function to update `\"ds-applicants\"` with `observations_assigned`.\n",
    "\n",
    "- [Write a function in Python.](../%40textbook/02-python-advanced.ipynb#Functions)\n",
    "- [Write a `for` loop in Python.](../%40textbook/01-python-getting-started.ipynb#Working-with-for-Loops)"
   ]
  },
  {
   "cell_type": "code",
   "execution_count": 67,
   "id": "e4563ee6-c711-405e-a0ff-28034556cd8b",
   "metadata": {},
   "outputs": [],
   "source": [
    "def update_applicants(collection, observations_assigned):\n",
    "    \"\"\"Update applicant documents in collection.\n",
    "\n",
    "    Parameters\n",
    "    ----------\n",
    "    collection : pymongo.collection.Collection\n",
    "        Collection in which documents will be updated.\n",
    "\n",
    "    observations_assigned : list\n",
    "        Documents that will be used to update collection\n",
    "\n",
    "    Returns\n",
    "    -------\n",
    "    transaction_result : dict\n",
    "        Status of update operation, including number of documents\n",
    "        and number of documents modified.\n",
    "    \"\"\"\n",
    "    n=0\n",
    "    n_modified=0\n",
    "    for doc in observations_assigned:\n",
    "        result =collection.update_one(\n",
    "            filter={\"_id\":doc[\"_id\"]},\n",
    "            update={\"$set\":doc}\n",
    "        )\n",
    "        n += result.matched_count\n",
    "        n_modified+=result.modified_count\n",
    "    transaction_result=f\"n:{n},modified:{n_modified}\"    \n",
    "    return transaction_result"
   ]
  },
  {
   "cell_type": "code",
   "execution_count": 68,
   "id": "ffc7ffc5-05f7-4f28-9d40-cdd95b74bccd",
   "metadata": {},
   "outputs": [
    {
     "name": "stdout",
     "output_type": "stream",
     "text": [
      "result type: <class 'str'>\n"
     ]
    },
    {
     "data": {
      "text/plain": [
       "'n:48,modified:0'"
      ]
     },
     "execution_count": 68,
     "metadata": {},
     "output_type": "execute_result"
    }
   ],
   "source": [
    "result = update_applicants(ds_app, observations_assigned)\n",
    "print(\"result type:\", type(result))\n",
    "result"
   ]
  },
  {
   "cell_type": "markdown",
   "id": "b87f7187-9640-4a9e-ae88-4b90e906d9a8",
   "metadata": {},
   "source": [
    "Note that if you run the above cell multiple times, the value for `result[\"nModified\"]` will go to `0`. This is because you've already updated the documents. "
   ]
  },
  {
   "cell_type": "markdown",
   "id": "f038c40b-7a9a-4c19-8e80-079c4c852224",
   "metadata": {},
   "source": [
    "# Python Classes: Building the Repository"
   ]
  },
  {
   "cell_type": "markdown",
   "id": "13f18d99-e599-4666-a615-dbe0f166d9ba",
   "metadata": {},
   "source": [
    "We've managed to extract data from our database using our `find_by_date` function, transform it using our `assign_to_groups` function, and load it using our `update_applicants` function. Does that mean we're done? Not yet! There's an issue we need to address: distraction.\n",
    "\n",
    "What do we mean when we say distraction? Think about it this way: Do you need to know the exact code that makes `df.describe()` work? No, you just need to calculate summary statistics! Going into more details would distract you from the work you need to get done. The same is true of the tools you've created in this lesson. Others will want to use them in future experiments with worrying about your implementation. The solution is to **abstract** the details of your code away.\n",
    "\n",
    "To do this we're going to create a [Python class.](https://docs.python.org/3/tutorial/classes.html) Python classes contain both information and ways to interact with that information. An example of class is a pandas `DataFrame`. Not only does it hold data (like the size of an apartment in Buenos Aires or the income of a household in the United States); it also provides methods for inspecting it (like `DataFrame.head()` or `DataFrame.info()`) and manipulating it (like `DataFrame.sum()` or `DataFrame.replace()`). \n",
    "\n",
    "In the case of this project, we want to create a class that will hold information about the documents we want (like the name and location of the collection) and provide tools for interacting with those documents (like the functions we've built above). Let's get started!"
   ]
  },
  {
   "cell_type": "code",
   "execution_count": null,
   "id": "9e24ecb9-8d25-4af0-83e2-4244d541ed97",
   "metadata": {},
   "outputs": [],
   "source": [
    "VimeoVideo(\"734133492\", h=\"a0f97831a1\", width=600)"
   ]
  },
  {
   "cell_type": "code",
   "execution_count": null,
   "id": "dcd24170-e5fb-4fda-9cd3-050d8aae3880",
   "metadata": {},
   "outputs": [],
   "source": [
    "VimeoVideo(\"734133039\", h=\"070a04dd1c\", width=600)"
   ]
  },
  {
   "cell_type": "markdown",
   "id": "57c673a7-7c52-4040-a430-feca4cec8b81",
   "metadata": {},
   "source": [
    "**Task 7.2.14:** Define a `MongoRepository` class with an `__init__` method. The `__init__` method should accept three arguments: `client`, `db`, and `collection`. Use the docstring below as a guide.\n",
    "\n",
    "> Note: When initializing `MongoClient`, make sure to pass the `host` parameter like this: `host=host`.\n",
    "- [Write a class definition in Python.](../%40textbook/21-python-object-oriented-programming.ipynb#Classes)\n",
    "- [Write a class method in Python.](../%40textbook/21-python-object-oriented-programming.ipynb#Methods) "
   ]
  },
  {
   "cell_type": "code",
   "execution_count": 73,
   "id": "5328eb19-fb9c-4141-b09b-ba93e09cbf39",
   "metadata": {},
   "outputs": [],
   "source": [
    "class MongoRepository:\n",
    "    \"\"\"Repository class for interacting with MongoDB database.\n",
    "\n",
    "    Parameters\n",
    "    ----------\n",
    "    client : `pymongo.MongoClient`\n",
    "        By default, `MongoClient(host=host, port=27017)`.\n",
    "    db : str\n",
    "        By default, `'wqu-abtest'`.\n",
    "    collection : str\n",
    "        By default, `'ds-applicants'`.\n",
    "\n",
    "    Attributes\n",
    "    ----------\n",
    "    collection : pymongo.collection.Collection\n",
    "        All data will be extracted from and loaded to this collection.\n",
    "    \"\"\"\n",
    "    def __init__(\n",
    "        self,\n",
    "        client=MongoClient(host=\"192.7.148.2\",port=27017),\n",
    "        db=\"wqu-abtest\",\n",
    "        collection=\"ds-applicants\"\n",
    "    ):\n",
    "        self.collection=client[db][collection]\n",
    "\n",
    "    # Task 7.2.14\n",
    "    def find_by_date(self,date_string):\n",
    "    \n",
    "    \n",
    "    # Convert `date_string` to datetime object\n",
    "        start = pd.to_datetime(date_string,format=\"%Y-%m-%d\")\n",
    "    # Offset `start` by 1 day\n",
    "        end = start+pd.DateOffset(days=1)\n",
    "    # Create PyMongo query for no-quiz applicants b/t `start` and `end`\n",
    "        query = {\"createdAt\": {\"$gte\": start, \"$lt\": end}, \"admissionsQuiz\": \"incomplete\"}\n",
    "    # Query collection, get result\n",
    "        result = self. collection.find(query)\n",
    "    # Convert `result` to list\n",
    "        observations = list(result)\n",
    "        return observations\n",
    "\n",
    "    # Task 7.2.17\n",
    "    def update_applicants(self, observations_assigned):\n",
    "    \n",
    "        n=0\n",
    "        n_modified=0\n",
    "        for doc in observations_assigned:\n",
    "            result =self.collection.update_one(\n",
    "                filter={\"_id\":doc[\"_id\"]},\n",
    "                update={\"$set\":doc}\n",
    "            )\n",
    "            n += result.matched_count\n",
    "            n_modified+=result.modified_count\n",
    "        transaction_result=f\"n:{n},modified:{n_modified}\"    \n",
    "        return transaction_result\n",
    "    # Task 7.2.18\n",
    "    def assign_to_groups(self,date_string):\n",
    "        observations=self.find_by_date(date_string)\n",
    "        # Shuffle `observations`\n",
    "        random.seed(42)\n",
    "        random.shuffle(observations)\n",
    "    \n",
    "        # Get index position of item at observations halfway point\n",
    "        idx = len(observations)//2\n",
    "    \n",
    "        # Assign first half of observations to control group\n",
    "      \n",
    "        for doc in observations[:idx]:\n",
    "            doc[\"inExperiment\"]=True\n",
    "            doc[\"group\"]=\"no email (control)\"\n",
    "        # Assign second half of observations to treatment group\n",
    "        for doc in observations[idx:]:\n",
    "            doc[\"inExperiment\"]=True\n",
    "            doc[\"group\"]=\"email (treatment)\"\n",
    "        result=self.update_applicants(observations)    \n",
    "    \n",
    "        return result\n",
    "    \n",
    "    \n",
    "    \n",
    "    \n",
    "    # Task 7.2.19\n",
    "   "
   ]
  },
  {
   "cell_type": "markdown",
   "id": "96eead5f-4e05-4350-b2c3-3b5dc46ead4c",
   "metadata": {},
   "source": [
    "Now that we have a class definition, we can do all sorts of interesting things. The first thing to do is instantiate the class..."
   ]
  },
  {
   "cell_type": "code",
   "execution_count": null,
   "id": "5245bf0f-844e-4237-b441-c3964bf95507",
   "metadata": {},
   "outputs": [],
   "source": [
    "VimeoVideo(\"734150578\", h=\"2caaa53d03\", width=600)"
   ]
  },
  {
   "cell_type": "markdown",
   "id": "d292d463-9f9e-4c2b-a1c9-452f2122aa9f",
   "metadata": {},
   "source": [
    "**Task 7.2.15:** Create an instance of your `MongoRepository` and assign it to the variable name `repo`."
   ]
  },
  {
   "cell_type": "code",
   "execution_count": 74,
   "id": "e41ffe09-d0f3-4e00-b278-1e81387eba6c",
   "metadata": {},
   "outputs": [
    {
     "name": "stdout",
     "output_type": "stream",
     "text": [
      "repo type: <class '__main__.MongoRepository'>\n"
     ]
    },
    {
     "data": {
      "text/plain": [
       "<__main__.MongoRepository at 0x7d06d48ee110>"
      ]
     },
     "execution_count": 74,
     "metadata": {},
     "output_type": "execute_result"
    }
   ],
   "source": [
    "repo = MongoRepository()\n",
    "print(\"repo type:\", type(repo))\n",
    "repo"
   ]
  },
  {
   "cell_type": "markdown",
   "id": "dabbabf0-d0f6-4e57-971a-282e2a5019c1",
   "metadata": {},
   "source": [
    "...and then we can look at the attributes of the collection."
   ]
  },
  {
   "cell_type": "code",
   "execution_count": null,
   "id": "77890d4f-7cf1-44b3-b50f-6a6c97ab19f3",
   "metadata": {},
   "outputs": [],
   "source": [
    "VimeoVideo(\"734150427\", h=\"f9c9433ff6\", width=600)"
   ]
  },
  {
   "cell_type": "markdown",
   "id": "11cdc3b3-544f-4154-a1f4-1be16887820d",
   "metadata": {},
   "source": [
    "**Task 7.2.16:** Extract the `collection` attribute from `repo`, and assign it to the variable `c_test`. Is the `c_test` the correct data type?\n",
    "\n",
    "- [Access a class attribute in Python.](../%40textbook/21-python-object-oriented-programming.ipynb#Methods)"
   ]
  },
  {
   "cell_type": "code",
   "execution_count": 75,
   "id": "360f4f91-f0b8-4ca2-be71-8fb0a864e3a0",
   "metadata": {},
   "outputs": [
    {
     "name": "stdout",
     "output_type": "stream",
     "text": [
      "c_test type: <class 'pymongo.synchronous.collection.Collection'>\n"
     ]
    },
    {
     "data": {
      "text/plain": [
       "Collection(Database(MongoClient(host=['192.7.148.2:27017'], document_class=dict, tz_aware=False, connect=True), 'wqu-abtest'), 'ds-applicants')"
      ]
     },
     "execution_count": 75,
     "metadata": {},
     "output_type": "execute_result"
    }
   ],
   "source": [
    "c_test = repo.collection\n",
    "print(\"c_test type:\", type(c_test))\n",
    "c_test"
   ]
  },
  {
   "cell_type": "markdown",
   "id": "69724575-37ce-4c84-89c0-4c7020ca61d8",
   "metadata": {},
   "source": [
    "Our class is built, and now we need to take the ETL functions we created and turn them into **class methods**. Think back to the beginning of the course, where we learned how to work with DataFrames. If we call a DataFrame `df`, we can use methods designed by other people to figure out what's inside. We've learned lots of those methods already — `df.head()` `df.info()`, etc. — but we can also create our own. Let's give it a try."
   ]
  },
  {
   "cell_type": "code",
   "execution_count": null,
   "id": "39e959f4-21f0-4934-bd07-69de47ccb5d2",
   "metadata": {},
   "outputs": [],
   "source": [
    "VimeoVideo(\"734150075\", h=\"82f7810cd0\", width=600)"
   ]
  },
  {
   "cell_type": "markdown",
   "id": "daeeb1c6-a01b-4fc8-b73d-e8efe7f0956a",
   "metadata": {},
   "source": [
    "**Task 7.2.17:** Using your function as a model, create a `find_by_date` method for your `MongoRepository` class. It should take only one argument: `date_string`. Once you're done, test your method by extracting all the users who created account on 15 May 2022.\n",
    "\n",
    "- [Access a class method in Python.](../%40textbook/21-python-object-oriented-programming.ipynb#Methods)"
   ]
  },
  {
   "cell_type": "code",
   "execution_count": 76,
   "id": "3a6b1674-0c57-4c14-a19a-df432e4ed844",
   "metadata": {},
   "outputs": [
    {
     "name": "stdout",
     "output_type": "stream",
     "text": [
      "may_15_users type <class 'list'>\n",
      "may_15_users len 30\n"
     ]
    },
    {
     "data": {
      "text/plain": [
       "[{'_id': ObjectId('68a811f5eb54637f38f2cc0d'),\n",
       "  'createdAt': datetime.datetime(2022, 5, 15, 20, 21, 12),\n",
       "  'firstName': 'Patrick',\n",
       "  'lastName': 'Derosa',\n",
       "  'email': 'patrick.derosa81@hotmeal.com',\n",
       "  'birthday': datetime.datetime(2000, 9, 30, 0, 0),\n",
       "  'gender': 'male',\n",
       "  'highestDegreeEarned': \"Bachelor's degree\",\n",
       "  'countryISO2': 'UA',\n",
       "  'admissionsQuiz': 'incomplete'},\n",
       " {'_id': ObjectId('68a811f5eb54637f38f2cd2c'),\n",
       "  'createdAt': datetime.datetime(2022, 5, 15, 10, 50, 56),\n",
       "  'firstName': 'Deidre',\n",
       "  'lastName': 'Pagan',\n",
       "  'email': 'deidre.pagan75@hotmeal.com',\n",
       "  'birthday': datetime.datetime(1996, 12, 2, 0, 0),\n",
       "  'gender': 'female',\n",
       "  'highestDegreeEarned': \"Bachelor's degree\",\n",
       "  'countryISO2': 'ZW',\n",
       "  'admissionsQuiz': 'incomplete'},\n",
       " {'_id': ObjectId('68a811f5eb54637f38f2cdbf'),\n",
       "  'createdAt': datetime.datetime(2022, 5, 15, 5, 8, 35),\n",
       "  'firstName': 'Harry',\n",
       "  'lastName': 'Ellis',\n",
       "  'email': 'harry.ellis78@microsift.com',\n",
       "  'birthday': datetime.datetime(2000, 2, 6, 0, 0),\n",
       "  'gender': 'male',\n",
       "  'highestDegreeEarned': \"Bachelor's degree\",\n",
       "  'countryISO2': 'CM',\n",
       "  'admissionsQuiz': 'incomplete'}]"
      ]
     },
     "execution_count": 76,
     "metadata": {},
     "output_type": "execute_result"
    }
   ],
   "source": [
    "may_15_users = repo.find_by_date(date_string=\"2022-05-15\")\n",
    "print(\"may_15_users type\", type(may_15_users))\n",
    "print(\"may_15_users len\", len(may_15_users))\n",
    "may_15_users[:3]"
   ]
  },
  {
   "cell_type": "markdown",
   "id": "af3e324a-e4be-433d-ac49-58dc0bad9103",
   "metadata": {},
   "source": [
    "Good work! Let's try it again!"
   ]
  },
  {
   "cell_type": "code",
   "execution_count": null,
   "id": "9d1d5132-b310-4bf0-a27c-299258a8314c",
   "metadata": {},
   "outputs": [],
   "source": [
    "VimeoVideo(\"734149871\", h=\"4db7c08002\", width=600)"
   ]
  },
  {
   "cell_type": "markdown",
   "id": "711e7282-d5db-4927-962e-7bfb90cb0477",
   "metadata": {},
   "source": [
    "**Task 7.2.18:** Using your function as a model, create an `update_applicants` method for your `MongoRepository` class. It should take one argument: `documents`. To test your method, use the function to update the documents in `observations_assigned`. \n",
    "\n",
    "- [Access a class method in Python.](../%40textbook/21-python-object-oriented-programming.ipynb#Methods)"
   ]
  },
  {
   "cell_type": "code",
   "execution_count": 77,
   "id": "a3adbfd6-8507-4f54-859f-95dbc8bf1d27",
   "metadata": {},
   "outputs": [
    {
     "name": "stdout",
     "output_type": "stream",
     "text": [
      "result type: <class 'str'>\n"
     ]
    },
    {
     "data": {
      "text/plain": [
       "'n:48,modified:0'"
      ]
     },
     "execution_count": 77,
     "metadata": {},
     "output_type": "execute_result"
    }
   ],
   "source": [
    "result = repo.update_applicants(observations_assigned)\n",
    "print(\"result type:\", type(result))\n",
    "result"
   ]
  },
  {
   "cell_type": "markdown",
   "id": "3b4340cf-6fb2-402a-87ab-f62dc6a2546f",
   "metadata": {},
   "source": [
    "Let's make another one!<span style='color: transparent; font-size:1%'>WQU WorldQuant University Applied Data Science Lab QQQQ</span>"
   ]
  },
  {
   "cell_type": "code",
   "execution_count": null,
   "id": "cc3dd318-ce3e-48dc-9bc8-bf5ebdd4f196",
   "metadata": {},
   "outputs": [],
   "source": [
    "VimeoVideo(\"734149186\", h=\"65f443159c\", width=600)"
   ]
  },
  {
   "cell_type": "markdown",
   "id": "5b3047bb-2dc4-443f-9ad0-1da9db2923c0",
   "metadata": {},
   "source": [
    "**Task 7.2.19:** Create an `assign_to_groups` method for your `MongoRepository` class. Note that it should work differently than your original function. It will take one argument: `date_string`. It should find users from that date, assign them to groups, update the database, and return the results of the transaction. Once you're done, use your method to assign all the users who created account on **14 May 2022**, to groups.\n",
    "\n",
    "- [Access a class method in Python.](../%40textbook/21-python-object-oriented-programming.ipynb#Methods)"
   ]
  },
  {
   "cell_type": "code",
   "execution_count": 78,
   "id": "740e8e40-d346-4b61-b8d7-7a3d132108ac",
   "metadata": {},
   "outputs": [
    {
     "name": "stdout",
     "output_type": "stream",
     "text": [
      "result type: <class 'str'>\n"
     ]
    },
    {
     "data": {
      "text/plain": [
       "'n:30,modified:30'"
      ]
     },
     "execution_count": 78,
     "metadata": {},
     "output_type": "execute_result"
    }
   ],
   "source": [
    "result =repo.assign_to_groups(date_string=\"2022-05-15\")\n",
    "print(\"result type:\", type(result))\n",
    "result"
   ]
  },
  {
   "cell_type": "markdown",
   "id": "5cdb0eac-4b1d-4ecf-9e04-a5b5916133a4",
   "metadata": {},
   "source": [
    "We'll leave it to you to implement an `export_treatment_emails` method. For now, let's submit your class to the grader. "
   ]
  },
  {
   "cell_type": "code",
   "execution_count": 83,
   "id": "469357b7-2799-4bd9-8ca9-93403744410c",
   "metadata": {},
   "outputs": [
    {
     "data": {
      "text/html": [
       "\n",
       "        <iframe\n",
       "            width=\"600\"\n",
       "            height=\"300\"\n",
       "            src=\"https://player.vimeo.com/video/734148753?h=2305068b6b\"\n",
       "            frameborder=\"0\"\n",
       "            allowfullscreen\n",
       "            \n",
       "        ></iframe>\n",
       "        "
      ],
      "text/plain": [
       "<IPython.lib.display.VimeoVideo at 0x7d06d4a1ce90>"
      ]
     },
     "execution_count": 83,
     "metadata": {},
     "output_type": "execute_result"
    }
   ],
   "source": [
    "VimeoVideo(\"734148753\", h=\"2305068b6b\", width=600)"
   ]
  },
  {
   "cell_type": "markdown",
   "id": "76cc0536-a296-429c-9733-4ddeb50a08a0",
   "metadata": {},
   "source": [
    "**Task 7.2.20:** Run the cell below, to create a new instance of your `MongoRepository` class, assign users from **16 May 2022** to groups, and submit the results to the grader."
   ]
  },
  {
   "cell_type": "code",
   "execution_count": 90,
   "id": "ef4d4adc-911c-49ac-aa3c-6718e66637fc",
   "metadata": {},
   "outputs": [
    {
     "data": {
      "text/plain": [
       "'n:37,modified:0'"
      ]
     },
     "execution_count": 90,
     "metadata": {},
     "output_type": "execute_result"
    }
   ],
   "source": [
    "repo_test = MongoRepository()\n",
    "submission = repo_test.assign_to_groups(\"2022-05-01\")\n",
    "submission"
   ]
  },
  {
   "cell_type": "code",
   "execution_count": 92,
   "id": "b67786cc-e00c-4550-93c6-a9b7dd282036",
   "metadata": {
    "deletable": false,
    "editable": false,
    "slideshow": {
     "slide_type": ""
    },
    "tags": []
   },
   "outputs": [],
   "source": [
    "repo_test = MongoRepository()\n",
    "submission = repo_test.assign_to_groups(\"2022-05-16\")"
   ]
  },
  {
   "cell_type": "markdown",
   "id": "194f5fe1",
   "metadata": {
    "deletable": false,
    "editable": false
   },
   "source": [
    "---\n",
    "Copyright 2023 WorldQuant University. This\n",
    "content is licensed solely for personal use. Redistribution or\n",
    "publication of this material is strictly prohibited.\n"
   ]
  }
 ],
 "metadata": {
  "kernelspec": {
   "display_name": "Python 3 (ipykernel)",
   "language": "python",
   "name": "python3"
  },
  "language_info": {
   "codemirror_mode": {
    "name": "ipython",
    "version": 3
   },
   "file_extension": ".py",
   "mimetype": "text/x-python",
   "name": "python",
   "nbconvert_exporter": "python",
   "pygments_lexer": "ipython3",
   "version": "3.11.0"
  },
  "vscode": {
   "interpreter": {
    "hash": "aee8b7b246df8f9039afb4144a1f6fd8d2ca17a180786b69acc140d282b71a49"
   }
  },
  "widgets": {
   "application/vnd.jupyter.widget-state+json": {
    "state": {},
    "version_major": 2,
    "version_minor": 0
   }
  }
 },
 "nbformat": 4,
 "nbformat_minor": 5
}
