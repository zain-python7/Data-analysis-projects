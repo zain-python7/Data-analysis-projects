{
 "cells": [
  {
   "cell_type": "markdown",
   "id": "3249299a-48f7-45e9-9b94-1c74fcd5989a",
   "metadata": {},
   "source": [
    "<font size=\"+3\"><strong>4.1. Wrangling Data with SQL</strong></font>"
   ]
  },
  {
   "cell_type": "code",
   "execution_count": 6,
   "id": "489eaac3-6274-4594-81fe-40708b9a7d7b",
   "metadata": {},
   "outputs": [],
   "source": [
    "import sqlite3\n",
    "\n",
    "import pandas as pd\n",
    "from IPython.display import VimeoVideo"
   ]
  },
  {
   "cell_type": "code",
   "execution_count": null,
   "id": "6310ad95-1544-4fd8-9a78-e1217c4e81c7",
   "metadata": {},
   "outputs": [],
   "source": [
    "VimeoVideo(\"665414044\", h=\"ff34728e6a\", width=600)"
   ]
  },
  {
   "cell_type": "markdown",
   "id": "ebf076cf-a8fa-4b68-b89b-f1d5295bdc48",
   "metadata": {},
   "source": [
    "# Prepare Data"
   ]
  },
  {
   "cell_type": "markdown",
   "id": "27a78900-71b4-4fc4-a069-1e03dea39e1a",
   "metadata": {},
   "source": [
    "## Connect"
   ]
  },
  {
   "cell_type": "code",
   "execution_count": 2,
   "id": "6561ba3b-bd4a-447f-9e37-c3f2549a41bc",
   "metadata": {},
   "outputs": [
    {
     "data": {
      "text/html": [
       "\n",
       "        <iframe\n",
       "            width=\"600\"\n",
       "            height=\"300\"\n",
       "            src=\"https://player.vimeo.com/video/665414180?h=573444d2f6\"\n",
       "            frameborder=\"0\"\n",
       "            allowfullscreen\n",
       "            \n",
       "        ></iframe>\n",
       "        "
      ],
      "text/plain": [
       "<IPython.lib.display.VimeoVideo at 0x7619757417d0>"
      ]
     },
     "execution_count": 2,
     "metadata": {},
     "output_type": "execute_result"
    }
   ],
   "source": [
    "VimeoVideo(\"665414180\", h=\"573444d2f6\", width=600)"
   ]
  },
  {
   "cell_type": "markdown",
   "id": "e656afab-fad5-4e5c-a088-5f835ae619a1",
   "metadata": {},
   "source": [
    "**Task 4.1.1:** Run the cell below to connect to the `nepal.sqlite` database. \n",
    "\n",
    "- [What's <span id='term'>ipython-sql</span>?](../%40textbook/10-databases-sql.ipynb#SQL-Databases)\n",
    "- [What's a <span id='term'>Magics function</span>?](../%40textbook/10-databases-sql.ipynb#Magic-Commands)"
   ]
  },
  {
   "cell_type": "code",
   "execution_count": 8,
   "id": "13dc1e6a-63b0-4f55-9efa-ea5b75538ac7",
   "metadata": {},
   "outputs": [
    {
     "name": "stdout",
     "output_type": "stream",
     "text": [
      "The sql extension is already loaded. To reload it, use:\n",
      "  %reload_ext sql\n"
     ]
    }
   ],
   "source": [
    "%load_ext sql\n",
    "%sql sqlite:///../nepal.sqlite"
   ]
  },
  {
   "cell_type": "markdown",
   "id": "fd7b56db-bb81-43e4-82fd-5a5fe35f7448",
   "metadata": {},
   "source": [
    "## Explore"
   ]
  },
  {
   "cell_type": "code",
   "execution_count": 10,
   "id": "6e00e2f8-47e3-4379-a2e1-aec38ee229b4",
   "metadata": {},
   "outputs": [
    {
     "data": {
      "text/html": [
       "\n",
       "        <iframe\n",
       "            width=\"600\"\n",
       "            height=\"300\"\n",
       "            src=\"https://player.vimeo.com/video/665414201?h=4f30b7a95f\"\n",
       "            frameborder=\"0\"\n",
       "            allowfullscreen\n",
       "            \n",
       "        ></iframe>\n",
       "        "
      ],
      "text/plain": [
       "<IPython.lib.display.VimeoVideo at 0x761965e1de10>"
      ]
     },
     "execution_count": 10,
     "metadata": {},
     "output_type": "execute_result"
    }
   ],
   "source": [
    "VimeoVideo(\"665414201\", h=\"4f30b7a95f\", width=600)"
   ]
  },
  {
   "cell_type": "markdown",
   "id": "e976a08c-2892-4c0d-b376-1bdf4a149446",
   "metadata": {},
   "source": [
    "**Task 4.1.2:** Select all rows and columns from the `sqlite_schema` table, and examine the output. \n",
    "\n",
    "- [What's a <span id='term'>SQL database</span>?](../%40textbook/10-databases-sql.ipynb#SQL-Databases)\n",
    "- [What's a <span id='term'>SQL table</span>?](../%40textbook/10-databases-sql.ipynb#SQL-Databases)\n",
    "- [<span id='technique'>Write a basic query in <span id='tool'>SQL</span></span>.](../%40textbook/10-databases-sql.ipynb#Building-Blocks-of-the-Basic-Query)\n",
    "\n",
    "How many tables are in the `nepal.sqlite` database? What information do they hold? "
   ]
  },
  {
   "cell_type": "code",
   "execution_count": 11,
   "id": "56b7f670-fafd-4499-9d1a-df1881d8b583",
   "metadata": {
    "tags": []
   },
   "outputs": [
    {
     "data": {
      "text/html": [
       "<span style=\"None\">Running query in &#x27;sqlite:///../nepal.sqlite&#x27;</span>"
      ],
      "text/plain": [
       "Running query in 'sqlite:///../nepal.sqlite'"
      ]
     },
     "metadata": {},
     "output_type": "display_data"
    },
    {
     "data": {
      "text/html": [
       "<table>\n",
       "    <thead>\n",
       "        <tr>\n",
       "            <th>type</th>\n",
       "            <th>name</th>\n",
       "            <th>tbl_name</th>\n",
       "            <th>rootpage</th>\n",
       "            <th>sql</th>\n",
       "        </tr>\n",
       "    </thead>\n",
       "    <tbody>\n",
       "        <tr>\n",
       "            <td>table</td>\n",
       "            <td>id_map</td>\n",
       "            <td>id_map</td>\n",
       "            <td>2</td>\n",
       "            <td>CREATE TABLE \"id_map\" (<br>\"household_id\" INTEGER,<br>  \"building_id\" INTEGER,<br>  \"vdcmun_id\" INTEGER,<br>  \"district_id\" INTEGER<br>)</td>\n",
       "        </tr>\n",
       "        <tr>\n",
       "            <td>index</td>\n",
       "            <td>ix_id_map_household_id</td>\n",
       "            <td>id_map</td>\n",
       "            <td>3</td>\n",
       "            <td>CREATE INDEX \"ix_id_map_household_id\"ON \"id_map\" (\"household_id\")</td>\n",
       "        </tr>\n",
       "        <tr>\n",
       "            <td>table</td>\n",
       "            <td>building_structure</td>\n",
       "            <td>building_structure</td>\n",
       "            <td>2032</td>\n",
       "            <td>CREATE TABLE \"building_structure\" (<br>\"building_id\" INTEGER,<br>  \"count_floors_pre_eq\" INTEGER,<br>  \"count_floors_post_eq\" INTEGER,<br>  \"age_building\" INTEGER,<br>  \"plinth_area_sq_ft\" INTEGER,<br>  \"height_ft_pre_eq\" INTEGER,<br>  \"height_ft_post_eq\" INTEGER,<br>  \"land_surface_condition\" TEXT,<br>  \"foundation_type\" TEXT,<br>  \"roof_type\" TEXT,<br>  \"ground_floor_type\" TEXT,<br>  \"other_floor_type\" TEXT,<br>  \"position\" TEXT,<br>  \"plan_configuration\" TEXT,<br>  \"condition_post_eq\" TEXT,<br>  \"superstructure\" TEXT<br>)</td>\n",
       "        </tr>\n",
       "        <tr>\n",
       "            <td>index</td>\n",
       "            <td>ix_building_structure_building_id</td>\n",
       "            <td>building_structure</td>\n",
       "            <td>2033</td>\n",
       "            <td>CREATE INDEX \"ix_building_structure_building_id\"ON \"building_structure\" (\"building_id\")</td>\n",
       "        </tr>\n",
       "        <tr>\n",
       "            <td>table</td>\n",
       "            <td>building_damage</td>\n",
       "            <td>building_damage</td>\n",
       "            <td>12302</td>\n",
       "            <td>CREATE TABLE \"building_damage\" (<br>\"building_id\" INTEGER,<br>  \"damage_overall_collapse\" TEXT,<br>  \"damage_overall_leaning\" TEXT,<br>  \"damage_overall_adjacent_building_risk\" TEXT,<br>  \"damage_foundation_severe\" TEXT,<br>  \"damage_foundation_moderate\" TEXT,<br>  \"damage_foundation_insignificant\" TEXT,<br>  \"damage_roof_severe\" TEXT,<br>  \"damage_roof_moderate\" TEXT,<br>  \"damage_roof_insignificant\" TEXT,<br>  \"damage_corner_separation_severe\" TEXT,<br>  \"damage_corner_separation_moderate\" TEXT,<br>  \"damage_corner_separation_insignificant\" TEXT,<br>  \"damage_diagonal_cracking_severe\" TEXT,<br>  \"damage_diagonal_cracking_moderate\" TEXT,<br>  \"damage_diagonal_cracking_insignificant\" TEXT,<br>  \"damage_in_plane_failure_severe\" TEXT,<br>  \"damage_in_plane_failure_moderate\" TEXT,<br>  \"damage_in_plane_failure_insignificant\" TEXT,<br>  \"damage_out_of_plane_failure_severe\" TEXT,<br>  \"damage_out_of_plane_failure_moderate\" TEXT,<br>  \"damage_out_of_plane_failure_insignificant\" TEXT,<br>  \"damage_out_of_plane_failure_walls_ncfr_severe\" TEXT,<br>  \"damage_out_of_plane_failure_walls_ncfr_moderate\" TEXT,<br>  \"damage_out_of_plane_failure_walls_ncfr_insignificant\" TEXT,<br>  \"damage_gable_failure_severe\" TEXT,<br>  \"damage_gable_failure_moderate\" TEXT,<br>  \"damage_gable_failure_insignificant\" TEXT,<br>  \"damage_delamination_failure_severe\" TEXT,<br>  \"damage_delamination_failure_moderate\" TEXT,<br>  \"damage_delamination_failure_insignificant\" TEXT,<br>  \"damage_column_failure_severe\" TEXT,<br>  \"damage_column_failure_moderate\" TEXT,<br>  \"damage_column_failure_insignificant\" TEXT,<br>  \"damage_beam_failure_severe\" TEXT,<br>  \"damage_beam_failure_moderate\" TEXT,<br>  \"damage_beam_failure_insignificant\" TEXT,<br>  \"damage_infill_partition_failure_severe\" TEXT,<br>  \"damage_infill_partition_failure_moderate\" TEXT,<br>  \"damage_infill_partition_failure_insignificant\" TEXT,<br>  \"damage_staircase_severe\" TEXT,<br>  \"damage_staircase_moderate\" TEXT,<br>  \"damage_staircase_insignificant\" TEXT,<br>  \"damage_parapet_severe\" TEXT,<br>  \"damage_parapet_moderate\" TEXT,<br>  \"damage_parapet_insignificant\" TEXT,<br>  \"damage_cladding_glazing_severe\" TEXT,<br>  \"damage_cladding_glazing_moderate\" TEXT,<br>  \"damage_cladding_glazing_insignificant\" TEXT,<br>  \"area_assesed\" TEXT,<br>  \"damage_grade\" TEXT,<br>  \"technical_solution_proposed\" TEXT,<br>  \"has_repair_started\" REAL,<br>  \"has_damage_foundation\" REAL,<br>  \"has_damage_roof\" REAL,<br>  \"has_damage_corner_separation\" REAL,<br>  \"has_damage_diagonal_cracking\" REAL,<br>  \"has_damage_in_plane_failure\" REAL,<br>  \"has_damage_out_of_plane_failure\" REAL,<br>  \"has_damage_out_of_plane_walls_ncfr_failure\" REAL,<br>  \"has_damage_gable_failure\" REAL,<br>  \"has_damage_delamination_failure\" REAL,<br>  \"has_damage_column_failure\" REAL,<br>  \"has_damage_beam_failure\" REAL,<br>  \"has_damage_infill_partition_failure\" REAL,<br>  \"has_damage_staircase\" REAL,<br>  \"has_damage_parapet\" REAL,<br>  \"has_damage_cladding_glazing\" REAL,<br>  \"has_geotechnical_risk\" REAL,<br>  \"has_geotechnical_risk_land_settlement\" INTEGER,<br>  \"has_geotechnical_risk_fault_crack\" INTEGER,<br>  \"has_geotechnical_risk_liquefaction\" INTEGER,<br>  \"has_geotechnical_risk_landslide\" INTEGER,<br>  \"has_geotechnical_risk_rock_fall\" INTEGER,<br>  \"has_geotechnical_risk_flood\" INTEGER,<br>  \"has_geotechnical_risk_other\" INTEGER<br>)</td>\n",
       "        </tr>\n",
       "        <tr>\n",
       "            <td>index</td>\n",
       "            <td>ix_building_damage_building_id</td>\n",
       "            <td>building_damage</td>\n",
       "            <td>12305</td>\n",
       "            <td>CREATE INDEX \"ix_building_damage_building_id\"ON \"building_damage\" (\"building_id\")</td>\n",
       "        </tr>\n",
       "        <tr>\n",
       "            <td>table</td>\n",
       "            <td>household_demographics</td>\n",
       "            <td>household_demographics</td>\n",
       "            <td>30763</td>\n",
       "            <td>CREATE TABLE \"household_demographics\" (<br>\"household_id\" INTEGER,<br>  \"gender_household_head\" TEXT,<br>  \"age_household_head\" REAL,<br>  \"caste_household\" TEXT,<br>  \"education_level_household_head\" TEXT,<br>  \"income_level_household\" TEXT,<br>  \"size_household\" REAL,<br>  \"is_bank_account_present_in_household\" REAL<br>)</td>\n",
       "        </tr>\n",
       "        <tr>\n",
       "            <td>index</td>\n",
       "            <td>ix_household_demographics_household_id</td>\n",
       "            <td>household_demographics</td>\n",
       "            <td>30764</td>\n",
       "            <td>CREATE INDEX \"ix_household_demographics_household_id\"ON \"household_demographics\" (\"household_id\")</td>\n",
       "        </tr>\n",
       "    </tbody>\n",
       "</table>"
      ],
      "text/plain": [
       "+-------+----------------------------------------+------------------------+----------+---------------------------------------------------------------------------------------------------+\n",
       "|  type |                  name                  |        tbl_name        | rootpage |                                                sql                                                |\n",
       "+-------+----------------------------------------+------------------------+----------+---------------------------------------------------------------------------------------------------+\n",
       "| table |                 id_map                 |         id_map         |    2     |                                      CREATE TABLE \"id_map\" (                                      |\n",
       "|       |                                        |                        |          |                                      \"household_id\" INTEGER,                                      |\n",
       "|       |                                        |                        |          |                                        \"building_id\" INTEGER,                                     |\n",
       "|       |                                        |                        |          |                                         \"vdcmun_id\" INTEGER,                                      |\n",
       "|       |                                        |                        |          |                                        \"district_id\" INTEGER                                      |\n",
       "|       |                                        |                        |          |                                                 )                                                 |\n",
       "| index |         ix_id_map_household_id         |         id_map         |    3     |                 CREATE INDEX \"ix_id_map_household_id\"ON \"id_map\" (\"household_id\")                 |\n",
       "| table |           building_structure           |   building_structure   |   2032   |                                CREATE TABLE \"building_structure\" (                                |\n",
       "|       |                                        |                        |          |                                       \"building_id\" INTEGER,                                      |\n",
       "|       |                                        |                        |          |                                    \"count_floors_pre_eq\" INTEGER,                                 |\n",
       "|       |                                        |                        |          |                                   \"count_floors_post_eq\" INTEGER,                                 |\n",
       "|       |                                        |                        |          |                                       \"age_building\" INTEGER,                                     |\n",
       "|       |                                        |                        |          |                                     \"plinth_area_sq_ft\" INTEGER,                                  |\n",
       "|       |                                        |                        |          |                                     \"height_ft_pre_eq\" INTEGER,                                   |\n",
       "|       |                                        |                        |          |                                     \"height_ft_post_eq\" INTEGER,                                  |\n",
       "|       |                                        |                        |          |                                    \"land_surface_condition\" TEXT,                                 |\n",
       "|       |                                        |                        |          |                                       \"foundation_type\" TEXT,                                     |\n",
       "|       |                                        |                        |          |                                          \"roof_type\" TEXT,                                        |\n",
       "|       |                                        |                        |          |                                      \"ground_floor_type\" TEXT,                                    |\n",
       "|       |                                        |                        |          |                                       \"other_floor_type\" TEXT,                                    |\n",
       "|       |                                        |                        |          |                                           \"position\" TEXT,                                        |\n",
       "|       |                                        |                        |          |                                      \"plan_configuration\" TEXT,                                   |\n",
       "|       |                                        |                        |          |                                      \"condition_post_eq\" TEXT,                                    |\n",
       "|       |                                        |                        |          |                                        \"superstructure\" TEXT                                      |\n",
       "|       |                                        |                        |          |                                                 )                                                 |\n",
       "| index |   ix_building_structure_building_id    |   building_structure   |   2033   |      CREATE INDEX \"ix_building_structure_building_id\"ON \"building_structure\" (\"building_id\")      |\n",
       "| table |            building_damage             |    building_damage     |  12302   |                                  CREATE TABLE \"building_damage\" (                                 |\n",
       "|       |                                        |                        |          |                                       \"building_id\" INTEGER,                                      |\n",
       "|       |                                        |                        |          |                                   \"damage_overall_collapse\" TEXT,                                 |\n",
       "|       |                                        |                        |          |                                    \"damage_overall_leaning\" TEXT,                                 |\n",
       "|       |                                        |                        |          |                            \"damage_overall_adjacent_building_risk\" TEXT,                          |\n",
       "|       |                                        |                        |          |                                   \"damage_foundation_severe\" TEXT,                                |\n",
       "|       |                                        |                        |          |                                  \"damage_foundation_moderate\" TEXT,                               |\n",
       "|       |                                        |                        |          |                               \"damage_foundation_insignificant\" TEXT,                             |\n",
       "|       |                                        |                        |          |                                      \"damage_roof_severe\" TEXT,                                   |\n",
       "|       |                                        |                        |          |                                     \"damage_roof_moderate\" TEXT,                                  |\n",
       "|       |                                        |                        |          |                                  \"damage_roof_insignificant\" TEXT,                                |\n",
       "|       |                                        |                        |          |                               \"damage_corner_separation_severe\" TEXT,                             |\n",
       "|       |                                        |                        |          |                              \"damage_corner_separation_moderate\" TEXT,                            |\n",
       "|       |                                        |                        |          |                            \"damage_corner_separation_insignificant\" TEXT,                         |\n",
       "|       |                                        |                        |          |                               \"damage_diagonal_cracking_severe\" TEXT,                             |\n",
       "|       |                                        |                        |          |                              \"damage_diagonal_cracking_moderate\" TEXT,                            |\n",
       "|       |                                        |                        |          |                            \"damage_diagonal_cracking_insignificant\" TEXT,                         |\n",
       "|       |                                        |                        |          |                                \"damage_in_plane_failure_severe\" TEXT,                             |\n",
       "|       |                                        |                        |          |                               \"damage_in_plane_failure_moderate\" TEXT,                            |\n",
       "|       |                                        |                        |          |                            \"damage_in_plane_failure_insignificant\" TEXT,                          |\n",
       "|       |                                        |                        |          |                              \"damage_out_of_plane_failure_severe\" TEXT,                           |\n",
       "|       |                                        |                        |          |                             \"damage_out_of_plane_failure_moderate\" TEXT,                          |\n",
       "|       |                                        |                        |          |                          \"damage_out_of_plane_failure_insignificant\" TEXT,                        |\n",
       "|       |                                        |                        |          |                        \"damage_out_of_plane_failure_walls_ncfr_severe\" TEXT,                      |\n",
       "|       |                                        |                        |          |                       \"damage_out_of_plane_failure_walls_ncfr_moderate\" TEXT,                     |\n",
       "|       |                                        |                        |          |                     \"damage_out_of_plane_failure_walls_ncfr_insignificant\" TEXT,                  |\n",
       "|       |                                        |                        |          |                                 \"damage_gable_failure_severe\" TEXT,                               |\n",
       "|       |                                        |                        |          |                                \"damage_gable_failure_moderate\" TEXT,                              |\n",
       "|       |                                        |                        |          |                              \"damage_gable_failure_insignificant\" TEXT,                           |\n",
       "|       |                                        |                        |          |                              \"damage_delamination_failure_severe\" TEXT,                           |\n",
       "|       |                                        |                        |          |                             \"damage_delamination_failure_moderate\" TEXT,                          |\n",
       "|       |                                        |                        |          |                          \"damage_delamination_failure_insignificant\" TEXT,                        |\n",
       "|       |                                        |                        |          |                                 \"damage_column_failure_severe\" TEXT,                              |\n",
       "|       |                                        |                        |          |                                \"damage_column_failure_moderate\" TEXT,                             |\n",
       "|       |                                        |                        |          |                             \"damage_column_failure_insignificant\" TEXT,                           |\n",
       "|       |                                        |                        |          |                                  \"damage_beam_failure_severe\" TEXT,                               |\n",
       "|       |                                        |                        |          |                                 \"damage_beam_failure_moderate\" TEXT,                              |\n",
       "|       |                                        |                        |          |                              \"damage_beam_failure_insignificant\" TEXT,                            |\n",
       "|       |                                        |                        |          |                            \"damage_infill_partition_failure_severe\" TEXT,                         |\n",
       "|       |                                        |                        |          |                           \"damage_infill_partition_failure_moderate\" TEXT,                        |\n",
       "|       |                                        |                        |          |                        \"damage_infill_partition_failure_insignificant\" TEXT,                      |\n",
       "|       |                                        |                        |          |                                   \"damage_staircase_severe\" TEXT,                                 |\n",
       "|       |                                        |                        |          |                                  \"damage_staircase_moderate\" TEXT,                                |\n",
       "|       |                                        |                        |          |                                \"damage_staircase_insignificant\" TEXT,                             |\n",
       "|       |                                        |                        |          |                                    \"damage_parapet_severe\" TEXT,                                  |\n",
       "|       |                                        |                        |          |                                   \"damage_parapet_moderate\" TEXT,                                 |\n",
       "|       |                                        |                        |          |                                 \"damage_parapet_insignificant\" TEXT,                              |\n",
       "|       |                                        |                        |          |                                \"damage_cladding_glazing_severe\" TEXT,                             |\n",
       "|       |                                        |                        |          |                               \"damage_cladding_glazing_moderate\" TEXT,                            |\n",
       "|       |                                        |                        |          |                            \"damage_cladding_glazing_insignificant\" TEXT,                          |\n",
       "|       |                                        |                        |          |                                         \"area_assesed\" TEXT,                                      |\n",
       "|       |                                        |                        |          |                                         \"damage_grade\" TEXT,                                      |\n",
       "|       |                                        |                        |          |                                 \"technical_solution_proposed\" TEXT,                               |\n",
       "|       |                                        |                        |          |                                      \"has_repair_started\" REAL,                                   |\n",
       "|       |                                        |                        |          |                                    \"has_damage_foundation\" REAL,                                  |\n",
       "|       |                                        |                        |          |                                       \"has_damage_roof\" REAL,                                     |\n",
       "|       |                                        |                        |          |                                 \"has_damage_corner_separation\" REAL,                              |\n",
       "|       |                                        |                        |          |                                 \"has_damage_diagonal_cracking\" REAL,                              |\n",
       "|       |                                        |                        |          |                                 \"has_damage_in_plane_failure\" REAL,                               |\n",
       "|       |                                        |                        |          |                               \"has_damage_out_of_plane_failure\" REAL,                             |\n",
       "|       |                                        |                        |          |                          \"has_damage_out_of_plane_walls_ncfr_failure\" REAL,                       |\n",
       "|       |                                        |                        |          |                                   \"has_damage_gable_failure\" REAL,                                |\n",
       "|       |                                        |                        |          |                               \"has_damage_delamination_failure\" REAL,                             |\n",
       "|       |                                        |                        |          |                                  \"has_damage_column_failure\" REAL,                                |\n",
       "|       |                                        |                        |          |                                   \"has_damage_beam_failure\" REAL,                                 |\n",
       "|       |                                        |                        |          |                             \"has_damage_infill_partition_failure\" REAL,                           |\n",
       "|       |                                        |                        |          |                                     \"has_damage_staircase\" REAL,                                  |\n",
       "|       |                                        |                        |          |                                      \"has_damage_parapet\" REAL,                                   |\n",
       "|       |                                        |                        |          |                                 \"has_damage_cladding_glazing\" REAL,                               |\n",
       "|       |                                        |                        |          |                                    \"has_geotechnical_risk\" REAL,                                  |\n",
       "|       |                                        |                        |          |                           \"has_geotechnical_risk_land_settlement\" INTEGER,                        |\n",
       "|       |                                        |                        |          |                             \"has_geotechnical_risk_fault_crack\" INTEGER,                          |\n",
       "|       |                                        |                        |          |                            \"has_geotechnical_risk_liquefaction\" INTEGER,                          |\n",
       "|       |                                        |                        |          |                              \"has_geotechnical_risk_landslide\" INTEGER,                           |\n",
       "|       |                                        |                        |          |                              \"has_geotechnical_risk_rock_fall\" INTEGER,                           |\n",
       "|       |                                        |                        |          |                                \"has_geotechnical_risk_flood\" INTEGER,                             |\n",
       "|       |                                        |                        |          |                                \"has_geotechnical_risk_other\" INTEGER                              |\n",
       "|       |                                        |                        |          |                                                 )                                                 |\n",
       "| index |     ix_building_damage_building_id     |    building_damage     |  12305   |         CREATE INDEX \"ix_building_damage_building_id\"ON \"building_damage\" (\"building_id\")         |\n",
       "| table |         household_demographics         | household_demographics |  30763   |                              CREATE TABLE \"household_demographics\" (                              |\n",
       "|       |                                        |                        |          |                                      \"household_id\" INTEGER,                                      |\n",
       "|       |                                        |                        |          |                                    \"gender_household_head\" TEXT,                                  |\n",
       "|       |                                        |                        |          |                                      \"age_household_head\" REAL,                                   |\n",
       "|       |                                        |                        |          |                                       \"caste_household\" TEXT,                                     |\n",
       "|       |                                        |                        |          |                                \"education_level_household_head\" TEXT,                             |\n",
       "|       |                                        |                        |          |                                    \"income_level_household\" TEXT,                                 |\n",
       "|       |                                        |                        |          |                                        \"size_household\" REAL,                                     |\n",
       "|       |                                        |                        |          |                             \"is_bank_account_present_in_household\" REAL                           |\n",
       "|       |                                        |                        |          |                                                 )                                                 |\n",
       "| index | ix_household_demographics_household_id | household_demographics |  30764   | CREATE INDEX \"ix_household_demographics_household_id\"ON \"household_demographics\" (\"household_id\") |\n",
       "+-------+----------------------------------------+------------------------+----------+---------------------------------------------------------------------------------------------------+"
      ]
     },
     "execution_count": 11,
     "metadata": {},
     "output_type": "execute_result"
    }
   ],
   "source": [
    "%%sql\n",
    "\n",
    "select * from sqlite_schema"
   ]
  },
  {
   "cell_type": "code",
   "execution_count": 12,
   "id": "71e095c4-091f-4993-bd2d-85a0d587893c",
   "metadata": {},
   "outputs": [
    {
     "data": {
      "text/html": [
       "\n",
       "        <iframe\n",
       "            width=\"600\"\n",
       "            height=\"300\"\n",
       "            src=\"https://player.vimeo.com/video/665414239?h=d7319aa0a8\"\n",
       "            frameborder=\"0\"\n",
       "            allowfullscreen\n",
       "            \n",
       "        ></iframe>\n",
       "        "
      ],
      "text/plain": [
       "<IPython.lib.display.VimeoVideo at 0x761965e40610>"
      ]
     },
     "execution_count": 12,
     "metadata": {},
     "output_type": "execute_result"
    }
   ],
   "source": [
    "VimeoVideo(\"665414239\", h=\"d7319aa0a8\", width=600)"
   ]
  },
  {
   "cell_type": "markdown",
   "id": "0282a3e4-fd30-4806-91ca-d83b2aeb770c",
   "metadata": {},
   "source": [
    "**Task 4.1.3:** Select the `name` column from the `sqlite_schema` table, showing only rows where the **`type`** is `\"table\"`.\n",
    "\n",
    "- [<span id='technique'>Select a column from a table in <span id='tool'>SQL</span></span>.](../%40textbook/10-databases-sql.ipynb#Building-Blocks-of-the-Basic-Query)\n",
    "- [<span id='technique'>Subset a table using a `WHERE` clause in <span id='tool'>SQL</span></span>.](../%40textbook/10-databases-sql.ipynb#Building-Blocks-of-the-Basic-Query)"
   ]
  },
  {
   "cell_type": "code",
   "execution_count": 13,
   "id": "6ca7ff61-1c1f-48bf-8a83-8451ffec8b66",
   "metadata": {},
   "outputs": [
    {
     "data": {
      "text/html": [
       "<span style=\"None\">Running query in &#x27;sqlite:///../nepal.sqlite&#x27;</span>"
      ],
      "text/plain": [
       "Running query in 'sqlite:///../nepal.sqlite'"
      ]
     },
     "metadata": {},
     "output_type": "display_data"
    },
    {
     "data": {
      "text/html": [
       "<table>\n",
       "    <thead>\n",
       "        <tr>\n",
       "            <th>name</th>\n",
       "        </tr>\n",
       "    </thead>\n",
       "    <tbody>\n",
       "        <tr>\n",
       "            <td>id_map</td>\n",
       "        </tr>\n",
       "        <tr>\n",
       "            <td>building_structure</td>\n",
       "        </tr>\n",
       "        <tr>\n",
       "            <td>building_damage</td>\n",
       "        </tr>\n",
       "        <tr>\n",
       "            <td>household_demographics</td>\n",
       "        </tr>\n",
       "    </tbody>\n",
       "</table>"
      ],
      "text/plain": [
       "+------------------------+\n",
       "|          name          |\n",
       "+------------------------+\n",
       "|         id_map         |\n",
       "|   building_structure   |\n",
       "|    building_damage     |\n",
       "| household_demographics |\n",
       "+------------------------+"
      ]
     },
     "execution_count": 13,
     "metadata": {},
     "output_type": "execute_result"
    }
   ],
   "source": [
    "%%sql\n",
    "select name from sqlite_schema where type=\"table\"\n"
   ]
  },
  {
   "cell_type": "code",
   "execution_count": 14,
   "id": "9168bcc3-f615-4b08-b1eb-15c818402804",
   "metadata": {},
   "outputs": [
    {
     "data": {
      "text/html": [
       "\n",
       "        <iframe\n",
       "            width=\"600\"\n",
       "            height=\"300\"\n",
       "            src=\"https://player.vimeo.com/video/665414263?h=5b7d1e875f\"\n",
       "            frameborder=\"0\"\n",
       "            allowfullscreen\n",
       "            \n",
       "        ></iframe>\n",
       "        "
      ],
      "text/plain": [
       "<IPython.lib.display.VimeoVideo at 0x761965e1f9d0>"
      ]
     },
     "execution_count": 14,
     "metadata": {},
     "output_type": "execute_result"
    }
   ],
   "source": [
    "VimeoVideo(\"665414263\", h=\"5b7d1e875f\", width=600)"
   ]
  },
  {
   "cell_type": "markdown",
   "id": "660709df-ec88-4afb-8c1a-ee35ba6624af",
   "metadata": {},
   "source": [
    "**Task 4.1.4:** Select all columns from the `id_map` table, limiting your results to the first five rows. \n",
    "\n",
    "- [<span id='technique'>Inspect a table using a `LIMIT` clause in <span id='tool'>SQL</span></span>.](../%40textbook/10-databases-sql.ipynb#Building-Blocks-of-the-Basic-Query)\n",
    "\n",
    "How is the data organized? What type of observation does each row represent? How do you think the **`household_id`**, **`building_id`**, **`vdcmun_id`**, and **`district_id`** columns are related to each other?"
   ]
  },
  {
   "cell_type": "code",
   "execution_count": 5,
   "id": "71e00903-a311-4ff3-ba3d-ea674436d4a7",
   "metadata": {},
   "outputs": [
    {
     "name": "stderr",
     "output_type": "stream",
     "text": [
      "UsageError: Cell magic `%%sql` not found.\n"
     ]
    }
   ],
   "source": [
    "%%sql\n",
    "\n",
    "select * from id_map limit(5)"
   ]
  },
  {
   "cell_type": "code",
   "execution_count": 17,
   "id": "74f04203-638b-42e1-9624-cf530a8de1fb",
   "metadata": {},
   "outputs": [
    {
     "data": {
      "text/html": [
       "\n",
       "        <iframe\n",
       "            width=\"600\"\n",
       "            height=\"300\"\n",
       "            src=\"https://player.vimeo.com/video/665414293?h=72fbe6b7d8\"\n",
       "            frameborder=\"0\"\n",
       "            allowfullscreen\n",
       "            \n",
       "        ></iframe>\n",
       "        "
      ],
      "text/plain": [
       "<IPython.lib.display.VimeoVideo at 0x761965e48210>"
      ]
     },
     "execution_count": 17,
     "metadata": {},
     "output_type": "execute_result"
    }
   ],
   "source": [
    "VimeoVideo(\"665414293\", h=\"72fbe6b7d8\", width=600)"
   ]
  },
  {
   "cell_type": "markdown",
   "id": "fd7551e7-4032-492c-89d4-47b998d335fe",
   "metadata": {},
   "source": [
    "**Task 4.1.5:** How many observations are in the `id_map` table? Use the `count` command to find out.\n",
    "\n",
    "- [<span id='technique'>Calculate the number of rows in a table using a `count` function in <span id='tool'>SQL</span></span>.](../%40textbook/10-databases-sql.ipynb#Aggregating-Data) "
   ]
  },
  {
   "cell_type": "code",
   "execution_count": 19,
   "id": "bc6cb5e0-240a-43aa-938f-0d33cfcc7a0b",
   "metadata": {},
   "outputs": [
    {
     "data": {
      "text/html": [
       "<span style=\"None\">Running query in &#x27;sqlite:///../nepal.sqlite&#x27;</span>"
      ],
      "text/plain": [
       "Running query in 'sqlite:///../nepal.sqlite'"
      ]
     },
     "metadata": {},
     "output_type": "display_data"
    },
    {
     "data": {
      "text/html": [
       "<table>\n",
       "    <thead>\n",
       "        <tr>\n",
       "            <th>count(*)</th>\n",
       "        </tr>\n",
       "    </thead>\n",
       "    <tbody>\n",
       "        <tr>\n",
       "            <td>249932</td>\n",
       "        </tr>\n",
       "    </tbody>\n",
       "</table>"
      ],
      "text/plain": [
       "+----------+\n",
       "| count(*) |\n",
       "+----------+\n",
       "|  249932  |\n",
       "+----------+"
      ]
     },
     "execution_count": 19,
     "metadata": {},
     "output_type": "execute_result"
    }
   ],
   "source": [
    "%%sql\n",
    "\n",
    "select count(*)  from id_map"
   ]
  },
  {
   "cell_type": "code",
   "execution_count": 24,
   "id": "7d319b86-cc22-457f-ae21-ce0994c5e358",
   "metadata": {},
   "outputs": [
    {
     "data": {
      "text/html": [
       "\n",
       "        <iframe\n",
       "            width=\"600\"\n",
       "            height=\"300\"\n",
       "            src=\"https://player.vimeo.com/video/665414303?h=6ba10ddf88\"\n",
       "            frameborder=\"0\"\n",
       "            allowfullscreen\n",
       "            \n",
       "        ></iframe>\n",
       "        "
      ],
      "text/plain": [
       "<IPython.lib.display.VimeoVideo at 0x761965e43f90>"
      ]
     },
     "execution_count": 24,
     "metadata": {},
     "output_type": "execute_result"
    }
   ],
   "source": [
    "VimeoVideo(\"665414303\", h=\"6ba10ddf88\", width=600)"
   ]
  },
  {
   "cell_type": "markdown",
   "id": "35284d1c-48ea-4489-911f-9782ab50bd3d",
   "metadata": {},
   "source": [
    "**Task 4.1.6:** What districts are represented in the `id_map` table? Use the `distinct` command to determine the unique values in the **`district_id`** column.\n",
    "\n",
    "- [<span id='technique'>Determine the unique values in a column using a `distinct` function in <span id='tool'>SQL</span></span>.](../%40textbook/10-databases-sql.ipynb#Aggregating-Data) "
   ]
  },
  {
   "cell_type": "code",
   "execution_count": 25,
   "id": "8f500582-54ae-42b9-846e-faf638cea156",
   "metadata": {},
   "outputs": [
    {
     "data": {
      "text/html": [
       "<span style=\"None\">Running query in &#x27;sqlite:///../nepal.sqlite&#x27;</span>"
      ],
      "text/plain": [
       "Running query in 'sqlite:///../nepal.sqlite'"
      ]
     },
     "metadata": {},
     "output_type": "display_data"
    },
    {
     "data": {
      "text/html": [
       "<table>\n",
       "    <thead>\n",
       "        <tr>\n",
       "            <th>district_id</th>\n",
       "        </tr>\n",
       "    </thead>\n",
       "    <tbody>\n",
       "        <tr>\n",
       "            <td>1</td>\n",
       "        </tr>\n",
       "        <tr>\n",
       "            <td>2</td>\n",
       "        </tr>\n",
       "        <tr>\n",
       "            <td>3</td>\n",
       "        </tr>\n",
       "        <tr>\n",
       "            <td>4</td>\n",
       "        </tr>\n",
       "    </tbody>\n",
       "</table>"
      ],
      "text/plain": [
       "+-------------+\n",
       "| district_id |\n",
       "+-------------+\n",
       "|      1      |\n",
       "|      2      |\n",
       "|      3      |\n",
       "|      4      |\n",
       "+-------------+"
      ]
     },
     "execution_count": 25,
     "metadata": {},
     "output_type": "execute_result"
    }
   ],
   "source": [
    "%%sql\n",
    "select distinct(district_id) from id_map\n"
   ]
  },
  {
   "cell_type": "code",
   "execution_count": 27,
   "id": "11c18012-06ee-49c8-aad4-1eaaad1de032",
   "metadata": {},
   "outputs": [
    {
     "data": {
      "text/html": [
       "\n",
       "        <iframe\n",
       "            width=\"600\"\n",
       "            height=\"300\"\n",
       "            src=\"https://player.vimeo.com/video/665414313?h=adbab3e418\"\n",
       "            frameborder=\"0\"\n",
       "            allowfullscreen\n",
       "            \n",
       "        ></iframe>\n",
       "        "
      ],
      "text/plain": [
       "<IPython.lib.display.VimeoVideo at 0x761965e1f850>"
      ]
     },
     "execution_count": 27,
     "metadata": {},
     "output_type": "execute_result"
    }
   ],
   "source": [
    "VimeoVideo(\"665414313\", h=\"adbab3e418\", width=600)"
   ]
  },
  {
   "cell_type": "markdown",
   "id": "7d1ed66e-bc1b-4b85-a276-91fe09ac8cd3",
   "metadata": {},
   "source": [
    "**Task 4.1.7:** How many buildings are there in `id_map` table? Combine the `count` and `distinct` commands to calculate the number of unique values in **`building_id`**.\n",
    "\n",
    "- [<span id='technique'>Calculate the number of rows in a table using a `count` function in <span id='tool'>SQL</span></span>.](../%40textbook/10-databases-sql.ipynb#Aggregating-Data) \n",
    "- [<span id='technique'>Determine the unique values in a column using a `distinct` function in <span id='tool'>SQL</span></span>.](../%40textbook/10-databases-sql.ipynb#Aggregating-Data) "
   ]
  },
  {
   "cell_type": "code",
   "execution_count": 26,
   "id": "99ac2654-e442-4bd0-b61f-f3f20e5d921a",
   "metadata": {},
   "outputs": [
    {
     "data": {
      "text/html": [
       "<span style=\"None\">Running query in &#x27;sqlite:///../nepal.sqlite&#x27;</span>"
      ],
      "text/plain": [
       "Running query in 'sqlite:///../nepal.sqlite'"
      ]
     },
     "metadata": {},
     "output_type": "display_data"
    },
    {
     "data": {
      "text/html": [
       "<table>\n",
       "    <thead>\n",
       "        <tr>\n",
       "            <th>count(distinct(building_id))</th>\n",
       "        </tr>\n",
       "    </thead>\n",
       "    <tbody>\n",
       "        <tr>\n",
       "            <td>234835</td>\n",
       "        </tr>\n",
       "    </tbody>\n",
       "</table>"
      ],
      "text/plain": [
       "+------------------------------+\n",
       "| count(distinct(building_id)) |\n",
       "+------------------------------+\n",
       "|            234835            |\n",
       "+------------------------------+"
      ]
     },
     "execution_count": 26,
     "metadata": {},
     "output_type": "execute_result"
    }
   ],
   "source": [
    "%%sql\n",
    "select count(distinct(building_id)) from id_map\n"
   ]
  },
  {
   "cell_type": "code",
   "execution_count": 29,
   "id": "f59abba0-183a-4e2c-8e22-83e2b3ea1240",
   "metadata": {},
   "outputs": [
    {
     "data": {
      "text/html": [
       "\n",
       "        <iframe\n",
       "            width=\"600\"\n",
       "            height=\"300\"\n",
       "            src=\"https://player.vimeo.com/video/665414336?h=5b595107c6\"\n",
       "            frameborder=\"0\"\n",
       "            allowfullscreen\n",
       "            \n",
       "        ></iframe>\n",
       "        "
      ],
      "text/plain": [
       "<IPython.lib.display.VimeoVideo at 0x761965e21010>"
      ]
     },
     "execution_count": 29,
     "metadata": {},
     "output_type": "execute_result"
    }
   ],
   "source": [
    "VimeoVideo(\"665414336\", h=\"5b595107c6\", width=600)"
   ]
  },
  {
   "cell_type": "markdown",
   "id": "81abfb2c-f2ef-4a4f-9c95-4a77978a0225",
   "metadata": {},
   "source": [
    "**Task 4.1.8:** For our model, we'll focus on Gorkha (district `4`). Select all columns that from `id_map`, showing only rows where the **`district_id`** is `4` and limiting your results to the first five rows.\n",
    "\n",
    "- [<span id='technique'>Inspect a table using a `LIMIT` clause in <span id='tool'>SQL</span></span>.](../%40textbook/10-databases-sql.ipynb#Building-Blocks-of-the-Basic-Query)\n",
    "- [<span id='technique'>Subset a table using a `WHERE` clause in <span id='tool'>SQL</span></span>.](../%40textbook/10-databases-sql.ipynb#Building-Blocks-of-the-Basic-Query)"
   ]
  },
  {
   "cell_type": "code",
   "execution_count": 28,
   "id": "f946c744-d5ac-4b7a-84eb-0aa3abfce0fe",
   "metadata": {},
   "outputs": [
    {
     "data": {
      "text/html": [
       "<span style=\"None\">Running query in &#x27;sqlite:///../nepal.sqlite&#x27;</span>"
      ],
      "text/plain": [
       "Running query in 'sqlite:///../nepal.sqlite'"
      ]
     },
     "metadata": {},
     "output_type": "display_data"
    },
    {
     "data": {
      "text/html": [
       "<table>\n",
       "    <thead>\n",
       "        <tr>\n",
       "            <th>household_id</th>\n",
       "            <th>building_id</th>\n",
       "            <th>vdcmun_id</th>\n",
       "            <th>district_id</th>\n",
       "        </tr>\n",
       "    </thead>\n",
       "    <tbody>\n",
       "        <tr>\n",
       "            <td>16400201</td>\n",
       "            <td>164002</td>\n",
       "            <td>38</td>\n",
       "            <td>4</td>\n",
       "        </tr>\n",
       "        <tr>\n",
       "            <td>16408101</td>\n",
       "            <td>164081</td>\n",
       "            <td>38</td>\n",
       "            <td>4</td>\n",
       "        </tr>\n",
       "        <tr>\n",
       "            <td>16408901</td>\n",
       "            <td>164089</td>\n",
       "            <td>38</td>\n",
       "            <td>4</td>\n",
       "        </tr>\n",
       "        <tr>\n",
       "            <td>16409801</td>\n",
       "            <td>164098</td>\n",
       "            <td>38</td>\n",
       "            <td>4</td>\n",
       "        </tr>\n",
       "        <tr>\n",
       "            <td>16410301</td>\n",
       "            <td>164103</td>\n",
       "            <td>38</td>\n",
       "            <td>4</td>\n",
       "        </tr>\n",
       "    </tbody>\n",
       "</table>"
      ],
      "text/plain": [
       "+--------------+-------------+-----------+-------------+\n",
       "| household_id | building_id | vdcmun_id | district_id |\n",
       "+--------------+-------------+-----------+-------------+\n",
       "|   16400201   |    164002   |     38    |      4      |\n",
       "|   16408101   |    164081   |     38    |      4      |\n",
       "|   16408901   |    164089   |     38    |      4      |\n",
       "|   16409801   |    164098   |     38    |      4      |\n",
       "|   16410301   |    164103   |     38    |      4      |\n",
       "+--------------+-------------+-----------+-------------+"
      ]
     },
     "execution_count": 28,
     "metadata": {},
     "output_type": "execute_result"
    }
   ],
   "source": [
    "%%sql\n",
    "\n",
    "select * from id_map\n",
    "where district_id=4 limit 5"
   ]
  },
  {
   "cell_type": "code",
   "execution_count": 31,
   "id": "5ded755a-5f5f-4ede-98ec-0719d336234c",
   "metadata": {},
   "outputs": [
    {
     "data": {
      "text/html": [
       "\n",
       "        <iframe\n",
       "            width=\"600\"\n",
       "            height=\"300\"\n",
       "            src=\"https://player.vimeo.com/video/665414344?h=bdcb4a50a3\"\n",
       "            frameborder=\"0\"\n",
       "            allowfullscreen\n",
       "            \n",
       "        ></iframe>\n",
       "        "
      ],
      "text/plain": [
       "<IPython.lib.display.VimeoVideo at 0x761965e41d50>"
      ]
     },
     "execution_count": 31,
     "metadata": {},
     "output_type": "execute_result"
    }
   ],
   "source": [
    "VimeoVideo(\"665414344\", h=\"bdcb4a50a3\", width=600)"
   ]
  },
  {
   "cell_type": "markdown",
   "id": "db689349-e167-43d3-8034-72774c188d4f",
   "metadata": {},
   "source": [
    "**Task 4.1.9:** How many observations in the `id_map` table come from Gorkha? Use the `count` and `WHERE` commands together to calculate the answer.\n",
    "\n",
    "- [<span id='technique'>Calculate the number of rows in a table using a `count` function in <span id='tool'>SQL</span></span>.](../%40textbook/10-databases-sql.ipynb#Aggregating-Data) \n",
    "- [<span id='technique'>Subset a table using a `WHERE` clause in <span id='tool'>SQL</span></span>.](../%40textbook/10-databases-sql.ipynb#Building-Blocks-of-the-Basic-Query)"
   ]
  },
  {
   "cell_type": "code",
   "execution_count": 30,
   "id": "b8c6820c-13dd-48eb-8671-d0638d5d1fe8",
   "metadata": {},
   "outputs": [
    {
     "data": {
      "text/html": [
       "<span style=\"None\">Running query in &#x27;sqlite:///../nepal.sqlite&#x27;</span>"
      ],
      "text/plain": [
       "Running query in 'sqlite:///../nepal.sqlite'"
      ]
     },
     "metadata": {},
     "output_type": "display_data"
    },
    {
     "data": {
      "text/html": [
       "<table>\n",
       "    <thead>\n",
       "        <tr>\n",
       "            <th>count(*)</th>\n",
       "        </tr>\n",
       "    </thead>\n",
       "    <tbody>\n",
       "        <tr>\n",
       "            <td>75883</td>\n",
       "        </tr>\n",
       "    </tbody>\n",
       "</table>"
      ],
      "text/plain": [
       "+----------+\n",
       "| count(*) |\n",
       "+----------+\n",
       "|  75883   |\n",
       "+----------+"
      ]
     },
     "execution_count": 30,
     "metadata": {},
     "output_type": "execute_result"
    }
   ],
   "source": [
    "%%sql\n",
    "\n",
    "select count(*) from id_map\n",
    "where district_id=4 "
   ]
  },
  {
   "cell_type": "code",
   "execution_count": 34,
   "id": "b5d212dc-d4ad-4ad8-b83c-1000f016dadf",
   "metadata": {},
   "outputs": [
    {
     "data": {
      "text/html": [
       "\n",
       "        <iframe\n",
       "            width=\"600\"\n",
       "            height=\"300\"\n",
       "            src=\"https://player.vimeo.com/video/665414356?h=5d2bdb3813\"\n",
       "            frameborder=\"0\"\n",
       "            allowfullscreen\n",
       "            \n",
       "        ></iframe>\n",
       "        "
      ],
      "text/plain": [
       "<IPython.lib.display.VimeoVideo at 0x761965e6d9d0>"
      ]
     },
     "execution_count": 34,
     "metadata": {},
     "output_type": "execute_result"
    }
   ],
   "source": [
    "VimeoVideo(\"665414356\", h=\"5d2bdb3813\", width=600)"
   ]
  },
  {
   "cell_type": "markdown",
   "id": "838942e0-f0db-4266-beb5-3dfc9780480f",
   "metadata": {},
   "source": [
    "**Task 4.1.10:** How many buildings in the `id_map` table are in Gorkha? Combine the `count` and `distinct` commands to calculate the number of unique values in **`building_id`**, considering only rows where the **`district_id`** is `4`.\n",
    "\n",
    "- [<span id='technique'>Calculate the number of rows in a table using a `count` function in <span id='tool'>SQL</span></span>.](../%40textbook/10-databases-sql.ipynb#Aggregating-Data) \n",
    "- [<span id='technique'>Determine the unique values in a column using a `distinct` function in <span id='tool'>SQL</span></span>.](../%40textbook/10-databases-sql.ipynb#Aggregating-Data) \n",
    "- [<span id='technique'>Subset a table using a `WHERE` clause in <span id='tool'>SQL</span></span>.](../%40textbook/10-databases-sql.ipynb#Building-Blocks-of-the-Basic-Query)"
   ]
  },
  {
   "cell_type": "code",
   "execution_count": 33,
   "id": "ebadb63c-be74-4e4d-9fb3-79bcdc7b6f47",
   "metadata": {},
   "outputs": [
    {
     "data": {
      "text/html": [
       "<span style=\"None\">Running query in &#x27;sqlite:///../nepal.sqlite&#x27;</span>"
      ],
      "text/plain": [
       "Running query in 'sqlite:///../nepal.sqlite'"
      ]
     },
     "metadata": {},
     "output_type": "display_data"
    },
    {
     "data": {
      "text/html": [
       "<table>\n",
       "    <thead>\n",
       "        <tr>\n",
       "            <th>count(distinct(building_id))</th>\n",
       "        </tr>\n",
       "    </thead>\n",
       "    <tbody>\n",
       "        <tr>\n",
       "            <td>70836</td>\n",
       "        </tr>\n",
       "    </tbody>\n",
       "</table>"
      ],
      "text/plain": [
       "+------------------------------+\n",
       "| count(distinct(building_id)) |\n",
       "+------------------------------+\n",
       "|            70836             |\n",
       "+------------------------------+"
      ]
     },
     "execution_count": 33,
     "metadata": {},
     "output_type": "execute_result"
    }
   ],
   "source": [
    "%%sql\n",
    "select count(distinct(building_id)) from id_map\n",
    "where district_id=4\n"
   ]
  },
  {
   "cell_type": "code",
   "execution_count": null,
   "id": "60c46767-8cd4-47d0-88f7-3d60d943928e",
   "metadata": {},
   "outputs": [],
   "source": [
    "VimeoVideo(\"665414390\", h=\"308ea86e4b\", width=600)"
   ]
  },
  {
   "cell_type": "markdown",
   "id": "647b6b9a-3901-46fd-87b9-fb11e46f1f31",
   "metadata": {},
   "source": [
    "**Task 4.1.11:** Select all the columns from the `building_structure` table, and limit your results to the first five rows. \n",
    "\n",
    "- [<span id='technique'>Inspect a table using a `LIMIT` clause in <span id='tool'>SQL</span></span>.](../%40textbook/10-databases-sql.ipynb#Querying-a-Database)\n",
    "\n",
    "What information is in this table? What does each row represent? How does it relate to the information in the `id_map` table?<span style='color: transparent; font-size:1%'>WQU WorldQuant University Applied Data Science Lab QQQQ</span>"
   ]
  },
  {
   "cell_type": "code",
   "execution_count": 35,
   "id": "e578867f-8a7d-4be6-95a2-7077305e81ed",
   "metadata": {},
   "outputs": [
    {
     "data": {
      "text/html": [
       "<span style=\"None\">Running query in &#x27;sqlite:///../nepal.sqlite&#x27;</span>"
      ],
      "text/plain": [
       "Running query in 'sqlite:///../nepal.sqlite'"
      ]
     },
     "metadata": {},
     "output_type": "display_data"
    },
    {
     "data": {
      "text/html": [
       "<table>\n",
       "    <thead>\n",
       "        <tr>\n",
       "            <th>building_id</th>\n",
       "            <th>count_floors_pre_eq</th>\n",
       "            <th>count_floors_post_eq</th>\n",
       "            <th>age_building</th>\n",
       "            <th>plinth_area_sq_ft</th>\n",
       "            <th>height_ft_pre_eq</th>\n",
       "            <th>height_ft_post_eq</th>\n",
       "            <th>land_surface_condition</th>\n",
       "            <th>foundation_type</th>\n",
       "            <th>roof_type</th>\n",
       "            <th>ground_floor_type</th>\n",
       "            <th>other_floor_type</th>\n",
       "            <th>position</th>\n",
       "            <th>plan_configuration</th>\n",
       "            <th>condition_post_eq</th>\n",
       "            <th>superstructure</th>\n",
       "        </tr>\n",
       "    </thead>\n",
       "    <tbody>\n",
       "        <tr>\n",
       "            <td>1</td>\n",
       "            <td>1</td>\n",
       "            <td>1</td>\n",
       "            <td>9</td>\n",
       "            <td>288</td>\n",
       "            <td>9</td>\n",
       "            <td>9</td>\n",
       "            <td>Flat</td>\n",
       "            <td>Other</td>\n",
       "            <td>Bamboo/Timber-Light roof</td>\n",
       "            <td>Mud</td>\n",
       "            <td>Not applicable</td>\n",
       "            <td>Not attached</td>\n",
       "            <td>Rectangular</td>\n",
       "            <td>Damaged-Used in risk</td>\n",
       "            <td>Stone, mud mortar</td>\n",
       "        </tr>\n",
       "        <tr>\n",
       "            <td>2</td>\n",
       "            <td>1</td>\n",
       "            <td>1</td>\n",
       "            <td>15</td>\n",
       "            <td>364</td>\n",
       "            <td>9</td>\n",
       "            <td>9</td>\n",
       "            <td>Flat</td>\n",
       "            <td>Other</td>\n",
       "            <td>Bamboo/Timber-Light roof</td>\n",
       "            <td>Mud</td>\n",
       "            <td>Not applicable</td>\n",
       "            <td>Not attached</td>\n",
       "            <td>Rectangular</td>\n",
       "            <td>Damaged-Repaired and used</td>\n",
       "            <td>Stone, mud mortar</td>\n",
       "        </tr>\n",
       "        <tr>\n",
       "            <td>3</td>\n",
       "            <td>1</td>\n",
       "            <td>1</td>\n",
       "            <td>20</td>\n",
       "            <td>384</td>\n",
       "            <td>9</td>\n",
       "            <td>9</td>\n",
       "            <td>Flat</td>\n",
       "            <td>Other</td>\n",
       "            <td>Bamboo/Timber-Light roof</td>\n",
       "            <td>Mud</td>\n",
       "            <td>Not applicable</td>\n",
       "            <td>Not attached</td>\n",
       "            <td>Rectangular</td>\n",
       "            <td>Damaged-Repaired and used</td>\n",
       "            <td>Stone, mud mortar</td>\n",
       "        </tr>\n",
       "        <tr>\n",
       "            <td>4</td>\n",
       "            <td>1</td>\n",
       "            <td>1</td>\n",
       "            <td>20</td>\n",
       "            <td>312</td>\n",
       "            <td>9</td>\n",
       "            <td>9</td>\n",
       "            <td>Flat</td>\n",
       "            <td>Other</td>\n",
       "            <td>Bamboo/Timber-Light roof</td>\n",
       "            <td>Mud</td>\n",
       "            <td>Not applicable</td>\n",
       "            <td>Not attached</td>\n",
       "            <td>Rectangular</td>\n",
       "            <td>Damaged-Repaired and used</td>\n",
       "            <td>Stone, mud mortar</td>\n",
       "        </tr>\n",
       "        <tr>\n",
       "            <td>5</td>\n",
       "            <td>1</td>\n",
       "            <td>1</td>\n",
       "            <td>30</td>\n",
       "            <td>308</td>\n",
       "            <td>9</td>\n",
       "            <td>9</td>\n",
       "            <td>Flat</td>\n",
       "            <td>Other</td>\n",
       "            <td>Bamboo/Timber-Light roof</td>\n",
       "            <td>Mud</td>\n",
       "            <td>Not applicable</td>\n",
       "            <td>Not attached</td>\n",
       "            <td>Rectangular</td>\n",
       "            <td>Damaged-Repaired and used</td>\n",
       "            <td>Stone, mud mortar</td>\n",
       "        </tr>\n",
       "    </tbody>\n",
       "</table>"
      ],
      "text/plain": [
       "+-------------+---------------------+----------------------+--------------+-------------------+------------------+-------------------+------------------------+-----------------+--------------------------+-------------------+------------------+--------------+--------------------+---------------------------+-------------------+\n",
       "| building_id | count_floors_pre_eq | count_floors_post_eq | age_building | plinth_area_sq_ft | height_ft_pre_eq | height_ft_post_eq | land_surface_condition | foundation_type |        roof_type         | ground_floor_type | other_floor_type |   position   | plan_configuration |     condition_post_eq     |   superstructure  |\n",
       "+-------------+---------------------+----------------------+--------------+-------------------+------------------+-------------------+------------------------+-----------------+--------------------------+-------------------+------------------+--------------+--------------------+---------------------------+-------------------+\n",
       "|      1      |          1          |          1           |      9       |        288        |        9         |         9         |          Flat          |      Other      | Bamboo/Timber-Light roof |        Mud        |  Not applicable  | Not attached |    Rectangular     |    Damaged-Used in risk   | Stone, mud mortar |\n",
       "|      2      |          1          |          1           |      15      |        364        |        9         |         9         |          Flat          |      Other      | Bamboo/Timber-Light roof |        Mud        |  Not applicable  | Not attached |    Rectangular     | Damaged-Repaired and used | Stone, mud mortar |\n",
       "|      3      |          1          |          1           |      20      |        384        |        9         |         9         |          Flat          |      Other      | Bamboo/Timber-Light roof |        Mud        |  Not applicable  | Not attached |    Rectangular     | Damaged-Repaired and used | Stone, mud mortar |\n",
       "|      4      |          1          |          1           |      20      |        312        |        9         |         9         |          Flat          |      Other      | Bamboo/Timber-Light roof |        Mud        |  Not applicable  | Not attached |    Rectangular     | Damaged-Repaired and used | Stone, mud mortar |\n",
       "|      5      |          1          |          1           |      30      |        308        |        9         |         9         |          Flat          |      Other      | Bamboo/Timber-Light roof |        Mud        |  Not applicable  | Not attached |    Rectangular     | Damaged-Repaired and used | Stone, mud mortar |\n",
       "+-------------+---------------------+----------------------+--------------+-------------------+------------------+-------------------+------------------------+-----------------+--------------------------+-------------------+------------------+--------------+--------------------+---------------------------+-------------------+"
      ]
     },
     "execution_count": 35,
     "metadata": {},
     "output_type": "execute_result"
    }
   ],
   "source": [
    "%%sql\n",
    "\n",
    "select * from building_structure limit(5)"
   ]
  },
  {
   "cell_type": "code",
   "execution_count": null,
   "id": "94b28ce4-77ea-4364-bf75-02290bdeecbe",
   "metadata": {},
   "outputs": [],
   "source": [
    "VimeoVideo(\"665414402\", h=\"64875c7779\", width=600)"
   ]
  },
  {
   "cell_type": "markdown",
   "id": "23e5dbf0-7172-472c-846c-10cd3c00d477",
   "metadata": {},
   "source": [
    "**Task 4.1.12:** How many building are there in the `building_structure` table? Use the `count` command to find out.\n",
    "\n",
    "- [<span id='technique'>Calculate the number of rows in a table using a `count` function in <span id='tool'>SQL</span></span>.](../%40textbook/10-databases-sql.ipynb#Aggregating-Data) "
   ]
  },
  {
   "cell_type": "code",
   "execution_count": 36,
   "id": "d1845a0f-bf0d-4a1d-9395-a4e957864d6f",
   "metadata": {},
   "outputs": [
    {
     "data": {
      "text/html": [
       "<span style=\"None\">Running query in &#x27;sqlite:///../nepal.sqlite&#x27;</span>"
      ],
      "text/plain": [
       "Running query in 'sqlite:///../nepal.sqlite'"
      ]
     },
     "metadata": {},
     "output_type": "display_data"
    },
    {
     "data": {
      "text/html": [
       "<table>\n",
       "    <thead>\n",
       "        <tr>\n",
       "            <th>count(*)</th>\n",
       "        </tr>\n",
       "    </thead>\n",
       "    <tbody>\n",
       "        <tr>\n",
       "            <td>234835</td>\n",
       "        </tr>\n",
       "    </tbody>\n",
       "</table>"
      ],
      "text/plain": [
       "+----------+\n",
       "| count(*) |\n",
       "+----------+\n",
       "|  234835  |\n",
       "+----------+"
      ]
     },
     "execution_count": 36,
     "metadata": {},
     "output_type": "execute_result"
    }
   ],
   "source": [
    "%%sql\n",
    "select count(*) from building_structure\n"
   ]
  },
  {
   "cell_type": "code",
   "execution_count": 37,
   "id": "0d9a2c79-aabd-42ec-8657-748c0da06076",
   "metadata": {},
   "outputs": [
    {
     "data": {
      "text/html": [
       "\n",
       "        <iframe\n",
       "            width=\"600\"\n",
       "            height=\"300\"\n",
       "            src=\"https://player.vimeo.com/video/665414414?h=202f83f3cb\"\n",
       "            frameborder=\"0\"\n",
       "            allowfullscreen\n",
       "            \n",
       "        ></iframe>\n",
       "        "
      ],
      "text/plain": [
       "<IPython.lib.display.VimeoVideo at 0x761965e4b350>"
      ]
     },
     "execution_count": 37,
     "metadata": {},
     "output_type": "execute_result"
    }
   ],
   "source": [
    "VimeoVideo(\"665414414\", h=\"202f83f3cb\", width=600)"
   ]
  },
  {
   "cell_type": "markdown",
   "id": "f6e8e57f-cd33-4901-8ff7-25f37e5ef2fb",
   "metadata": {},
   "source": [
    "**Task 4.1.13:** There are over 200,000 buildings in the `building_structure` table, but how can we retrieve only buildings that are in Gorkha? Use the `JOIN` command to join the `id_map` and `building_structure` tables, showing only buildings where **`district_id`** is `4` and limiting your results to the first five rows of the new table.\n",
    "\n",
    "- [<span id='technique'>Create an alias for a column or table using the `AS` command in <span id='tool'>SQL</span></span>.](../%40textbook/10-databases-sql.ipynb#SELECT-and-FROM) \n",
    "- [<span id='technique'>Merge two tables using a `JOIN` clause in <span id='tool'>SQL</span></span>.](../%40textbook/10-databases-sql.ipynb#Joining-Tables)\n",
    "- [<span id='technique'>Inspect a table using a `LIMIT` clause in <span id='tool'>SQL</span></span>.](../%40textbook/10-databases-sql.ipynb#Building-Blocks-of-the-Basic-Query)\n",
    "- [<span id='technique'>Subset a table using a `WHERE` clause in <span id='tool'>SQL</span></span>.](../%40textbook/10-databases-sql.ipynb#Building-Blocks-of-the-Basic-Query)"
   ]
  },
  {
   "cell_type": "code",
   "execution_count": 39,
   "id": "9b515665-3b59-4b0b-af20-fa0506ced7a8",
   "metadata": {},
   "outputs": [
    {
     "data": {
      "text/html": [
       "<span style=\"None\">Running query in &#x27;sqlite:///../nepal.sqlite&#x27;</span>"
      ],
      "text/plain": [
       "Running query in 'sqlite:///../nepal.sqlite'"
      ]
     },
     "metadata": {},
     "output_type": "display_data"
    },
    {
     "data": {
      "text/html": [
       "<table>\n",
       "    <thead>\n",
       "        <tr>\n",
       "            <th>household_id</th>\n",
       "            <th>building_id</th>\n",
       "            <th>vdcmun_id</th>\n",
       "            <th>district_id</th>\n",
       "            <th>building_id_1</th>\n",
       "            <th>count_floors_pre_eq</th>\n",
       "            <th>count_floors_post_eq</th>\n",
       "            <th>age_building</th>\n",
       "            <th>plinth_area_sq_ft</th>\n",
       "            <th>height_ft_pre_eq</th>\n",
       "            <th>height_ft_post_eq</th>\n",
       "            <th>land_surface_condition</th>\n",
       "            <th>foundation_type</th>\n",
       "            <th>roof_type</th>\n",
       "            <th>ground_floor_type</th>\n",
       "            <th>other_floor_type</th>\n",
       "            <th>position</th>\n",
       "            <th>plan_configuration</th>\n",
       "            <th>condition_post_eq</th>\n",
       "            <th>superstructure</th>\n",
       "        </tr>\n",
       "    </thead>\n",
       "    <tbody>\n",
       "        <tr>\n",
       "            <td>16400201</td>\n",
       "            <td>164002</td>\n",
       "            <td>38</td>\n",
       "            <td>4</td>\n",
       "            <td>164002</td>\n",
       "            <td>3</td>\n",
       "            <td>3</td>\n",
       "            <td>20</td>\n",
       "            <td>560</td>\n",
       "            <td>18</td>\n",
       "            <td>18</td>\n",
       "            <td>Flat</td>\n",
       "            <td>Mud mortar-Stone/Brick</td>\n",
       "            <td>Bamboo/Timber-Light roof</td>\n",
       "            <td>Mud</td>\n",
       "            <td>TImber/Bamboo-Mud</td>\n",
       "            <td>Not attached</td>\n",
       "            <td>Rectangular</td>\n",
       "            <td>Damaged-Repaired and used</td>\n",
       "            <td>Stone, mud mortar</td>\n",
       "        </tr>\n",
       "        <tr>\n",
       "            <td>16408101</td>\n",
       "            <td>164081</td>\n",
       "            <td>38</td>\n",
       "            <td>4</td>\n",
       "            <td>164081</td>\n",
       "            <td>2</td>\n",
       "            <td>2</td>\n",
       "            <td>21</td>\n",
       "            <td>200</td>\n",
       "            <td>12</td>\n",
       "            <td>12</td>\n",
       "            <td>Flat</td>\n",
       "            <td>Mud mortar-Stone/Brick</td>\n",
       "            <td>Bamboo/Timber-Light roof</td>\n",
       "            <td>Mud</td>\n",
       "            <td>TImber/Bamboo-Mud</td>\n",
       "            <td>Not attached</td>\n",
       "            <td>Rectangular</td>\n",
       "            <td>Damaged-Used in risk</td>\n",
       "            <td>Stone, mud mortar</td>\n",
       "        </tr>\n",
       "        <tr>\n",
       "            <td>16408901</td>\n",
       "            <td>164089</td>\n",
       "            <td>38</td>\n",
       "            <td>4</td>\n",
       "            <td>164089</td>\n",
       "            <td>3</td>\n",
       "            <td>3</td>\n",
       "            <td>18</td>\n",
       "            <td>315</td>\n",
       "            <td>20</td>\n",
       "            <td>20</td>\n",
       "            <td>Flat</td>\n",
       "            <td>Mud mortar-Stone/Brick</td>\n",
       "            <td>Bamboo/Timber-Light roof</td>\n",
       "            <td>Mud</td>\n",
       "            <td>TImber/Bamboo-Mud</td>\n",
       "            <td>Not attached</td>\n",
       "            <td>Rectangular</td>\n",
       "            <td>Damaged-Used in risk</td>\n",
       "            <td>Stone, mud mortar</td>\n",
       "        </tr>\n",
       "        <tr>\n",
       "            <td>16409801</td>\n",
       "            <td>164098</td>\n",
       "            <td>38</td>\n",
       "            <td>4</td>\n",
       "            <td>164098</td>\n",
       "            <td>2</td>\n",
       "            <td>2</td>\n",
       "            <td>45</td>\n",
       "            <td>290</td>\n",
       "            <td>13</td>\n",
       "            <td>13</td>\n",
       "            <td>Flat</td>\n",
       "            <td>Mud mortar-Stone/Brick</td>\n",
       "            <td>Bamboo/Timber-Light roof</td>\n",
       "            <td>Mud</td>\n",
       "            <td>TImber/Bamboo-Mud</td>\n",
       "            <td>Not attached</td>\n",
       "            <td>Rectangular</td>\n",
       "            <td>Damaged-Used in risk</td>\n",
       "            <td>Stone, mud mortar</td>\n",
       "        </tr>\n",
       "        <tr>\n",
       "            <td>16410301</td>\n",
       "            <td>164103</td>\n",
       "            <td>38</td>\n",
       "            <td>4</td>\n",
       "            <td>164103</td>\n",
       "            <td>2</td>\n",
       "            <td>2</td>\n",
       "            <td>21</td>\n",
       "            <td>230</td>\n",
       "            <td>13</td>\n",
       "            <td>13</td>\n",
       "            <td>Flat</td>\n",
       "            <td>Mud mortar-Stone/Brick</td>\n",
       "            <td>Bamboo/Timber-Light roof</td>\n",
       "            <td>Mud</td>\n",
       "            <td>TImber/Bamboo-Mud</td>\n",
       "            <td>Not attached</td>\n",
       "            <td>Rectangular</td>\n",
       "            <td>Damaged-Used in risk</td>\n",
       "            <td>Stone, mud mortar</td>\n",
       "        </tr>\n",
       "    </tbody>\n",
       "</table>"
      ],
      "text/plain": [
       "+--------------+-------------+-----------+-------------+---------------+---------------------+----------------------+--------------+-------------------+------------------+-------------------+------------------------+------------------------+--------------------------+-------------------+-------------------+--------------+--------------------+---------------------------+-------------------+\n",
       "| household_id | building_id | vdcmun_id | district_id | building_id_1 | count_floors_pre_eq | count_floors_post_eq | age_building | plinth_area_sq_ft | height_ft_pre_eq | height_ft_post_eq | land_surface_condition |    foundation_type     |        roof_type         | ground_floor_type |  other_floor_type |   position   | plan_configuration |     condition_post_eq     |   superstructure  |\n",
       "+--------------+-------------+-----------+-------------+---------------+---------------------+----------------------+--------------+-------------------+------------------+-------------------+------------------------+------------------------+--------------------------+-------------------+-------------------+--------------+--------------------+---------------------------+-------------------+\n",
       "|   16400201   |    164002   |     38    |      4      |     164002    |          3          |          3           |      20      |        560        |        18        |         18        |          Flat          | Mud mortar-Stone/Brick | Bamboo/Timber-Light roof |        Mud        | TImber/Bamboo-Mud | Not attached |    Rectangular     | Damaged-Repaired and used | Stone, mud mortar |\n",
       "|   16408101   |    164081   |     38    |      4      |     164081    |          2          |          2           |      21      |        200        |        12        |         12        |          Flat          | Mud mortar-Stone/Brick | Bamboo/Timber-Light roof |        Mud        | TImber/Bamboo-Mud | Not attached |    Rectangular     |    Damaged-Used in risk   | Stone, mud mortar |\n",
       "|   16408901   |    164089   |     38    |      4      |     164089    |          3          |          3           |      18      |        315        |        20        |         20        |          Flat          | Mud mortar-Stone/Brick | Bamboo/Timber-Light roof |        Mud        | TImber/Bamboo-Mud | Not attached |    Rectangular     |    Damaged-Used in risk   | Stone, mud mortar |\n",
       "|   16409801   |    164098   |     38    |      4      |     164098    |          2          |          2           |      45      |        290        |        13        |         13        |          Flat          | Mud mortar-Stone/Brick | Bamboo/Timber-Light roof |        Mud        | TImber/Bamboo-Mud | Not attached |    Rectangular     |    Damaged-Used in risk   | Stone, mud mortar |\n",
       "|   16410301   |    164103   |     38    |      4      |     164103    |          2          |          2           |      21      |        230        |        13        |         13        |          Flat          | Mud mortar-Stone/Brick | Bamboo/Timber-Light roof |        Mud        | TImber/Bamboo-Mud | Not attached |    Rectangular     |    Damaged-Used in risk   | Stone, mud mortar |\n",
       "+--------------+-------------+-----------+-------------+---------------+---------------------+----------------------+--------------+-------------------+------------------+-------------------+------------------------+------------------------+--------------------------+-------------------+-------------------+--------------+--------------------+---------------------------+-------------------+"
      ]
     },
     "execution_count": 39,
     "metadata": {},
     "output_type": "execute_result"
    }
   ],
   "source": [
    "%%sql\n",
    "select * from id_map\n",
    "join building_structure ON id_map.building_id=building_structure.building_id\n",
    "where district_id=4 limit 5\n",
    "\n"
   ]
  },
  {
   "cell_type": "markdown",
   "id": "775b552c-72f0-4426-b151-814f8498119a",
   "metadata": {},
   "source": [
    "In the table we just made, each row represents a unique household in Gorkha. How can we create a table where each row represents a unique building?"
   ]
  },
  {
   "cell_type": "code",
   "execution_count": 41,
   "id": "eca014c7-4c97-4cf0-a4ce-f4c3dd11a65e",
   "metadata": {},
   "outputs": [
    {
     "data": {
      "text/html": [
       "\n",
       "        <iframe\n",
       "            width=\"600\"\n",
       "            height=\"300\"\n",
       "            src=\"https://player.vimeo.com/video/665414450?h=0fcb4dc3fa\"\n",
       "            frameborder=\"0\"\n",
       "            allowfullscreen\n",
       "            \n",
       "        ></iframe>\n",
       "        "
      ],
      "text/plain": [
       "<IPython.lib.display.VimeoVideo at 0x761965c8ca90>"
      ]
     },
     "execution_count": 41,
     "metadata": {},
     "output_type": "execute_result"
    }
   ],
   "source": [
    "VimeoVideo(\"665414450\", h=\"0fcb4dc3fa\", width=600)"
   ]
  },
  {
   "cell_type": "markdown",
   "id": "36b36f82-53ab-4c62-a99a-25bc3b82bfbb",
   "metadata": {},
   "source": [
    "**Task 4.1.14:** Use the `distinct` command to create a column with all unique building IDs in the `id_map` table. `JOIN` this column with all the columns from the `building_structure` table, showing only buildings where **`district_id`** is `4` and limiting your results to the first five rows of the new table.\n",
    "\n",
    "- [<span id='technique'>Create an alias for a column or table using the `AS` command in <span id='tool'>SQL</span></span>.](../%40textbook/10-databases-sql.ipynb#SELECT-and-FROM) \n",
    "- [<span id='technique'>Determine the unique values in a column using a `distinct` function in <span id='tool'>SQL</span></span>.](../%40textbook/10-databases-sql.ipynb#Aggregating-Data) \n",
    "- [<span id='technique'>Merge two tables using a `JOIN` clause in <span id='tool'>SQL</span></span>.](../%40textbook/10-databases-sql.ipynb#Joining-Tables)\n",
    "- [<span id='technique'>Inspect a table using a `LIMIT` clause in <span id='tool'>SQL</span></span>.](../%40textbook/10-databases-sql.ipynb#Building-Blocks-of-the-Basic-Query)\n",
    "- [<span id='technique'>Subset a table using a `WHERE` clause in <span id='tool'>SQL</span></span>.](../%40textbook/10-databases-sql.ipynb#Building-Blocks-of-the-Basic-Query)"
   ]
  },
  {
   "cell_type": "code",
   "execution_count": 49,
   "id": "3c8a6ea0-fb79-4988-b317-9c9c65d12d6b",
   "metadata": {},
   "outputs": [
    {
     "data": {
      "text/html": [
       "<span style=\"None\">Running query in &#x27;sqlite:///../nepal.sqlite&#x27;</span>"
      ],
      "text/plain": [
       "Running query in 'sqlite:///../nepal.sqlite'"
      ]
     },
     "metadata": {},
     "output_type": "display_data"
    },
    {
     "data": {
      "text/html": [
       "<table>\n",
       "    <thead>\n",
       "        <tr>\n",
       "            <th>building_id</th>\n",
       "            <th>building_id_1</th>\n",
       "            <th>count_floors_pre_eq</th>\n",
       "            <th>count_floors_post_eq</th>\n",
       "            <th>age_building</th>\n",
       "            <th>plinth_area_sq_ft</th>\n",
       "            <th>height_ft_pre_eq</th>\n",
       "            <th>height_ft_post_eq</th>\n",
       "            <th>land_surface_condition</th>\n",
       "            <th>foundation_type</th>\n",
       "            <th>roof_type</th>\n",
       "            <th>ground_floor_type</th>\n",
       "            <th>other_floor_type</th>\n",
       "            <th>position</th>\n",
       "            <th>plan_configuration</th>\n",
       "            <th>condition_post_eq</th>\n",
       "            <th>superstructure</th>\n",
       "        </tr>\n",
       "    </thead>\n",
       "    <tbody>\n",
       "        <tr>\n",
       "            <td>164002</td>\n",
       "            <td>164002</td>\n",
       "            <td>3</td>\n",
       "            <td>3</td>\n",
       "            <td>20</td>\n",
       "            <td>560</td>\n",
       "            <td>18</td>\n",
       "            <td>18</td>\n",
       "            <td>Flat</td>\n",
       "            <td>Mud mortar-Stone/Brick</td>\n",
       "            <td>Bamboo/Timber-Light roof</td>\n",
       "            <td>Mud</td>\n",
       "            <td>TImber/Bamboo-Mud</td>\n",
       "            <td>Not attached</td>\n",
       "            <td>Rectangular</td>\n",
       "            <td>Damaged-Repaired and used</td>\n",
       "            <td>Stone, mud mortar</td>\n",
       "        </tr>\n",
       "        <tr>\n",
       "            <td>164081</td>\n",
       "            <td>164081</td>\n",
       "            <td>2</td>\n",
       "            <td>2</td>\n",
       "            <td>21</td>\n",
       "            <td>200</td>\n",
       "            <td>12</td>\n",
       "            <td>12</td>\n",
       "            <td>Flat</td>\n",
       "            <td>Mud mortar-Stone/Brick</td>\n",
       "            <td>Bamboo/Timber-Light roof</td>\n",
       "            <td>Mud</td>\n",
       "            <td>TImber/Bamboo-Mud</td>\n",
       "            <td>Not attached</td>\n",
       "            <td>Rectangular</td>\n",
       "            <td>Damaged-Used in risk</td>\n",
       "            <td>Stone, mud mortar</td>\n",
       "        </tr>\n",
       "        <tr>\n",
       "            <td>164089</td>\n",
       "            <td>164089</td>\n",
       "            <td>3</td>\n",
       "            <td>3</td>\n",
       "            <td>18</td>\n",
       "            <td>315</td>\n",
       "            <td>20</td>\n",
       "            <td>20</td>\n",
       "            <td>Flat</td>\n",
       "            <td>Mud mortar-Stone/Brick</td>\n",
       "            <td>Bamboo/Timber-Light roof</td>\n",
       "            <td>Mud</td>\n",
       "            <td>TImber/Bamboo-Mud</td>\n",
       "            <td>Not attached</td>\n",
       "            <td>Rectangular</td>\n",
       "            <td>Damaged-Used in risk</td>\n",
       "            <td>Stone, mud mortar</td>\n",
       "        </tr>\n",
       "        <tr>\n",
       "            <td>164098</td>\n",
       "            <td>164098</td>\n",
       "            <td>2</td>\n",
       "            <td>2</td>\n",
       "            <td>45</td>\n",
       "            <td>290</td>\n",
       "            <td>13</td>\n",
       "            <td>13</td>\n",
       "            <td>Flat</td>\n",
       "            <td>Mud mortar-Stone/Brick</td>\n",
       "            <td>Bamboo/Timber-Light roof</td>\n",
       "            <td>Mud</td>\n",
       "            <td>TImber/Bamboo-Mud</td>\n",
       "            <td>Not attached</td>\n",
       "            <td>Rectangular</td>\n",
       "            <td>Damaged-Used in risk</td>\n",
       "            <td>Stone, mud mortar</td>\n",
       "        </tr>\n",
       "        <tr>\n",
       "            <td>164103</td>\n",
       "            <td>164103</td>\n",
       "            <td>2</td>\n",
       "            <td>2</td>\n",
       "            <td>21</td>\n",
       "            <td>230</td>\n",
       "            <td>13</td>\n",
       "            <td>13</td>\n",
       "            <td>Flat</td>\n",
       "            <td>Mud mortar-Stone/Brick</td>\n",
       "            <td>Bamboo/Timber-Light roof</td>\n",
       "            <td>Mud</td>\n",
       "            <td>TImber/Bamboo-Mud</td>\n",
       "            <td>Not attached</td>\n",
       "            <td>Rectangular</td>\n",
       "            <td>Damaged-Used in risk</td>\n",
       "            <td>Stone, mud mortar</td>\n",
       "        </tr>\n",
       "    </tbody>\n",
       "</table>"
      ],
      "text/plain": [
       "+-------------+---------------+---------------------+----------------------+--------------+-------------------+------------------+-------------------+------------------------+------------------------+--------------------------+-------------------+-------------------+--------------+--------------------+---------------------------+-------------------+\n",
       "| building_id | building_id_1 | count_floors_pre_eq | count_floors_post_eq | age_building | plinth_area_sq_ft | height_ft_pre_eq | height_ft_post_eq | land_surface_condition |    foundation_type     |        roof_type         | ground_floor_type |  other_floor_type |   position   | plan_configuration |     condition_post_eq     |   superstructure  |\n",
       "+-------------+---------------+---------------------+----------------------+--------------+-------------------+------------------+-------------------+------------------------+------------------------+--------------------------+-------------------+-------------------+--------------+--------------------+---------------------------+-------------------+\n",
       "|    164002   |     164002    |          3          |          3           |      20      |        560        |        18        |         18        |          Flat          | Mud mortar-Stone/Brick | Bamboo/Timber-Light roof |        Mud        | TImber/Bamboo-Mud | Not attached |    Rectangular     | Damaged-Repaired and used | Stone, mud mortar |\n",
       "|    164081   |     164081    |          2          |          2           |      21      |        200        |        12        |         12        |          Flat          | Mud mortar-Stone/Brick | Bamboo/Timber-Light roof |        Mud        | TImber/Bamboo-Mud | Not attached |    Rectangular     |    Damaged-Used in risk   | Stone, mud mortar |\n",
       "|    164089   |     164089    |          3          |          3           |      18      |        315        |        20        |         20        |          Flat          | Mud mortar-Stone/Brick | Bamboo/Timber-Light roof |        Mud        | TImber/Bamboo-Mud | Not attached |    Rectangular     |    Damaged-Used in risk   | Stone, mud mortar |\n",
       "|    164098   |     164098    |          2          |          2           |      45      |        290        |        13        |         13        |          Flat          | Mud mortar-Stone/Brick | Bamboo/Timber-Light roof |        Mud        | TImber/Bamboo-Mud | Not attached |    Rectangular     |    Damaged-Used in risk   | Stone, mud mortar |\n",
       "|    164103   |     164103    |          2          |          2           |      21      |        230        |        13        |         13        |          Flat          | Mud mortar-Stone/Brick | Bamboo/Timber-Light roof |        Mud        | TImber/Bamboo-Mud | Not attached |    Rectangular     |    Damaged-Used in risk   | Stone, mud mortar |\n",
       "+-------------+---------------+---------------------+----------------------+--------------+-------------------+------------------+-------------------+------------------------+------------------------+--------------------------+-------------------+-------------------+--------------+--------------------+---------------------------+-------------------+"
      ]
     },
     "execution_count": 49,
     "metadata": {},
     "output_type": "execute_result"
    }
   ],
   "source": [
    "%%sql\n",
    "\n",
    "select distinct(i.building_id),s.* from id_map as i\n",
    "join building_structure as s  ON i.building_id=s.building_id\n",
    "where district_id=4 limit 5"
   ]
  },
  {
   "cell_type": "markdown",
   "id": "4003ac4e-cf3d-42c7-83f9-768f22f73414",
   "metadata": {},
   "source": [
    "We've combined the `id_map` and `building_structure` tables to create a table with all the buildings in Gorkha, but the final piece of data needed for our model, the damage that each building sustained in the earthquake, is in the `building_damage` table."
   ]
  },
  {
   "cell_type": "code",
   "execution_count": 48,
   "id": "9d5b4fe4-8339-4743-bd36-f1946b461392",
   "metadata": {},
   "outputs": [
    {
     "data": {
      "text/html": [
       "\n",
       "        <iframe\n",
       "            width=\"600\"\n",
       "            height=\"300\"\n",
       "            src=\"https://player.vimeo.com/video/665414466?h=37dde03c93\"\n",
       "            frameborder=\"0\"\n",
       "            allowfullscreen\n",
       "            \n",
       "        ></iframe>\n",
       "        "
      ],
      "text/plain": [
       "<IPython.lib.display.VimeoVideo at 0x761965e16d90>"
      ]
     },
     "execution_count": 48,
     "metadata": {},
     "output_type": "execute_result"
    }
   ],
   "source": [
    "VimeoVideo(\"665414466\", h=\"37dde03c93\", width=600)"
   ]
  },
  {
   "cell_type": "markdown",
   "id": "046ff321-45d6-4d82-bc29-4ca9dbff8d5e",
   "metadata": {},
   "source": [
    "**Task 4.1.15:** How can combine all three tables? Using the query you created in the last task as a foundation, include the **`damage_grade`** column to your table by adding a second `JOIN` for the `building_damage` table. Be sure to limit your results to the first five rows of the new table.\n",
    "\n",
    "- [<span id='technique'>Create an alias for a column or table using the `AS` command in <span id='tool'>SQL</span></span>.](../%40textbook/10-databases-sql.ipynb#SELECT-and-FROM) \n",
    "- [<span id='technique'>Determine the unique values in a column using a `distinct` function in <span id='tool'>SQL</span></span>.](../%40textbook/10-databases-sql.ipynb#Aggregating-Data) \n",
    "- [<span id='technique'>Merge two tables using a `JOIN` clause in <span id='tool'>SQL</span></span>.](../%40textbook/10-databases-sql.ipynb#Joining-Tables)\n",
    "- [<span id='technique'>Inspect a table using a `LIMIT` clause in <span id='tool'>SQL</span></span>.](../%40textbook/10-databases-sql.ipynb#Building-Blocks-of-the-Basic-Query)\n",
    "- [<span id='technique'>Subset a table using a `WHERE` clause in <span id='tool'>SQL</span></span>.](../%40textbook/10-databases-sql.ipynb#Building-Blocks-of-the-Basic-Query)"
   ]
  },
  {
   "cell_type": "code",
   "execution_count": 51,
   "id": "84b84662-4fed-4dfe-8eb3-c2a527ecd5e0",
   "metadata": {},
   "outputs": [
    {
     "data": {
      "text/html": [
       "<span style=\"None\">Running query in &#x27;sqlite:///../nepal.sqlite&#x27;</span>"
      ],
      "text/plain": [
       "Running query in 'sqlite:///../nepal.sqlite'"
      ]
     },
     "metadata": {},
     "output_type": "display_data"
    },
    {
     "data": {
      "text/html": [
       "<table>\n",
       "    <thead>\n",
       "        <tr>\n",
       "            <th>b_id</th>\n",
       "            <th>building_id</th>\n",
       "            <th>count_floors_pre_eq</th>\n",
       "            <th>count_floors_post_eq</th>\n",
       "            <th>age_building</th>\n",
       "            <th>plinth_area_sq_ft</th>\n",
       "            <th>height_ft_pre_eq</th>\n",
       "            <th>height_ft_post_eq</th>\n",
       "            <th>land_surface_condition</th>\n",
       "            <th>foundation_type</th>\n",
       "            <th>roof_type</th>\n",
       "            <th>ground_floor_type</th>\n",
       "            <th>other_floor_type</th>\n",
       "            <th>position</th>\n",
       "            <th>plan_configuration</th>\n",
       "            <th>condition_post_eq</th>\n",
       "            <th>superstructure</th>\n",
       "            <th>damage_grade</th>\n",
       "        </tr>\n",
       "    </thead>\n",
       "    <tbody>\n",
       "        <tr>\n",
       "            <td>164002</td>\n",
       "            <td>164002</td>\n",
       "            <td>3</td>\n",
       "            <td>3</td>\n",
       "            <td>20</td>\n",
       "            <td>560</td>\n",
       "            <td>18</td>\n",
       "            <td>18</td>\n",
       "            <td>Flat</td>\n",
       "            <td>Mud mortar-Stone/Brick</td>\n",
       "            <td>Bamboo/Timber-Light roof</td>\n",
       "            <td>Mud</td>\n",
       "            <td>TImber/Bamboo-Mud</td>\n",
       "            <td>Not attached</td>\n",
       "            <td>Rectangular</td>\n",
       "            <td>Damaged-Repaired and used</td>\n",
       "            <td>Stone, mud mortar</td>\n",
       "            <td>Grade 2</td>\n",
       "        </tr>\n",
       "        <tr>\n",
       "            <td>164081</td>\n",
       "            <td>164081</td>\n",
       "            <td>2</td>\n",
       "            <td>2</td>\n",
       "            <td>21</td>\n",
       "            <td>200</td>\n",
       "            <td>12</td>\n",
       "            <td>12</td>\n",
       "            <td>Flat</td>\n",
       "            <td>Mud mortar-Stone/Brick</td>\n",
       "            <td>Bamboo/Timber-Light roof</td>\n",
       "            <td>Mud</td>\n",
       "            <td>TImber/Bamboo-Mud</td>\n",
       "            <td>Not attached</td>\n",
       "            <td>Rectangular</td>\n",
       "            <td>Damaged-Used in risk</td>\n",
       "            <td>Stone, mud mortar</td>\n",
       "            <td>Grade 2</td>\n",
       "        </tr>\n",
       "        <tr>\n",
       "            <td>164089</td>\n",
       "            <td>164089</td>\n",
       "            <td>3</td>\n",
       "            <td>3</td>\n",
       "            <td>18</td>\n",
       "            <td>315</td>\n",
       "            <td>20</td>\n",
       "            <td>20</td>\n",
       "            <td>Flat</td>\n",
       "            <td>Mud mortar-Stone/Brick</td>\n",
       "            <td>Bamboo/Timber-Light roof</td>\n",
       "            <td>Mud</td>\n",
       "            <td>TImber/Bamboo-Mud</td>\n",
       "            <td>Not attached</td>\n",
       "            <td>Rectangular</td>\n",
       "            <td>Damaged-Used in risk</td>\n",
       "            <td>Stone, mud mortar</td>\n",
       "            <td>Grade 2</td>\n",
       "        </tr>\n",
       "        <tr>\n",
       "            <td>164098</td>\n",
       "            <td>164098</td>\n",
       "            <td>2</td>\n",
       "            <td>2</td>\n",
       "            <td>45</td>\n",
       "            <td>290</td>\n",
       "            <td>13</td>\n",
       "            <td>13</td>\n",
       "            <td>Flat</td>\n",
       "            <td>Mud mortar-Stone/Brick</td>\n",
       "            <td>Bamboo/Timber-Light roof</td>\n",
       "            <td>Mud</td>\n",
       "            <td>TImber/Bamboo-Mud</td>\n",
       "            <td>Not attached</td>\n",
       "            <td>Rectangular</td>\n",
       "            <td>Damaged-Used in risk</td>\n",
       "            <td>Stone, mud mortar</td>\n",
       "            <td>Grade 3</td>\n",
       "        </tr>\n",
       "        <tr>\n",
       "            <td>164103</td>\n",
       "            <td>164103</td>\n",
       "            <td>2</td>\n",
       "            <td>2</td>\n",
       "            <td>21</td>\n",
       "            <td>230</td>\n",
       "            <td>13</td>\n",
       "            <td>13</td>\n",
       "            <td>Flat</td>\n",
       "            <td>Mud mortar-Stone/Brick</td>\n",
       "            <td>Bamboo/Timber-Light roof</td>\n",
       "            <td>Mud</td>\n",
       "            <td>TImber/Bamboo-Mud</td>\n",
       "            <td>Not attached</td>\n",
       "            <td>Rectangular</td>\n",
       "            <td>Damaged-Used in risk</td>\n",
       "            <td>Stone, mud mortar</td>\n",
       "            <td>Grade 3</td>\n",
       "        </tr>\n",
       "    </tbody>\n",
       "</table>"
      ],
      "text/plain": [
       "+--------+-------------+---------------------+----------------------+--------------+-------------------+------------------+-------------------+------------------------+------------------------+--------------------------+-------------------+-------------------+--------------+--------------------+---------------------------+-------------------+--------------+\n",
       "|  b_id  | building_id | count_floors_pre_eq | count_floors_post_eq | age_building | plinth_area_sq_ft | height_ft_pre_eq | height_ft_post_eq | land_surface_condition |    foundation_type     |        roof_type         | ground_floor_type |  other_floor_type |   position   | plan_configuration |     condition_post_eq     |   superstructure  | damage_grade |\n",
       "+--------+-------------+---------------------+----------------------+--------------+-------------------+------------------+-------------------+------------------------+------------------------+--------------------------+-------------------+-------------------+--------------+--------------------+---------------------------+-------------------+--------------+\n",
       "| 164002 |    164002   |          3          |          3           |      20      |        560        |        18        |         18        |          Flat          | Mud mortar-Stone/Brick | Bamboo/Timber-Light roof |        Mud        | TImber/Bamboo-Mud | Not attached |    Rectangular     | Damaged-Repaired and used | Stone, mud mortar |   Grade 2    |\n",
       "| 164081 |    164081   |          2          |          2           |      21      |        200        |        12        |         12        |          Flat          | Mud mortar-Stone/Brick | Bamboo/Timber-Light roof |        Mud        | TImber/Bamboo-Mud | Not attached |    Rectangular     |    Damaged-Used in risk   | Stone, mud mortar |   Grade 2    |\n",
       "| 164089 |    164089   |          3          |          3           |      18      |        315        |        20        |         20        |          Flat          | Mud mortar-Stone/Brick | Bamboo/Timber-Light roof |        Mud        | TImber/Bamboo-Mud | Not attached |    Rectangular     |    Damaged-Used in risk   | Stone, mud mortar |   Grade 2    |\n",
       "| 164098 |    164098   |          2          |          2           |      45      |        290        |        13        |         13        |          Flat          | Mud mortar-Stone/Brick | Bamboo/Timber-Light roof |        Mud        | TImber/Bamboo-Mud | Not attached |    Rectangular     |    Damaged-Used in risk   | Stone, mud mortar |   Grade 3    |\n",
       "| 164103 |    164103   |          2          |          2           |      21      |        230        |        13        |         13        |          Flat          | Mud mortar-Stone/Brick | Bamboo/Timber-Light roof |        Mud        | TImber/Bamboo-Mud | Not attached |    Rectangular     |    Damaged-Used in risk   | Stone, mud mortar |   Grade 3    |\n",
       "+--------+-------------+---------------------+----------------------+--------------+-------------------+------------------+-------------------+------------------------+------------------------+--------------------------+-------------------+-------------------+--------------+--------------------+---------------------------+-------------------+--------------+"
      ]
     },
     "execution_count": 51,
     "metadata": {},
     "output_type": "execute_result"
    }
   ],
   "source": [
    "%%sql\n",
    "\n",
    "select distinct(i.building_id) as b_id,s.*,d.damage_grade from id_map as i\n",
    "join building_structure as s  ON i.building_id=s.building_id\n",
    "join building_damage as d ON i.building_id=d.building_id\n",
    "where district_id=4 limit 5"
   ]
  },
  {
   "cell_type": "markdown",
   "id": "6fe8ea8f-24eb-47e8-9e1e-b3a60cbc04f8",
   "metadata": {
    "tags": []
   },
   "source": [
    "## Import"
   ]
  },
  {
   "cell_type": "code",
   "execution_count": 52,
   "id": "ccfba19f-1c5f-4e6d-8fbf-f9c9b60246f0",
   "metadata": {},
   "outputs": [
    {
     "data": {
      "text/html": [
       "\n",
       "        <iframe\n",
       "            width=\"600\"\n",
       "            height=\"300\"\n",
       "            src=\"https://player.vimeo.com/video/665414492?h=9392e1a66e\"\n",
       "            frameborder=\"0\"\n",
       "            allowfullscreen\n",
       "            \n",
       "        ></iframe>\n",
       "        "
      ],
      "text/plain": [
       "<IPython.lib.display.VimeoVideo at 0x761965cb3710>"
      ]
     },
     "execution_count": 52,
     "metadata": {},
     "output_type": "execute_result"
    }
   ],
   "source": [
    "VimeoVideo(\"665414492\", h=\"9392e1a66e\", width=600)"
   ]
  },
  {
   "cell_type": "markdown",
   "id": "38402a9c-b8e6-4b67-a510-ff5994ae02ec",
   "metadata": {},
   "source": [
    "**Task 4.1.16:** Use the [`connect`](https://docs.python.org/3/library/sqlite3.html#sqlite3.connect) method from the sqlite3 library to connect to the database. Remember that the database is located at `\"../nepal.sqlite\"`.\n",
    "\n",
    "- [Open a connection to a SQL database using sqlite3</span></span>.](../%40textbook/10-databases-sql.ipynb#Using-pandas-with-SQL-Databases)"
   ]
  },
  {
   "cell_type": "code",
   "execution_count": 53,
   "id": "0eca315d-7a16-472e-934e-f2a0803b956e",
   "metadata": {},
   "outputs": [],
   "source": [
    "conn = sqlite3.connect(\"../nepal.sqlite\")"
   ]
  },
  {
   "cell_type": "code",
   "execution_count": 54,
   "id": "b79c2177-491e-4902-bf8e-60e4f8ea8d56",
   "metadata": {},
   "outputs": [
    {
     "data": {
      "text/html": [
       "\n",
       "        <iframe\n",
       "            width=\"600\"\n",
       "            height=\"300\"\n",
       "            src=\"https://player.vimeo.com/video/665414501?h=812d482c73\"\n",
       "            frameborder=\"0\"\n",
       "            allowfullscreen\n",
       "            \n",
       "        ></iframe>\n",
       "        "
      ],
      "text/plain": [
       "<IPython.lib.display.VimeoVideo at 0x761965cc0550>"
      ]
     },
     "execution_count": 54,
     "metadata": {},
     "output_type": "execute_result"
    }
   ],
   "source": [
    "VimeoVideo(\"665414501\", h=\"812d482c73\", width=600)"
   ]
  },
  {
   "cell_type": "markdown",
   "id": "99fa42da-85eb-4ab3-88b5-8b8823834874",
   "metadata": {},
   "source": [
    "**Task 4.1.17:** Put your last SQL query into a string and assign it to the variable `query`."
   ]
  },
  {
   "cell_type": "code",
   "execution_count": 55,
   "id": "165e85ec-efc7-4bcc-bae3-96859c70561f",
   "metadata": {},
   "outputs": [
    {
     "name": "stdout",
     "output_type": "stream",
     "text": [
      "select distinct(i.building_id) as b_id,s.*,d.damage_grade from id_map as i\n",
      "join building_structure as s  ON i.building_id=s.building_id\n",
      "join building_damage as d ON i.building_id=d.building_id\n",
      "where district_id=4\n"
     ]
    }
   ],
   "source": [
    "query = \"\"\"select distinct(i.building_id) as b_id,s.*,d.damage_grade from id_map as i\n",
    "join building_structure as s  ON i.building_id=s.building_id\n",
    "join building_damage as d ON i.building_id=d.building_id\n",
    "where district_id=4\"\"\"\n",
    "print(query)"
   ]
  },
  {
   "cell_type": "code",
   "execution_count": 56,
   "id": "0546da45-3a5e-4bb4-b6a4-dec33f38faf9",
   "metadata": {},
   "outputs": [
    {
     "data": {
      "text/html": [
       "\n",
       "        <iframe\n",
       "            width=\"600\"\n",
       "            height=\"300\"\n",
       "            src=\"https://player.vimeo.com/video/665414513?h=c6a81b49ad\"\n",
       "            frameborder=\"0\"\n",
       "            allowfullscreen\n",
       "            \n",
       "        ></iframe>\n",
       "        "
      ],
      "text/plain": [
       "<IPython.lib.display.VimeoVideo at 0x761965c86ad0>"
      ]
     },
     "execution_count": 56,
     "metadata": {},
     "output_type": "execute_result"
    }
   ],
   "source": [
    "VimeoVideo(\"665414513\", h=\"c6a81b49ad\", width=600)"
   ]
  },
  {
   "cell_type": "markdown",
   "id": "40cc8cb7-d701-4ab3-95a0-eb8178271baa",
   "metadata": {},
   "source": [
    "**Task 4.1.18:** Use the [`read_sql`](https://pandas.pydata.org/docs/reference/api/pandas.read_sql.html#pandas-read-sql) from the pandas library to create a DataFrame from your `query`. Be sure that the **`building_id`** is set as your index column.\n",
    "\n",
    "- [<span id='technique'>Read SQL query into a DataFrame using <span id='tool'>pandas</span></span>.](../%40textbook/10-databases-sql.ipynb#Using-pandas-with-SQL-Databases)\n",
    "\n",
    "<div class=\"alert alert-block alert-info\">\n",
    "<b>Tip:</b> Your table might have two <b><code>building_id</code></b> columns, and that will make it hard to set it as the index column for your DataFrame. If you face this problem, add an alias for one of the <b><code>building_id</code></b> columns in your query using <code>AS</code>.\n",
    "</div>"
   ]
  },
  {
   "cell_type": "code",
   "execution_count": 57,
   "id": "fa9e252c-704f-4409-9eec-cbbdeb4a1e6e",
   "metadata": {},
   "outputs": [
    {
     "data": {
      "text/html": [
       "<div>\n",
       "<style scoped>\n",
       "    .dataframe tbody tr th:only-of-type {\n",
       "        vertical-align: middle;\n",
       "    }\n",
       "\n",
       "    .dataframe tbody tr th {\n",
       "        vertical-align: top;\n",
       "    }\n",
       "\n",
       "    .dataframe thead th {\n",
       "        text-align: right;\n",
       "    }\n",
       "</style>\n",
       "<table border=\"1\" class=\"dataframe\">\n",
       "  <thead>\n",
       "    <tr style=\"text-align: right;\">\n",
       "      <th></th>\n",
       "      <th>building_id</th>\n",
       "      <th>count_floors_pre_eq</th>\n",
       "      <th>count_floors_post_eq</th>\n",
       "      <th>age_building</th>\n",
       "      <th>plinth_area_sq_ft</th>\n",
       "      <th>height_ft_pre_eq</th>\n",
       "      <th>height_ft_post_eq</th>\n",
       "      <th>land_surface_condition</th>\n",
       "      <th>foundation_type</th>\n",
       "      <th>roof_type</th>\n",
       "      <th>ground_floor_type</th>\n",
       "      <th>other_floor_type</th>\n",
       "      <th>position</th>\n",
       "      <th>plan_configuration</th>\n",
       "      <th>condition_post_eq</th>\n",
       "      <th>superstructure</th>\n",
       "      <th>damage_grade</th>\n",
       "    </tr>\n",
       "    <tr>\n",
       "      <th>b_id</th>\n",
       "      <th></th>\n",
       "      <th></th>\n",
       "      <th></th>\n",
       "      <th></th>\n",
       "      <th></th>\n",
       "      <th></th>\n",
       "      <th></th>\n",
       "      <th></th>\n",
       "      <th></th>\n",
       "      <th></th>\n",
       "      <th></th>\n",
       "      <th></th>\n",
       "      <th></th>\n",
       "      <th></th>\n",
       "      <th></th>\n",
       "      <th></th>\n",
       "      <th></th>\n",
       "    </tr>\n",
       "  </thead>\n",
       "  <tbody>\n",
       "    <tr>\n",
       "      <th>164002</th>\n",
       "      <td>164002</td>\n",
       "      <td>3</td>\n",
       "      <td>3</td>\n",
       "      <td>20</td>\n",
       "      <td>560</td>\n",
       "      <td>18</td>\n",
       "      <td>18</td>\n",
       "      <td>Flat</td>\n",
       "      <td>Mud mortar-Stone/Brick</td>\n",
       "      <td>Bamboo/Timber-Light roof</td>\n",
       "      <td>Mud</td>\n",
       "      <td>TImber/Bamboo-Mud</td>\n",
       "      <td>Not attached</td>\n",
       "      <td>Rectangular</td>\n",
       "      <td>Damaged-Repaired and used</td>\n",
       "      <td>Stone, mud mortar</td>\n",
       "      <td>Grade 2</td>\n",
       "    </tr>\n",
       "    <tr>\n",
       "      <th>164081</th>\n",
       "      <td>164081</td>\n",
       "      <td>2</td>\n",
       "      <td>2</td>\n",
       "      <td>21</td>\n",
       "      <td>200</td>\n",
       "      <td>12</td>\n",
       "      <td>12</td>\n",
       "      <td>Flat</td>\n",
       "      <td>Mud mortar-Stone/Brick</td>\n",
       "      <td>Bamboo/Timber-Light roof</td>\n",
       "      <td>Mud</td>\n",
       "      <td>TImber/Bamboo-Mud</td>\n",
       "      <td>Not attached</td>\n",
       "      <td>Rectangular</td>\n",
       "      <td>Damaged-Used in risk</td>\n",
       "      <td>Stone, mud mortar</td>\n",
       "      <td>Grade 2</td>\n",
       "    </tr>\n",
       "    <tr>\n",
       "      <th>164089</th>\n",
       "      <td>164089</td>\n",
       "      <td>3</td>\n",
       "      <td>3</td>\n",
       "      <td>18</td>\n",
       "      <td>315</td>\n",
       "      <td>20</td>\n",
       "      <td>20</td>\n",
       "      <td>Flat</td>\n",
       "      <td>Mud mortar-Stone/Brick</td>\n",
       "      <td>Bamboo/Timber-Light roof</td>\n",
       "      <td>Mud</td>\n",
       "      <td>TImber/Bamboo-Mud</td>\n",
       "      <td>Not attached</td>\n",
       "      <td>Rectangular</td>\n",
       "      <td>Damaged-Used in risk</td>\n",
       "      <td>Stone, mud mortar</td>\n",
       "      <td>Grade 2</td>\n",
       "    </tr>\n",
       "    <tr>\n",
       "      <th>164098</th>\n",
       "      <td>164098</td>\n",
       "      <td>2</td>\n",
       "      <td>2</td>\n",
       "      <td>45</td>\n",
       "      <td>290</td>\n",
       "      <td>13</td>\n",
       "      <td>13</td>\n",
       "      <td>Flat</td>\n",
       "      <td>Mud mortar-Stone/Brick</td>\n",
       "      <td>Bamboo/Timber-Light roof</td>\n",
       "      <td>Mud</td>\n",
       "      <td>TImber/Bamboo-Mud</td>\n",
       "      <td>Not attached</td>\n",
       "      <td>Rectangular</td>\n",
       "      <td>Damaged-Used in risk</td>\n",
       "      <td>Stone, mud mortar</td>\n",
       "      <td>Grade 3</td>\n",
       "    </tr>\n",
       "    <tr>\n",
       "      <th>164103</th>\n",
       "      <td>164103</td>\n",
       "      <td>2</td>\n",
       "      <td>2</td>\n",
       "      <td>21</td>\n",
       "      <td>230</td>\n",
       "      <td>13</td>\n",
       "      <td>13</td>\n",
       "      <td>Flat</td>\n",
       "      <td>Mud mortar-Stone/Brick</td>\n",
       "      <td>Bamboo/Timber-Light roof</td>\n",
       "      <td>Mud</td>\n",
       "      <td>TImber/Bamboo-Mud</td>\n",
       "      <td>Not attached</td>\n",
       "      <td>Rectangular</td>\n",
       "      <td>Damaged-Used in risk</td>\n",
       "      <td>Stone, mud mortar</td>\n",
       "      <td>Grade 3</td>\n",
       "    </tr>\n",
       "  </tbody>\n",
       "</table>\n",
       "</div>"
      ],
      "text/plain": [
       "        building_id  count_floors_pre_eq  count_floors_post_eq  age_building  \\\n",
       "b_id                                                                           \n",
       "164002       164002                    3                     3            20   \n",
       "164081       164081                    2                     2            21   \n",
       "164089       164089                    3                     3            18   \n",
       "164098       164098                    2                     2            45   \n",
       "164103       164103                    2                     2            21   \n",
       "\n",
       "        plinth_area_sq_ft  height_ft_pre_eq  height_ft_post_eq  \\\n",
       "b_id                                                             \n",
       "164002                560                18                 18   \n",
       "164081                200                12                 12   \n",
       "164089                315                20                 20   \n",
       "164098                290                13                 13   \n",
       "164103                230                13                 13   \n",
       "\n",
       "       land_surface_condition         foundation_type  \\\n",
       "b_id                                                    \n",
       "164002                   Flat  Mud mortar-Stone/Brick   \n",
       "164081                   Flat  Mud mortar-Stone/Brick   \n",
       "164089                   Flat  Mud mortar-Stone/Brick   \n",
       "164098                   Flat  Mud mortar-Stone/Brick   \n",
       "164103                   Flat  Mud mortar-Stone/Brick   \n",
       "\n",
       "                       roof_type ground_floor_type   other_floor_type  \\\n",
       "b_id                                                                    \n",
       "164002  Bamboo/Timber-Light roof               Mud  TImber/Bamboo-Mud   \n",
       "164081  Bamboo/Timber-Light roof               Mud  TImber/Bamboo-Mud   \n",
       "164089  Bamboo/Timber-Light roof               Mud  TImber/Bamboo-Mud   \n",
       "164098  Bamboo/Timber-Light roof               Mud  TImber/Bamboo-Mud   \n",
       "164103  Bamboo/Timber-Light roof               Mud  TImber/Bamboo-Mud   \n",
       "\n",
       "            position plan_configuration          condition_post_eq  \\\n",
       "b_id                                                                 \n",
       "164002  Not attached        Rectangular  Damaged-Repaired and used   \n",
       "164081  Not attached        Rectangular       Damaged-Used in risk   \n",
       "164089  Not attached        Rectangular       Damaged-Used in risk   \n",
       "164098  Not attached        Rectangular       Damaged-Used in risk   \n",
       "164103  Not attached        Rectangular       Damaged-Used in risk   \n",
       "\n",
       "           superstructure damage_grade  \n",
       "b_id                                    \n",
       "164002  Stone, mud mortar      Grade 2  \n",
       "164081  Stone, mud mortar      Grade 2  \n",
       "164089  Stone, mud mortar      Grade 2  \n",
       "164098  Stone, mud mortar      Grade 3  \n",
       "164103  Stone, mud mortar      Grade 3  "
      ]
     },
     "execution_count": 57,
     "metadata": {},
     "output_type": "execute_result"
    }
   ],
   "source": [
    "df = pd.read_sql(query,conn,index_col=\"b_id\")\n",
    "df.head()"
   ]
  },
  {
   "cell_type": "code",
   "execution_count": 58,
   "id": "6fca7ad5-d5dd-4a5a-bb99-a1b850da9108",
   "metadata": {},
   "outputs": [],
   "source": [
    "# Check your work\n",
    "assert df.shape[0] == 70836, f\"`df` should have 70,836 rows, not {df.shape[0]}.\"\n",
    "assert (\n",
    "    df.shape[1] > 14\n",
    "), \"`df` seems to be missing columns. Does your query combine the `id_map`, `building_structure`, and `building_damage` tables?\"\n",
    "assert (\n",
    "    \"damage_grade\" in df.columns\n",
    "), \"`df` is missing the target column, `'damage_grade'`.\""
   ]
  },
  {
   "cell_type": "markdown",
   "id": "83d151b0",
   "metadata": {
    "deletable": false,
    "editable": false
   },
   "source": [
    "---\n",
    "Copyright 2023 WorldQuant University. This\n",
    "content is licensed solely for personal use. Redistribution or\n",
    "publication of this material is strictly prohibited.\n"
   ]
  }
 ],
 "metadata": {
  "kernelspec": {
   "display_name": "Python 3 (ipykernel)",
   "language": "python",
   "name": "python3"
  },
  "language_info": {
   "codemirror_mode": {
    "name": "ipython",
    "version": 3
   },
   "file_extension": ".py",
   "mimetype": "text/x-python",
   "name": "python",
   "nbconvert_exporter": "python",
   "pygments_lexer": "ipython3",
   "version": "3.11.0"
  },
  "widgets": {
   "application/vnd.jupyter.widget-state+json": {
    "state": {},
    "version_major": 2,
    "version_minor": 0
   }
  }
 },
 "nbformat": 4,
 "nbformat_minor": 5
}
