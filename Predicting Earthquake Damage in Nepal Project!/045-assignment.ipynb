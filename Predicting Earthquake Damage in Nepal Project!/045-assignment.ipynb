{
 "cells": [
  {
   "cell_type": "markdown",
   "id": "7adfb2a2-f887-41a8-8003-6744801b7780",
   "metadata": {},
   "source": [
    "<font size=\"+3\"><strong>4.5. Earthquake Damage in Kavrepalanchok 🇳🇵</strong></font>"
   ]
  },
  {
   "cell_type": "markdown",
   "id": "bc60813d-d919-4f33-9e5c-8a5f5655d25f",
   "metadata": {},
   "source": [
    "In this assignment, you'll build a classification model to predict building damage for the district of [Kavrepalanchok](https://en.wikipedia.org/wiki/Kavrepalanchok_District)."
   ]
  },
  {
   "cell_type": "code",
   "execution_count": 34,
   "id": "be0ad308-a8a9-4931-a803-14e479b5f015",
   "metadata": {},
   "outputs": [],
   "source": [
    "import warnings\n",
    "\n",
    "warnings.simplefilter(action=\"ignore\", category=FutureWarning)"
   ]
  },
  {
   "cell_type": "code",
   "execution_count": 35,
   "id": "e2b72a24-ca83-434c-a0bf-43cfa3f16c6e",
   "metadata": {},
   "outputs": [],
   "source": [
    "# Import libraries here\n",
    "import sqlite3\n",
    "import warnings\n",
    "\n",
    "import matplotlib.pyplot as plt\n",
    "import numpy as np\n",
    "import pandas as pd\n",
    "\n",
    "from category_encoders import OneHotEncoder\n",
    "from IPython.display import VimeoVideo\n",
    "from sklearn.linear_model import LogisticRegression\n",
    "from sklearn.metrics import accuracy_score\n",
    "from sklearn.model_selection import train_test_split\n",
    "from sklearn.pipeline import Pipeline, make_pipeline\n",
    "from sklearn.utils.validation import check_is_fitted"
   ]
  },
  {
   "cell_type": "markdown",
   "id": "0cec9bac-5fb3-4ad8-9ed3-d6d754160640",
   "metadata": {},
   "source": [
    "# Prepare Data"
   ]
  },
  {
   "cell_type": "markdown",
   "id": "bda33c00-118e-4000-92b8-536e4a4108d5",
   "metadata": {},
   "source": [
    "## Connect"
   ]
  },
  {
   "cell_type": "markdown",
   "id": "b8503125-3767-4385-b22c-b9b12cf048a7",
   "metadata": {},
   "source": [
    "Run the cell below to connect to the `nepal.sqlite` database.<span style='color: transparent; font-size:1%'>WQU WorldQuant University Applied Data Science Lab QQQQ</span>"
   ]
  },
  {
   "cell_type": "code",
   "execution_count": 36,
   "id": "7de95510-e7b6-4a86-857f-60f637afce4d",
   "metadata": {},
   "outputs": [
    {
     "name": "stdout",
     "output_type": "stream",
     "text": [
      "The sql extension is already loaded. To reload it, use:\n",
      "  %reload_ext sql\n"
     ]
    }
   ],
   "source": [
    "%load_ext sql\n",
    "%sql sqlite:///../nepal.sqlite"
   ]
  },
  {
   "cell_type": "markdown",
   "id": "72de701a-ead5-48c3-9c40-9e548d5cb634",
   "metadata": {},
   "source": [
    "<div class=\"alert alert-block alert-warning\">\n",
    "<b>Warning:</b>Be careful with your SQL queries in this assignment. If you try to get all the rows from a table (for example, <code>SELECT * FROM id_map</code>), you will cause an Out of Memory error on your virtual machine. So always include a <code>LIMIT</code> when first exploring a database.\n",
    "</div>"
   ]
  },
  {
   "cell_type": "markdown",
   "id": "fef7dca8-4955-43b0-b78d-d839702ab257",
   "metadata": {},
   "source": [
    "**Task 4.5.1**"
   ]
  },
  {
   "cell_type": "markdown",
   "id": "84beb028-858c-4f53-a87e-d5b684667580",
   "metadata": {},
   "source": [
    "> Write your query in the input box in the left panel."
   ]
  },
  {
   "cell_type": "markdown",
   "id": "ddda3c8d-7b06-45d5-986f-0e18cdfd10d3",
   "metadata": {},
   "source": [
    "What's the district ID for Kavrepalanchok? From the lessons, you already know that Gorkha is `4`; from the textbook, you know that Ramechhap is `2`. Of the remaining districts, Kavrepalanchok is the one with the largest number of observations in the `id_map` table."
   ]
  },
  {
   "cell_type": "markdown",
   "id": "8bfad7c2-f8c8-40d7-aed9-592af00d468f",
   "metadata": {},
   "source": [
    "**Task 4.5.2** "
   ]
  },
  {
   "cell_type": "markdown",
   "id": "61046b29-2dd6-4de7-b6d6-7e6fdc44bd87",
   "metadata": {},
   "source": [
    "> Write your query in the input box in the left panel."
   ]
  },
  {
   "cell_type": "markdown",
   "id": "a2d265c6-ebf5-4cd1-b414-6dbc58a62119",
   "metadata": {},
   "source": [
    "**Task 4.5.3** "
   ]
  },
  {
   "cell_type": "markdown",
   "id": "9ccb0bf5-591b-462e-aadd-d0e01aa5c9f9",
   "metadata": {},
   "source": [
    "> Write your query in the input box in the left panel."
   ]
  },
  {
   "cell_type": "markdown",
   "id": "712062bd-117a-4b18-857b-435b61a6913f",
   "metadata": {},
   "source": [
    "**Task 4.5.4** "
   ]
  },
  {
   "cell_type": "markdown",
   "id": "53007f21-de5c-4574-bce9-161130406e1b",
   "metadata": {},
   "source": [
    "> Write your query in the input box in the left panel."
   ]
  },
  {
   "cell_type": "markdown",
   "id": "fa6700bb-fcf9-417f-92cd-83805a049873",
   "metadata": {},
   "source": [
    "## Import"
   ]
  },
  {
   "cell_type": "markdown",
   "id": "38989cd1-b725-4c23-b734-789f9f5315b9",
   "metadata": {},
   "source": [
    "**Task 4.5.5** "
   ]
  },
  {
   "cell_type": "code",
   "execution_count": 37,
   "id": "4c2bf2a0-6382-436f-8de7-8921d3cd2392",
   "metadata": {},
   "outputs": [],
   "source": [
    "# Build your `wrangle` function here\n",
    "def wrangle(db_path):\n",
    "    conn = sqlite3.connect(db_path)\n",
    "    query=\"\"\"SELECT distinct i.building_id AS b_id, s.*, d.damage_grade \n",
    "FROM id_map AS i\n",
    "JOIN building_structure AS s ON i.building_id = s.building_id\n",
    "JOIN building_damage AS d ON i.building_id = d.building_id\n",
    "WHERE i.district_id =3 ;\"\"\"\n",
    "    df=pd.read_sql(query,conn,index_col=\"b_id\")\n",
    "    \n",
    "    df[\"damage_grade\"] = df[\"damage_grade\"].str[-1].astype(int)\n",
    "    df[\"severe_damage\"] = (df[\"damage_grade\"] > 3).astype(int)\n",
    "\n",
    "    df.drop(columns=[\"building_id\",\"count_floors_post_eq\",\"height_ft_post_eq\",\"condition_post_eq\",\"damage_grade\",\"count_floors_pre_eq\"],inplace=True)    \n",
    "    \n",
    "    return df\n",
    "    "
   ]
  },
  {
   "cell_type": "markdown",
   "id": "5d450d82-bccf-4734-8529-6e71abfc9d76",
   "metadata": {},
   "source": [
    "Use your `wrangle` function to query the database at `\"../nepal.sqlite\"` and return  your cleaned results."
   ]
  },
  {
   "cell_type": "code",
   "execution_count": 38,
   "id": "2c370851-bf27-40b4-b964-08bf6303dcf4",
   "metadata": {},
   "outputs": [
    {
     "data": {
      "text/html": [
       "<div>\n",
       "<style scoped>\n",
       "    .dataframe tbody tr th:only-of-type {\n",
       "        vertical-align: middle;\n",
       "    }\n",
       "\n",
       "    .dataframe tbody tr th {\n",
       "        vertical-align: top;\n",
       "    }\n",
       "\n",
       "    .dataframe thead th {\n",
       "        text-align: right;\n",
       "    }\n",
       "</style>\n",
       "<table border=\"1\" class=\"dataframe\">\n",
       "  <thead>\n",
       "    <tr style=\"text-align: right;\">\n",
       "      <th></th>\n",
       "      <th>age_building</th>\n",
       "      <th>plinth_area_sq_ft</th>\n",
       "      <th>height_ft_pre_eq</th>\n",
       "      <th>land_surface_condition</th>\n",
       "      <th>foundation_type</th>\n",
       "      <th>roof_type</th>\n",
       "      <th>ground_floor_type</th>\n",
       "      <th>other_floor_type</th>\n",
       "      <th>position</th>\n",
       "      <th>plan_configuration</th>\n",
       "      <th>superstructure</th>\n",
       "      <th>severe_damage</th>\n",
       "    </tr>\n",
       "    <tr>\n",
       "      <th>b_id</th>\n",
       "      <th></th>\n",
       "      <th></th>\n",
       "      <th></th>\n",
       "      <th></th>\n",
       "      <th></th>\n",
       "      <th></th>\n",
       "      <th></th>\n",
       "      <th></th>\n",
       "      <th></th>\n",
       "      <th></th>\n",
       "      <th></th>\n",
       "      <th></th>\n",
       "    </tr>\n",
       "  </thead>\n",
       "  <tbody>\n",
       "    <tr>\n",
       "      <th>87473</th>\n",
       "      <td>15</td>\n",
       "      <td>382</td>\n",
       "      <td>18</td>\n",
       "      <td>Flat</td>\n",
       "      <td>Mud mortar-Stone/Brick</td>\n",
       "      <td>Bamboo/Timber-Light roof</td>\n",
       "      <td>Mud</td>\n",
       "      <td>TImber/Bamboo-Mud</td>\n",
       "      <td>Not attached</td>\n",
       "      <td>Rectangular</td>\n",
       "      <td>Stone, mud mortar</td>\n",
       "      <td>1</td>\n",
       "    </tr>\n",
       "    <tr>\n",
       "      <th>87479</th>\n",
       "      <td>12</td>\n",
       "      <td>328</td>\n",
       "      <td>7</td>\n",
       "      <td>Flat</td>\n",
       "      <td>Mud mortar-Stone/Brick</td>\n",
       "      <td>Bamboo/Timber-Light roof</td>\n",
       "      <td>Mud</td>\n",
       "      <td>Not applicable</td>\n",
       "      <td>Not attached</td>\n",
       "      <td>Rectangular</td>\n",
       "      <td>Stone, mud mortar</td>\n",
       "      <td>1</td>\n",
       "    </tr>\n",
       "    <tr>\n",
       "      <th>87482</th>\n",
       "      <td>23</td>\n",
       "      <td>427</td>\n",
       "      <td>20</td>\n",
       "      <td>Flat</td>\n",
       "      <td>Mud mortar-Stone/Brick</td>\n",
       "      <td>Bamboo/Timber-Light roof</td>\n",
       "      <td>Mud</td>\n",
       "      <td>TImber/Bamboo-Mud</td>\n",
       "      <td>Not attached</td>\n",
       "      <td>Rectangular</td>\n",
       "      <td>Stone, mud mortar</td>\n",
       "      <td>1</td>\n",
       "    </tr>\n",
       "    <tr>\n",
       "      <th>87491</th>\n",
       "      <td>12</td>\n",
       "      <td>427</td>\n",
       "      <td>14</td>\n",
       "      <td>Flat</td>\n",
       "      <td>Mud mortar-Stone/Brick</td>\n",
       "      <td>Bamboo/Timber-Light roof</td>\n",
       "      <td>Mud</td>\n",
       "      <td>TImber/Bamboo-Mud</td>\n",
       "      <td>Not attached</td>\n",
       "      <td>Rectangular</td>\n",
       "      <td>Stone, mud mortar</td>\n",
       "      <td>1</td>\n",
       "    </tr>\n",
       "    <tr>\n",
       "      <th>87496</th>\n",
       "      <td>32</td>\n",
       "      <td>360</td>\n",
       "      <td>18</td>\n",
       "      <td>Flat</td>\n",
       "      <td>Mud mortar-Stone/Brick</td>\n",
       "      <td>Bamboo/Timber-Light roof</td>\n",
       "      <td>Mud</td>\n",
       "      <td>TImber/Bamboo-Mud</td>\n",
       "      <td>Not attached</td>\n",
       "      <td>Rectangular</td>\n",
       "      <td>Stone, mud mortar</td>\n",
       "      <td>1</td>\n",
       "    </tr>\n",
       "  </tbody>\n",
       "</table>\n",
       "</div>"
      ],
      "text/plain": [
       "       age_building  plinth_area_sq_ft  height_ft_pre_eq  \\\n",
       "b_id                                                       \n",
       "87473            15                382                18   \n",
       "87479            12                328                 7   \n",
       "87482            23                427                20   \n",
       "87491            12                427                14   \n",
       "87496            32                360                18   \n",
       "\n",
       "      land_surface_condition         foundation_type  \\\n",
       "b_id                                                   \n",
       "87473                   Flat  Mud mortar-Stone/Brick   \n",
       "87479                   Flat  Mud mortar-Stone/Brick   \n",
       "87482                   Flat  Mud mortar-Stone/Brick   \n",
       "87491                   Flat  Mud mortar-Stone/Brick   \n",
       "87496                   Flat  Mud mortar-Stone/Brick   \n",
       "\n",
       "                      roof_type ground_floor_type   other_floor_type  \\\n",
       "b_id                                                                   \n",
       "87473  Bamboo/Timber-Light roof               Mud  TImber/Bamboo-Mud   \n",
       "87479  Bamboo/Timber-Light roof               Mud     Not applicable   \n",
       "87482  Bamboo/Timber-Light roof               Mud  TImber/Bamboo-Mud   \n",
       "87491  Bamboo/Timber-Light roof               Mud  TImber/Bamboo-Mud   \n",
       "87496  Bamboo/Timber-Light roof               Mud  TImber/Bamboo-Mud   \n",
       "\n",
       "           position plan_configuration     superstructure  severe_damage  \n",
       "b_id                                                                      \n",
       "87473  Not attached        Rectangular  Stone, mud mortar              1  \n",
       "87479  Not attached        Rectangular  Stone, mud mortar              1  \n",
       "87482  Not attached        Rectangular  Stone, mud mortar              1  \n",
       "87491  Not attached        Rectangular  Stone, mud mortar              1  \n",
       "87496  Not attached        Rectangular  Stone, mud mortar              1  "
      ]
     },
     "execution_count": 38,
     "metadata": {},
     "output_type": "execute_result"
    }
   ],
   "source": [
    "df = wrangle(\"../nepal.sqlite\")\n",
    "df.head()"
   ]
  },
  {
   "cell_type": "code",
   "execution_count": 39,
   "id": "fda7af16-b35c-4564-b57b-25771d6797cc",
   "metadata": {},
   "outputs": [
    {
     "data": {
      "text/plain": [
       "Index(['age_building', 'plinth_area_sq_ft', 'height_ft_pre_eq',\n",
       "       'land_surface_condition', 'foundation_type', 'roof_type',\n",
       "       'ground_floor_type', 'other_floor_type', 'position',\n",
       "       'plan_configuration', 'superstructure', 'severe_damage'],\n",
       "      dtype='object')"
      ]
     },
     "execution_count": 39,
     "metadata": {},
     "output_type": "execute_result"
    }
   ],
   "source": [
    "df.columns"
   ]
  },
  {
   "cell_type": "markdown",
   "id": "65aa9771-74b9-4bdf-b7c4-65ae0aa40ba7",
   "metadata": {},
   "source": [
    "## Explore"
   ]
  },
  {
   "cell_type": "markdown",
   "id": "f7a4e9ac-4758-41ed-87f8-4e5764244b88",
   "metadata": {},
   "source": [
    "<div class=\"alert alert-info\" role=\"alert\">\n",
    "  <strong>Slight Code Change</strong>\n",
    "\n",
    "In the following task, you'll notice a small change in how plots are created compared to what you saw in the lessons.\n",
    "While the lessons use the global matplotlib method like <code>plt.plot(...)</code>, in this task, you are expected to use the object-oriented (OOP) API instead.\n",
    "This means creating your plots using <code>fig, ax = plt.subplots()</code> and then calling plotting methods on the <code>ax</code> object, such as <code>ax.plot(...)</code>, <code>ax.hist(...)</code>, or <code>ax.scatter(...)</code>.\n",
    "\n",
    "If you're using pandas’ or seaborn’s built-in plotting methods (like <code>df.plot()</code> or <code>sns.lineplot()</code>), make sure to pass the <code>ax=ax</code> argument so that the plot is rendered on the correct axes.\n",
    "\n",
    "This approach is considered best practice and will be used consistently across all graded tasks that involve matplotlib.\n",
    "</div>\n"
   ]
  },
  {
   "cell_type": "markdown",
   "id": "dffc3d6d-46ed-4929-952e-5bc79cd32db9",
   "metadata": {},
   "source": [
    "**Task 4.5.6** "
   ]
  },
  {
   "cell_type": "code",
   "execution_count": 40,
   "id": "a4ea318f-bb07-49d1-99f3-c5c40a80a491",
   "metadata": {},
   "outputs": [
    {
     "data": {
      "image/png": "[encoded data removed]",
      "text/plain": [
       "<Figure size 640x480 with 1 Axes>"
      ]
     },
     "metadata": {},
     "output_type": "display_data"
    }
   ],
   "source": [
    "fig, ax = plt.subplots() \n",
    "\n",
    "# Calculate value counts and plot on the axes object\n",
    "df[\"severe_damage\"].value_counts(normalize=True).plot(\n",
    "    kind=\"bar\",\n",
    "    ax=ax  # Direct the plot to our Axes object\n",
    ")\n",
    "\n",
    "# Set labels and title \n",
    "ax.set_xlabel(\"Severe Damage\")\n",
    "ax.set_ylabel(\"Relative Frequency\")\n",
    "ax.set_title(\"Kavrepalanchok, Class Balance\");"
   ]
  },
  {
   "cell_type": "markdown",
   "id": "da85d06c-1071-473f-84df-9c030f2e3df8",
   "metadata": {},
   "source": [
    "**Task 4.5.7** "
   ]
  },
  {
   "cell_type": "code",
   "execution_count": 41,
   "id": "8b8a6dfc-3a27-4626-b840-ae2546d74558",
   "metadata": {},
   "outputs": [
    {
     "data": {
      "image/png": "[encoded data removed]",
      "text/plain": [
       "<Figure size 640x480 with 1 Axes>"
      ]
     },
     "metadata": {},
     "output_type": "display_data"
    }
   ],
   "source": [
    "import seaborn as sns\n",
    "fig, ax = plt.subplots() \n",
    "\n",
    "# Create the Seaborn boxplot \n",
    "sns.boxplot(x= \"severe_damage\",y=\"plinth_area_sq_ft\",data=df, ax=ax)\n",
    "\n",
    "# Set labels and title\n",
    "ax.set_xlabel(\"Severe Damage\")\n",
    "ax.set_ylabel(\"Plinth Area [sq. ft.]\")\n",
    "ax.set_title(\"Kavrepalanchok, Plinth Area vs Building Damage\");"
   ]
  },
  {
   "cell_type": "markdown",
   "id": "06724b29-fd2e-47fa-b528-a8de78b2572a",
   "metadata": {},
   "source": [
    "**Task 4.5.8** "
   ]
  },
  {
   "cell_type": "code",
   "execution_count": 42,
   "id": "368f7046-9c84-40c0-a840-6593cad56cf6",
   "metadata": {},
   "outputs": [
    {
     "data": {
      "text/html": [
       "<div>\n",
       "<style scoped>\n",
       "    .dataframe tbody tr th:only-of-type {\n",
       "        vertical-align: middle;\n",
       "    }\n",
       "\n",
       "    .dataframe tbody tr th {\n",
       "        vertical-align: top;\n",
       "    }\n",
       "\n",
       "    .dataframe thead th {\n",
       "        text-align: right;\n",
       "    }\n",
       "</style>\n",
       "<table border=\"1\" class=\"dataframe\">\n",
       "  <thead>\n",
       "    <tr style=\"text-align: right;\">\n",
       "      <th></th>\n",
       "      <th>severe_damage</th>\n",
       "    </tr>\n",
       "    <tr>\n",
       "      <th>roof_type</th>\n",
       "      <th></th>\n",
       "    </tr>\n",
       "  </thead>\n",
       "  <tbody>\n",
       "    <tr>\n",
       "      <th>RCC/RB/RBC</th>\n",
       "      <td>0.040715</td>\n",
       "    </tr>\n",
       "    <tr>\n",
       "      <th>Bamboo/Timber-Heavy roof</th>\n",
       "      <td>0.569477</td>\n",
       "    </tr>\n",
       "    <tr>\n",
       "      <th>Bamboo/Timber-Light roof</th>\n",
       "      <td>0.604842</td>\n",
       "    </tr>\n",
       "  </tbody>\n",
       "</table>\n",
       "</div>"
      ],
      "text/plain": [
       "                          severe_damage\n",
       "roof_type                              \n",
       "RCC/RB/RBC                     0.040715\n",
       "Bamboo/Timber-Heavy roof       0.569477\n",
       "Bamboo/Timber-Light roof       0.604842"
      ]
     },
     "execution_count": 42,
     "metadata": {},
     "output_type": "execute_result"
    }
   ],
   "source": [
    "roof_pivot =  (\n",
    "    df.pivot_table(\n",
    "        index='roof_type',           \n",
    "        values='severe_damage',        \n",
    "        aggfunc='mean'             \n",
    "    )\n",
    "    .sort_values(by='severe_damage', ascending=True))\n",
    "roof_pivot\n"
   ]
  },
  {
   "cell_type": "markdown",
   "id": "02c31a37-40d4-4898-81f3-68f08ce8cc2a",
   "metadata": {},
   "source": [
    "## Split"
   ]
  },
  {
   "cell_type": "markdown",
   "id": "2fc525f3-5043-4630-ab7d-2d69594b0b32",
   "metadata": {},
   "source": [
    "**Task 4.5.9** "
   ]
  },
  {
   "cell_type": "code",
   "execution_count": 43,
   "id": "72bf6635-8c93-47d8-9b3d-b059a41e3974",
   "metadata": {},
   "outputs": [
    {
     "name": "stdout",
     "output_type": "stream",
     "text": [
      "X shape: (76533, 11)\n",
      "y shape: (76533,)\n"
     ]
    }
   ],
   "source": [
    "target=\"severe_damage\"\n",
    "X = df.drop(columns=[target])\n",
    "y = df[target]\n",
    "print(\"X shape:\", X.shape)\n",
    "print(\"y shape:\", y.shape)"
   ]
  },
  {
   "cell_type": "markdown",
   "id": "60c087c2-6337-417f-aaaa-b204e9a33fbc",
   "metadata": {},
   "source": [
    "**Task 4.5.10** "
   ]
  },
  {
   "cell_type": "code",
   "execution_count": 45,
   "id": "7ee6718e-9ce1-4f41-a8c7-c3c6fcf9c61a",
   "metadata": {},
   "outputs": [
    {
     "name": "stdout",
     "output_type": "stream",
     "text": [
      "X_train shape: (61226, 11)\n",
      "y_train shape: (61226,)\n",
      "X_val shape: (15307, 11)\n",
      "y_val shape: (15307,)\n"
     ]
    }
   ],
   "source": [
    "X_train, X_val, y_train, y_val = train_test_split(\n",
    "    X,y,test_size=0.2,random_state=42\n",
    ")\n",
    "print(\"X_train shape:\", X_train.shape)\n",
    "print(\"y_train shape:\", y_train.shape)\n",
    "print(\"X_val shape:\", X_val.shape)\n",
    "print(\"y_val shape:\", y_val.shape)"
   ]
  },
  {
   "cell_type": "markdown",
   "id": "bf76ec92-7473-4a25-ac72-a1ced1fd213a",
   "metadata": {},
   "source": [
    "# Build Model"
   ]
  },
  {
   "cell_type": "markdown",
   "id": "59e1e4d3-3ff9-41f7-8a38-35d622517486",
   "metadata": {},
   "source": [
    "## Baseline"
   ]
  },
  {
   "cell_type": "markdown",
   "id": "64ba0679-9abb-4a40-85b2-cdeb94481f72",
   "metadata": {},
   "source": [
    "**Task 4.5.11** "
   ]
  },
  {
   "cell_type": "code",
   "execution_count": 47,
   "id": "a76ae294-0801-4958-b294-f6550a3f4eaa",
   "metadata": {},
   "outputs": [
    {
     "name": "stdout",
     "output_type": "stream",
     "text": [
      "Baseline Accuracy: 0.55\n"
     ]
    }
   ],
   "source": [
    "acc_baseline = y_train.value_counts(normalize=True).max()\n",
    "print(\"Baseline Accuracy:\", round(acc_baseline, 2))"
   ]
  },
  {
   "cell_type": "markdown",
   "id": "417d5536-9aa5-45f7-99db-946a792d5978",
   "metadata": {
    "tags": []
   },
   "source": [
    "## Iterate"
   ]
  },
  {
   "cell_type": "markdown",
   "id": "1028a961-792a-4ab5-b2cf-c2a7531a6099",
   "metadata": {},
   "source": [
    "**Task 4.5.12** "
   ]
  },
  {
   "cell_type": "code",
   "execution_count": 75,
   "id": "aff3735e-ddc7-4d1c-831b-fd089a56b04f",
   "metadata": {},
   "outputs": [
    {
     "data": {
      "text/html": [
       "<style>#sk-container-id-6 {color: black;}#sk-container-id-6 pre{padding: 0;}#sk-container-id-6 div.sk-toggleable {background-color: white;}#sk-container-id-6 label.sk-toggleable__label {cursor: pointer;display: block;width: 100%;margin-bottom: 0;padding: 0.3em;box-sizing: border-box;text-align: center;}#sk-container-id-6 label.sk-toggleable__label-arrow:before {content: \"▸\";float: left;margin-right: 0.25em;color: #696969;}#sk-container-id-6 label.sk-toggleable__label-arrow:hover:before {color: black;}#sk-container-id-6 div.sk-estimator:hover label.sk-toggleable__label-arrow:before {color: black;}#sk-container-id-6 div.sk-toggleable__content {max-height: 0;max-width: 0;overflow: hidden;text-align: left;background-color: #f0f8ff;}#sk-container-id-6 div.sk-toggleable__content pre {margin: 0.2em;color: black;border-radius: 0.25em;background-color: #f0f8ff;}#sk-container-id-6 input.sk-toggleable__control:checked~div.sk-toggleable__content {max-height: 200px;max-width: 100%;overflow: auto;}#sk-container-id-6 input.sk-toggleable__control:checked~label.sk-toggleable__label-arrow:before {content: \"▾\";}#sk-container-id-6 div.sk-estimator input.sk-toggleable__control:checked~label.sk-toggleable__label {background-color: #d4ebff;}#sk-container-id-6 div.sk-label input.sk-toggleable__control:checked~label.sk-toggleable__label {background-color: #d4ebff;}#sk-container-id-6 input.sk-hidden--visually {border: 0;clip: rect(1px 1px 1px 1px);clip: rect(1px, 1px, 1px, 1px);height: 1px;margin: -1px;overflow: hidden;padding: 0;position: absolute;width: 1px;}#sk-container-id-6 div.sk-estimator {font-family: monospace;background-color: #f0f8ff;border: 1px dotted black;border-radius: 0.25em;box-sizing: border-box;margin-bottom: 0.5em;}#sk-container-id-6 div.sk-estimator:hover {background-color: #d4ebff;}#sk-container-id-6 div.sk-parallel-item::after {content: \"\";width: 100%;border-bottom: 1px solid gray;flex-grow: 1;}#sk-container-id-6 div.sk-label:hover label.sk-toggleable__label {background-color: #d4ebff;}#sk-container-id-6 div.sk-serial::before {content: \"\";position: absolute;border-left: 1px solid gray;box-sizing: border-box;top: 0;bottom: 0;left: 50%;z-index: 0;}#sk-container-id-6 div.sk-serial {display: flex;flex-direction: column;align-items: center;background-color: white;padding-right: 0.2em;padding-left: 0.2em;position: relative;}#sk-container-id-6 div.sk-item {position: relative;z-index: 1;}#sk-container-id-6 div.sk-parallel {display: flex;align-items: stretch;justify-content: center;background-color: white;position: relative;}#sk-container-id-6 div.sk-item::before, #sk-container-id-6 div.sk-parallel-item::before {content: \"\";position: absolute;border-left: 1px solid gray;box-sizing: border-box;top: 0;bottom: 0;left: 50%;z-index: -1;}#sk-container-id-6 div.sk-parallel-item {display: flex;flex-direction: column;z-index: 1;position: relative;background-color: white;}#sk-container-id-6 div.sk-parallel-item:first-child::after {align-self: flex-end;width: 50%;}#sk-container-id-6 div.sk-parallel-item:last-child::after {align-self: flex-start;width: 50%;}#sk-container-id-6 div.sk-parallel-item:only-child::after {width: 0;}#sk-container-id-6 div.sk-dashed-wrapped {border: 1px dashed gray;margin: 0 0.4em 0.5em 0.4em;box-sizing: border-box;padding-bottom: 0.4em;background-color: white;}#sk-container-id-6 div.sk-label label {font-family: monospace;font-weight: bold;display: inline-block;line-height: 1.2em;}#sk-container-id-6 div.sk-label-container {text-align: center;}#sk-container-id-6 div.sk-container {/* jupyter's `normalize.less` sets `[hidden] { display: none; }` but bootstrap.min.css set `[hidden] { display: none !important; }` so we also need the `!important` here to be able to override the default hidden behavior on the sphinx rendered scikit-learn.org. See: https://github.com/scikit-learn/scikit-learn/issues/21755 */display: inline-block !important;position: relative;}#sk-container-id-6 div.sk-text-repr-fallback {display: none;}</style><div id=\"sk-container-id-6\" class=\"sk-top-container\"><div class=\"sk-text-repr-fallback\"><pre>Pipeline(steps=[(&#x27;ordinalencoder&#x27;,\n",
       "                 OrdinalEncoder(cols=[&#x27;land_surface_condition&#x27;,\n",
       "                                      &#x27;foundation_type&#x27;, &#x27;roof_type&#x27;,\n",
       "                                      &#x27;ground_floor_type&#x27;, &#x27;other_floor_type&#x27;,\n",
       "                                      &#x27;position&#x27;, &#x27;plan_configuration&#x27;,\n",
       "                                      &#x27;superstructure&#x27;],\n",
       "                                mapping=[{&#x27;col&#x27;: &#x27;land_surface_condition&#x27;,\n",
       "                                          &#x27;data_type&#x27;: dtype(&#x27;O&#x27;),\n",
       "                                          &#x27;mapping&#x27;: Flat              1\n",
       "Moderate slope    2\n",
       "Steep slope       3\n",
       "NaN              -2\n",
       "dtype: int64},\n",
       "                                         {&#x27;col&#x27;: &#x27;foundation_type&#x27;,\n",
       "                                          &#x27;dat...\n",
       "E-shape                             7\n",
       "Others                              8\n",
       "Building with Central Courtyard     9\n",
       "H-shape                            10\n",
       "NaN                                -2\n",
       "dtype: int64},\n",
       "                                         {&#x27;col&#x27;: &#x27;superstructure&#x27;,\n",
       "                                          &#x27;data_type&#x27;: dtype(&#x27;O&#x27;),\n",
       "                                          &#x27;mapping&#x27;: Stone, mud mortar        1\n",
       "Adobe/mud                2\n",
       "Brick, cement mortar     3\n",
       "RC, engineered           4\n",
       "Brick, mud mortar        5\n",
       "Stone, cement mortar     6\n",
       "RC, non-engineered       7\n",
       "Timber                   8\n",
       "Other                    9\n",
       "Bamboo                  10\n",
       "Stone                   11\n",
       "NaN                     -2\n",
       "dtype: int64}])),\n",
       "                (&#x27;decisiontreeclassifier&#x27;,\n",
       "                 DecisionTreeClassifier(random_state=42))])</pre><b>In a Jupyter environment, please rerun this cell to show the HTML representation or trust the notebook. <br />On GitHub, the HTML representation is unable to render, please try loading this page with nbviewer.org.</b></div><div class=\"sk-container\" hidden><div class=\"sk-item sk-dashed-wrapped\"><div class=\"sk-label-container\"><div class=\"sk-label sk-toggleable\"><input class=\"sk-toggleable__control sk-hidden--visually\" id=\"sk-estimator-id-16\" type=\"checkbox\" ><label for=\"sk-estimator-id-16\" class=\"sk-toggleable__label sk-toggleable__label-arrow\">Pipeline</label><div class=\"sk-toggleable__content\"><pre>Pipeline(steps=[(&#x27;ordinalencoder&#x27;,\n",
       "                 OrdinalEncoder(cols=[&#x27;land_surface_condition&#x27;,\n",
       "                                      &#x27;foundation_type&#x27;, &#x27;roof_type&#x27;,\n",
       "                                      &#x27;ground_floor_type&#x27;, &#x27;other_floor_type&#x27;,\n",
       "                                      &#x27;position&#x27;, &#x27;plan_configuration&#x27;,\n",
       "                                      &#x27;superstructure&#x27;],\n",
       "                                mapping=[{&#x27;col&#x27;: &#x27;land_surface_condition&#x27;,\n",
       "                                          &#x27;data_type&#x27;: dtype(&#x27;O&#x27;),\n",
       "                                          &#x27;mapping&#x27;: Flat              1\n",
       "Moderate slope    2\n",
       "Steep slope       3\n",
       "NaN              -2\n",
       "dtype: int64},\n",
       "                                         {&#x27;col&#x27;: &#x27;foundation_type&#x27;,\n",
       "                                          &#x27;dat...\n",
       "E-shape                             7\n",
       "Others                              8\n",
       "Building with Central Courtyard     9\n",
       "H-shape                            10\n",
       "NaN                                -2\n",
       "dtype: int64},\n",
       "                                         {&#x27;col&#x27;: &#x27;superstructure&#x27;,\n",
       "                                          &#x27;data_type&#x27;: dtype(&#x27;O&#x27;),\n",
       "                                          &#x27;mapping&#x27;: Stone, mud mortar        1\n",
       "Adobe/mud                2\n",
       "Brick, cement mortar     3\n",
       "RC, engineered           4\n",
       "Brick, mud mortar        5\n",
       "Stone, cement mortar     6\n",
       "RC, non-engineered       7\n",
       "Timber                   8\n",
       "Other                    9\n",
       "Bamboo                  10\n",
       "Stone                   11\n",
       "NaN                     -2\n",
       "dtype: int64}])),\n",
       "                (&#x27;decisiontreeclassifier&#x27;,\n",
       "                 DecisionTreeClassifier(random_state=42))])</pre></div></div></div><div class=\"sk-serial\"><div class=\"sk-item\"><div class=\"sk-estimator sk-toggleable\"><input class=\"sk-toggleable__control sk-hidden--visually\" id=\"sk-estimator-id-17\" type=\"checkbox\" ><label for=\"sk-estimator-id-17\" class=\"sk-toggleable__label sk-toggleable__label-arrow\">OrdinalEncoder</label><div class=\"sk-toggleable__content\"><pre>OrdinalEncoder(cols=[&#x27;land_surface_condition&#x27;, &#x27;foundation_type&#x27;, &#x27;roof_type&#x27;,\n",
       "                     &#x27;ground_floor_type&#x27;, &#x27;other_floor_type&#x27;, &#x27;position&#x27;,\n",
       "                     &#x27;plan_configuration&#x27;, &#x27;superstructure&#x27;],\n",
       "               mapping=[{&#x27;col&#x27;: &#x27;land_surface_condition&#x27;,\n",
       "                         &#x27;data_type&#x27;: dtype(&#x27;O&#x27;),\n",
       "                         &#x27;mapping&#x27;: Flat              1\n",
       "Moderate slope    2\n",
       "Steep slope       3\n",
       "NaN              -2\n",
       "dtype: int64},\n",
       "                        {&#x27;col&#x27;: &#x27;foundation_type&#x27;, &#x27;data_type&#x27;: dtype(&#x27;O&#x27;),\n",
       "                         &#x27;mapping&#x27;: Mud mo...\n",
       "                         &#x27;mapping&#x27;: Rectangular                         1\n",
       "L-shape                             2\n",
       "Square                              3\n",
       "T-shape                             4\n",
       "U-shape                             5\n",
       "Multi-projected                     6\n",
       "E-shape                             7\n",
       "Others                              8\n",
       "Building with Central Courtyard     9\n",
       "H-shape                            10\n",
       "NaN                                -2\n",
       "dtype: int64},\n",
       "                        {&#x27;col&#x27;: &#x27;superstructure&#x27;, &#x27;data_type&#x27;: dtype(&#x27;O&#x27;),\n",
       "                         &#x27;mapping&#x27;: Stone, mud mortar        1\n",
       "Adobe/mud                2\n",
       "Brick, cement mortar     3\n",
       "RC, engineered           4\n",
       "Brick, mud mortar        5\n",
       "Stone, cement mortar     6\n",
       "RC, non-engineered       7\n",
       "Timber                   8\n",
       "Other                    9\n",
       "Bamboo                  10\n",
       "Stone                   11\n",
       "NaN                     -2\n",
       "dtype: int64}])</pre></div></div></div><div class=\"sk-item\"><div class=\"sk-estimator sk-toggleable\"><input class=\"sk-toggleable__control sk-hidden--visually\" id=\"sk-estimator-id-18\" type=\"checkbox\" ><label for=\"sk-estimator-id-18\" class=\"sk-toggleable__label sk-toggleable__label-arrow\">DecisionTreeClassifier</label><div class=\"sk-toggleable__content\"><pre>DecisionTreeClassifier(random_state=42)</pre></div></div></div></div></div></div></div>"
      ],
      "text/plain": [
       "Pipeline(steps=[('ordinalencoder',\n",
       "                 OrdinalEncoder(cols=['land_surface_condition',\n",
       "                                      'foundation_type', 'roof_type',\n",
       "                                      'ground_floor_type', 'other_floor_type',\n",
       "                                      'position', 'plan_configuration',\n",
       "                                      'superstructure'],\n",
       "                                mapping=[{'col': 'land_surface_condition',\n",
       "                                          'data_type': dtype('O'),\n",
       "                                          'mapping': Flat              1\n",
       "Moderate slope    2\n",
       "Steep slope       3\n",
       "NaN              -2\n",
       "dtype: int64},\n",
       "                                         {'col': 'foundation_type',\n",
       "                                          'dat...\n",
       "E-shape                             7\n",
       "Others                              8\n",
       "Building with Central Courtyard     9\n",
       "H-shape                            10\n",
       "NaN                                -2\n",
       "dtype: int64},\n",
       "                                         {'col': 'superstructure',\n",
       "                                          'data_type': dtype('O'),\n",
       "                                          'mapping': Stone, mud mortar        1\n",
       "Adobe/mud                2\n",
       "Brick, cement mortar     3\n",
       "RC, engineered           4\n",
       "Brick, mud mortar        5\n",
       "Stone, cement mortar     6\n",
       "RC, non-engineered       7\n",
       "Timber                   8\n",
       "Other                    9\n",
       "Bamboo                  10\n",
       "Stone                   11\n",
       "NaN                     -2\n",
       "dtype: int64}])),\n",
       "                ('decisiontreeclassifier',\n",
       "                 DecisionTreeClassifier(random_state=42))])"
      ]
     },
     "execution_count": 75,
     "metadata": {},
     "output_type": "execute_result"
    }
   ],
   "source": [
    "from category_encoders import OrdinalEncoder\n",
    "from sklearn.tree import DecisionTreeClassifier, plot_tree\n",
    "model_lr = make_pipeline(\n",
    "    #OneHotEncoder(use_cat_names=True),\n",
    "    OrdinalEncoder(),\n",
    "    DecisionTreeClassifier(random_state=42)\n",
    ")\n",
    "model_lr.fit(X_train,y_train)"
   ]
  },
  {
   "cell_type": "markdown",
   "id": "8c7837f0-f107-4abc-8ff4-86223dac5e08",
   "metadata": {},
   "source": [
    "**Task 4.5.13** "
   ]
  },
  {
   "cell_type": "code",
   "execution_count": 76,
   "id": "3f506238-cc3b-4fa3-b8fe-a45e95b98dd8",
   "metadata": {},
   "outputs": [
    {
     "name": "stdout",
     "output_type": "stream",
     "text": [
      "Logistic Regression, Training Accuracy Score: 0.9633489040603666\n",
      "Logistic Regression, Validation Accuracy Score: 0.6105049977134644\n"
     ]
    }
   ],
   "source": [
    "lr_train_acc = accuracy_score(y_train,model_lr.predict(X_train))\n",
    "lr_val_acc = model_lr.score(X_val,y_val)\n",
    "\n",
    "print(\"Logistic Regression, Training Accuracy Score:\", lr_train_acc)\n",
    "print(\"Logistic Regression, Validation Accuracy Score:\", lr_val_acc)"
   ]
  },
  {
   "cell_type": "markdown",
   "id": "aeee54b5-3a37-4bd8-9dd6-d1dee9ed9bc6",
   "metadata": {},
   "source": [
    "**Task 4.5.14** "
   ]
  },
  {
   "cell_type": "code",
   "execution_count": 77,
   "id": "81050396-1254-4169-8f00-a19b3dc91da4",
   "metadata": {},
   "outputs": [],
   "source": [
    "from category_encoders import OrdinalEncoder\n",
    "from sklearn.tree import DecisionTreeClassifier, plot_tree\n",
    "depth_hyperparams = range(1, 16)\n",
    "training_acc = []\n",
    "validation_acc = []\n",
    "for d in depth_hyperparams:\n",
    "    model_dt = make_pipeline(\n",
    "    #OneHotEncoder(use_cat_names=True),\n",
    "    OrdinalEncoder(),\n",
    "    DecisionTreeClassifier(max_depth=d, random_state=42)\n",
    ")\n",
    "    model_dt.fit(X_train, y_train)\n",
    "    training_acc.append(model_dt.score(X_train,y_train))\n",
    "    validation_acc.append(model_dt.score(X_val,y_val))\n"
   ]
  },
  {
   "cell_type": "code",
   "execution_count": 78,
   "id": "2803ae34-81e5-42ba-8e69-33dcf23d6fc5",
   "metadata": {},
   "outputs": [
    {
     "data": {
      "text/plain": [
       "1     0.635004\n",
       "2     0.635004\n",
       "3     0.645391\n",
       "4     0.652773\n",
       "5     0.652904\n",
       "6     0.658457\n",
       "7     0.658457\n",
       "8     0.662769\n",
       "9     0.664533\n",
       "10    0.665382\n",
       "11    0.662899\n",
       "12    0.660613\n",
       "13    0.655321\n",
       "14    0.655648\n",
       "15    0.654733\n",
       "dtype: float64"
      ]
     },
     "execution_count": 78,
     "metadata": {},
     "output_type": "execute_result"
    }
   ],
   "source": [
    "# Run this cell\n",
    "submission = pd.Series(validation_acc, index=depth_hyperparams)\n",
    "submission"
   ]
  },
  {
   "cell_type": "markdown",
   "id": "ccca1d0e-59fc-43cb-8dce-1cbb18c25d1d",
   "metadata": {},
   "source": [
    "**Task 4.5.15**"
   ]
  },
  {
   "cell_type": "code",
   "execution_count": 87,
   "id": "ce37a87b-bd01-4051-80e7-bf7c873b8401",
   "metadata": {},
   "outputs": [
    {
     "data": {
      "image/png": "[encoded data removed]",
      "text/plain": [
       "<Figure size 640x480 with 1 Axes>"
      ]
     },
     "metadata": {},
     "output_type": "display_data"
    }
   ],
   "source": [
    "fig, ax = plt.subplots() \n",
    "\n",
    "#  Plot the training accuracy on the axes object\n",
    "ax.plot(depth_hyperparams,training_acc, label=\"training\")\n",
    "\n",
    "#  Plot the validation accuracy on the same axes object\n",
    "ax.plot(depth_hyperparams, validation_acc, label=\"validation\") \n",
    "\n",
    "#  Set labels and title  \n",
    "ax.set_xlabel(\"Max Depth\")\n",
    "ax.set_ylabel(\"Accuracy Score\")\n",
    "ax.set_title(\"Validation Curve, Decision Tree Model\")\n",
    "\n",
    "# Add the legend \n",
    "ax.legend();"
   ]
  },
  {
   "cell_type": "markdown",
   "id": "cf5db086-c8b9-4be4-8e03-78aa67e8f5a6",
   "metadata": {},
   "source": [
    "**Task 4.5.16** "
   ]
  },
  {
   "cell_type": "code",
   "execution_count": 114,
   "id": "11e801ef-3346-4021-b909-a0b2353699f7",
   "metadata": {},
   "outputs": [
    {
     "data": {
      "text/html": [
       "<style>#sk-container-id-12 {color: black;}#sk-container-id-12 pre{padding: 0;}#sk-container-id-12 div.sk-toggleable {background-color: white;}#sk-container-id-12 label.sk-toggleable__label {cursor: pointer;display: block;width: 100%;margin-bottom: 0;padding: 0.3em;box-sizing: border-box;text-align: center;}#sk-container-id-12 label.sk-toggleable__label-arrow:before {content: \"▸\";float: left;margin-right: 0.25em;color: #696969;}#sk-container-id-12 label.sk-toggleable__label-arrow:hover:before {color: black;}#sk-container-id-12 div.sk-estimator:hover label.sk-toggleable__label-arrow:before {color: black;}#sk-container-id-12 div.sk-toggleable__content {max-height: 0;max-width: 0;overflow: hidden;text-align: left;background-color: #f0f8ff;}#sk-container-id-12 div.sk-toggleable__content pre {margin: 0.2em;color: black;border-radius: 0.25em;background-color: #f0f8ff;}#sk-container-id-12 input.sk-toggleable__control:checked~div.sk-toggleable__content {max-height: 200px;max-width: 100%;overflow: auto;}#sk-container-id-12 input.sk-toggleable__control:checked~label.sk-toggleable__label-arrow:before {content: \"▾\";}#sk-container-id-12 div.sk-estimator input.sk-toggleable__control:checked~label.sk-toggleable__label {background-color: #d4ebff;}#sk-container-id-12 div.sk-label input.sk-toggleable__control:checked~label.sk-toggleable__label {background-color: #d4ebff;}#sk-container-id-12 input.sk-hidden--visually {border: 0;clip: rect(1px 1px 1px 1px);clip: rect(1px, 1px, 1px, 1px);height: 1px;margin: -1px;overflow: hidden;padding: 0;position: absolute;width: 1px;}#sk-container-id-12 div.sk-estimator {font-family: monospace;background-color: #f0f8ff;border: 1px dotted black;border-radius: 0.25em;box-sizing: border-box;margin-bottom: 0.5em;}#sk-container-id-12 div.sk-estimator:hover {background-color: #d4ebff;}#sk-container-id-12 div.sk-parallel-item::after {content: \"\";width: 100%;border-bottom: 1px solid gray;flex-grow: 1;}#sk-container-id-12 div.sk-label:hover label.sk-toggleable__label {background-color: #d4ebff;}#sk-container-id-12 div.sk-serial::before {content: \"\";position: absolute;border-left: 1px solid gray;box-sizing: border-box;top: 0;bottom: 0;left: 50%;z-index: 0;}#sk-container-id-12 div.sk-serial {display: flex;flex-direction: column;align-items: center;background-color: white;padding-right: 0.2em;padding-left: 0.2em;position: relative;}#sk-container-id-12 div.sk-item {position: relative;z-index: 1;}#sk-container-id-12 div.sk-parallel {display: flex;align-items: stretch;justify-content: center;background-color: white;position: relative;}#sk-container-id-12 div.sk-item::before, #sk-container-id-12 div.sk-parallel-item::before {content: \"\";position: absolute;border-left: 1px solid gray;box-sizing: border-box;top: 0;bottom: 0;left: 50%;z-index: -1;}#sk-container-id-12 div.sk-parallel-item {display: flex;flex-direction: column;z-index: 1;position: relative;background-color: white;}#sk-container-id-12 div.sk-parallel-item:first-child::after {align-self: flex-end;width: 50%;}#sk-container-id-12 div.sk-parallel-item:last-child::after {align-self: flex-start;width: 50%;}#sk-container-id-12 div.sk-parallel-item:only-child::after {width: 0;}#sk-container-id-12 div.sk-dashed-wrapped {border: 1px dashed gray;margin: 0 0.4em 0.5em 0.4em;box-sizing: border-box;padding-bottom: 0.4em;background-color: white;}#sk-container-id-12 div.sk-label label {font-family: monospace;font-weight: bold;display: inline-block;line-height: 1.2em;}#sk-container-id-12 div.sk-label-container {text-align: center;}#sk-container-id-12 div.sk-container {/* jupyter's `normalize.less` sets `[hidden] { display: none; }` but bootstrap.min.css set `[hidden] { display: none !important; }` so we also need the `!important` here to be able to override the default hidden behavior on the sphinx rendered scikit-learn.org. See: https://github.com/scikit-learn/scikit-learn/issues/21755 */display: inline-block !important;position: relative;}#sk-container-id-12 div.sk-text-repr-fallback {display: none;}</style><div id=\"sk-container-id-12\" class=\"sk-top-container\"><div class=\"sk-text-repr-fallback\"><pre>Pipeline(steps=[(&#x27;ordinalencoder&#x27;,\n",
       "                 OrdinalEncoder(cols=[&#x27;land_surface_condition&#x27;,\n",
       "                                      &#x27;foundation_type&#x27;, &#x27;roof_type&#x27;,\n",
       "                                      &#x27;ground_floor_type&#x27;, &#x27;other_floor_type&#x27;,\n",
       "                                      &#x27;position&#x27;, &#x27;plan_configuration&#x27;,\n",
       "                                      &#x27;superstructure&#x27;],\n",
       "                                mapping=[{&#x27;col&#x27;: &#x27;land_surface_condition&#x27;,\n",
       "                                          &#x27;data_type&#x27;: dtype(&#x27;O&#x27;),\n",
       "                                          &#x27;mapping&#x27;: Flat              1\n",
       "Moderate slope    2\n",
       "Steep slope       3\n",
       "NaN              -2\n",
       "dtype: int64},\n",
       "                                         {&#x27;col&#x27;: &#x27;foundation_type&#x27;,\n",
       "                                          &#x27;dat...\n",
       "Others                              9\n",
       "Building with Central Courtyard    10\n",
       "NaN                                -2\n",
       "dtype: int64},\n",
       "                                         {&#x27;col&#x27;: &#x27;superstructure&#x27;,\n",
       "                                          &#x27;data_type&#x27;: dtype(&#x27;O&#x27;),\n",
       "                                          &#x27;mapping&#x27;: Stone, mud mortar        1\n",
       "Adobe/mud                2\n",
       "Brick, cement mortar     3\n",
       "Brick, mud mortar        4\n",
       "RC, non-engineered       5\n",
       "Timber                   6\n",
       "Bamboo                   7\n",
       "Stone, cement mortar     8\n",
       "RC, engineered           9\n",
       "Other                   10\n",
       "Stone                   11\n",
       "NaN                     -2\n",
       "dtype: int64}])),\n",
       "                (&#x27;decisiontreeclassifier&#x27;,\n",
       "                 DecisionTreeClassifier(max_depth=10, random_state=42))])</pre><b>In a Jupyter environment, please rerun this cell to show the HTML representation or trust the notebook. <br />On GitHub, the HTML representation is unable to render, please try loading this page with nbviewer.org.</b></div><div class=\"sk-container\" hidden><div class=\"sk-item sk-dashed-wrapped\"><div class=\"sk-label-container\"><div class=\"sk-label sk-toggleable\"><input class=\"sk-toggleable__control sk-hidden--visually\" id=\"sk-estimator-id-34\" type=\"checkbox\" ><label for=\"sk-estimator-id-34\" class=\"sk-toggleable__label sk-toggleable__label-arrow\">Pipeline</label><div class=\"sk-toggleable__content\"><pre>Pipeline(steps=[(&#x27;ordinalencoder&#x27;,\n",
       "                 OrdinalEncoder(cols=[&#x27;land_surface_condition&#x27;,\n",
       "                                      &#x27;foundation_type&#x27;, &#x27;roof_type&#x27;,\n",
       "                                      &#x27;ground_floor_type&#x27;, &#x27;other_floor_type&#x27;,\n",
       "                                      &#x27;position&#x27;, &#x27;plan_configuration&#x27;,\n",
       "                                      &#x27;superstructure&#x27;],\n",
       "                                mapping=[{&#x27;col&#x27;: &#x27;land_surface_condition&#x27;,\n",
       "                                          &#x27;data_type&#x27;: dtype(&#x27;O&#x27;),\n",
       "                                          &#x27;mapping&#x27;: Flat              1\n",
       "Moderate slope    2\n",
       "Steep slope       3\n",
       "NaN              -2\n",
       "dtype: int64},\n",
       "                                         {&#x27;col&#x27;: &#x27;foundation_type&#x27;,\n",
       "                                          &#x27;dat...\n",
       "Others                              9\n",
       "Building with Central Courtyard    10\n",
       "NaN                                -2\n",
       "dtype: int64},\n",
       "                                         {&#x27;col&#x27;: &#x27;superstructure&#x27;,\n",
       "                                          &#x27;data_type&#x27;: dtype(&#x27;O&#x27;),\n",
       "                                          &#x27;mapping&#x27;: Stone, mud mortar        1\n",
       "Adobe/mud                2\n",
       "Brick, cement mortar     3\n",
       "Brick, mud mortar        4\n",
       "RC, non-engineered       5\n",
       "Timber                   6\n",
       "Bamboo                   7\n",
       "Stone, cement mortar     8\n",
       "RC, engineered           9\n",
       "Other                   10\n",
       "Stone                   11\n",
       "NaN                     -2\n",
       "dtype: int64}])),\n",
       "                (&#x27;decisiontreeclassifier&#x27;,\n",
       "                 DecisionTreeClassifier(max_depth=10, random_state=42))])</pre></div></div></div><div class=\"sk-serial\"><div class=\"sk-item\"><div class=\"sk-estimator sk-toggleable\"><input class=\"sk-toggleable__control sk-hidden--visually\" id=\"sk-estimator-id-35\" type=\"checkbox\" ><label for=\"sk-estimator-id-35\" class=\"sk-toggleable__label sk-toggleable__label-arrow\">OrdinalEncoder</label><div class=\"sk-toggleable__content\"><pre>OrdinalEncoder(cols=[&#x27;land_surface_condition&#x27;, &#x27;foundation_type&#x27;, &#x27;roof_type&#x27;,\n",
       "                     &#x27;ground_floor_type&#x27;, &#x27;other_floor_type&#x27;, &#x27;position&#x27;,\n",
       "                     &#x27;plan_configuration&#x27;, &#x27;superstructure&#x27;],\n",
       "               mapping=[{&#x27;col&#x27;: &#x27;land_surface_condition&#x27;,\n",
       "                         &#x27;data_type&#x27;: dtype(&#x27;O&#x27;),\n",
       "                         &#x27;mapping&#x27;: Flat              1\n",
       "Moderate slope    2\n",
       "Steep slope       3\n",
       "NaN              -2\n",
       "dtype: int64},\n",
       "                        {&#x27;col&#x27;: &#x27;foundation_type&#x27;, &#x27;data_type&#x27;: dtype(&#x27;O&#x27;),\n",
       "                         &#x27;mapping&#x27;: Mud mo...\n",
       "                         &#x27;mapping&#x27;: Rectangular                         1\n",
       "Square                              2\n",
       "Multi-projected                     3\n",
       "U-shape                             4\n",
       "L-shape                             5\n",
       "H-shape                             6\n",
       "T-shape                             7\n",
       "E-shape                             8\n",
       "Others                              9\n",
       "Building with Central Courtyard    10\n",
       "NaN                                -2\n",
       "dtype: int64},\n",
       "                        {&#x27;col&#x27;: &#x27;superstructure&#x27;, &#x27;data_type&#x27;: dtype(&#x27;O&#x27;),\n",
       "                         &#x27;mapping&#x27;: Stone, mud mortar        1\n",
       "Adobe/mud                2\n",
       "Brick, cement mortar     3\n",
       "Brick, mud mortar        4\n",
       "RC, non-engineered       5\n",
       "Timber                   6\n",
       "Bamboo                   7\n",
       "Stone, cement mortar     8\n",
       "RC, engineered           9\n",
       "Other                   10\n",
       "Stone                   11\n",
       "NaN                     -2\n",
       "dtype: int64}])</pre></div></div></div><div class=\"sk-item\"><div class=\"sk-estimator sk-toggleable\"><input class=\"sk-toggleable__control sk-hidden--visually\" id=\"sk-estimator-id-36\" type=\"checkbox\" ><label for=\"sk-estimator-id-36\" class=\"sk-toggleable__label sk-toggleable__label-arrow\">DecisionTreeClassifier</label><div class=\"sk-toggleable__content\"><pre>DecisionTreeClassifier(max_depth=10, random_state=42)</pre></div></div></div></div></div></div></div>"
      ],
      "text/plain": [
       "Pipeline(steps=[('ordinalencoder',\n",
       "                 OrdinalEncoder(cols=['land_surface_condition',\n",
       "                                      'foundation_type', 'roof_type',\n",
       "                                      'ground_floor_type', 'other_floor_type',\n",
       "                                      'position', 'plan_configuration',\n",
       "                                      'superstructure'],\n",
       "                                mapping=[{'col': 'land_surface_condition',\n",
       "                                          'data_type': dtype('O'),\n",
       "                                          'mapping': Flat              1\n",
       "Moderate slope    2\n",
       "Steep slope       3\n",
       "NaN              -2\n",
       "dtype: int64},\n",
       "                                         {'col': 'foundation_type',\n",
       "                                          'dat...\n",
       "Others                              9\n",
       "Building with Central Courtyard    10\n",
       "NaN                                -2\n",
       "dtype: int64},\n",
       "                                         {'col': 'superstructure',\n",
       "                                          'data_type': dtype('O'),\n",
       "                                          'mapping': Stone, mud mortar        1\n",
       "Adobe/mud                2\n",
       "Brick, cement mortar     3\n",
       "Brick, mud mortar        4\n",
       "RC, non-engineered       5\n",
       "Timber                   6\n",
       "Bamboo                   7\n",
       "Stone, cement mortar     8\n",
       "RC, engineered           9\n",
       "Other                   10\n",
       "Stone                   11\n",
       "NaN                     -2\n",
       "dtype: int64}])),\n",
       "                ('decisiontreeclassifier',\n",
       "                 DecisionTreeClassifier(max_depth=10, random_state=42))])"
      ]
     },
     "execution_count": 114,
     "metadata": {},
     "output_type": "execute_result"
    }
   ],
   "source": [
    "from category_encoders import OrdinalEncoder\n",
    "from sklearn.tree import DecisionTreeClassifier, plot_tree\n",
    "final_model_dt = make_pipeline(\n",
    "    OrdinalEncoder(),  # or OneHotEncoder() based on what you used\n",
    "    DecisionTreeClassifier(max_depth=10, random_state=42)\n",
    ")\n",
    "\n",
    "final_model_dt.fit(X, y)\n"
   ]
  },
  {
   "cell_type": "markdown",
   "id": "be7ec560-b79b-4fb1-9b86-350e26eed2f8",
   "metadata": {},
   "source": [
    "## Evaluate"
   ]
  },
  {
   "cell_type": "markdown",
   "id": "73082001-4b01-4aac-9c04-1d4d339d0d32",
   "metadata": {},
   "source": [
    "**Task 4.5.17** "
   ]
  },
  {
   "cell_type": "code",
   "execution_count": 115,
   "id": "1c24f90c-0f2f-47c8-a649-271b977cb3a6",
   "metadata": {},
   "outputs": [
    {
     "data": {
      "text/plain": [
       "array([1, 1, 0, 1, 0])"
      ]
     },
     "execution_count": 115,
     "metadata": {},
     "output_type": "execute_result"
    }
   ],
   "source": [
    "X_test = pd.read_csv(\"data/kavrepalanchok-test-features.csv\", index_col=\"b_id\")\n",
    "y_test_pred = final_model_dt.predict(X_test)\n",
    "y_test_pred[:5]"
   ]
  },
  {
   "cell_type": "markdown",
   "id": "751232ec-054c-4773-a72f-7390481aefd8",
   "metadata": {},
   "source": [
    "# Communicate Results"
   ]
  },
  {
   "cell_type": "markdown",
   "id": "6a4ce549-358e-4b20-9471-027c24e8b2fb",
   "metadata": {},
   "source": [
    "**Task 4.5.18** "
   ]
  },
  {
   "cell_type": "code",
   "execution_count": 123,
   "id": "3bb86f43-85a8-4b41-b8fe-c0299ec6ec4c",
   "metadata": {},
   "outputs": [
    {
     "data": {
      "text/plain": [
       "plan_configuration        0.004032\n",
       "position                  0.007129\n",
       "land_surface_condition    0.008241\n",
       "ground_floor_type         0.009741\n",
       "foundation_type           0.010620\n",
       "dtype: float64"
      ]
     },
     "execution_count": 123,
     "metadata": {},
     "output_type": "execute_result"
    }
   ],
   "source": [
    "features=X.columns\n",
    "importances=final_model_dt.named_steps[\"decisiontreeclassifier\"].feature_importances_\n",
    "feat_imp = pd.Series(importances,index=features).sort_values(ascending=True)\n",
    "feat_imp.head()"
   ]
  },
  {
   "cell_type": "markdown",
   "id": "7be11cdd-a6dc-4fe2-bfea-2f8233640613",
   "metadata": {},
   "source": [
    "**Task 4.5.19** \n",
    "\n",
    "Do you see any relationship between this plot and the exploratory data analysis you did regarding roof type?"
   ]
  },
  {
   "cell_type": "code",
   "execution_count": 125,
   "id": "9e54f1bd-d230-4fbe-b862-7fa4bf2f3bc6",
   "metadata": {},
   "outputs": [
    {
     "data": {
      "image/png": "[encoded data removed]",
      "text/plain": [
       "<Figure size 640x480 with 1 Axes>"
      ]
     },
     "metadata": {},
     "output_type": "display_data"
    }
   ],
   "source": [
    "fig, ax = plt.subplots() \n",
    "\n",
    "# Create the horizontal bar plot on the axes object\n",
    "feat_imp.plot(kind=\"barh\", ax=ax)\n",
    "\n",
    "# Set labels and title \n",
    "ax.set_xlabel(\"Gini Importance\")\n",
    "ax.set_ylabel(\"Feature\")\n",
    "ax.set_title(\"Kavrepalanchok Decision Tree, Feature Importance\")\n",
    "\n",
    "# Apply tight layout \n",
    "fig.tight_layout()"
   ]
  },
  {
   "cell_type": "markdown",
   "id": "8411d749-4338-4cc0-8bd3-6e3837a10435",
   "metadata": {},
   "source": [
    "Congratulations! You made it to the end of Project 4. 👏👏👏"
   ]
  },
  {
   "cell_type": "markdown",
   "id": "d6f526ce",
   "metadata": {
    "deletable": false,
    "editable": false
   },
   "source": [
    "---\n",
    "Copyright 2023 WorldQuant University. This\n",
    "content is licensed solely for personal use. Redistribution or\n",
    "publication of this material is strictly prohibited.\n"
   ]
  }
 ],
 "metadata": {
  "kernelspec": {
   "display_name": "Python 3 (ipykernel)",
   "language": "python",
   "name": "python3"
  },
  "language_info": {
   "codemirror_mode": {
    "name": "ipython",
    "version": 3
   },
   "file_extension": ".py",
   "mimetype": "text/x-python",
   "name": "python",
   "nbconvert_exporter": "python",
   "pygments_lexer": "ipython3",
   "version": "3.11.0"
  },
  "toc-autonumbering": false,
  "widgets": {
   "application/vnd.jupyter.widget-state+json": {
    "state": {},
    "version_major": 2,
    "version_minor": 0
   }
  }
 },
 "nbformat": 4,
 "nbformat_minor": 5
}
