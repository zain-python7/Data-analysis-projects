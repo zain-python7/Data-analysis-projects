{
 "cells": [
  {
   "cell_type": "markdown",
   "id": "56a5f6d3-0bc8-4d17-a88e-3f435a485759",
   "metadata": {},
   "source": [
    "<font size=\"+3\"><strong>4.4. Beyond the Model: Data Ethics</strong></font>"
   ]
  },
  {
   "cell_type": "code",
   "execution_count": 1,
   "id": "c0b5c020-d93a-4613-811b-44376e3497ee",
   "metadata": {},
   "outputs": [],
   "source": [
    "import sqlite3\n",
    "import warnings\n",
    "\n",
    "import matplotlib.pyplot as plt\n",
    "import numpy as np\n",
    "import pandas as pd\n",
    "from category_encoders import OneHotEncoder\n",
    "from IPython.display import VimeoVideo\n",
    "from sklearn.linear_model import LogisticRegression\n",
    "from sklearn.metrics import accuracy_score\n",
    "from sklearn.model_selection import train_test_split\n",
    "from sklearn.pipeline import Pipeline, make_pipeline\n",
    "from sklearn.utils.validation import check_is_fitted\n",
    "\n",
    "warnings.simplefilter(action=\"ignore\", category=FutureWarning)"
   ]
  },
  {
   "cell_type": "code",
   "execution_count": null,
   "id": "507fbbaa-3f2c-41df-aa68-22a629f3e76a",
   "metadata": {},
   "outputs": [],
   "source": [
    "VimeoVideo(\"665414155\", h=\"c8a3e81a05\", width=600)"
   ]
  },
  {
   "cell_type": "markdown",
   "id": "0d61ec2c-51ee-4c37-8469-d56909073ad1",
   "metadata": {},
   "source": [
    "# Prepare Data"
   ]
  },
  {
   "cell_type": "markdown",
   "id": "565c7aba-4476-44c7-8dba-32b3c0b8aac3",
   "metadata": {},
   "source": [
    "**Task 4.4.1:** Run the cell below to connect to the `nepal.sqlite` database.\n",
    "\n",
    "- [What's <span id='term'>ipython-sql</span>?](../%40textbook/10-databases-sql.ipynb#ipython-sql)\n",
    "- [What's a <span id='term'>Magics function</span>?](../%40textbook/10-databases-sql.ipynb#Magic-Commands)"
   ]
  },
  {
   "cell_type": "code",
   "execution_count": 2,
   "id": "c3a87c41-bc00-4874-91ed-c00f5cf3c057",
   "metadata": {},
   "outputs": [
    {
     "name": "stdout",
     "output_type": "stream",
     "text": [
      "Deploy Shiny apps for free on Ploomber Cloud! Learn more: https://ploomber.io/s/signup\n"
     ]
    }
   ],
   "source": [
    "%load_ext sql\n",
    "%sql sqlite:///../nepal.sqlite"
   ]
  },
  {
   "cell_type": "code",
   "execution_count": null,
   "id": "382e46aa-8bd6-4c8d-88cd-84df22c9c0c2",
   "metadata": {},
   "outputs": [],
   "source": [
    "VimeoVideo(\"665415362\", h=\"f677c48c46\", width=600)"
   ]
  },
  {
   "cell_type": "markdown",
   "id": "4aa77c39-044c-4723-a02d-3cc04eba5486",
   "metadata": {},
   "source": [
    "**Task 4.4.2:** Select all columns from the `household_demographics` table, limiting your results to the first five rows.\n",
    "\n",
    "- [<span id='technique'>Write a basic query in <span id='tool'>SQL</span></span>.](../%40textbook/10-databases-sql.ipynb#Building-Blocks-of-the-Basic-Query)\n",
    "- [<span id='technique'>Inspect a table using a `LIMIT` clause in <span id='tool'>SQL</span></span>.](../%40textbook/10-databases-sql.ipynb#Building-Blocks-of-the-Basic-Query)"
   ]
  },
  {
   "cell_type": "code",
   "execution_count": 3,
   "id": "e7223320-75c3-4528-a3fa-8a0bd5205c8b",
   "metadata": {},
   "outputs": [
    {
     "data": {
      "text/html": [
       "<span style=\"None\">Running query in &#x27;sqlite:///../nepal.sqlite&#x27;</span>"
      ],
      "text/plain": [
       "Running query in 'sqlite:///../nepal.sqlite'"
      ]
     },
     "metadata": {},
     "output_type": "display_data"
    },
    {
     "data": {
      "text/html": [
       "<table>\n",
       "    <thead>\n",
       "        <tr>\n",
       "            <th>household_id</th>\n",
       "            <th>gender_household_head</th>\n",
       "            <th>age_household_head</th>\n",
       "            <th>caste_household</th>\n",
       "            <th>education_level_household_head</th>\n",
       "            <th>income_level_household</th>\n",
       "            <th>size_household</th>\n",
       "            <th>is_bank_account_present_in_household</th>\n",
       "        </tr>\n",
       "    </thead>\n",
       "    <tbody>\n",
       "        <tr>\n",
       "            <td>101</td>\n",
       "            <td>Male</td>\n",
       "            <td>31.0</td>\n",
       "            <td>Rai</td>\n",
       "            <td>Illiterate</td>\n",
       "            <td>Rs. 10 thousand</td>\n",
       "            <td>3.0</td>\n",
       "            <td>0.0</td>\n",
       "        </tr>\n",
       "        <tr>\n",
       "            <td>201</td>\n",
       "            <td>Female</td>\n",
       "            <td>62.0</td>\n",
       "            <td>Rai</td>\n",
       "            <td>Illiterate</td>\n",
       "            <td>Rs. 10 thousand</td>\n",
       "            <td>6.0</td>\n",
       "            <td>0.0</td>\n",
       "        </tr>\n",
       "        <tr>\n",
       "            <td>301</td>\n",
       "            <td>Male</td>\n",
       "            <td>51.0</td>\n",
       "            <td>Gharti/Bhujel</td>\n",
       "            <td>Illiterate</td>\n",
       "            <td>Rs. 10 thousand</td>\n",
       "            <td>13.0</td>\n",
       "            <td>0.0</td>\n",
       "        </tr>\n",
       "        <tr>\n",
       "            <td>401</td>\n",
       "            <td>Male</td>\n",
       "            <td>48.0</td>\n",
       "            <td>Gharti/Bhujel</td>\n",
       "            <td>Illiterate</td>\n",
       "            <td>Rs. 10 thousand</td>\n",
       "            <td>5.0</td>\n",
       "            <td>0.0</td>\n",
       "        </tr>\n",
       "        <tr>\n",
       "            <td>501</td>\n",
       "            <td>Male</td>\n",
       "            <td>70.0</td>\n",
       "            <td>Gharti/Bhujel</td>\n",
       "            <td>Illiterate</td>\n",
       "            <td>Rs. 10 thousand</td>\n",
       "            <td>8.0</td>\n",
       "            <td>0.0</td>\n",
       "        </tr>\n",
       "    </tbody>\n",
       "</table>"
      ],
      "text/plain": [
       "+--------------+-----------------------+--------------------+-----------------+--------------------------------+------------------------+----------------+--------------------------------------+\n",
       "| household_id | gender_household_head | age_household_head | caste_household | education_level_household_head | income_level_household | size_household | is_bank_account_present_in_household |\n",
       "+--------------+-----------------------+--------------------+-----------------+--------------------------------+------------------------+----------------+--------------------------------------+\n",
       "|     101      |          Male         |        31.0        |       Rai       |           Illiterate           |    Rs. 10 thousand     |      3.0       |                 0.0                  |\n",
       "|     201      |         Female        |        62.0        |       Rai       |           Illiterate           |    Rs. 10 thousand     |      6.0       |                 0.0                  |\n",
       "|     301      |          Male         |        51.0        |  Gharti/Bhujel  |           Illiterate           |    Rs. 10 thousand     |      13.0      |                 0.0                  |\n",
       "|     401      |          Male         |        48.0        |  Gharti/Bhujel  |           Illiterate           |    Rs. 10 thousand     |      5.0       |                 0.0                  |\n",
       "|     501      |          Male         |        70.0        |  Gharti/Bhujel  |           Illiterate           |    Rs. 10 thousand     |      8.0       |                 0.0                  |\n",
       "+--------------+-----------------------+--------------------+-----------------+--------------------------------+------------------------+----------------+--------------------------------------+"
      ]
     },
     "execution_count": 3,
     "metadata": {},
     "output_type": "execute_result"
    }
   ],
   "source": [
    "%%sql\n",
    "\n",
    "select * from household_demographics limit 5"
   ]
  },
  {
   "cell_type": "markdown",
   "id": "73db4135-7ab4-4e56-aea8-e456c3acd58f",
   "metadata": {},
   "source": [
    "**Task 4.4.3:** How many observations are in the `household_demographics` table? Use the `count` command to find out.\n",
    "\n",
    "- [<span id='technique'>Calculate the number of rows in a table using a `count` function in <span id='tool'>SQL</span></span>.](../%40textbook/10-databases-sql.ipynb#Aggregating-Data) <span style='color: transparent; font-size:1%'>WQU WorldQuant University Applied Data Science Lab QQQQ</span>"
   ]
  },
  {
   "cell_type": "code",
   "execution_count": 4,
   "id": "facd37c6-85fe-42e4-b4e8-60f9e0004ceb",
   "metadata": {},
   "outputs": [
    {
     "data": {
      "text/html": [
       "<span style=\"None\">Running query in &#x27;sqlite:///../nepal.sqlite&#x27;</span>"
      ],
      "text/plain": [
       "Running query in 'sqlite:///../nepal.sqlite'"
      ]
     },
     "metadata": {},
     "output_type": "display_data"
    },
    {
     "data": {
      "text/html": [
       "<table>\n",
       "    <thead>\n",
       "        <tr>\n",
       "            <th>count(*)</th>\n",
       "        </tr>\n",
       "    </thead>\n",
       "    <tbody>\n",
       "        <tr>\n",
       "            <td>249932</td>\n",
       "        </tr>\n",
       "    </tbody>\n",
       "</table>"
      ],
      "text/plain": [
       "+----------+\n",
       "| count(*) |\n",
       "+----------+\n",
       "|  249932  |\n",
       "+----------+"
      ]
     },
     "execution_count": 4,
     "metadata": {},
     "output_type": "execute_result"
    }
   ],
   "source": [
    "%%sql\n",
    "select count(*) from household_demographics limit 5\n"
   ]
  },
  {
   "cell_type": "code",
   "execution_count": null,
   "id": "2aa32452-4475-47a9-b14a-1a13f4284885",
   "metadata": {},
   "outputs": [],
   "source": [
    "VimeoVideo(\"665415378\", h=\"aa2b99493e\", width=600)"
   ]
  },
  {
   "cell_type": "markdown",
   "id": "4e8b1eb4-fe29-4d2b-9afd-a3ebdc64388d",
   "metadata": {},
   "source": [
    "**Task 4.4.4:** Select all columns from the `id_map` table, limiting your results to the first five rows.\n",
    "\n",
    "- [<span id='technique'>Inspect a table using a `LIMIT` clause in <span id='tool'>SQL</span></span>.](../%40textbook/10-databases-sql.ipynb#Building-Blocks-of-the-Basic-Query)\n",
    "\n",
    "What columns does it have in common with `household_demographics` that we can use to join them?"
   ]
  },
  {
   "cell_type": "code",
   "execution_count": 5,
   "id": "c16bbbe6-1a70-4425-9b82-8df4da71fdd2",
   "metadata": {},
   "outputs": [
    {
     "data": {
      "text/html": [
       "<span style=\"None\">Running query in &#x27;sqlite:///../nepal.sqlite&#x27;</span>"
      ],
      "text/plain": [
       "Running query in 'sqlite:///../nepal.sqlite'"
      ]
     },
     "metadata": {},
     "output_type": "display_data"
    },
    {
     "data": {
      "text/html": [
       "<table>\n",
       "    <thead>\n",
       "        <tr>\n",
       "            <th>household_id</th>\n",
       "            <th>building_id</th>\n",
       "            <th>vdcmun_id</th>\n",
       "            <th>district_id</th>\n",
       "        </tr>\n",
       "    </thead>\n",
       "    <tbody>\n",
       "        <tr>\n",
       "            <td>5601</td>\n",
       "            <td>56</td>\n",
       "            <td>7</td>\n",
       "            <td>1</td>\n",
       "        </tr>\n",
       "        <tr>\n",
       "            <td>6301</td>\n",
       "            <td>63</td>\n",
       "            <td>7</td>\n",
       "            <td>1</td>\n",
       "        </tr>\n",
       "        <tr>\n",
       "            <td>9701</td>\n",
       "            <td>97</td>\n",
       "            <td>7</td>\n",
       "            <td>1</td>\n",
       "        </tr>\n",
       "        <tr>\n",
       "            <td>9901</td>\n",
       "            <td>99</td>\n",
       "            <td>7</td>\n",
       "            <td>1</td>\n",
       "        </tr>\n",
       "        <tr>\n",
       "            <td>11501</td>\n",
       "            <td>115</td>\n",
       "            <td>7</td>\n",
       "            <td>1</td>\n",
       "        </tr>\n",
       "    </tbody>\n",
       "</table>"
      ],
      "text/plain": [
       "+--------------+-------------+-----------+-------------+\n",
       "| household_id | building_id | vdcmun_id | district_id |\n",
       "+--------------+-------------+-----------+-------------+\n",
       "|     5601     |      56     |     7     |      1      |\n",
       "|     6301     |      63     |     7     |      1      |\n",
       "|     9701     |      97     |     7     |      1      |\n",
       "|     9901     |      99     |     7     |      1      |\n",
       "|    11501     |     115     |     7     |      1      |\n",
       "+--------------+-------------+-----------+-------------+"
      ]
     },
     "execution_count": 5,
     "metadata": {},
     "output_type": "execute_result"
    }
   ],
   "source": [
    "%%sql\n",
    "\n",
    "select * from id_map limit 5"
   ]
  },
  {
   "cell_type": "code",
   "execution_count": 8,
   "id": "7e99be7c-6b71-4df7-9701-5759eb1c938c",
   "metadata": {},
   "outputs": [
    {
     "data": {
      "text/html": [
       "\n",
       "        <iframe\n",
       "            width=\"600\"\n",
       "            height=\"300\"\n",
       "            src=\"https://player.vimeo.com/video/665415406?h=46a990c8f7\"\n",
       "            frameborder=\"0\"\n",
       "            allowfullscreen\n",
       "            \n",
       "        ></iframe>\n",
       "        "
      ],
      "text/plain": [
       "<IPython.lib.display.VimeoVideo at 0x79aed67ea910>"
      ]
     },
     "execution_count": 8,
     "metadata": {},
     "output_type": "execute_result"
    }
   ],
   "source": [
    "VimeoVideo(\"665415406\", h=\"46a990c8f7\", width=600)"
   ]
  },
  {
   "cell_type": "markdown",
   "id": "25c156e1-5245-42df-bb9f-144e09270caf",
   "metadata": {},
   "source": [
    "**Task 4.4.5:** Create a table with all the columns from `household_demographics`, all the columns from `building_structure`, the **`vdcmun_id`** column from `id_map`, and the **`damage_grade`** column from `building_damage`. Your results should show only rows where the **`district_id`** is `4` and limit your results to the first five rows.\n",
    "\n",
    "- [<span id='technique'>Create an alias for a column or table using the `AS` command in <span id='tool'>SQL</span></span>.](../%40textbook/10-databases-sql.ipynb#SELECT-and-FROM) \n",
    "- [<span id='technique'>Determine the unique values in a column using a `DISTINCT` function in <span id='tool'>SQL</span></span>.](../%40textbook/10-databases-sql.ipynb#Aggregating-Data) \n",
    "- [<span id='technique'>Merge two tables using a `JOIN` clause in <span id='tool'>SQL</span></span>.](../%40textbook/10-databases-sql.ipynb#Joining-Tables)\n",
    "- [<span id='technique'>Inspect a table using a `LIMIT` clause in <span id='tool'>SQL</span></span>.](../%40textbook/10-databases-sql.ipynb#Building-Blocks-of-the-Basic-Query)\n",
    "- [<span id='technique'>Subset a table using a `WHERE` clause in <span id='tool'>SQL</span></span>.](../%40textbook/10-databases-sql.ipynb#Building-Blocks-of-the-Basic-Query)"
   ]
  },
  {
   "cell_type": "code",
   "execution_count": 13,
   "id": "8f18848d-a800-46c2-a1ab-c6aa1ca56f64",
   "metadata": {},
   "outputs": [
    {
     "data": {
      "text/html": [
       "<span style=\"None\">Running query in &#x27;sqlite:///../nepal.sqlite&#x27;</span>"
      ],
      "text/plain": [
       "Running query in 'sqlite:///../nepal.sqlite'"
      ]
     },
     "metadata": {},
     "output_type": "display_data"
    },
    {
     "data": {
      "text/html": [
       "<table>\n",
       "    <thead>\n",
       "        <tr>\n",
       "            <th>household_id</th>\n",
       "            <th>gender_household_head</th>\n",
       "            <th>age_household_head</th>\n",
       "            <th>caste_household</th>\n",
       "            <th>education_level_household_head</th>\n",
       "            <th>income_level_household</th>\n",
       "            <th>size_household</th>\n",
       "            <th>is_bank_account_present_in_household</th>\n",
       "            <th>building_id</th>\n",
       "            <th>count_floors_pre_eq</th>\n",
       "            <th>count_floors_post_eq</th>\n",
       "            <th>age_building</th>\n",
       "            <th>plinth_area_sq_ft</th>\n",
       "            <th>height_ft_pre_eq</th>\n",
       "            <th>height_ft_post_eq</th>\n",
       "            <th>land_surface_condition</th>\n",
       "            <th>foundation_type</th>\n",
       "            <th>roof_type</th>\n",
       "            <th>ground_floor_type</th>\n",
       "            <th>other_floor_type</th>\n",
       "            <th>position</th>\n",
       "            <th>plan_configuration</th>\n",
       "            <th>condition_post_eq</th>\n",
       "            <th>superstructure</th>\n",
       "            <th>vdcmun_id</th>\n",
       "            <th>damage_grade</th>\n",
       "        </tr>\n",
       "    </thead>\n",
       "    <tbody>\n",
       "        <tr>\n",
       "            <td>16400201</td>\n",
       "            <td>Female</td>\n",
       "            <td>46.0</td>\n",
       "            <td>Chhetree</td>\n",
       "            <td>Class 5</td>\n",
       "            <td>Rs. 10-20 thousand</td>\n",
       "            <td>4.0</td>\n",
       "            <td>1.0</td>\n",
       "            <td>164002</td>\n",
       "            <td>3</td>\n",
       "            <td>3</td>\n",
       "            <td>20</td>\n",
       "            <td>560</td>\n",
       "            <td>18</td>\n",
       "            <td>18</td>\n",
       "            <td>Flat</td>\n",
       "            <td>Mud mortar-Stone/Brick</td>\n",
       "            <td>Bamboo/Timber-Light roof</td>\n",
       "            <td>Mud</td>\n",
       "            <td>TImber/Bamboo-Mud</td>\n",
       "            <td>Not attached</td>\n",
       "            <td>Rectangular</td>\n",
       "            <td>Damaged-Repaired and used</td>\n",
       "            <td>Stone, mud mortar</td>\n",
       "            <td>38</td>\n",
       "            <td>Grade 2</td>\n",
       "        </tr>\n",
       "        <tr>\n",
       "            <td>16408101</td>\n",
       "            <td>Male</td>\n",
       "            <td>66.0</td>\n",
       "            <td>Chhetree</td>\n",
       "            <td>Illiterate</td>\n",
       "            <td>Rs. 10 thousand</td>\n",
       "            <td>5.0</td>\n",
       "            <td>0.0</td>\n",
       "            <td>164081</td>\n",
       "            <td>2</td>\n",
       "            <td>2</td>\n",
       "            <td>21</td>\n",
       "            <td>200</td>\n",
       "            <td>12</td>\n",
       "            <td>12</td>\n",
       "            <td>Flat</td>\n",
       "            <td>Mud mortar-Stone/Brick</td>\n",
       "            <td>Bamboo/Timber-Light roof</td>\n",
       "            <td>Mud</td>\n",
       "            <td>TImber/Bamboo-Mud</td>\n",
       "            <td>Not attached</td>\n",
       "            <td>Rectangular</td>\n",
       "            <td>Damaged-Used in risk</td>\n",
       "            <td>Stone, mud mortar</td>\n",
       "            <td>38</td>\n",
       "            <td>Grade 2</td>\n",
       "        </tr>\n",
       "        <tr>\n",
       "            <td>16408901</td>\n",
       "            <td>Male</td>\n",
       "            <td>54.0</td>\n",
       "            <td>Magar</td>\n",
       "            <td>Class 4</td>\n",
       "            <td>Rs. 10 thousand</td>\n",
       "            <td>5.0</td>\n",
       "            <td>1.0</td>\n",
       "            <td>164089</td>\n",
       "            <td>3</td>\n",
       "            <td>3</td>\n",
       "            <td>18</td>\n",
       "            <td>315</td>\n",
       "            <td>20</td>\n",
       "            <td>20</td>\n",
       "            <td>Flat</td>\n",
       "            <td>Mud mortar-Stone/Brick</td>\n",
       "            <td>Bamboo/Timber-Light roof</td>\n",
       "            <td>Mud</td>\n",
       "            <td>TImber/Bamboo-Mud</td>\n",
       "            <td>Not attached</td>\n",
       "            <td>Rectangular</td>\n",
       "            <td>Damaged-Used in risk</td>\n",
       "            <td>Stone, mud mortar</td>\n",
       "            <td>38</td>\n",
       "            <td>Grade 2</td>\n",
       "        </tr>\n",
       "        <tr>\n",
       "            <td>16409801</td>\n",
       "            <td>Male</td>\n",
       "            <td>36.0</td>\n",
       "            <td>Chhetree</td>\n",
       "            <td>Class 5</td>\n",
       "            <td>Rs. 10 thousand</td>\n",
       "            <td>6.0</td>\n",
       "            <td>1.0</td>\n",
       "            <td>164098</td>\n",
       "            <td>2</td>\n",
       "            <td>2</td>\n",
       "            <td>45</td>\n",
       "            <td>290</td>\n",
       "            <td>13</td>\n",
       "            <td>13</td>\n",
       "            <td>Flat</td>\n",
       "            <td>Mud mortar-Stone/Brick</td>\n",
       "            <td>Bamboo/Timber-Light roof</td>\n",
       "            <td>Mud</td>\n",
       "            <td>TImber/Bamboo-Mud</td>\n",
       "            <td>Not attached</td>\n",
       "            <td>Rectangular</td>\n",
       "            <td>Damaged-Used in risk</td>\n",
       "            <td>Stone, mud mortar</td>\n",
       "            <td>38</td>\n",
       "            <td>Grade 3</td>\n",
       "        </tr>\n",
       "        <tr>\n",
       "            <td>16410301</td>\n",
       "            <td>Female</td>\n",
       "            <td>39.0</td>\n",
       "            <td>Chhetree</td>\n",
       "            <td>Class 4</td>\n",
       "            <td>Rs. 10 thousand</td>\n",
       "            <td>3.0</td>\n",
       "            <td>0.0</td>\n",
       "            <td>164103</td>\n",
       "            <td>2</td>\n",
       "            <td>2</td>\n",
       "            <td>21</td>\n",
       "            <td>230</td>\n",
       "            <td>13</td>\n",
       "            <td>13</td>\n",
       "            <td>Flat</td>\n",
       "            <td>Mud mortar-Stone/Brick</td>\n",
       "            <td>Bamboo/Timber-Light roof</td>\n",
       "            <td>Mud</td>\n",
       "            <td>TImber/Bamboo-Mud</td>\n",
       "            <td>Not attached</td>\n",
       "            <td>Rectangular</td>\n",
       "            <td>Damaged-Used in risk</td>\n",
       "            <td>Stone, mud mortar</td>\n",
       "            <td>38</td>\n",
       "            <td>Grade 3</td>\n",
       "        </tr>\n",
       "    </tbody>\n",
       "</table>"
      ],
      "text/plain": [
       "+--------------+-----------------------+--------------------+-----------------+--------------------------------+------------------------+----------------+--------------------------------------+-------------+---------------------+----------------------+--------------+-------------------+------------------+-------------------+------------------------+------------------------+--------------------------+-------------------+-------------------+--------------+--------------------+---------------------------+-------------------+-----------+--------------+\n",
       "| household_id | gender_household_head | age_household_head | caste_household | education_level_household_head | income_level_household | size_household | is_bank_account_present_in_household | building_id | count_floors_pre_eq | count_floors_post_eq | age_building | plinth_area_sq_ft | height_ft_pre_eq | height_ft_post_eq | land_surface_condition |    foundation_type     |        roof_type         | ground_floor_type |  other_floor_type |   position   | plan_configuration |     condition_post_eq     |   superstructure  | vdcmun_id | damage_grade |\n",
       "+--------------+-----------------------+--------------------+-----------------+--------------------------------+------------------------+----------------+--------------------------------------+-------------+---------------------+----------------------+--------------+-------------------+------------------+-------------------+------------------------+------------------------+--------------------------+-------------------+-------------------+--------------+--------------------+---------------------------+-------------------+-----------+--------------+\n",
       "|   16400201   |         Female        |        46.0        |     Chhetree    |            Class 5             |   Rs. 10-20 thousand   |      4.0       |                 1.0                  |    164002   |          3          |          3           |      20      |        560        |        18        |         18        |          Flat          | Mud mortar-Stone/Brick | Bamboo/Timber-Light roof |        Mud        | TImber/Bamboo-Mud | Not attached |    Rectangular     | Damaged-Repaired and used | Stone, mud mortar |     38    |   Grade 2    |\n",
       "|   16408101   |          Male         |        66.0        |     Chhetree    |           Illiterate           |    Rs. 10 thousand     |      5.0       |                 0.0                  |    164081   |          2          |          2           |      21      |        200        |        12        |         12        |          Flat          | Mud mortar-Stone/Brick | Bamboo/Timber-Light roof |        Mud        | TImber/Bamboo-Mud | Not attached |    Rectangular     |    Damaged-Used in risk   | Stone, mud mortar |     38    |   Grade 2    |\n",
       "|   16408901   |          Male         |        54.0        |      Magar      |            Class 4             |    Rs. 10 thousand     |      5.0       |                 1.0                  |    164089   |          3          |          3           |      18      |        315        |        20        |         20        |          Flat          | Mud mortar-Stone/Brick | Bamboo/Timber-Light roof |        Mud        | TImber/Bamboo-Mud | Not attached |    Rectangular     |    Damaged-Used in risk   | Stone, mud mortar |     38    |   Grade 2    |\n",
       "|   16409801   |          Male         |        36.0        |     Chhetree    |            Class 5             |    Rs. 10 thousand     |      6.0       |                 1.0                  |    164098   |          2          |          2           |      45      |        290        |        13        |         13        |          Flat          | Mud mortar-Stone/Brick | Bamboo/Timber-Light roof |        Mud        | TImber/Bamboo-Mud | Not attached |    Rectangular     |    Damaged-Used in risk   | Stone, mud mortar |     38    |   Grade 3    |\n",
       "|   16410301   |         Female        |        39.0        |     Chhetree    |            Class 4             |    Rs. 10 thousand     |      3.0       |                 0.0                  |    164103   |          2          |          2           |      21      |        230        |        13        |         13        |          Flat          | Mud mortar-Stone/Brick | Bamboo/Timber-Light roof |        Mud        | TImber/Bamboo-Mud | Not attached |    Rectangular     |    Damaged-Used in risk   | Stone, mud mortar |     38    |   Grade 3    |\n",
       "+--------------+-----------------------+--------------------+-----------------+--------------------------------+------------------------+----------------+--------------------------------------+-------------+---------------------+----------------------+--------------+-------------------+------------------+-------------------+------------------------+------------------------+--------------------------+-------------------+-------------------+--------------+--------------------+---------------------------+-------------------+-----------+--------------+"
      ]
     },
     "execution_count": 13,
     "metadata": {},
     "output_type": "execute_result"
    }
   ],
   "source": [
    "%%sql\n",
    "select h.*, \n",
    "    s.*, \n",
    "    i.vdcmun_id, \n",
    "    d.damage_grade  from household_demographics as h\n",
    "join id_map as i ON h.household_id=i.household_id\n",
    "join building_structure as s ON s.building_id=i.building_id\n",
    "\n",
    "join building_damage as d ON i.building_id=d.building_id\n",
    "where i.district_id= 4  limit 5 \n"
   ]
  },
  {
   "cell_type": "markdown",
   "id": "a851c41b-472d-4827-ae2e-52a1a713937f",
   "metadata": {},
   "source": [
    "## Import"
   ]
  },
  {
   "cell_type": "code",
   "execution_count": 69,
   "id": "3619e4a7-af37-470a-a0ca-838a9315e831",
   "metadata": {},
   "outputs": [],
   "source": [
    "def wrangle(db_path):\n",
    "    # Connect to database\n",
    "    conn = sqlite3.connect(db_path)\n",
    "\n",
    "    # Construct query\n",
    "   \n",
    "    query = \"\"\"select h.*, \n",
    "    s.*, \n",
    "    i.vdcmun_id, \n",
    "    d.damage_grade  from household_demographics as h\n",
    "join id_map as i ON i.household_id=h.household_id\n",
    "join building_structure as s ON i.building_id=s.building_id\n",
    "\n",
    "join building_damage as d ON i.building_id=d.building_id\n",
    "where i.district_id= 4    \"\"\"\n",
    "    # Read query results into DataFrame\n",
    "    df = pd.read_sql(query,conn,index_col=\"household_id\")\n",
    "\n",
    "    # Identify leaky columns\n",
    "    drop_cols = [col for col in df.columns if \"post_eq\" in col]\n",
    "\n",
    "    # Add high-cardinality / redundant column\n",
    "    drop_cols.append(\"building_id\")\n",
    "\n",
    "    # Create binary target column\n",
    "    df[\"damage_grade\"] = df[\"damage_grade\"].str[-1].astype(int)\n",
    "    df[\"severe_damage\"] = (df[\"damage_grade\"] > 3).astype(int)\n",
    "\n",
    "    # Drop old target\n",
    "    drop_cols.append(\"damage_grade\")\n",
    "\n",
    "    # Drop multicollinearity column\n",
    "    drop_cols.append(\"count_floors_pre_eq\")\n",
    "    #remove outcast value \n",
    "    \n",
    "    top_10=df[\"caste_household\"].value_counts().head(10).index\n",
    "    df[\"caste_household\"]=df[\"caste_household\"].apply(lambda c: c if c in top_10 else \"other\")\n",
    "    # Group caste column\n",
    "    \n",
    "    # Drop columns\n",
    "    df.drop(columns=drop_cols, inplace=True)\n",
    "\n",
    "    return df"
   ]
  },
  {
   "cell_type": "code",
   "execution_count": 19,
   "id": "1de3554a-46e7-4858-9cb6-16d46c6e6cde",
   "metadata": {},
   "outputs": [
    {
     "data": {
      "text/html": [
       "\n",
       "        <iframe\n",
       "            width=\"600\"\n",
       "            height=\"300\"\n",
       "            src=\"https://player.vimeo.com/video/665415443?h=ca27a7ebfc\"\n",
       "            frameborder=\"0\"\n",
       "            allowfullscreen\n",
       "            \n",
       "        ></iframe>\n",
       "        "
      ],
      "text/plain": [
       "<IPython.lib.display.VimeoVideo at 0x79aed75b42d0>"
      ]
     },
     "execution_count": 19,
     "metadata": {},
     "output_type": "execute_result"
    }
   ],
   "source": [
    "VimeoVideo(\"665415443\", h=\"ca27a7ebfc\", width=600)"
   ]
  },
  {
   "cell_type": "markdown",
   "id": "a5cb7fba-d0a8-4f49-a239-3dcd11322b62",
   "metadata": {},
   "source": [
    "**Task 4.4.6:** Add the query you created in the previous task to the `wrangle` function above. Then import your data by running the cell below. The path to the database is `\"../nepal.sqlite\"`.\n",
    "\n",
    "- [<span id='technique'>Read SQL query into a DataFrame using <span id='tool'>pandas</span></span>.](../%40textbook/10-databases-sql.ipynb#Using-pandas-with-SQL-Databases)\n",
    "- [<span id='technique'>Write a function in <span id='tool'>Python</span></span>.](../%40textbook/02-python-advanced.ipynb#Functions)"
   ]
  },
  {
   "cell_type": "code",
   "execution_count": 70,
   "id": "2f6345ab-3f26-4801-aeda-53354e9485a1",
   "metadata": {},
   "outputs": [
    {
     "data": {
      "text/html": [
       "<div>\n",
       "<style scoped>\n",
       "    .dataframe tbody tr th:only-of-type {\n",
       "        vertical-align: middle;\n",
       "    }\n",
       "\n",
       "    .dataframe tbody tr th {\n",
       "        vertical-align: top;\n",
       "    }\n",
       "\n",
       "    .dataframe thead th {\n",
       "        text-align: right;\n",
       "    }\n",
       "</style>\n",
       "<table border=\"1\" class=\"dataframe\">\n",
       "  <thead>\n",
       "    <tr style=\"text-align: right;\">\n",
       "      <th></th>\n",
       "      <th>gender_household_head</th>\n",
       "      <th>age_household_head</th>\n",
       "      <th>caste_household</th>\n",
       "      <th>education_level_household_head</th>\n",
       "      <th>income_level_household</th>\n",
       "      <th>size_household</th>\n",
       "      <th>is_bank_account_present_in_household</th>\n",
       "      <th>age_building</th>\n",
       "      <th>plinth_area_sq_ft</th>\n",
       "      <th>height_ft_pre_eq</th>\n",
       "      <th>land_surface_condition</th>\n",
       "      <th>foundation_type</th>\n",
       "      <th>roof_type</th>\n",
       "      <th>ground_floor_type</th>\n",
       "      <th>other_floor_type</th>\n",
       "      <th>position</th>\n",
       "      <th>plan_configuration</th>\n",
       "      <th>superstructure</th>\n",
       "      <th>vdcmun_id</th>\n",
       "      <th>severe_damage</th>\n",
       "    </tr>\n",
       "    <tr>\n",
       "      <th>household_id</th>\n",
       "      <th></th>\n",
       "      <th></th>\n",
       "      <th></th>\n",
       "      <th></th>\n",
       "      <th></th>\n",
       "      <th></th>\n",
       "      <th></th>\n",
       "      <th></th>\n",
       "      <th></th>\n",
       "      <th></th>\n",
       "      <th></th>\n",
       "      <th></th>\n",
       "      <th></th>\n",
       "      <th></th>\n",
       "      <th></th>\n",
       "      <th></th>\n",
       "      <th></th>\n",
       "      <th></th>\n",
       "      <th></th>\n",
       "      <th></th>\n",
       "    </tr>\n",
       "  </thead>\n",
       "  <tbody>\n",
       "    <tr>\n",
       "      <th>16400201</th>\n",
       "      <td>Female</td>\n",
       "      <td>46.0</td>\n",
       "      <td>Chhetree</td>\n",
       "      <td>Class 5</td>\n",
       "      <td>Rs. 10-20 thousand</td>\n",
       "      <td>4.0</td>\n",
       "      <td>1.0</td>\n",
       "      <td>20</td>\n",
       "      <td>560</td>\n",
       "      <td>18</td>\n",
       "      <td>Flat</td>\n",
       "      <td>Mud mortar-Stone/Brick</td>\n",
       "      <td>Bamboo/Timber-Light roof</td>\n",
       "      <td>Mud</td>\n",
       "      <td>TImber/Bamboo-Mud</td>\n",
       "      <td>Not attached</td>\n",
       "      <td>Rectangular</td>\n",
       "      <td>Stone, mud mortar</td>\n",
       "      <td>38</td>\n",
       "      <td>0</td>\n",
       "    </tr>\n",
       "    <tr>\n",
       "      <th>16408101</th>\n",
       "      <td>Male</td>\n",
       "      <td>66.0</td>\n",
       "      <td>Chhetree</td>\n",
       "      <td>Illiterate</td>\n",
       "      <td>Rs. 10 thousand</td>\n",
       "      <td>5.0</td>\n",
       "      <td>0.0</td>\n",
       "      <td>21</td>\n",
       "      <td>200</td>\n",
       "      <td>12</td>\n",
       "      <td>Flat</td>\n",
       "      <td>Mud mortar-Stone/Brick</td>\n",
       "      <td>Bamboo/Timber-Light roof</td>\n",
       "      <td>Mud</td>\n",
       "      <td>TImber/Bamboo-Mud</td>\n",
       "      <td>Not attached</td>\n",
       "      <td>Rectangular</td>\n",
       "      <td>Stone, mud mortar</td>\n",
       "      <td>38</td>\n",
       "      <td>0</td>\n",
       "    </tr>\n",
       "    <tr>\n",
       "      <th>16408901</th>\n",
       "      <td>Male</td>\n",
       "      <td>54.0</td>\n",
       "      <td>Magar</td>\n",
       "      <td>Class 4</td>\n",
       "      <td>Rs. 10 thousand</td>\n",
       "      <td>5.0</td>\n",
       "      <td>1.0</td>\n",
       "      <td>18</td>\n",
       "      <td>315</td>\n",
       "      <td>20</td>\n",
       "      <td>Flat</td>\n",
       "      <td>Mud mortar-Stone/Brick</td>\n",
       "      <td>Bamboo/Timber-Light roof</td>\n",
       "      <td>Mud</td>\n",
       "      <td>TImber/Bamboo-Mud</td>\n",
       "      <td>Not attached</td>\n",
       "      <td>Rectangular</td>\n",
       "      <td>Stone, mud mortar</td>\n",
       "      <td>38</td>\n",
       "      <td>0</td>\n",
       "    </tr>\n",
       "    <tr>\n",
       "      <th>16409801</th>\n",
       "      <td>Male</td>\n",
       "      <td>36.0</td>\n",
       "      <td>Chhetree</td>\n",
       "      <td>Class 5</td>\n",
       "      <td>Rs. 10 thousand</td>\n",
       "      <td>6.0</td>\n",
       "      <td>1.0</td>\n",
       "      <td>45</td>\n",
       "      <td>290</td>\n",
       "      <td>13</td>\n",
       "      <td>Flat</td>\n",
       "      <td>Mud mortar-Stone/Brick</td>\n",
       "      <td>Bamboo/Timber-Light roof</td>\n",
       "      <td>Mud</td>\n",
       "      <td>TImber/Bamboo-Mud</td>\n",
       "      <td>Not attached</td>\n",
       "      <td>Rectangular</td>\n",
       "      <td>Stone, mud mortar</td>\n",
       "      <td>38</td>\n",
       "      <td>0</td>\n",
       "    </tr>\n",
       "    <tr>\n",
       "      <th>16410301</th>\n",
       "      <td>Female</td>\n",
       "      <td>39.0</td>\n",
       "      <td>Chhetree</td>\n",
       "      <td>Class 4</td>\n",
       "      <td>Rs. 10 thousand</td>\n",
       "      <td>3.0</td>\n",
       "      <td>0.0</td>\n",
       "      <td>21</td>\n",
       "      <td>230</td>\n",
       "      <td>13</td>\n",
       "      <td>Flat</td>\n",
       "      <td>Mud mortar-Stone/Brick</td>\n",
       "      <td>Bamboo/Timber-Light roof</td>\n",
       "      <td>Mud</td>\n",
       "      <td>TImber/Bamboo-Mud</td>\n",
       "      <td>Not attached</td>\n",
       "      <td>Rectangular</td>\n",
       "      <td>Stone, mud mortar</td>\n",
       "      <td>38</td>\n",
       "      <td>0</td>\n",
       "    </tr>\n",
       "  </tbody>\n",
       "</table>\n",
       "</div>"
      ],
      "text/plain": [
       "             gender_household_head  age_household_head caste_household  \\\n",
       "household_id                                                             \n",
       "16400201                    Female                46.0        Chhetree   \n",
       "16408101                      Male                66.0        Chhetree   \n",
       "16408901                      Male                54.0           Magar   \n",
       "16409801                      Male                36.0        Chhetree   \n",
       "16410301                    Female                39.0        Chhetree   \n",
       "\n",
       "             education_level_household_head income_level_household  \\\n",
       "household_id                                                         \n",
       "16400201                            Class 5     Rs. 10-20 thousand   \n",
       "16408101                         Illiterate        Rs. 10 thousand   \n",
       "16408901                            Class 4        Rs. 10 thousand   \n",
       "16409801                            Class 5        Rs. 10 thousand   \n",
       "16410301                            Class 4        Rs. 10 thousand   \n",
       "\n",
       "              size_household  is_bank_account_present_in_household  \\\n",
       "household_id                                                         \n",
       "16400201                 4.0                                   1.0   \n",
       "16408101                 5.0                                   0.0   \n",
       "16408901                 5.0                                   1.0   \n",
       "16409801                 6.0                                   1.0   \n",
       "16410301                 3.0                                   0.0   \n",
       "\n",
       "              age_building  plinth_area_sq_ft  height_ft_pre_eq  \\\n",
       "household_id                                                      \n",
       "16400201                20                560                18   \n",
       "16408101                21                200                12   \n",
       "16408901                18                315                20   \n",
       "16409801                45                290                13   \n",
       "16410301                21                230                13   \n",
       "\n",
       "             land_surface_condition         foundation_type  \\\n",
       "household_id                                                  \n",
       "16400201                       Flat  Mud mortar-Stone/Brick   \n",
       "16408101                       Flat  Mud mortar-Stone/Brick   \n",
       "16408901                       Flat  Mud mortar-Stone/Brick   \n",
       "16409801                       Flat  Mud mortar-Stone/Brick   \n",
       "16410301                       Flat  Mud mortar-Stone/Brick   \n",
       "\n",
       "                             roof_type ground_floor_type   other_floor_type  \\\n",
       "household_id                                                                  \n",
       "16400201      Bamboo/Timber-Light roof               Mud  TImber/Bamboo-Mud   \n",
       "16408101      Bamboo/Timber-Light roof               Mud  TImber/Bamboo-Mud   \n",
       "16408901      Bamboo/Timber-Light roof               Mud  TImber/Bamboo-Mud   \n",
       "16409801      Bamboo/Timber-Light roof               Mud  TImber/Bamboo-Mud   \n",
       "16410301      Bamboo/Timber-Light roof               Mud  TImber/Bamboo-Mud   \n",
       "\n",
       "                  position plan_configuration     superstructure  vdcmun_id  \\\n",
       "household_id                                                                  \n",
       "16400201      Not attached        Rectangular  Stone, mud mortar         38   \n",
       "16408101      Not attached        Rectangular  Stone, mud mortar         38   \n",
       "16408901      Not attached        Rectangular  Stone, mud mortar         38   \n",
       "16409801      Not attached        Rectangular  Stone, mud mortar         38   \n",
       "16410301      Not attached        Rectangular  Stone, mud mortar         38   \n",
       "\n",
       "              severe_damage  \n",
       "household_id                 \n",
       "16400201                  0  \n",
       "16408101                  0  \n",
       "16408901                  0  \n",
       "16409801                  0  \n",
       "16410301                  0  "
      ]
     },
     "execution_count": 70,
     "metadata": {},
     "output_type": "execute_result"
    }
   ],
   "source": [
    "df = wrangle(\"../nepal.sqlite\")\n",
    "df.head()\n"
   ]
  },
  {
   "cell_type": "code",
   "execution_count": 44,
   "id": "a8e2e9a1-ae50-4133-aed2-3ea02a68a4f0",
   "metadata": {},
   "outputs": [
    {
     "data": {
      "text/plain": [
       "11"
      ]
     },
     "execution_count": 44,
     "metadata": {},
     "output_type": "execute_result"
    }
   ],
   "source": [
    "df[\"caste_household\"].nunique()"
   ]
  },
  {
   "cell_type": "code",
   "execution_count": 58,
   "id": "0459a629-e2b5-4a2e-a9e2-8243f9d552dd",
   "metadata": {},
   "outputs": [],
   "source": [
    "# Check your work\n",
    "assert df.shape == (75883, 20), f\"`df` should have shape (75883, 20), not {df.shape}\""
   ]
  },
  {
   "cell_type": "markdown",
   "id": "7d254a79-a14c-4547-9cfc-d3a4d938abc5",
   "metadata": {},
   "source": [
    "## Explore"
   ]
  },
  {
   "cell_type": "code",
   "execution_count": 29,
   "id": "f33220cc-10d2-46c0-9a49-65e0a786a652",
   "metadata": {},
   "outputs": [
    {
     "data": {
      "text/html": [
       "\n",
       "        <iframe\n",
       "            width=\"600\"\n",
       "            height=\"300\"\n",
       "            src=\"https://player.vimeo.com/video/665415463?h=86c306199f\"\n",
       "            frameborder=\"0\"\n",
       "            allowfullscreen\n",
       "            \n",
       "        ></iframe>\n",
       "        "
      ],
      "text/plain": [
       "<IPython.lib.display.VimeoVideo at 0x79aecbeb9550>"
      ]
     },
     "execution_count": 29,
     "metadata": {},
     "output_type": "execute_result"
    }
   ],
   "source": [
    "VimeoVideo(\"665415463\", h=\"86c306199f\", width=600)"
   ]
  },
  {
   "cell_type": "markdown",
   "id": "48afaec2-737f-4a61-b2be-585f3c82560f",
   "metadata": {},
   "source": [
    "**Task 4.4.7:** Combine the [`select_dtypes`](https://pandas.pydata.org/docs/reference/api/pandas.DataFrame.select_dtypes.html) and [`nunique`](https://pandas.pydata.org/docs/reference/api/pandas.DataFrame.nunique.html) methods to see if there are any high- or low-cardinality categorical features in the dataset. \n",
    "\n",
    "- [What are <span id='term'>high- and low-cardinality features</span>?](../%40textbook/14-ml-classification.ipynb#High-cardinality-Features)\n",
    "- [<span id='technique'>Determine the unique values in a column using <span id='tool'>pandas</span></span>.](../%40textbook/03-pandas-getting-started.ipynb#Determine-the-unique-values-in-a-column) \n",
    "- [<span id='technique'>Subset a DataFrame's columns based on the column data types in <span id='tool'>pandas</span></span>.](../%40textbook/04-pandas-advanced.ipynb#Subset-the-Columns-of-a-DataFrame-Based-on-Data-Types)"
   ]
  },
  {
   "cell_type": "code",
   "execution_count": 59,
   "id": "04c7966d-7bfc-45ae-a80d-3ccb654dcfa1",
   "metadata": {},
   "outputs": [
    {
     "data": {
      "text/plain": [
       "gender_household_head              2\n",
       "caste_household                   11\n",
       "education_level_household_head    19\n",
       "income_level_household             5\n",
       "land_surface_condition             3\n",
       "foundation_type                    5\n",
       "roof_type                          3\n",
       "ground_floor_type                  5\n",
       "other_floor_type                   4\n",
       "position                           4\n",
       "plan_configuration                10\n",
       "superstructure                    11\n",
       "dtype: int64"
      ]
     },
     "execution_count": 59,
     "metadata": {},
     "output_type": "execute_result"
    }
   ],
   "source": [
    "# Check for high- and low-cardinality categorical features\n",
    "df.select_dtypes(\"object\").nunique()"
   ]
  },
  {
   "cell_type": "code",
   "execution_count": 32,
   "id": "22aa716c-6908-4955-8f10-ddc40f12d91d",
   "metadata": {},
   "outputs": [
    {
     "data": {
      "text/html": [
       "\n",
       "        <iframe\n",
       "            width=\"600\"\n",
       "            height=\"300\"\n",
       "            src=\"https://player.vimeo.com/video/665415472?h=1142d69e4a\"\n",
       "            frameborder=\"0\"\n",
       "            allowfullscreen\n",
       "            \n",
       "        ></iframe>\n",
       "        "
      ],
      "text/plain": [
       "<IPython.lib.display.VimeoVideo at 0x79aeccf77390>"
      ]
     },
     "execution_count": 32,
     "metadata": {},
     "output_type": "execute_result"
    }
   ],
   "source": [
    "VimeoVideo(\"665415472\", h=\"1142d69e4a\", width=600)"
   ]
  },
  {
   "cell_type": "markdown",
   "id": "24eacbde-4bc1-43bd-ac24-67c9e0aef96c",
   "metadata": {},
   "source": [
    "**Task 4.4.8:** Add to your `wrangle` function so that the `\"caste_household\"` contains only the 10 largest caste groups. For the rows that are not in those groups, `\"caste_household\"` should be changed to `\"Other\"`.\n",
    "\n",
    "- [<span id='technique'>Determine the unique values in a column using <span id='tool'>pandas</span></span>.](../%40textbook/03-pandas-getting-started.ipynb#Determine-the-unique-values-in-a-column) \n",
    "- [<span id='technique'>Combine multiple categories in a Series using <span id='tool'>pandas</span></span>.](../%40textbook/04-pandas-advanced.ipynb#Combine-multiple-categories-in-a-Series)"
   ]
  },
  {
   "cell_type": "code",
   "execution_count": 60,
   "id": "58f8e8d0-1f0e-4e44-a37f-0739a3d80215",
   "metadata": {},
   "outputs": [
    {
     "data": {
      "text/plain": [
       "11"
      ]
     },
     "execution_count": 60,
     "metadata": {},
     "output_type": "execute_result"
    }
   ],
   "source": [
    "df[\"caste_household\"].nunique()"
   ]
  },
  {
   "cell_type": "code",
   "execution_count": 61,
   "id": "d7baa30f-ecfd-47ca-98da-4be89eefbc96",
   "metadata": {},
   "outputs": [],
   "source": [
    "# Check your work\n",
    "assert (\n",
    "    df[\"caste_household\"].nunique() == 11\n",
    "), f\"The `'caste_household'` column should only have 11 unique values, not {df['caste_household'].nunique()}.\""
   ]
  },
  {
   "cell_type": "markdown",
   "id": "d59e6d93-b806-4c85-a9da-15e1cd2b9502",
   "metadata": {
    "tags": []
   },
   "source": [
    "## Split"
   ]
  },
  {
   "cell_type": "code",
   "execution_count": 50,
   "id": "36409eeb-6759-4e32-a185-0d3f1a6ceed8",
   "metadata": {},
   "outputs": [
    {
     "data": {
      "text/html": [
       "\n",
       "        <iframe\n",
       "            width=\"600\"\n",
       "            height=\"300\"\n",
       "            src=\"https://player.vimeo.com/video/665415515?h=defc252edd\"\n",
       "            frameborder=\"0\"\n",
       "            allowfullscreen\n",
       "            \n",
       "        ></iframe>\n",
       "        "
      ],
      "text/plain": [
       "<IPython.lib.display.VimeoVideo at 0x79aecde78b90>"
      ]
     },
     "execution_count": 50,
     "metadata": {},
     "output_type": "execute_result"
    }
   ],
   "source": [
    "VimeoVideo(\"665415515\", h=\"defc252edd\", width=600)"
   ]
  },
  {
   "cell_type": "markdown",
   "id": "7dc16f7f-fa65-4244-b073-a0be9834ca7b",
   "metadata": {},
   "source": [
    "**Task 4.4.9:** Create your feature matrix `X` and target vector `y`. Since our model will only consider building and household data, `X` should not include the municipality column `\"vdcmun_id\"`. Your target is `\"severe_damage\"`. "
   ]
  },
  {
   "cell_type": "code",
   "execution_count": 71,
   "id": "b5a59f3e-b4d9-4cd5-abf4-f4007d3e11c0",
   "metadata": {},
   "outputs": [
    {
     "data": {
      "text/html": [
       "<div>\n",
       "<style scoped>\n",
       "    .dataframe tbody tr th:only-of-type {\n",
       "        vertical-align: middle;\n",
       "    }\n",
       "\n",
       "    .dataframe tbody tr th {\n",
       "        vertical-align: top;\n",
       "    }\n",
       "\n",
       "    .dataframe thead th {\n",
       "        text-align: right;\n",
       "    }\n",
       "</style>\n",
       "<table border=\"1\" class=\"dataframe\">\n",
       "  <thead>\n",
       "    <tr style=\"text-align: right;\">\n",
       "      <th></th>\n",
       "      <th>gender_household_head</th>\n",
       "      <th>age_household_head</th>\n",
       "      <th>caste_household</th>\n",
       "      <th>education_level_household_head</th>\n",
       "      <th>income_level_household</th>\n",
       "      <th>size_household</th>\n",
       "      <th>is_bank_account_present_in_household</th>\n",
       "      <th>age_building</th>\n",
       "      <th>plinth_area_sq_ft</th>\n",
       "      <th>height_ft_pre_eq</th>\n",
       "      <th>land_surface_condition</th>\n",
       "      <th>foundation_type</th>\n",
       "      <th>roof_type</th>\n",
       "      <th>ground_floor_type</th>\n",
       "      <th>other_floor_type</th>\n",
       "      <th>position</th>\n",
       "      <th>plan_configuration</th>\n",
       "      <th>superstructure</th>\n",
       "      <th>vdcmun_id</th>\n",
       "      <th>severe_damage</th>\n",
       "    </tr>\n",
       "    <tr>\n",
       "      <th>household_id</th>\n",
       "      <th></th>\n",
       "      <th></th>\n",
       "      <th></th>\n",
       "      <th></th>\n",
       "      <th></th>\n",
       "      <th></th>\n",
       "      <th></th>\n",
       "      <th></th>\n",
       "      <th></th>\n",
       "      <th></th>\n",
       "      <th></th>\n",
       "      <th></th>\n",
       "      <th></th>\n",
       "      <th></th>\n",
       "      <th></th>\n",
       "      <th></th>\n",
       "      <th></th>\n",
       "      <th></th>\n",
       "      <th></th>\n",
       "      <th></th>\n",
       "    </tr>\n",
       "  </thead>\n",
       "  <tbody>\n",
       "    <tr>\n",
       "      <th>16400201</th>\n",
       "      <td>Female</td>\n",
       "      <td>46.0</td>\n",
       "      <td>Chhetree</td>\n",
       "      <td>Class 5</td>\n",
       "      <td>Rs. 10-20 thousand</td>\n",
       "      <td>4.0</td>\n",
       "      <td>1.0</td>\n",
       "      <td>20</td>\n",
       "      <td>560</td>\n",
       "      <td>18</td>\n",
       "      <td>Flat</td>\n",
       "      <td>Mud mortar-Stone/Brick</td>\n",
       "      <td>Bamboo/Timber-Light roof</td>\n",
       "      <td>Mud</td>\n",
       "      <td>TImber/Bamboo-Mud</td>\n",
       "      <td>Not attached</td>\n",
       "      <td>Rectangular</td>\n",
       "      <td>Stone, mud mortar</td>\n",
       "      <td>38</td>\n",
       "      <td>0</td>\n",
       "    </tr>\n",
       "    <tr>\n",
       "      <th>16408101</th>\n",
       "      <td>Male</td>\n",
       "      <td>66.0</td>\n",
       "      <td>Chhetree</td>\n",
       "      <td>Illiterate</td>\n",
       "      <td>Rs. 10 thousand</td>\n",
       "      <td>5.0</td>\n",
       "      <td>0.0</td>\n",
       "      <td>21</td>\n",
       "      <td>200</td>\n",
       "      <td>12</td>\n",
       "      <td>Flat</td>\n",
       "      <td>Mud mortar-Stone/Brick</td>\n",
       "      <td>Bamboo/Timber-Light roof</td>\n",
       "      <td>Mud</td>\n",
       "      <td>TImber/Bamboo-Mud</td>\n",
       "      <td>Not attached</td>\n",
       "      <td>Rectangular</td>\n",
       "      <td>Stone, mud mortar</td>\n",
       "      <td>38</td>\n",
       "      <td>0</td>\n",
       "    </tr>\n",
       "    <tr>\n",
       "      <th>16408901</th>\n",
       "      <td>Male</td>\n",
       "      <td>54.0</td>\n",
       "      <td>Magar</td>\n",
       "      <td>Class 4</td>\n",
       "      <td>Rs. 10 thousand</td>\n",
       "      <td>5.0</td>\n",
       "      <td>1.0</td>\n",
       "      <td>18</td>\n",
       "      <td>315</td>\n",
       "      <td>20</td>\n",
       "      <td>Flat</td>\n",
       "      <td>Mud mortar-Stone/Brick</td>\n",
       "      <td>Bamboo/Timber-Light roof</td>\n",
       "      <td>Mud</td>\n",
       "      <td>TImber/Bamboo-Mud</td>\n",
       "      <td>Not attached</td>\n",
       "      <td>Rectangular</td>\n",
       "      <td>Stone, mud mortar</td>\n",
       "      <td>38</td>\n",
       "      <td>0</td>\n",
       "    </tr>\n",
       "    <tr>\n",
       "      <th>16409801</th>\n",
       "      <td>Male</td>\n",
       "      <td>36.0</td>\n",
       "      <td>Chhetree</td>\n",
       "      <td>Class 5</td>\n",
       "      <td>Rs. 10 thousand</td>\n",
       "      <td>6.0</td>\n",
       "      <td>1.0</td>\n",
       "      <td>45</td>\n",
       "      <td>290</td>\n",
       "      <td>13</td>\n",
       "      <td>Flat</td>\n",
       "      <td>Mud mortar-Stone/Brick</td>\n",
       "      <td>Bamboo/Timber-Light roof</td>\n",
       "      <td>Mud</td>\n",
       "      <td>TImber/Bamboo-Mud</td>\n",
       "      <td>Not attached</td>\n",
       "      <td>Rectangular</td>\n",
       "      <td>Stone, mud mortar</td>\n",
       "      <td>38</td>\n",
       "      <td>0</td>\n",
       "    </tr>\n",
       "    <tr>\n",
       "      <th>16410301</th>\n",
       "      <td>Female</td>\n",
       "      <td>39.0</td>\n",
       "      <td>Chhetree</td>\n",
       "      <td>Class 4</td>\n",
       "      <td>Rs. 10 thousand</td>\n",
       "      <td>3.0</td>\n",
       "      <td>0.0</td>\n",
       "      <td>21</td>\n",
       "      <td>230</td>\n",
       "      <td>13</td>\n",
       "      <td>Flat</td>\n",
       "      <td>Mud mortar-Stone/Brick</td>\n",
       "      <td>Bamboo/Timber-Light roof</td>\n",
       "      <td>Mud</td>\n",
       "      <td>TImber/Bamboo-Mud</td>\n",
       "      <td>Not attached</td>\n",
       "      <td>Rectangular</td>\n",
       "      <td>Stone, mud mortar</td>\n",
       "      <td>38</td>\n",
       "      <td>0</td>\n",
       "    </tr>\n",
       "  </tbody>\n",
       "</table>\n",
       "</div>"
      ],
      "text/plain": [
       "             gender_household_head  age_household_head caste_household  \\\n",
       "household_id                                                             \n",
       "16400201                    Female                46.0        Chhetree   \n",
       "16408101                      Male                66.0        Chhetree   \n",
       "16408901                      Male                54.0           Magar   \n",
       "16409801                      Male                36.0        Chhetree   \n",
       "16410301                    Female                39.0        Chhetree   \n",
       "\n",
       "             education_level_household_head income_level_household  \\\n",
       "household_id                                                         \n",
       "16400201                            Class 5     Rs. 10-20 thousand   \n",
       "16408101                         Illiterate        Rs. 10 thousand   \n",
       "16408901                            Class 4        Rs. 10 thousand   \n",
       "16409801                            Class 5        Rs. 10 thousand   \n",
       "16410301                            Class 4        Rs. 10 thousand   \n",
       "\n",
       "              size_household  is_bank_account_present_in_household  \\\n",
       "household_id                                                         \n",
       "16400201                 4.0                                   1.0   \n",
       "16408101                 5.0                                   0.0   \n",
       "16408901                 5.0                                   1.0   \n",
       "16409801                 6.0                                   1.0   \n",
       "16410301                 3.0                                   0.0   \n",
       "\n",
       "              age_building  plinth_area_sq_ft  height_ft_pre_eq  \\\n",
       "household_id                                                      \n",
       "16400201                20                560                18   \n",
       "16408101                21                200                12   \n",
       "16408901                18                315                20   \n",
       "16409801                45                290                13   \n",
       "16410301                21                230                13   \n",
       "\n",
       "             land_surface_condition         foundation_type  \\\n",
       "household_id                                                  \n",
       "16400201                       Flat  Mud mortar-Stone/Brick   \n",
       "16408101                       Flat  Mud mortar-Stone/Brick   \n",
       "16408901                       Flat  Mud mortar-Stone/Brick   \n",
       "16409801                       Flat  Mud mortar-Stone/Brick   \n",
       "16410301                       Flat  Mud mortar-Stone/Brick   \n",
       "\n",
       "                             roof_type ground_floor_type   other_floor_type  \\\n",
       "household_id                                                                  \n",
       "16400201      Bamboo/Timber-Light roof               Mud  TImber/Bamboo-Mud   \n",
       "16408101      Bamboo/Timber-Light roof               Mud  TImber/Bamboo-Mud   \n",
       "16408901      Bamboo/Timber-Light roof               Mud  TImber/Bamboo-Mud   \n",
       "16409801      Bamboo/Timber-Light roof               Mud  TImber/Bamboo-Mud   \n",
       "16410301      Bamboo/Timber-Light roof               Mud  TImber/Bamboo-Mud   \n",
       "\n",
       "                  position plan_configuration     superstructure  vdcmun_id  \\\n",
       "household_id                                                                  \n",
       "16400201      Not attached        Rectangular  Stone, mud mortar         38   \n",
       "16408101      Not attached        Rectangular  Stone, mud mortar         38   \n",
       "16408901      Not attached        Rectangular  Stone, mud mortar         38   \n",
       "16409801      Not attached        Rectangular  Stone, mud mortar         38   \n",
       "16410301      Not attached        Rectangular  Stone, mud mortar         38   \n",
       "\n",
       "              severe_damage  \n",
       "household_id                 \n",
       "16400201                  0  \n",
       "16408101                  0  \n",
       "16408901                  0  \n",
       "16409801                  0  \n",
       "16410301                  0  "
      ]
     },
     "execution_count": 71,
     "metadata": {},
     "output_type": "execute_result"
    }
   ],
   "source": [
    "df.head()"
   ]
  },
  {
   "cell_type": "code",
   "execution_count": 72,
   "id": "ae8d83f9-d922-4c66-b029-7b138ba6cbc6",
   "metadata": {},
   "outputs": [],
   "source": [
    "target = \"severe_damage\"\n",
    "X = df.drop(columns=[target,\"vdcmun_id\"])\n",
    "y = df[target]"
   ]
  },
  {
   "cell_type": "code",
   "execution_count": 73,
   "id": "73b08499-42da-4a53-8f0b-e117b9db6161",
   "metadata": {},
   "outputs": [],
   "source": [
    "# Check your work\n",
    "assert X.shape == (75883, 18), f\"The shape of `X` should be (75883, 18), not {X.shape}.\"\n",
    "assert \"vdcmun_id\" not in X.columns, \"There should be no `'vdcmun_id'` column in `X`.\"\n",
    "assert y.shape == (75883,), f\"The shape of `y` should be (75883,), not {y.shape}.\""
   ]
  },
  {
   "cell_type": "markdown",
   "id": "93681a6e-3480-41e5-9ce8-c9fd60552afb",
   "metadata": {},
   "source": [
    "**Task 4.4.10:** Divide your data (`X` and `y`) into training and test sets using a randomized train-test split. Your test set should be 20% of your total data. Be sure to set a `random_state` for reproducibility."
   ]
  },
  {
   "cell_type": "code",
   "execution_count": 74,
   "id": "cc4e1368-1e5a-4940-90b7-20f20f966e3f",
   "metadata": {},
   "outputs": [],
   "source": [
    "X_train, X_test, y_train, y_test =train_test_split(\n",
    "    X,y,test_size=0.2,random_state=42\n",
    ")"
   ]
  },
  {
   "cell_type": "code",
   "execution_count": 75,
   "id": "53a5ad9a-0b1a-4bf1-8335-a23a1ff2695b",
   "metadata": {},
   "outputs": [],
   "source": [
    "# Check your work\n",
    "assert X_train.shape == (\n",
    "    60706,\n",
    "    18,\n",
    "), f\"The shape of `X_train` should be (60706, 18), not {X_train.shape}.\"\n",
    "assert y_train.shape == (\n",
    "    60706,\n",
    "), f\"The shape of `y_train` should be (60706,), not {y_train.shape}.\"\n",
    "assert X_test.shape == (\n",
    "    15177,\n",
    "    18,\n",
    "), f\"The shape of `X_test` should be (15177, 18), not {X_test.shape}.\"\n",
    "assert y_test.shape == (\n",
    "    15177,\n",
    "), f\"The shape of `y_test` should be (15177,), not {y_test.shape}.\""
   ]
  },
  {
   "cell_type": "markdown",
   "id": "111788b7-14fe-486c-9f89-2c078157cfd4",
   "metadata": {
    "tags": []
   },
   "source": [
    "# Build Model"
   ]
  },
  {
   "cell_type": "markdown",
   "id": "15c1824f-355f-47e4-b5a6-8cd1251792c7",
   "metadata": {
    "tags": []
   },
   "source": [
    "## Baseline"
   ]
  },
  {
   "cell_type": "markdown",
   "id": "6755e531-b6ff-4985-9fc5-0b6601eca074",
   "metadata": {},
   "source": [
    "**Task 4.4.11:** Calculate the baseline accuracy score for your model.\n",
    "\n",
    "- [What's <span id='tool'>accuracy score</span>?](../%40textbook/14-ml-classification.ipynb#Calculating-Accuracy-Score)\n",
    "- [Aggregate data in a Series using `value_counts` in pandas.](../%40textbook/04-pandas-advanced.ipynb#Working-with-value_counts-in-a-Series)"
   ]
  },
  {
   "cell_type": "code",
   "execution_count": 81,
   "id": "2bd7e2b3-d678-4d28-8dcf-5f2bddcaa490",
   "metadata": {},
   "outputs": [
    {
     "name": "stdout",
     "output_type": "stream",
     "text": [
      "(60706,) (60706, 18)\n",
      "(15177,) (15177, 18)\n",
      "(75883, 20)\n"
     ]
    }
   ],
   "source": [
    "print(y_train.shape,X_train.shape)\n",
    "print(y_test.shape,X_test.shape)\n",
    "print(df.shape)"
   ]
  },
  {
   "cell_type": "code",
   "execution_count": 82,
   "id": "10c219a0-3968-45dd-b389-def425836421",
   "metadata": {},
   "outputs": [
    {
     "name": "stdout",
     "output_type": "stream",
     "text": [
      "Baseline Accuracy: 0.63\n"
     ]
    }
   ],
   "source": [
    "acc_baseline = y_train.value_counts(normalize=True).max()\n",
    "print(\"Baseline Accuracy:\", round(acc_baseline, 2))"
   ]
  },
  {
   "cell_type": "markdown",
   "id": "d4da0d3d-6636-451d-bb90-d2914ce4bde8",
   "metadata": {
    "tags": []
   },
   "source": [
    "## Iterate"
   ]
  },
  {
   "cell_type": "markdown",
   "id": "b3e9324e-1d8d-4866-937f-151f44306a3d",
   "metadata": {},
   "source": [
    "**Task 4.4.12:** Create a Pipeline called `model_lr`. It should have an `OneHotEncoder` transformer and a `LogisticRegression` predictor. Be sure you set the `use_cat_names` argument for your transformer to `True`.\n",
    "\n",
    "- [What's <span id='term'>logistic regression</span>?](../%40textbook/14-ml-classification.ipynb#Logistic-Regression)\n",
    "- [What's <span id='term'>one-hot encoding</span>?](../%40textbook/13-ml-data-pre-processing-and-production.ipynb#One-Hot-Encoding)\n",
    "- [<span id='technique'>Create a pipeline in <span id='tool'>scikit-learn</span></span>.](../%40textbook/13-ml-data-pre-processing-and-production.ipynb#Creating-a-Pipeline-in-scikit-learn)\n",
    "- [<span id='technique'>Fit a model to training data in <span id='tool'>scikit-learn</span></span>.](../%40textbook/15-ml-regression.ipynb#Fitting-a-Model-to-Training-Data)"
   ]
  },
  {
   "cell_type": "code",
   "execution_count": 95,
   "id": "4695890f-4302-478f-abbd-a32d3161f454",
   "metadata": {},
   "outputs": [
    {
     "data": {
      "text/html": [
       "<style>#sk-container-id-4 {color: black;}#sk-container-id-4 pre{padding: 0;}#sk-container-id-4 div.sk-toggleable {background-color: white;}#sk-container-id-4 label.sk-toggleable__label {cursor: pointer;display: block;width: 100%;margin-bottom: 0;padding: 0.3em;box-sizing: border-box;text-align: center;}#sk-container-id-4 label.sk-toggleable__label-arrow:before {content: \"▸\";float: left;margin-right: 0.25em;color: #696969;}#sk-container-id-4 label.sk-toggleable__label-arrow:hover:before {color: black;}#sk-container-id-4 div.sk-estimator:hover label.sk-toggleable__label-arrow:before {color: black;}#sk-container-id-4 div.sk-toggleable__content {max-height: 0;max-width: 0;overflow: hidden;text-align: left;background-color: #f0f8ff;}#sk-container-id-4 div.sk-toggleable__content pre {margin: 0.2em;color: black;border-radius: 0.25em;background-color: #f0f8ff;}#sk-container-id-4 input.sk-toggleable__control:checked~div.sk-toggleable__content {max-height: 200px;max-width: 100%;overflow: auto;}#sk-container-id-4 input.sk-toggleable__control:checked~label.sk-toggleable__label-arrow:before {content: \"▾\";}#sk-container-id-4 div.sk-estimator input.sk-toggleable__control:checked~label.sk-toggleable__label {background-color: #d4ebff;}#sk-container-id-4 div.sk-label input.sk-toggleable__control:checked~label.sk-toggleable__label {background-color: #d4ebff;}#sk-container-id-4 input.sk-hidden--visually {border: 0;clip: rect(1px 1px 1px 1px);clip: rect(1px, 1px, 1px, 1px);height: 1px;margin: -1px;overflow: hidden;padding: 0;position: absolute;width: 1px;}#sk-container-id-4 div.sk-estimator {font-family: monospace;background-color: #f0f8ff;border: 1px dotted black;border-radius: 0.25em;box-sizing: border-box;margin-bottom: 0.5em;}#sk-container-id-4 div.sk-estimator:hover {background-color: #d4ebff;}#sk-container-id-4 div.sk-parallel-item::after {content: \"\";width: 100%;border-bottom: 1px solid gray;flex-grow: 1;}#sk-container-id-4 div.sk-label:hover label.sk-toggleable__label {background-color: #d4ebff;}#sk-container-id-4 div.sk-serial::before {content: \"\";position: absolute;border-left: 1px solid gray;box-sizing: border-box;top: 0;bottom: 0;left: 50%;z-index: 0;}#sk-container-id-4 div.sk-serial {display: flex;flex-direction: column;align-items: center;background-color: white;padding-right: 0.2em;padding-left: 0.2em;position: relative;}#sk-container-id-4 div.sk-item {position: relative;z-index: 1;}#sk-container-id-4 div.sk-parallel {display: flex;align-items: stretch;justify-content: center;background-color: white;position: relative;}#sk-container-id-4 div.sk-item::before, #sk-container-id-4 div.sk-parallel-item::before {content: \"\";position: absolute;border-left: 1px solid gray;box-sizing: border-box;top: 0;bottom: 0;left: 50%;z-index: -1;}#sk-container-id-4 div.sk-parallel-item {display: flex;flex-direction: column;z-index: 1;position: relative;background-color: white;}#sk-container-id-4 div.sk-parallel-item:first-child::after {align-self: flex-end;width: 50%;}#sk-container-id-4 div.sk-parallel-item:last-child::after {align-self: flex-start;width: 50%;}#sk-container-id-4 div.sk-parallel-item:only-child::after {width: 0;}#sk-container-id-4 div.sk-dashed-wrapped {border: 1px dashed gray;margin: 0 0.4em 0.5em 0.4em;box-sizing: border-box;padding-bottom: 0.4em;background-color: white;}#sk-container-id-4 div.sk-label label {font-family: monospace;font-weight: bold;display: inline-block;line-height: 1.2em;}#sk-container-id-4 div.sk-label-container {text-align: center;}#sk-container-id-4 div.sk-container {/* jupyter's `normalize.less` sets `[hidden] { display: none; }` but bootstrap.min.css set `[hidden] { display: none !important; }` so we also need the `!important` here to be able to override the default hidden behavior on the sphinx rendered scikit-learn.org. See: https://github.com/scikit-learn/scikit-learn/issues/21755 */display: inline-block !important;position: relative;}#sk-container-id-4 div.sk-text-repr-fallback {display: none;}</style><div id=\"sk-container-id-4\" class=\"sk-top-container\"><div class=\"sk-text-repr-fallback\"><pre>Pipeline(steps=[(&#x27;onehotencoder&#x27;,\n",
       "                 OneHotEncoder(cols=[&#x27;gender_household_head&#x27;, &#x27;caste_household&#x27;,\n",
       "                                     &#x27;education_level_household_head&#x27;,\n",
       "                                     &#x27;income_level_household&#x27;,\n",
       "                                     &#x27;land_surface_condition&#x27;,\n",
       "                                     &#x27;foundation_type&#x27;, &#x27;roof_type&#x27;,\n",
       "                                     &#x27;ground_floor_type&#x27;, &#x27;other_floor_type&#x27;,\n",
       "                                     &#x27;position&#x27;, &#x27;plan_configuration&#x27;,\n",
       "                                     &#x27;superstructure&#x27;],\n",
       "                               use_cat_names=True)),\n",
       "                (&#x27;logisticregression&#x27;, LogisticRegression(max_iter=3000))])</pre><b>In a Jupyter environment, please rerun this cell to show the HTML representation or trust the notebook. <br />On GitHub, the HTML representation is unable to render, please try loading this page with nbviewer.org.</b></div><div class=\"sk-container\" hidden><div class=\"sk-item sk-dashed-wrapped\"><div class=\"sk-label-container\"><div class=\"sk-label sk-toggleable\"><input class=\"sk-toggleable__control sk-hidden--visually\" id=\"sk-estimator-id-10\" type=\"checkbox\" ><label for=\"sk-estimator-id-10\" class=\"sk-toggleable__label sk-toggleable__label-arrow\">Pipeline</label><div class=\"sk-toggleable__content\"><pre>Pipeline(steps=[(&#x27;onehotencoder&#x27;,\n",
       "                 OneHotEncoder(cols=[&#x27;gender_household_head&#x27;, &#x27;caste_household&#x27;,\n",
       "                                     &#x27;education_level_household_head&#x27;,\n",
       "                                     &#x27;income_level_household&#x27;,\n",
       "                                     &#x27;land_surface_condition&#x27;,\n",
       "                                     &#x27;foundation_type&#x27;, &#x27;roof_type&#x27;,\n",
       "                                     &#x27;ground_floor_type&#x27;, &#x27;other_floor_type&#x27;,\n",
       "                                     &#x27;position&#x27;, &#x27;plan_configuration&#x27;,\n",
       "                                     &#x27;superstructure&#x27;],\n",
       "                               use_cat_names=True)),\n",
       "                (&#x27;logisticregression&#x27;, LogisticRegression(max_iter=3000))])</pre></div></div></div><div class=\"sk-serial\"><div class=\"sk-item\"><div class=\"sk-estimator sk-toggleable\"><input class=\"sk-toggleable__control sk-hidden--visually\" id=\"sk-estimator-id-11\" type=\"checkbox\" ><label for=\"sk-estimator-id-11\" class=\"sk-toggleable__label sk-toggleable__label-arrow\">OneHotEncoder</label><div class=\"sk-toggleable__content\"><pre>OneHotEncoder(cols=[&#x27;gender_household_head&#x27;, &#x27;caste_household&#x27;,\n",
       "                    &#x27;education_level_household_head&#x27;, &#x27;income_level_household&#x27;,\n",
       "                    &#x27;land_surface_condition&#x27;, &#x27;foundation_type&#x27;, &#x27;roof_type&#x27;,\n",
       "                    &#x27;ground_floor_type&#x27;, &#x27;other_floor_type&#x27;, &#x27;position&#x27;,\n",
       "                    &#x27;plan_configuration&#x27;, &#x27;superstructure&#x27;],\n",
       "              use_cat_names=True)</pre></div></div></div><div class=\"sk-item\"><div class=\"sk-estimator sk-toggleable\"><input class=\"sk-toggleable__control sk-hidden--visually\" id=\"sk-estimator-id-12\" type=\"checkbox\" ><label for=\"sk-estimator-id-12\" class=\"sk-toggleable__label sk-toggleable__label-arrow\">LogisticRegression</label><div class=\"sk-toggleable__content\"><pre>LogisticRegression(max_iter=3000)</pre></div></div></div></div></div></div></div>"
      ],
      "text/plain": [
       "Pipeline(steps=[('onehotencoder',\n",
       "                 OneHotEncoder(cols=['gender_household_head', 'caste_household',\n",
       "                                     'education_level_household_head',\n",
       "                                     'income_level_household',\n",
       "                                     'land_surface_condition',\n",
       "                                     'foundation_type', 'roof_type',\n",
       "                                     'ground_floor_type', 'other_floor_type',\n",
       "                                     'position', 'plan_configuration',\n",
       "                                     'superstructure'],\n",
       "                               use_cat_names=True)),\n",
       "                ('logisticregression', LogisticRegression(max_iter=3000))])"
      ]
     },
     "execution_count": 95,
     "metadata": {},
     "output_type": "execute_result"
    }
   ],
   "source": [
    "model_lr = make_pipeline(\n",
    "    \n",
    "    OneHotEncoder(use_cat_names=True),\n",
    "    LogisticRegression(max_iter=3000)\n",
    ")\n",
    "model_lr.fit(X_train,y_train)"
   ]
  },
  {
   "cell_type": "code",
   "execution_count": 96,
   "id": "ba1581d6-59a2-4f06-ad41-dae616267740",
   "metadata": {},
   "outputs": [],
   "source": [
    "# Check your work\n",
    "assert isinstance(\n",
    "    model_lr, Pipeline\n",
    "), f\"`model_lr` should be a Pipeline, not type {type(model_lr)}.\"\n",
    "assert isinstance(\n",
    "    model_lr[0], OneHotEncoder\n",
    "), f\"The first step in your Pipeline should be a OneHotEncoder, not type {type(model_lr[0])}.\"\n",
    "assert isinstance(\n",
    "    model_lr[-1], LogisticRegression\n",
    "), f\"The last step in your Pipeline should be LogisticRegression, not type {type(model_lr[-1])}.\"\n",
    "check_is_fitted(model_lr)"
   ]
  },
  {
   "cell_type": "markdown",
   "id": "4be0e001-c5c4-49f6-abc1-df1170267642",
   "metadata": {},
   "source": [
    "## Evaluate"
   ]
  },
  {
   "cell_type": "markdown",
   "id": "494110a5-51ab-40ca-a064-40e959990b61",
   "metadata": {},
   "source": [
    "**Task 4.4.13:** Calculate the training and test accuracy scores for `model_lr`. \n",
    "\n",
    "- [<span id='technique'>Calculate the accuracy score for a model in <span id='term'>scikit-learn</span></span>.](../%40textbook/14-ml-classification.ipynb#Calculating-Accuracy-Score)\n",
    "- [<span id='technique'>Generate predictions using a trained model in <span id='term'>scikit-learn</span></span>.](../%40textbook/15-ml-regression.ipynb#Generating-Predictions-Using-a-Trained-Model)"
   ]
  },
  {
   "cell_type": "code",
   "execution_count": 97,
   "id": "a7f5399d-cd07-4483-8403-78f99cc8397f",
   "metadata": {},
   "outputs": [
    {
     "name": "stdout",
     "output_type": "stream",
     "text": [
      "LR Training Accuracy: 0.718347445063091\n",
      "LR Validation Accuracy: 0.7228701324372405\n"
     ]
    }
   ],
   "source": [
    "acc_train = accuracy_score(y_train,model_lr.predict(X_train))\n",
    "acc_test = model_lr.score(X_test,y_test)\n",
    "\n",
    "print(\"LR Training Accuracy:\", acc_train)\n",
    "print(\"LR Validation Accuracy:\", acc_test)"
   ]
  },
  {
   "cell_type": "markdown",
   "id": "3f4cefe3-fcc2-498f-9be5-f324d753c52c",
   "metadata": {},
   "source": [
    "# Communicate"
   ]
  },
  {
   "cell_type": "code",
   "execution_count": 91,
   "id": "b563cabb-db9f-4b4e-82af-e66b8766579e",
   "metadata": {},
   "outputs": [
    {
     "data": {
      "text/html": [
       "\n",
       "        <iframe\n",
       "            width=\"600\"\n",
       "            height=\"300\"\n",
       "            src=\"https://player.vimeo.com/video/665415532?h=00440f76a9\"\n",
       "            frameborder=\"0\"\n",
       "            allowfullscreen\n",
       "            \n",
       "        ></iframe>\n",
       "        "
      ],
      "text/plain": [
       "<IPython.lib.display.VimeoVideo at 0x79aebbd98d10>"
      ]
     },
     "execution_count": 91,
     "metadata": {},
     "output_type": "execute_result"
    }
   ],
   "source": [
    "VimeoVideo(\"665415532\", h=\"00440f76a9\", width=600)"
   ]
  },
  {
   "cell_type": "markdown",
   "id": "9551ac0a-d7f2-48f5-8e5b-5e1783318a14",
   "metadata": {},
   "source": [
    "**Task 4.4.14:** First, extract the feature names and importances from your model. Then create a pandas Series named `feat_imp`, where the index is `features` and the values are your the exponential of the `importances`.\n",
    "\n",
    "- [What's a <span id='term'>bar chart</span>?](../%40textbook/06-visualization-matplotlib.ipynb#Bar-Charts)\n",
    "- [<span id='technique'>Access an object in a pipeline in <span id='tool'>scikit-learn</span></span>.](../%40textbook/13-ml-data-pre-processing-and-production.ipynb#Accessing-an-Object-in-a-Pipeline)\n",
    "- [<span id='technique'>Create a Series in <span id='tool'>pandas</span></span>.](../%40textbook/03-pandas-getting-started.ipynb#Adding-Columns)"
   ]
  },
  {
   "cell_type": "code",
   "execution_count": 101,
   "id": "119c5a24-8246-4476-a518-7ffc94433c1c",
   "metadata": {},
   "outputs": [
    {
     "data": {
      "text/plain": [
       "superstructure_Brick, cement mortar    0.291060\n",
       "foundation_type_RC                     0.334670\n",
       "roof_type_RCC/RB/RBC                   0.409220\n",
       "caste_household_Kumal                  0.531334\n",
       "ground_floor_type_RC                   0.547515\n",
       "dtype: float64"
      ]
     },
     "execution_count": 101,
     "metadata": {},
     "output_type": "execute_result"
    }
   ],
   "source": [
    "features = model_lr.named_steps[\"onehotencoder\"].get_feature_names()\n",
    "importances = model_lr.named_steps[\"logisticregression\"].coef_[0]\n",
    "feat_imp = pd.Series(np.exp(importances),index=features).sort_values()\n",
    "feat_imp.head()"
   ]
  },
  {
   "cell_type": "code",
   "execution_count": 107,
   "id": "612f935e-f492-4882-b9ad-6d594bc61204",
   "metadata": {},
   "outputs": [
    {
     "data": {
      "text/html": [
       "\n",
       "        <iframe\n",
       "            width=\"600\"\n",
       "            height=\"300\"\n",
       "            src=\"https://player.vimeo.com/video/665415552?h=5b2383ccf8\"\n",
       "            frameborder=\"0\"\n",
       "            allowfullscreen\n",
       "            \n",
       "        ></iframe>\n",
       "        "
      ],
      "text/plain": [
       "<IPython.lib.display.VimeoVideo at 0x79aec08916d0>"
      ]
     },
     "execution_count": 107,
     "metadata": {},
     "output_type": "execute_result"
    }
   ],
   "source": [
    "VimeoVideo(\"665415552\", h=\"5b2383ccf8\", width=600)"
   ]
  },
  {
   "cell_type": "markdown",
   "id": "c7a78530-86a7-46b6-a6a1-1b1a7dbc69fc",
   "metadata": {},
   "source": [
    "**Task 4.4.15:** Create a horizontal bar chart with the ten largest coefficients from `feat_imp`. Be sure to label your x-axis `\"Odds Ratio\"`.\n",
    "\n",
    "- [<span id='technique'>Create a bar chart using <span id='tool'>pandas</span></span>.](../%40textbook/06-visualization-matplotlib.ipynb#Bar-Charts)"
   ]
  },
  {
   "cell_type": "code",
   "execution_count": 108,
   "id": "682d0caf-7006-4092-bd9b-d9addbf3a95d",
   "metadata": {},
   "outputs": [
    {
     "data": {
      "text/plain": [
       "<Axes: xlabel='Odds Ratio'>"
      ]
     },
     "execution_count": 108,
     "metadata": {},
     "output_type": "execute_result"
    },
    {
     "data": {
      "image/png": "[encoded data removed]",
      "text/plain": [
       "<Figure size 640x480 with 1 Axes>"
      ]
     },
     "metadata": {},
     "output_type": "display_data"
    }
   ],
   "source": [
    "feat_imp.tail(10).plot(kind=\"barh\",xlabel=(\"Odds Ratio\"))"
   ]
  },
  {
   "cell_type": "code",
   "execution_count": 110,
   "id": "0970da87-30d9-4c82-9f7e-e15dfa64ed19",
   "metadata": {},
   "outputs": [
    {
     "data": {
      "text/html": [
       "\n",
       "        <iframe\n",
       "            width=\"600\"\n",
       "            height=\"300\"\n",
       "            src=\"https://player.vimeo.com/video/665415581?h=d15477e14d\"\n",
       "            frameborder=\"0\"\n",
       "            allowfullscreen\n",
       "            \n",
       "        ></iframe>\n",
       "        "
      ],
      "text/plain": [
       "<IPython.lib.display.VimeoVideo at 0x79aec091a3d0>"
      ]
     },
     "execution_count": 110,
     "metadata": {},
     "output_type": "execute_result"
    }
   ],
   "source": [
    "VimeoVideo(\"665415581\", h=\"d15477e14d\", width=600)"
   ]
  },
  {
   "cell_type": "markdown",
   "id": "afa4d9bf-a35f-4cf0-98d3-8d048841fb17",
   "metadata": {},
   "source": [
    "**Task 4.4.16:** Create a horizontal bar chart with the ten smallest coefficients from `feat_imp`. Be sure to label your x-axis `\"Odds Ratio\"`.\n",
    "\n",
    "- [<span id='technique'>Create a bar chart using <span id='tool'>pandas</span></span>.](../%40textbook/06-visualization-matplotlib.ipynb#Bar-Charts)"
   ]
  },
  {
   "cell_type": "code",
   "execution_count": 109,
   "id": "9101bd1c-f52a-4015-9600-9a27f2c0dc0b",
   "metadata": {},
   "outputs": [
    {
     "data": {
      "image/png": "[encoded data removed]",
      "text/plain": [
       "<Figure size 640x480 with 1 Axes>"
      ]
     },
     "metadata": {},
     "output_type": "display_data"
    }
   ],
   "source": [
    "feat_imp.head(10).plot(kind=\"barh\",xlabel=\"odds Ratio\");"
   ]
  },
  {
   "cell_type": "markdown",
   "id": "d03bb3b6-e827-450f-9c2f-032bceacb59f",
   "metadata": {},
   "source": [
    "## Explore Some More"
   ]
  },
  {
   "cell_type": "code",
   "execution_count": 111,
   "id": "d4f82769-3322-400c-a466-53c2c6faf96e",
   "metadata": {},
   "outputs": [
    {
     "data": {
      "text/html": [
       "\n",
       "        <iframe\n",
       "            width=\"600\"\n",
       "            height=\"300\"\n",
       "            src=\"https://player.vimeo.com/video/665415631?h=90ba264392\"\n",
       "            frameborder=\"0\"\n",
       "            allowfullscreen\n",
       "            \n",
       "        ></iframe>\n",
       "        "
      ],
      "text/plain": [
       "<IPython.lib.display.VimeoVideo at 0x79aeb9e0ee90>"
      ]
     },
     "execution_count": 111,
     "metadata": {},
     "output_type": "execute_result"
    }
   ],
   "source": [
    "VimeoVideo(\"665415631\", h=\"90ba264392\", width=600)"
   ]
  },
  {
   "cell_type": "markdown",
   "id": "70c0be91-6417-4377-8d86-481687202ca7",
   "metadata": {},
   "source": [
    "**Task 4.4.17:** Which municipalities saw the highest proportion of severely damaged buildings? Create a DataFrame `damage_by_vdcmun` by grouping `df` by `\"vdcmun_id\"` and then calculating the mean of the `\"severe_damage\"` column. Be sure to sort `damage_by_vdcmun` from highest to lowest proportion.\n",
    "\n",
    "- [<span id='technique'>Aggregate data using the groupby method in <span id='tool'>pandas</span></span>.](../%40textbook/04-pandas-advanced.ipynb#Series-and-Groupby)"
   ]
  },
  {
   "cell_type": "code",
   "execution_count": 123,
   "id": "43523398-0682-4ec3-aebd-8f032b819eec",
   "metadata": {},
   "outputs": [
    {
     "data": {
      "text/html": [
       "<div>\n",
       "<style scoped>\n",
       "    .dataframe tbody tr th:only-of-type {\n",
       "        vertical-align: middle;\n",
       "    }\n",
       "\n",
       "    .dataframe tbody tr th {\n",
       "        vertical-align: top;\n",
       "    }\n",
       "\n",
       "    .dataframe thead th {\n",
       "        text-align: right;\n",
       "    }\n",
       "</style>\n",
       "<table border=\"1\" class=\"dataframe\">\n",
       "  <thead>\n",
       "    <tr style=\"text-align: right;\">\n",
       "      <th></th>\n",
       "      <th>severe_damage</th>\n",
       "    </tr>\n",
       "    <tr>\n",
       "      <th>vdcmun_id</th>\n",
       "      <th></th>\n",
       "    </tr>\n",
       "  </thead>\n",
       "  <tbody>\n",
       "    <tr>\n",
       "      <th>31</th>\n",
       "      <td>0.930199</td>\n",
       "    </tr>\n",
       "    <tr>\n",
       "      <th>32</th>\n",
       "      <td>0.851117</td>\n",
       "    </tr>\n",
       "    <tr>\n",
       "      <th>35</th>\n",
       "      <td>0.827145</td>\n",
       "    </tr>\n",
       "    <tr>\n",
       "      <th>30</th>\n",
       "      <td>0.824201</td>\n",
       "    </tr>\n",
       "    <tr>\n",
       "      <th>33</th>\n",
       "      <td>0.782464</td>\n",
       "    </tr>\n",
       "    <tr>\n",
       "      <th>34</th>\n",
       "      <td>0.666979</td>\n",
       "    </tr>\n",
       "    <tr>\n",
       "      <th>39</th>\n",
       "      <td>0.572344</td>\n",
       "    </tr>\n",
       "    <tr>\n",
       "      <th>40</th>\n",
       "      <td>0.512444</td>\n",
       "    </tr>\n",
       "    <tr>\n",
       "      <th>38</th>\n",
       "      <td>0.506425</td>\n",
       "    </tr>\n",
       "    <tr>\n",
       "      <th>36</th>\n",
       "      <td>0.503972</td>\n",
       "    </tr>\n",
       "    <tr>\n",
       "      <th>37</th>\n",
       "      <td>0.437789</td>\n",
       "    </tr>\n",
       "  </tbody>\n",
       "</table>\n",
       "</div>"
      ],
      "text/plain": [
       "           severe_damage\n",
       "vdcmun_id               \n",
       "31              0.930199\n",
       "32              0.851117\n",
       "35              0.827145\n",
       "30              0.824201\n",
       "33              0.782464\n",
       "34              0.666979\n",
       "39              0.572344\n",
       "40              0.512444\n",
       "38              0.506425\n",
       "36              0.503972\n",
       "37              0.437789"
      ]
     },
     "execution_count": 123,
     "metadata": {},
     "output_type": "execute_result"
    }
   ],
   "source": [
    "damage_by_vdcmun = (\n",
    "    df.groupby(\"vdcmun_id\")[[\"severe_damage\"]].mean().sort_values(by=\"severe_damage\",ascending=False)\n",
    ")\n",
    "(damage_by_vdcmun)"
   ]
  },
  {
   "cell_type": "code",
   "execution_count": 124,
   "id": "b4564954-dcb1-4064-a68d-017de1566081",
   "metadata": {},
   "outputs": [],
   "source": [
    "# Check your work\n",
    "assert isinstance(\n",
    "    damage_by_vdcmun, pd.DataFrame\n",
    "), f\"`damage_by_vdcmun` should be a Series, not type {type(damage_by_vdcmun)}.\"\n",
    "assert damage_by_vdcmun.shape == (\n",
    "    11,\n",
    "    1,\n",
    "), f\"`damage_by_vdcmun` should be shape (11,1), not {damage_by_vdcmun.shape}.\""
   ]
  },
  {
   "cell_type": "code",
   "execution_count": 126,
   "id": "ad93a2fc-39d0-4b0c-bf7d-96f4c57c0dcc",
   "metadata": {},
   "outputs": [
    {
     "data": {
      "text/html": [
       "\n",
       "        <iframe\n",
       "            width=\"600\"\n",
       "            height=\"300\"\n",
       "            src=\"https://player.vimeo.com/video/665415651?h=9b5244dec1\"\n",
       "            frameborder=\"0\"\n",
       "            allowfullscreen\n",
       "            \n",
       "        ></iframe>\n",
       "        "
      ],
      "text/plain": [
       "<IPython.lib.display.VimeoVideo at 0x79aebb3d2510>"
      ]
     },
     "execution_count": 126,
     "metadata": {},
     "output_type": "execute_result"
    }
   ],
   "source": [
    "VimeoVideo(\"665415651\", h=\"9b5244dec1\", width=600)"
   ]
  },
  {
   "cell_type": "markdown",
   "id": "d471d9eb-ce26-4885-adfa-a60ae23771fe",
   "metadata": {},
   "source": [
    "**Task 4.4.18:** Create a line plot of `damage_by_vdcmun`. Label your x-axis `\"Municipality ID\"`, your y-axis `\"% of Total Households\"`, and give your plot the title `\"Household Damage by Municipality\"`.\n",
    "\n",
    "- [Create a line plot in Matplotlib.](../%40textbook/07-visualization-pandas.ipynb#Line-Plots)"
   ]
  },
  {
   "cell_type": "code",
   "execution_count": 130,
   "id": "e9d313e5-d5b6-47b0-9525-4b61ac7fb3f1",
   "metadata": {},
   "outputs": [
    {
     "data": {
      "image/png": "[encoded data removed]",
      "text/plain": [
       "<Figure size 640x480 with 1 Axes>"
      ]
     },
     "metadata": {},
     "output_type": "display_data"
    }
   ],
   "source": [
    "# Plot line\n",
    "plt.plot(damage_by_vdcmun.values,color=\"grey\")\n",
    "plt.xticks(range(len(damage_by_vdcmun)),labels=damage_by_vdcmun.index)\n",
    "plt.yticks(np.arange(0.0,1.1,0.2))\n",
    "plt.xlabel(\"Municipality ID\")\n",
    "plt.ylabel(\"% of Total Households\")\n",
    "plt.title(\"Severe Damage by Municipality\");"
   ]
  },
  {
   "cell_type": "markdown",
   "id": "a662e1c8-cbe0-469c-9cb9-abe428b527eb",
   "metadata": {},
   "source": [
    "Given the plot above, our next question is: How are the Gurung and Kumal populations distributed across these municipalities?"
   ]
  },
  {
   "cell_type": "code",
   "execution_count": 131,
   "id": "20baf3f8-9896-4498-a8c4-8365fc399b7a",
   "metadata": {},
   "outputs": [
    {
     "data": {
      "text/html": [
       "\n",
       "        <iframe\n",
       "            width=\"600\"\n",
       "            height=\"300\"\n",
       "            src=\"https://player.vimeo.com/video/665415693?h=fb2e54aa04\"\n",
       "            frameborder=\"0\"\n",
       "            allowfullscreen\n",
       "            \n",
       "        ></iframe>\n",
       "        "
      ],
      "text/plain": [
       "<IPython.lib.display.VimeoVideo at 0x79aebc2b3050>"
      ]
     },
     "execution_count": 131,
     "metadata": {},
     "output_type": "execute_result"
    }
   ],
   "source": [
    "VimeoVideo(\"665415693\", h=\"fb2e54aa04\", width=600)"
   ]
  },
  {
   "cell_type": "markdown",
   "id": "afa0fb8f-c496-4288-94ce-f7ec7db0b2f3",
   "metadata": {},
   "source": [
    "**Task 4.4.19:** Create a new column in `damage_by_vdcmun` that contains the the proportion of Gurung households in each municipality.\n",
    "\n",
    "- [<span id='technique'>Aggregate data using the groupby method in <span id='tool'>pandas</span></span>.](../%40textbook/04-pandas-advanced.ipynb#Series-and-Groupby)\n",
    "- [<span id='technique'>Create a Series in <span id='tool'>pandas</span></span>.](../%40textbook/03-pandas-getting-started.ipynb#Adding-Columns)"
   ]
  },
  {
   "cell_type": "code",
   "execution_count": 138,
   "id": "b8689846-c1e7-4127-b342-1758bbb6fc28",
   "metadata": {},
   "outputs": [
    {
     "data": {
      "text/html": [
       "<div>\n",
       "<style scoped>\n",
       "    .dataframe tbody tr th:only-of-type {\n",
       "        vertical-align: middle;\n",
       "    }\n",
       "\n",
       "    .dataframe tbody tr th {\n",
       "        vertical-align: top;\n",
       "    }\n",
       "\n",
       "    .dataframe thead th {\n",
       "        text-align: right;\n",
       "    }\n",
       "</style>\n",
       "<table border=\"1\" class=\"dataframe\">\n",
       "  <thead>\n",
       "    <tr style=\"text-align: right;\">\n",
       "      <th></th>\n",
       "      <th>severe_damage</th>\n",
       "      <th>Gurung</th>\n",
       "    </tr>\n",
       "    <tr>\n",
       "      <th>vdcmun_id</th>\n",
       "      <th></th>\n",
       "      <th></th>\n",
       "    </tr>\n",
       "  </thead>\n",
       "  <tbody>\n",
       "    <tr>\n",
       "      <th>31</th>\n",
       "      <td>0.930199</td>\n",
       "      <td>0.326937</td>\n",
       "    </tr>\n",
       "    <tr>\n",
       "      <th>32</th>\n",
       "      <td>0.851117</td>\n",
       "      <td>0.387849</td>\n",
       "    </tr>\n",
       "    <tr>\n",
       "      <th>35</th>\n",
       "      <td>0.827145</td>\n",
       "      <td>0.826889</td>\n",
       "    </tr>\n",
       "    <tr>\n",
       "      <th>30</th>\n",
       "      <td>0.824201</td>\n",
       "      <td>0.338152</td>\n",
       "    </tr>\n",
       "    <tr>\n",
       "      <th>33</th>\n",
       "      <td>0.782464</td>\n",
       "      <td>0.011943</td>\n",
       "    </tr>\n",
       "    <tr>\n",
       "      <th>34</th>\n",
       "      <td>0.666979</td>\n",
       "      <td>0.385084</td>\n",
       "    </tr>\n",
       "    <tr>\n",
       "      <th>39</th>\n",
       "      <td>0.572344</td>\n",
       "      <td>0.097971</td>\n",
       "    </tr>\n",
       "    <tr>\n",
       "      <th>40</th>\n",
       "      <td>0.512444</td>\n",
       "      <td>0.246727</td>\n",
       "    </tr>\n",
       "    <tr>\n",
       "      <th>38</th>\n",
       "      <td>0.506425</td>\n",
       "      <td>0.049023</td>\n",
       "    </tr>\n",
       "    <tr>\n",
       "      <th>36</th>\n",
       "      <td>0.503972</td>\n",
       "      <td>0.143178</td>\n",
       "    </tr>\n",
       "    <tr>\n",
       "      <th>37</th>\n",
       "      <td>0.437789</td>\n",
       "      <td>0.050485</td>\n",
       "    </tr>\n",
       "  </tbody>\n",
       "</table>\n",
       "</div>"
      ],
      "text/plain": [
       "           severe_damage    Gurung\n",
       "vdcmun_id                         \n",
       "31              0.930199  0.326937\n",
       "32              0.851117  0.387849\n",
       "35              0.827145  0.826889\n",
       "30              0.824201  0.338152\n",
       "33              0.782464  0.011943\n",
       "34              0.666979  0.385084\n",
       "39              0.572344  0.097971\n",
       "40              0.512444  0.246727\n",
       "38              0.506425  0.049023\n",
       "36              0.503972  0.143178\n",
       "37              0.437789  0.050485"
      ]
     },
     "execution_count": 138,
     "metadata": {},
     "output_type": "execute_result"
    }
   ],
   "source": [
    "damage_by_vdcmun[\"Gurung\"] = (\n",
    "    df[df[\"caste_household\"]==\"Gurung\"].groupby(\"vdcmun_id\")[\"severe_damage\"].count()\n",
    "    /df.groupby(\"vdcmun_id\")[\"severe_damage\"].count()\n",
    ")\n",
    "damage_by_vdcmun"
   ]
  },
  {
   "cell_type": "code",
   "execution_count": 139,
   "id": "0bd137d5-068f-4f58-982d-539cd98d47b5",
   "metadata": {},
   "outputs": [
    {
     "data": {
      "text/html": [
       "\n",
       "        <iframe\n",
       "            width=\"600\"\n",
       "            height=\"300\"\n",
       "            src=\"https://player.vimeo.com/video/665415707?h=9b29c23434\"\n",
       "            frameborder=\"0\"\n",
       "            allowfullscreen\n",
       "            \n",
       "        ></iframe>\n",
       "        "
      ],
      "text/plain": [
       "<IPython.lib.display.VimeoVideo at 0x79aebb9b6050>"
      ]
     },
     "execution_count": 139,
     "metadata": {},
     "output_type": "execute_result"
    }
   ],
   "source": [
    "VimeoVideo(\"665415707\", h=\"9b29c23434\", width=600)"
   ]
  },
  {
   "cell_type": "markdown",
   "id": "caea7d3d-ad20-4d81-b1a5-42cb7deccd4b",
   "metadata": {},
   "source": [
    "**Task 4.4.20:** Create a new column in `damage_by_vdcmun` that contains the the proportion of Kumal households in each municipality. Replace any `NaN` values in the column with `0`.\n",
    "\n",
    "- [<span id='technique'>Aggregate data using the groupby method in <span id='tool'>pandas</span></span>.](../%40textbook/04-pandas-advanced.ipynb#Series-and-Groupby)\n",
    "- [<span id='technique'>Create a Series in <span id='tool'>pandas</span></span>.](../%40textbook/03-pandas-getting-started.ipynb#Adding-Columns)"
   ]
  },
  {
   "cell_type": "code",
   "execution_count": 141,
   "id": "221554ef-367c-413a-8ccb-07eb7df22754",
   "metadata": {},
   "outputs": [
    {
     "data": {
      "text/html": [
       "<div>\n",
       "<style scoped>\n",
       "    .dataframe tbody tr th:only-of-type {\n",
       "        vertical-align: middle;\n",
       "    }\n",
       "\n",
       "    .dataframe tbody tr th {\n",
       "        vertical-align: top;\n",
       "    }\n",
       "\n",
       "    .dataframe thead th {\n",
       "        text-align: right;\n",
       "    }\n",
       "</style>\n",
       "<table border=\"1\" class=\"dataframe\">\n",
       "  <thead>\n",
       "    <tr style=\"text-align: right;\">\n",
       "      <th></th>\n",
       "      <th>severe_damage</th>\n",
       "      <th>Gurung</th>\n",
       "      <th>Kumal</th>\n",
       "    </tr>\n",
       "    <tr>\n",
       "      <th>vdcmun_id</th>\n",
       "      <th></th>\n",
       "      <th></th>\n",
       "      <th></th>\n",
       "    </tr>\n",
       "  </thead>\n",
       "  <tbody>\n",
       "    <tr>\n",
       "      <th>31</th>\n",
       "      <td>0.930199</td>\n",
       "      <td>0.326937</td>\n",
       "      <td>0.000000</td>\n",
       "    </tr>\n",
       "    <tr>\n",
       "      <th>32</th>\n",
       "      <td>0.851117</td>\n",
       "      <td>0.387849</td>\n",
       "      <td>0.000000</td>\n",
       "    </tr>\n",
       "    <tr>\n",
       "      <th>35</th>\n",
       "      <td>0.827145</td>\n",
       "      <td>0.826889</td>\n",
       "      <td>0.000000</td>\n",
       "    </tr>\n",
       "    <tr>\n",
       "      <th>30</th>\n",
       "      <td>0.824201</td>\n",
       "      <td>0.338152</td>\n",
       "      <td>0.000000</td>\n",
       "    </tr>\n",
       "    <tr>\n",
       "      <th>33</th>\n",
       "      <td>0.782464</td>\n",
       "      <td>0.011943</td>\n",
       "      <td>0.029478</td>\n",
       "    </tr>\n",
       "    <tr>\n",
       "      <th>34</th>\n",
       "      <td>0.666979</td>\n",
       "      <td>0.385084</td>\n",
       "      <td>0.000000</td>\n",
       "    </tr>\n",
       "    <tr>\n",
       "      <th>39</th>\n",
       "      <td>0.572344</td>\n",
       "      <td>0.097971</td>\n",
       "      <td>0.000267</td>\n",
       "    </tr>\n",
       "    <tr>\n",
       "      <th>40</th>\n",
       "      <td>0.512444</td>\n",
       "      <td>0.246727</td>\n",
       "      <td>0.036973</td>\n",
       "    </tr>\n",
       "    <tr>\n",
       "      <th>38</th>\n",
       "      <td>0.506425</td>\n",
       "      <td>0.049023</td>\n",
       "      <td>0.100686</td>\n",
       "    </tr>\n",
       "    <tr>\n",
       "      <th>36</th>\n",
       "      <td>0.503972</td>\n",
       "      <td>0.143178</td>\n",
       "      <td>0.003282</td>\n",
       "    </tr>\n",
       "    <tr>\n",
       "      <th>37</th>\n",
       "      <td>0.437789</td>\n",
       "      <td>0.050485</td>\n",
       "      <td>0.048842</td>\n",
       "    </tr>\n",
       "  </tbody>\n",
       "</table>\n",
       "</div>"
      ],
      "text/plain": [
       "           severe_damage    Gurung     Kumal\n",
       "vdcmun_id                                   \n",
       "31              0.930199  0.326937  0.000000\n",
       "32              0.851117  0.387849  0.000000\n",
       "35              0.827145  0.826889  0.000000\n",
       "30              0.824201  0.338152  0.000000\n",
       "33              0.782464  0.011943  0.029478\n",
       "34              0.666979  0.385084  0.000000\n",
       "39              0.572344  0.097971  0.000267\n",
       "40              0.512444  0.246727  0.036973\n",
       "38              0.506425  0.049023  0.100686\n",
       "36              0.503972  0.143178  0.003282\n",
       "37              0.437789  0.050485  0.048842"
      ]
     },
     "execution_count": 141,
     "metadata": {},
     "output_type": "execute_result"
    }
   ],
   "source": [
    "damage_by_vdcmun[\"Kumal\"] = (\n",
    "    df[df[\"caste_household\"]==\"Kumal\"].groupby(\"vdcmun_id\")[\"severe_damage\"].count()\n",
    "    /df.groupby(\"vdcmun_id\")[\"severe_damage\"].count()\n",
    ").fillna(0)\n",
    "damage_by_vdcmun"
   ]
  },
  {
   "cell_type": "code",
   "execution_count": 142,
   "id": "9d00c957-2ddc-4a2c-8fd8-82e7745a17db",
   "metadata": {},
   "outputs": [
    {
     "data": {
      "text/html": [
       "\n",
       "        <iframe\n",
       "            width=\"600\"\n",
       "            height=\"300\"\n",
       "            src=\"https://player.vimeo.com/video/665415729?h=8d0712c306\"\n",
       "            frameborder=\"0\"\n",
       "            allowfullscreen\n",
       "            \n",
       "        ></iframe>\n",
       "        "
      ],
      "text/plain": [
       "<IPython.lib.display.VimeoVideo at 0x79aebc256dd0>"
      ]
     },
     "execution_count": 142,
     "metadata": {},
     "output_type": "execute_result"
    }
   ],
   "source": [
    "VimeoVideo(\"665415729\", h=\"8d0712c306\", width=600)"
   ]
  },
  {
   "cell_type": "markdown",
   "id": "282c833c-3fc4-4be8-8d24-edd29b199f68",
   "metadata": {},
   "source": [
    "**Task 4.4.21:** Create a visualization that combines the line plot of severely damaged households you made above with a stacked bar chart showing the proportion of Gurung and Kumal households in each district. Label your x-axis `\"Municipality ID\"`, your y-axis `\"% of Total Households\"`.\n",
    "\n",
    "- [<span id='technique'>Create a bar chart using <span id='tool'>pandas</span></span>.](../%40textbook/06-visualization-matplotlib.ipynb#Bar-Charts)\n",
    "- [<span id='technique'>Drop a column from a DataFrame using <span id='tool'>pandas</span></span>.](../%40textbook/03-pandas-getting-started.ipynb#Dropping-Columns)"
   ]
  },
  {
   "cell_type": "code",
   "execution_count": 147,
   "id": "343162ee-e9b9-4f32-911d-1ae644aa3d8c",
   "metadata": {},
   "outputs": [
    {
     "data": {
      "image/png": "[encoded data removed]",
      "text/plain": [
       "<Figure size 640x480 with 1 Axes>"
      ]
     },
     "metadata": {},
     "output_type": "display_data"
    }
   ],
   "source": [
    "damage_by_vdcmun.drop(columns=\"severe_damage\").plot(\n",
    "    kind=\"bar\" ,stacked=True\n",
    ")\n",
    "\n",
    "plt.plot(damage_by_vdcmun[\"severe_damage\"].values,color=\"grey\")\n",
    "plt.xticks(range(len(damage_by_vdcmun)),labels=damage_by_vdcmun.index)\n",
    "plt.yticks(np.arange(0.0,1.1,0.2))\n",
    "plt.xlabel(\"Municipality ID\")\n",
    "plt.ylabel(\"% of Total Households\")\n",
    "plt.title(\"Household Caste by Municipality\")\n",
    "plt.legend();"
   ]
  },
  {
   "cell_type": "markdown",
   "id": "41759968",
   "metadata": {
    "deletable": false,
    "editable": false
   },
   "source": [
    "---\n",
    "Copyright 2023 WorldQuant University. This\n",
    "content is licensed solely for personal use. Redistribution or\n",
    "publication of this material is strictly prohibited.\n"
   ]
  }
 ],
 "metadata": {
  "kernelspec": {
   "display_name": "Python 3 (ipykernel)",
   "language": "python",
   "name": "python3"
  },
  "language_info": {
   "codemirror_mode": {
    "name": "ipython",
    "version": 3
   },
   "file_extension": ".py",
   "mimetype": "text/x-python",
   "name": "python",
   "nbconvert_exporter": "python",
   "pygments_lexer": "ipython3",
   "version": "3.11.0"
  },
  "widgets": {
   "application/vnd.jupyter.widget-state+json": {
    "state": {},
    "version_major": 2,
    "version_minor": 0
   }
  }
 },
 "nbformat": 4,
 "nbformat_minor": 5
}
